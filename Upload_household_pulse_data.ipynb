{
  "nbformat": 4,
  "nbformat_minor": 0,
  "metadata": {
    "colab": {
      "name": "Upload_household_pulse_data.ipynb",
      "provenance": [],
      "authorship_tag": "ABX9TyN5M7Vwpg70YsBDcFqKDYQv",
      "include_colab_link": true
    },
    "kernelspec": {
      "name": "python3",
      "display_name": "Python 3"
    },
    "language_info": {
      "name": "python"
    }
  },
  "cells": [
    {
      "cell_type": "markdown",
      "metadata": {
        "id": "view-in-github",
        "colab_type": "text"
      },
      "source": [
        "<a href=\"https://colab.research.google.com/github/elizabethyoo/team_9/blob/data%2FBFS_mf/Upload_household_pulse_data.ipynb\" target=\"_parent\"><img src=\"https://colab.research.google.com/assets/colab-badge.svg\" alt=\"Open In Colab\"/></a>"
      ]
    },
    {
      "cell_type": "code",
      "metadata": {
        "id": "RlzCltNK_Tub"
      },
      "source": [
        "!pip install -U -q PyDrive"
      ],
      "execution_count": 1,
      "outputs": []
    },
    {
      "cell_type": "code",
      "metadata": {
        "id": "qbuM9_DM3H4T"
      },
      "source": [
        "import urllib.request\n",
        "from zipfile import ZipFile\n",
        "import pandas as pd\n",
        "import requests\n",
        "from bs4 import BeautifulSoup\n",
        "import time\n",
        "import re"
      ],
      "execution_count": 2,
      "outputs": []
    },
    {
      "cell_type": "code",
      "metadata": {
        "id": "XZy5X50j8_nP"
      },
      "source": [
        "from pydrive.auth import GoogleAuth\n",
        "from pydrive.drive import GoogleDrive\n",
        "from google.colab import auth\n",
        "from oauth2client.client import GoogleCredentials\n",
        "from google.colab import files"
      ],
      "execution_count": 3,
      "outputs": []
    },
    {
      "cell_type": "code",
      "metadata": {
        "id": "sOSh_Etb_Z8B"
      },
      "source": [
        "# Authenticate and create the PyDrive client.\n",
        "auth.authenticate_user()\n",
        "gauth = GoogleAuth()\n",
        "gauth.credentials = GoogleCredentials.get_application_default()\n",
        "drive = GoogleDrive(gauth)\n",
        "link = 'https://drive.google.com/drive/folders/1XRYc4TAfeWS8NX20Mb_N_86JD89y3Scd?usp=sharing'\n",
        "\n",
        "# to get the id part of the file\n",
        "id = link.split(\"/\")[-1].split(\"?\")[0]"
      ],
      "execution_count": 4,
      "outputs": []
    },
    {
      "cell_type": "code",
      "metadata": {
        "id": "U_dbGRwD7VWB"
      },
      "source": [
        "URL = 'https://www.census.gov/programs-surveys/household-pulse-survey/datasets.html'\n",
        "page = requests.get(URL)\n",
        "soup = BeautifulSoup(page.content, 'html.parser')"
      ],
      "execution_count": 5,
      "outputs": []
    },
    {
      "cell_type": "code",
      "metadata": {
        "colab": {
          "base_uri": "https://localhost:8080/"
        },
        "id": "yMNLP_tE7bP0",
        "outputId": "6f266485-5f98-4d5d-be11-c89ecc3ad38e"
      },
      "source": [
        "python_jobs = soup.find_all('a', class_='uscb-layout-align-start-start')\n",
        "url_list = []\n",
        "for p_job in python_jobs:\n",
        "    if p_job.has_attr('href') and 'CSV' in p_job['href']:\n",
        "        url_list.append(p_job.get('href'))\n",
        "        print(p_job.get('href'))"
      ],
      "execution_count": 6,
      "outputs": [
        {
          "output_type": "stream",
          "name": "stdout",
          "text": [
            "//www2.census.gov/programs-surveys/demo/datasets/hhp/2021/wk36/HPS_Week36_PUF_CSV.zip\n",
            "//www2.census.gov/programs-surveys/demo/datasets/hhp/2021/wk35/HPS_Week35_PUF_CSV.zip\n",
            "//www2.census.gov/programs-surveys/demo/datasets/hhp/2021/wk34/HPS_Week34_PUF_CSV.zip\n",
            "//www2.census.gov/programs-surveys/demo/datasets/hhp/2021/wk33/HPS_Week33_PUF_CSV.zip\n",
            "//www2.census.gov/programs-surveys/demo/datasets/hhp/2021/wk32/HPS_Week32_PUF_CSV.zip\n",
            "//www2.census.gov/programs-surveys/demo/datasets/hhp/2021/wk31/HPS_Week31_PUF_CSV.zip\n",
            "//www2.census.gov/programs-surveys/demo/datasets/hhp/2021/wk30/HPS_Week30_PUF_CSV.zip\n",
            "//www2.census.gov/programs-surveys/demo/datasets/hhp/2021/wk29/HPS_Week29_PUF_CSV.zip\n",
            "//www2.census.gov/programs-surveys/demo/datasets/hhp/2021/wk28/HPS_Week28_PUF_CSV.zip\n",
            "//www2.census.gov/programs-surveys/demo/datasets/hhp/2021/wk27/HPS_Week27_PUF_CSV.zip\n",
            "//www2.census.gov/programs-surveys/demo/datasets/hhp/2021/wk26/HPS_Week26_PUF_CSV.zip\n",
            "//www2.census.gov/programs-surveys/demo/datasets/hhp/2021/wk25/HPS_Week25_PUF_CSV.zip\n",
            "//www2.census.gov/programs-surveys/demo/datasets/hhp/2021/wk24/HPS_Week24_PUF_CSV.zip\n",
            "//www2.census.gov/programs-surveys/demo/datasets/hhp/2021/wk23/HPS_Week23_PUF_CSV.zip\n",
            "//www2.census.gov/programs-surveys/demo/datasets/hhp/2021/wk22/HPS_Week22_PUF_CSV.zip\n",
            "//www2.census.gov/programs-surveys/demo/datasets/hhp/2020/wk21/HPS_Week21_PUF_CSV.zip\n",
            "//www2.census.gov/programs-surveys/demo/datasets/hhp/2020/wk20/HPS_Week20_PUF_CSV.zip\n",
            "//www2.census.gov/programs-surveys/demo/datasets/hhp/2020/wk19/HPS_Week19_PUF_CSV.zip\n",
            "//www2.census.gov/programs-surveys/demo/datasets/hhp/2020/wk18/HPS_Week18_PUF_CSV.zip\n",
            "//www2.census.gov/programs-surveys/demo/datasets/hhp/2020/wk17/HPS_Week17_PUF_CSV.zip\n",
            "//www2.census.gov/programs-surveys/demo/datasets/hhp/2020/wk16/HPS_Week16_PUF_CSV.zip\n",
            "//www2.census.gov/programs-surveys/demo/datasets/hhp/2020/wk15/HPS_Week15_PUF_CSV.zip\n",
            "//www2.census.gov/programs-surveys/demo/datasets/hhp/2020/wk14/HPS_Week14_PUF_CSV.zip\n",
            "//www2.census.gov/programs-surveys/demo/datasets/hhp/2020/wk13/HPS_Week13_PUF_CSV.zip\n",
            "//www2.census.gov/programs-surveys/demo/datasets/hhp/2020/wk12/HPS_Week12_PUF_CSV.zip\n",
            "//www2.census.gov/programs-surveys/demo/datasets/hhp/2020/wk11/HPS_Week11_PUF_CSV.zip\n",
            "//www2.census.gov/programs-surveys/demo/datasets/hhp/2020/wk10/HPS_Week10_PUF_CSV.zip\n",
            "//www2.census.gov/programs-surveys/demo/datasets/hhp/2020/wk9/HPS_Week09_PUF_CSV.zip\n",
            "//www2.census.gov/programs-surveys/demo/datasets/hhp/2020/wk8/HPS_Week08_PUF_CSV.zip\n",
            "//www2.census.gov/programs-surveys/demo/datasets/hhp/2020/wk7/HPS_Week07_PUF_CSV.zip\n",
            "//www2.census.gov/programs-surveys/demo/datasets/hhp/2020/wk6/HPS_Week06_PUF_CSV.zip\n",
            "//www2.census.gov/programs-surveys/demo/datasets/hhp/2020/wk5/HPS_Week05_PUF_CSV.zip\n",
            "//www2.census.gov/programs-surveys/demo/datasets/hhp/2020/wk4/HPS_Week04_PUF_CSV.zip\n",
            "//www2.census.gov/programs-surveys/demo/datasets/hhp/2020/wk3/HPS_Week03_PUF_CSV.zip\n",
            "//www2.census.gov/programs-surveys/demo/datasets/hhp/2020/wk2/HPS_Week02_PUF_CSV.zip\n",
            "//www2.census.gov/programs-surveys/demo/datasets/hhp/2020/wk1/HPS_Week01_PUF_CSV.zip\n"
          ]
        }
      ]
    },
    {
      "cell_type": "code",
      "metadata": {
        "colab": {
          "base_uri": "https://localhost:8080/",
          "height": 866
        },
        "id": "zxd8h7WFwk0i",
        "outputId": "57a400ed-da45-4cb6-e804-6c22f83e258c"
      },
      "source": [
        "for i in range(len(url_list)):\n",
        "    linkToFile = 'http:'+ url_list[i]\n",
        "\n",
        "    localDestination = \"./\"+url_list[i].split(\"Week\")[1]\n",
        "    print(localDestination)\n",
        "    resultFilePath, responseHeaders = urllib.request.urlretrieve(linkToFile, localDestination)\n",
        "    zf = ZipFile(resultFilePath) \n",
        "    \n",
        "    time.sleep(8)\n",
        "    \n",
        "    year_str = re.findall('\\d{4}', url_list[i])[0]\n",
        "    wk_str = re.findall('(?<=wk)(\\d+)', url_list[i])[0]\n",
        "\n",
        "    csv_file_nme = 'pulse'+ year_str +'_puf_'+ wk_str+'.csv'\n",
        "\n",
        "    df = pd.read_csv(zf.open(csv_file_nme))\n",
        "    df.to_csv(csv_file_nme, index=False)\n",
        "    file2 = drive.CreateFile({'parents': [{'id':id}]})\n",
        "    file2.SetContentFile(csv_file_nme)\n",
        "    file2.Upload()"
      ],
      "execution_count": 7,
      "outputs": [
        {
          "output_type": "stream",
          "name": "stdout",
          "text": [
            "./36_PUF_CSV.zip\n",
            "./35_PUF_CSV.zip\n",
            "./34_PUF_CSV.zip\n",
            "./33_PUF_CSV.zip\n",
            "./32_PUF_CSV.zip\n",
            "./31_PUF_CSV.zip\n",
            "./30_PUF_CSV.zip\n",
            "./29_PUF_CSV.zip\n",
            "./28_PUF_CSV.zip\n",
            "./27_PUF_CSV.zip\n",
            "./26_PUF_CSV.zip\n",
            "./25_PUF_CSV.zip\n",
            "./24_PUF_CSV.zip\n",
            "./23_PUF_CSV.zip\n",
            "./22_PUF_CSV.zip\n",
            "./21_PUF_CSV.zip\n",
            "./20_PUF_CSV.zip\n",
            "./19_PUF_CSV.zip\n",
            "./18_PUF_CSV.zip\n",
            "./17_PUF_CSV.zip\n",
            "./16_PUF_CSV.zip\n",
            "./15_PUF_CSV.zip\n",
            "./14_PUF_CSV.zip\n",
            "./13_PUF_CSV.zip\n",
            "./12_PUF_CSV.zip\n",
            "./11_PUF_CSV.zip\n",
            "./10_PUF_CSV.zip\n",
            "./09_PUF_CSV.zip\n"
          ]
        },
        {
          "output_type": "error",
          "ename": "KeyError",
          "evalue": "ignored",
          "traceback": [
            "\u001b[0;31m---------------------------------------------------------------------------\u001b[0m",
            "\u001b[0;31mKeyError\u001b[0m                                  Traceback (most recent call last)",
            "\u001b[0;32m<ipython-input-7-335ef908e6f0>\u001b[0m in \u001b[0;36m<module>\u001b[0;34m()\u001b[0m\n\u001b[1;32m     14\u001b[0m     \u001b[0mcsv_file_nme\u001b[0m \u001b[0;34m=\u001b[0m \u001b[0;34m'pulse'\u001b[0m\u001b[0;34m+\u001b[0m \u001b[0myear_str\u001b[0m \u001b[0;34m+\u001b[0m\u001b[0;34m'_puf_'\u001b[0m\u001b[0;34m+\u001b[0m \u001b[0mwk_str\u001b[0m\u001b[0;34m+\u001b[0m\u001b[0;34m'.csv'\u001b[0m\u001b[0;34m\u001b[0m\u001b[0;34m\u001b[0m\u001b[0m\n\u001b[1;32m     15\u001b[0m \u001b[0;34m\u001b[0m\u001b[0m\n\u001b[0;32m---> 16\u001b[0;31m     \u001b[0mdf\u001b[0m \u001b[0;34m=\u001b[0m \u001b[0mpd\u001b[0m\u001b[0;34m.\u001b[0m\u001b[0mread_csv\u001b[0m\u001b[0;34m(\u001b[0m\u001b[0mzf\u001b[0m\u001b[0;34m.\u001b[0m\u001b[0mopen\u001b[0m\u001b[0;34m(\u001b[0m\u001b[0mcsv_file_nme\u001b[0m\u001b[0;34m)\u001b[0m\u001b[0;34m)\u001b[0m\u001b[0;34m\u001b[0m\u001b[0;34m\u001b[0m\u001b[0m\n\u001b[0m\u001b[1;32m     17\u001b[0m     \u001b[0mdf\u001b[0m\u001b[0;34m.\u001b[0m\u001b[0mto_csv\u001b[0m\u001b[0;34m(\u001b[0m\u001b[0mcsv_file_nme\u001b[0m\u001b[0;34m,\u001b[0m \u001b[0mindex\u001b[0m\u001b[0;34m=\u001b[0m\u001b[0;32mFalse\u001b[0m\u001b[0;34m)\u001b[0m\u001b[0;34m\u001b[0m\u001b[0;34m\u001b[0m\u001b[0m\n\u001b[1;32m     18\u001b[0m     \u001b[0mfile2\u001b[0m \u001b[0;34m=\u001b[0m \u001b[0mdrive\u001b[0m\u001b[0;34m.\u001b[0m\u001b[0mCreateFile\u001b[0m\u001b[0;34m(\u001b[0m\u001b[0;34m{\u001b[0m\u001b[0;34m'parents'\u001b[0m\u001b[0;34m:\u001b[0m \u001b[0;34m[\u001b[0m\u001b[0;34m{\u001b[0m\u001b[0;34m'id'\u001b[0m\u001b[0;34m:\u001b[0m\u001b[0mid\u001b[0m\u001b[0;34m}\u001b[0m\u001b[0;34m]\u001b[0m\u001b[0;34m}\u001b[0m\u001b[0;34m)\u001b[0m\u001b[0;34m\u001b[0m\u001b[0;34m\u001b[0m\u001b[0m\n",
            "\u001b[0;32m/usr/lib/python3.7/zipfile.py\u001b[0m in \u001b[0;36mopen\u001b[0;34m(self, name, mode, pwd, force_zip64)\u001b[0m\n\u001b[1;32m   1501\u001b[0m         \u001b[0;32melse\u001b[0m\u001b[0;34m:\u001b[0m\u001b[0;34m\u001b[0m\u001b[0;34m\u001b[0m\u001b[0m\n\u001b[1;32m   1502\u001b[0m             \u001b[0;31m# Get info object for name\u001b[0m\u001b[0;34m\u001b[0m\u001b[0;34m\u001b[0m\u001b[0;34m\u001b[0m\u001b[0m\n\u001b[0;32m-> 1503\u001b[0;31m             \u001b[0mzinfo\u001b[0m \u001b[0;34m=\u001b[0m \u001b[0mself\u001b[0m\u001b[0;34m.\u001b[0m\u001b[0mgetinfo\u001b[0m\u001b[0;34m(\u001b[0m\u001b[0mname\u001b[0m\u001b[0;34m)\u001b[0m\u001b[0;34m\u001b[0m\u001b[0;34m\u001b[0m\u001b[0m\n\u001b[0m\u001b[1;32m   1504\u001b[0m \u001b[0;34m\u001b[0m\u001b[0m\n\u001b[1;32m   1505\u001b[0m         \u001b[0;32mif\u001b[0m \u001b[0mmode\u001b[0m \u001b[0;34m==\u001b[0m \u001b[0;34m'w'\u001b[0m\u001b[0;34m:\u001b[0m\u001b[0;34m\u001b[0m\u001b[0;34m\u001b[0m\u001b[0m\n",
            "\u001b[0;32m/usr/lib/python3.7/zipfile.py\u001b[0m in \u001b[0;36mgetinfo\u001b[0;34m(self, name)\u001b[0m\n\u001b[1;32m   1429\u001b[0m         \u001b[0;32mif\u001b[0m \u001b[0minfo\u001b[0m \u001b[0;32mis\u001b[0m \u001b[0;32mNone\u001b[0m\u001b[0;34m:\u001b[0m\u001b[0;34m\u001b[0m\u001b[0;34m\u001b[0m\u001b[0m\n\u001b[1;32m   1430\u001b[0m             raise KeyError(\n\u001b[0;32m-> 1431\u001b[0;31m                 'There is no item named %r in the archive' % name)\n\u001b[0m\u001b[1;32m   1432\u001b[0m \u001b[0;34m\u001b[0m\u001b[0m\n\u001b[1;32m   1433\u001b[0m         \u001b[0;32mreturn\u001b[0m \u001b[0minfo\u001b[0m\u001b[0;34m\u001b[0m\u001b[0;34m\u001b[0m\u001b[0m\n",
            "\u001b[0;31mKeyError\u001b[0m: \"There is no item named 'pulse2020_puf_9.csv' in the archive\""
          ]
        }
      ]
    },
    {
      "cell_type": "code",
      "metadata": {
        "colab": {
          "base_uri": "https://localhost:8080/"
        },
        "id": "k5szaGBW_bP2",
        "outputId": "ca60c2e8-706c-45ee-b482-e3d1f76baa23"
      },
      "source": [
        "### Add padded 0 in front of the week indicator on the csv file \n",
        "\n",
        "for i in range(len(url_list))[-3:]:\n",
        "    linkToFile = 'http:'+ url_list[i]\n",
        "\n",
        "    localDestination = \"./\"+url_list[i].split(\"Week\")[1]\n",
        "    print(localDestination)\n",
        "    resultFilePath, responseHeaders = urllib.request.urlretrieve(linkToFile, localDestination)\n",
        "    zf = ZipFile(resultFilePath) \n",
        "    \n",
        "    time.sleep(12)\n",
        "    \n",
        "    year_str = re.findall('\\d{4}', url_list[i])[0]\n",
        "    wk_str = re.findall('(?<=wk)(\\d+)', url_list[i])[0]\n",
        "\n",
        "    csv_file_nme = 'pulse'+ year_str +'_puf_0'+ wk_str +'.csv'\n",
        "    print(csv_file_nme)\n",
        "\n",
        "    df = pd.read_csv(zf.open(csv_file_nme))\n",
        "    df.to_csv(csv_file_nme, index=False)\n",
        "    file2 = drive.CreateFile({'parents': [{'id':id}]})\n",
        "    file2.SetContentFile(csv_file_nme)\n",
        "    file2.Upload()"
      ],
      "execution_count": 7,
      "outputs": [
        {
          "output_type": "stream",
          "name": "stdout",
          "text": [
            "./03_PUF_CSV.zip\n",
            "pulse2020_puf_03.csv\n",
            "./02_PUF_CSV.zip\n",
            "pulse2020_puf_02.csv\n",
            "./01_PUF_CSV.zip\n",
            "pulse2020_puf_01.csv\n"
          ]
        }
      ]
    },
    {
      "cell_type": "code",
      "metadata": {
        "id": "ThSCJG44MjW9"
      },
      "source": [
        "### Add padded 0 in front of the week indicator on the csv file \n",
        "\n",
        "for i in range(len(url_list))[-9:]:\n",
        "    linkToFile = 'http:'+ url_list[i]\n",
        "\n",
        "    localDestination = \"./\"+url_list[i].split(\"Week\")[1]\n",
        "    print(localDestination)\n",
        "    resultFilePath, responseHeaders = urllib.request.urlretrieve(linkToFile, localDestination)\n",
        "    zf = ZipFile(resultFilePath) \n",
        "    \n",
        "    time.sleep(8)\n",
        "    \n",
        "    year_str = re.findall('\\d{4}', url_list[i])[0]\n",
        "    wk_str = re.findall('(?<=wk)(\\d+)', url_list[i])[0]\n",
        "\n",
        "    csv_file_nme = 'pulse'+ year_str +'_puf_0'+ wk_str +'.csv'\n",
        "\n",
        "    df = pd.read_csv(zf.open(csv_file_nme))\n",
        "    df.to_csv(csv_file_nme, index=False)\n",
        "    file2 = drive.CreateFile({'parents': [{'id':id}]})\n",
        "    file2.SetContentFile(csv_file_nme)\n",
        "    file2.Upload()"
      ],
      "execution_count": null,
      "outputs": []
    },
    {
      "cell_type": "code",
      "metadata": {
        "colab": {
          "base_uri": "https://localhost:8080/"
        },
        "id": "smRPYb_7qZ60",
        "outputId": "96bbc917-2721-4712-b302-428e5931bab7"
      },
      "source": [
        "file_list = drive.ListFile({'q': \"'{}' in parents and trashed=false\".format(id)}).GetList()\n",
        "for file in file_list:\n",
        "\tprint('title: %s, id: %s' % (file['title'], file['id']))"
      ],
      "execution_count": 92,
      "outputs": [
        {
          "output_type": "stream",
          "name": "stdout",
          "text": [
            "title: pulse2021_puf_36.csv, id: 1JHUT7BbPeVHoFPB7RjpcfmRkGjo6FTnC\n",
            "title: hps_20200514_Week03, id: 1dtqP-QdYAUfMl63pduwYiT6lDjK6b_8J\n"
          ]
        }
      ]
    },
    {
      "cell_type": "code",
      "metadata": {
        "id": "IfpxxlGP9a-M"
      },
      "source": [
        ""
      ],
      "execution_count": 91,
      "outputs": []
    }
  ]
}