{
  "nbformat": 4,
  "nbformat_minor": 0,
  "metadata": {
    "colab": {
      "name": "OLS",
      "provenance": [],
      "authorship_tag": "ABX9TyNM9vIY67DBm7YJx+3f4K7i",
      "include_colab_link": true
    },
    "kernelspec": {
      "name": "python3",
      "display_name": "Python 3"
    },
    "language_info": {
      "name": "python"
    }
  },
  "cells": [
    {
      "cell_type": "markdown",
      "metadata": {
        "id": "view-in-github",
        "colab_type": "text"
      },
      "source": [
        "<a href=\"https://colab.research.google.com/github/elizabethyoo/team_9/blob/EDA_linegraphs/OLS.ipynb\" target=\"_parent\"><img src=\"https://colab.research.google.com/assets/colab-badge.svg\" alt=\"Open In Colab\"/></a>"
      ]
    },
    {
      "cell_type": "code",
      "metadata": {
        "colab": {
          "base_uri": "https://localhost:8080/"
        },
        "id": "fxbDJLoR-xfx",
        "outputId": "49a1e925-7ed6-468e-f1e6-ef3fb3fcb38c"
      },
      "source": [
        "from google.colab import drive\n",
        "drive.mount('/content/drive')"
      ],
      "execution_count": 87,
      "outputs": [
        {
          "output_type": "stream",
          "name": "stdout",
          "text": [
            "Drive already mounted at /content/drive; to attempt to forcibly remount, call drive.mount(\"/content/drive\", force_remount=True).\n"
          ]
        }
      ]
    },
    {
      "cell_type": "code",
      "metadata": {
        "id": "GnhA_DRM-5BZ"
      },
      "source": [
        "import pandas as pd\n",
        "import glob\n",
        "import numpy as np\n",
        "import seaborn as sns\n",
        "import matplotlib.pyplot as plt\n",
        "import time\n",
        "from matplotlib import animation as animation\n",
        "import matplotlib.dates as mdates\n",
        "\n",
        "from sklearn.linear_model import Ridge\n",
        "from sklearn.preprocessing import MinMaxScaler\n",
        "import statsmodels.api as sm\n",
        "# from regressors import stats   \n",
        "\n",
        "\n",
        "pd.set_option('display.float_format', lambda x: '%.4f' % x)"
      ],
      "execution_count": 88,
      "outputs": []
    },
    {
      "cell_type": "code",
      "metadata": {
        "id": "ghf7nFe6-75g"
      },
      "source": [
        "df = pd.read_csv('/content/drive/MyDrive/group_9/Datasets/hps_sbps_unemp_vac.csv', index_col='Date')\n",
        "df_no_peak = df[(df.index<'2020-10-31') | (df.index >'2021-02-28')] "
      ],
      "execution_count": 89,
      "outputs": []
    },
    {
      "cell_type": "code",
      "metadata": {
        "id": "61p8Qv1rCaBd"
      },
      "source": [
        "col_to_drop = ['year', 'month','tot_cases', 'tot_death','population_size','total_deaths_per_1_mill_pop',\n",
        "       'total_cases_per_1_mill_pop','Administered_Dose1_Pop_Pct', 'Administered_Dose1_Recip_12PlusPop_Pct',\n",
        "       'Administered_Dose1_Recip_18PlusPop_Pct',\n",
        "       'Administered_Dose1_Recip_65PlusPop_Pct', \n",
        "       'Series_Complete_12PlusPop_Pct', 'Series_Complete_18PlusPop_Pct',\n",
        "       'Series_Complete_65PlusPop_Pct', 'Additional_Doses_Vax_Pct',\n",
        "       'Additional_Doses_18Plus_Vax_Pct', 'Additional_Doses_50Plus_Vax_Pct',\n",
        "       'Additional_Doses_65Plus_Vax_Pct','female','state',\n",
        "       'childcare_issue', 'financial_stress', 'market_challenges',\n",
        "       'markets_challenges','operational_challenges','new_case', 'new_death',]\n",
        "\n",
        "\n",
        "df_to_model = df.drop(columns=col_to_drop)  \n",
        "df_to_model['Series_Complete_Pop_Pct'] = df_to_model['Series_Complete_Pop_Pct'].fillna(0)"
      ],
      "execution_count": 90,
      "outputs": []
    },
    {
      "cell_type": "code",
      "metadata": {
        "colab": {
          "base_uri": "https://localhost:8080/",
          "height": 196
        },
        "id": "OP7mgamRBxUi",
        "outputId": "52bc6570-ed6c-438d-aa03-d4ba74a1fd3e"
      },
      "source": [
        "df_to_model.head(2)"
      ],
      "execution_count": 91,
      "outputs": [
        {
          "output_type": "execute_result",
          "data": {
            "text/html": [
              "<div>\n",
              "<style scoped>\n",
              "    .dataframe tbody tr th:only-of-type {\n",
              "        vertical-align: middle;\n",
              "    }\n",
              "\n",
              "    .dataframe tbody tr th {\n",
              "        vertical-align: top;\n",
              "    }\n",
              "\n",
              "    .dataframe thead th {\n",
              "        text-align: right;\n",
              "    }\n",
              "</style>\n",
              "<table border=\"1\" class=\"dataframe\">\n",
              "  <thead>\n",
              "    <tr style=\"text-align: right;\">\n",
              "      <th></th>\n",
              "      <th>age_18_24</th>\n",
              "      <th>age_25_39</th>\n",
              "      <th>age_40</th>\n",
              "      <th>age_50</th>\n",
              "      <th>age_60</th>\n",
              "      <th>age_70_up</th>\n",
              "      <th>child</th>\n",
              "      <th>education_bachelor</th>\n",
              "      <th>education_hs</th>\n",
              "      <th>education_less_hs</th>\n",
              "      <th>education_associate</th>\n",
              "      <th>income_100K</th>\n",
              "      <th>income_150K</th>\n",
              "      <th>income_200K</th>\n",
              "      <th>income_25K</th>\n",
              "      <th>income_35K</th>\n",
              "      <th>income_50K</th>\n",
              "      <th>income_75K</th>\n",
              "      <th>income_less_25K</th>\n",
              "      <th>race_other</th>\n",
              "      <th>race_asian</th>\n",
              "      <th>race_black</th>\n",
              "      <th>race_white</th>\n",
              "      <th>food_scarcity</th>\n",
              "      <th>housing_insecurity</th>\n",
              "      <th>male</th>\n",
              "      <th>hispanic_origin</th>\n",
              "      <th>expected_recovery</th>\n",
              "      <th>overall_sentiment</th>\n",
              "      <th>unemployment_rate</th>\n",
              "      <th>new_cases_per_1_mill_pop</th>\n",
              "      <th>new_deaths_per_1_mill_pop</th>\n",
              "      <th>fatality_rate</th>\n",
              "      <th>Series_Complete_Pop_Pct</th>\n",
              "    </tr>\n",
              "    <tr>\n",
              "      <th>Date</th>\n",
              "      <th></th>\n",
              "      <th></th>\n",
              "      <th></th>\n",
              "      <th></th>\n",
              "      <th></th>\n",
              "      <th></th>\n",
              "      <th></th>\n",
              "      <th></th>\n",
              "      <th></th>\n",
              "      <th></th>\n",
              "      <th></th>\n",
              "      <th></th>\n",
              "      <th></th>\n",
              "      <th></th>\n",
              "      <th></th>\n",
              "      <th></th>\n",
              "      <th></th>\n",
              "      <th></th>\n",
              "      <th></th>\n",
              "      <th></th>\n",
              "      <th></th>\n",
              "      <th></th>\n",
              "      <th></th>\n",
              "      <th></th>\n",
              "      <th></th>\n",
              "      <th></th>\n",
              "      <th></th>\n",
              "      <th></th>\n",
              "      <th></th>\n",
              "      <th></th>\n",
              "      <th></th>\n",
              "      <th></th>\n",
              "      <th></th>\n",
              "      <th></th>\n",
              "    </tr>\n",
              "  </thead>\n",
              "  <tbody>\n",
              "    <tr>\n",
              "      <th>2020-04-30</th>\n",
              "      <td>9.7022</td>\n",
              "      <td>34.3529</td>\n",
              "      <td>14.8741</td>\n",
              "      <td>16.0768</td>\n",
              "      <td>15.0907</td>\n",
              "      <td>9.9033</td>\n",
              "      <td>0.0000</td>\n",
              "      <td>27.5564</td>\n",
              "      <td>36.0829</td>\n",
              "      <td>1.2940</td>\n",
              "      <td>35.0667</td>\n",
              "      <td>15.1546</td>\n",
              "      <td>5.9602</td>\n",
              "      <td>6.5873</td>\n",
              "      <td>9.6292</td>\n",
              "      <td>9.7133</td>\n",
              "      <td>17.4755</td>\n",
              "      <td>14.2922</td>\n",
              "      <td>8.2719</td>\n",
              "      <td>22.1747</td>\n",
              "      <td>6.9447</td>\n",
              "      <td>2.8202</td>\n",
              "      <td>68.0603</td>\n",
              "      <td>7.4137</td>\n",
              "      <td>1.9379</td>\n",
              "      <td>51.1094</td>\n",
              "      <td>6.4097</td>\n",
              "      <td>-0.5900</td>\n",
              "      <td>-0.6600</td>\n",
              "      <td>12.4000</td>\n",
              "      <td>310.4664</td>\n",
              "      <td>4.1031</td>\n",
              "      <td>3.0277</td>\n",
              "      <td>0.0000</td>\n",
              "    </tr>\n",
              "    <tr>\n",
              "      <th>2020-05-31</th>\n",
              "      <td>9.7347</td>\n",
              "      <td>32.9765</td>\n",
              "      <td>15.5323</td>\n",
              "      <td>16.5215</td>\n",
              "      <td>14.8570</td>\n",
              "      <td>9.7349</td>\n",
              "      <td>0.6431</td>\n",
              "      <td>27.5405</td>\n",
              "      <td>36.2782</td>\n",
              "      <td>1.1069</td>\n",
              "      <td>35.0744</td>\n",
              "      <td>13.8033</td>\n",
              "      <td>7.9779</td>\n",
              "      <td>5.6725</td>\n",
              "      <td>7.4605</td>\n",
              "      <td>8.4605</td>\n",
              "      <td>17.6799</td>\n",
              "      <td>12.3827</td>\n",
              "      <td>13.4845</td>\n",
              "      <td>24.0058</td>\n",
              "      <td>5.1436</td>\n",
              "      <td>2.1758</td>\n",
              "      <td>68.6748</td>\n",
              "      <td>6.9246</td>\n",
              "      <td>2.5193</td>\n",
              "      <td>51.1094</td>\n",
              "      <td>6.2471</td>\n",
              "      <td>-0.5940</td>\n",
              "      <td>-0.6460</td>\n",
              "      <td>12.0000</td>\n",
              "      <td>147.7109</td>\n",
              "      <td>5.4708</td>\n",
              "      <td>2.6981</td>\n",
              "      <td>0.0000</td>\n",
              "    </tr>\n",
              "  </tbody>\n",
              "</table>\n",
              "</div>"
            ],
            "text/plain": [
              "            age_18_24  age_25_39  ...  fatality_rate  Series_Complete_Pop_Pct\n",
              "Date                              ...                                        \n",
              "2020-04-30     9.7022    34.3529  ...         3.0277                   0.0000\n",
              "2020-05-31     9.7347    32.9765  ...         2.6981                   0.0000\n",
              "\n",
              "[2 rows x 34 columns]"
            ]
          },
          "metadata": {},
          "execution_count": 91
        }
      ]
    },
    {
      "cell_type": "code",
      "metadata": {
        "id": "431y4jFAEKKk"
      },
      "source": [
        "X = df_to_model.drop(columns='expected_recovery')\n",
        "y = df_to_model.loc[:,'expected_recovery']\n",
        "\n",
        "scaler = MinMaxScaler()\n",
        "X_transformed = scaler.fit_transform(X)"
      ],
      "execution_count": 92,
      "outputs": []
    },
    {
      "cell_type": "markdown",
      "metadata": {
        "id": "YJyjl_MNNEm1"
      },
      "source": [
        "# Sklearn"
      ]
    },
    {
      "cell_type": "code",
      "metadata": {
        "id": "c_Mr-HcCECdp"
      },
      "source": [
        "model = Ridge()\n",
        "model.fit(X_transformed, y)\n",
        "coef = pd.DataFrame(zip(X.columns,model.coef_ ), columns = ['Features', 'Coef'])\n",
        "\n",
        "# Coef didn't have any p-value"
      ],
      "execution_count": 94,
      "outputs": []
    },
    {
      "cell_type": "markdown",
      "metadata": {
        "id": "2ZiPtbcuNG00"
      },
      "source": [
        "#Statmodel"
      ]
    },
    {
      "cell_type": "code",
      "metadata": {
        "colab": {
          "base_uri": "https://localhost:8080/"
        },
        "id": "Crz3JdlqE7wg",
        "outputId": "b29d2581-93f6-4a5c-f298-7c88067bea10"
      },
      "source": [
        "X_transformed_sm = pd.DataFrame(X_transformed, columns= X.columns)\n",
        "X_transformed_sm.set_index(y.index, inplace=True)\n",
        "\n",
        "X_transformed_sm = sm.add_constant(X_transformed_sm)\n",
        "model = sm.OLS(y, X_transformed_sm)\n",
        "results = model.fit()\n",
        "print(results.summary())"
      ],
      "execution_count": 96,
      "outputs": [
        {
          "output_type": "stream",
          "name": "stdout",
          "text": [
            "                            OLS Regression Results                            \n",
            "==============================================================================\n",
            "Dep. Variable:      expected_recovery   R-squared:                       0.874\n",
            "Model:                            OLS   Adj. R-squared:                  0.869\n",
            "Method:                 Least Squares   F-statistic:                     161.1\n",
            "Date:                Sun, 24 Oct 2021   Prob (F-statistic):          7.78e-319\n",
            "Time:                        16:42:40   Log-Likelihood:                 1826.4\n",
            "No. Observations:                 800   AIC:                            -3585.\n",
            "Df Residuals:                     766   BIC:                            -3425.\n",
            "Df Model:                          33                                         \n",
            "Covariance Type:            nonrobust                                         \n",
            "=============================================================================================\n",
            "                                coef    std err          t      P>|t|      [0.025      0.975]\n",
            "---------------------------------------------------------------------------------------------\n",
            "const                      -1.18e+06   2.01e+07     -0.059      0.953   -4.06e+07    3.83e+07\n",
            "age_18_24                 -3.584e+05   1.99e+06     -0.181      0.857   -4.26e+06    3.54e+06\n",
            "age_25_39                 -4.286e+05   2.37e+06     -0.181      0.857   -5.09e+06    4.23e+06\n",
            "age_40                    -3.309e+05   1.83e+06     -0.181      0.857   -3.93e+06    3.27e+06\n",
            "age_50                    -2.621e+05   1.45e+06     -0.181      0.857   -3.11e+06    2.59e+06\n",
            "age_60                    -3.377e+05   1.87e+06     -0.181      0.857   -4.01e+06    3.33e+06\n",
            "age_70_up                 -2.662e+05   1.47e+06     -0.181      0.857   -3.16e+06    2.63e+06\n",
            "child                      -9.14e+04   5.06e+05     -0.181      0.857   -1.09e+06    9.02e+05\n",
            "education_bachelor         3.705e+06   3.99e+06      0.929      0.353   -4.13e+06    1.15e+07\n",
            "education_hs               4.872e+06   5.25e+06      0.929      0.353   -5.43e+06    1.52e+07\n",
            "education_less_hs          1.144e+06   1.23e+06      0.929      0.353   -1.27e+06    3.56e+06\n",
            "education_associate          3.9e+06    4.2e+06      0.929      0.353   -4.35e+06    1.21e+07\n",
            "income_100K                  -0.0123      0.010     -1.195      0.232      -0.032       0.008\n",
            "income_150K                  -0.0263      0.010     -2.650      0.008      -0.046      -0.007\n",
            "income_200K                  -0.0147      0.011     -1.289      0.198      -0.037       0.008\n",
            "income_25K                    0.0034      0.009      0.397      0.691      -0.013       0.020\n",
            "income_35K                    0.0031      0.008      0.374      0.709      -0.013       0.019\n",
            "income_50K                    0.0260      0.009      2.858      0.004       0.008       0.044\n",
            "income_75K                   -0.0176      0.009     -1.974      0.049      -0.035   -9.65e-05\n",
            "income_less_25K               0.0057      0.013      0.446      0.655      -0.019       0.031\n",
            "race_other                -1.819e+06   9.68e+06     -0.188      0.851   -2.08e+07    1.72e+07\n",
            "race_asian                -1.955e+06   1.04e+07     -0.188      0.851   -2.24e+07    1.85e+07\n",
            "race_black                -1.643e+06   8.75e+06     -0.188      0.851   -1.88e+07    1.55e+07\n",
            "race_white                -3.374e+06    1.8e+07     -0.188      0.851   -3.86e+07    3.19e+07\n",
            "food_scarcity                -0.0061      0.012     -0.502      0.616      -0.030       0.018\n",
            "housing_insecurity           -0.0193      0.008     -2.286      0.023      -0.036      -0.003\n",
            "male                          0.0392      0.011      3.699      0.000       0.018       0.060\n",
            "hispanic_origin              -0.0180      0.006     -2.924      0.004      -0.030      -0.006\n",
            "overall_sentiment             0.2687      0.012     22.127      0.000       0.245       0.293\n",
            "unemployment_rate             0.0503      0.016      3.120      0.002       0.019       0.082\n",
            "new_cases_per_1_mill_pop     -0.0673      0.010     -6.951      0.000      -0.086      -0.048\n",
            "new_deaths_per_1_mill_pop     0.0384      0.010      3.793      0.000       0.019       0.058\n",
            "fatality_rate                -0.0084      0.009     -0.931      0.352      -0.026       0.009\n",
            "Series_Complete_Pop_Pct       0.0778      0.005     16.017      0.000       0.068       0.087\n",
            "==============================================================================\n",
            "Omnibus:                       21.588   Durbin-Watson:                   1.799\n",
            "Prob(Omnibus):                  0.000   Jarque-Bera (JB):               28.729\n",
            "Skew:                           0.282   Prob(JB):                     5.77e-07\n",
            "Kurtosis:                       3.737   Cond. No.                     8.28e+10\n",
            "==============================================================================\n",
            "\n",
            "Warnings:\n",
            "[1] Standard Errors assume that the covariance matrix of the errors is correctly specified.\n",
            "[2] The smallest eigenvalue is 6.58e-19. This might indicate that there are\n",
            "strong multicollinearity problems or that the design matrix is singular.\n"
          ]
        }
      ]
    },
    {
      "cell_type": "code",
      "metadata": {
        "colab": {
          "base_uri": "https://localhost:8080/",
          "height": 316
        },
        "id": "LjVedHxjJih7",
        "outputId": "9fb3db01-f96f-4438-9610-086f5f1b4255"
      },
      "source": [
        "X_transformed_sm = sm.add_constant(X_transformed_sm)\n",
        "model = sm.OLS(y, X_transformed_sm)\n",
        "results_reg = model.fit_regularized(method='sqrt_lasso', alpha=0.2, L1_wt=0.0)\n",
        "print(results_reg.summary())"
      ],
      "execution_count": 104,
      "outputs": [
        {
          "output_type": "error",
          "ename": "NotImplementedError",
          "evalue": "ignored",
          "traceback": [
            "\u001b[0;31m---------------------------------------------------------------------------\u001b[0m",
            "\u001b[0;31mNotImplementedError\u001b[0m                       Traceback (most recent call last)",
            "\u001b[0;32m<ipython-input-104-da192b093c6c>\u001b[0m in \u001b[0;36m<module>\u001b[0;34m()\u001b[0m\n\u001b[1;32m      2\u001b[0m \u001b[0mmodel\u001b[0m \u001b[0;34m=\u001b[0m \u001b[0msm\u001b[0m\u001b[0;34m.\u001b[0m\u001b[0mOLS\u001b[0m\u001b[0;34m(\u001b[0m\u001b[0my\u001b[0m\u001b[0;34m,\u001b[0m \u001b[0mX_transformed_sm\u001b[0m\u001b[0;34m)\u001b[0m\u001b[0;34m\u001b[0m\u001b[0;34m\u001b[0m\u001b[0m\n\u001b[1;32m      3\u001b[0m \u001b[0mresults_reg\u001b[0m \u001b[0;34m=\u001b[0m \u001b[0mmodel\u001b[0m\u001b[0;34m.\u001b[0m\u001b[0mfit_regularized\u001b[0m\u001b[0;34m(\u001b[0m\u001b[0mmethod\u001b[0m\u001b[0;34m=\u001b[0m\u001b[0;34m'sqrt_lasso'\u001b[0m\u001b[0;34m,\u001b[0m \u001b[0malpha\u001b[0m\u001b[0;34m=\u001b[0m\u001b[0;36m0.2\u001b[0m\u001b[0;34m,\u001b[0m \u001b[0mL1_wt\u001b[0m\u001b[0;34m=\u001b[0m\u001b[0;36m0.0\u001b[0m\u001b[0;34m)\u001b[0m\u001b[0;34m\u001b[0m\u001b[0;34m\u001b[0m\u001b[0m\n\u001b[0;32m----> 4\u001b[0;31m \u001b[0mprint\u001b[0m\u001b[0;34m(\u001b[0m\u001b[0mresults_reg\u001b[0m\u001b[0;34m.\u001b[0m\u001b[0msummary\u001b[0m\u001b[0;34m(\u001b[0m\u001b[0;34m)\u001b[0m\u001b[0;34m)\u001b[0m\u001b[0;34m\u001b[0m\u001b[0;34m\u001b[0m\u001b[0m\n\u001b[0m",
            "\u001b[0;32m/usr/local/lib/python3.7/dist-packages/statsmodels/base/model.py\u001b[0m in \u001b[0;36msummary\u001b[0;34m(self)\u001b[0m\n\u001b[1;32m   1053\u001b[0m         \u001b[0mNot\u001b[0m \u001b[0mimplemented\u001b[0m\u001b[0;34m\u001b[0m\u001b[0;34m\u001b[0m\u001b[0m\n\u001b[1;32m   1054\u001b[0m         \"\"\"\n\u001b[0;32m-> 1055\u001b[0;31m         \u001b[0;32mraise\u001b[0m \u001b[0mNotImplementedError\u001b[0m\u001b[0;34m\u001b[0m\u001b[0;34m\u001b[0m\u001b[0m\n\u001b[0m\u001b[1;32m   1056\u001b[0m \u001b[0;34m\u001b[0m\u001b[0m\n\u001b[1;32m   1057\u001b[0m \u001b[0;34m\u001b[0m\u001b[0m\n",
            "\u001b[0;31mNotImplementedError\u001b[0m: "
          ]
        }
      ]
    },
    {
      "cell_type": "code",
      "metadata": {
        "colab": {
          "base_uri": "https://localhost:8080/",
          "height": 129
        },
        "id": "rnRUy6MxOi1E",
        "outputId": "e43bb1ce-bc8e-4b9b-bd1d-1f136b85e67b"
      },
      "source": [
        "results_reg.params."
      ],
      "execution_count": 111,
      "outputs": [
        {
          "output_type": "error",
          "ename": "SyntaxError",
          "evalue": "ignored",
          "traceback": [
            "\u001b[0;36m  File \u001b[0;32m\"<ipython-input-111-ad50a9c5fee2>\"\u001b[0;36m, line \u001b[0;32m1\u001b[0m\n\u001b[0;31m    results_reg.summary().config/\u001b[0m\n\u001b[0m                                 ^\u001b[0m\n\u001b[0;31mSyntaxError\u001b[0m\u001b[0;31m:\u001b[0m invalid syntax\n"
          ]
        }
      ]
    },
    {
      "cell_type": "markdown",
      "metadata": {
        "id": "fnvlBpMCNRex"
      },
      "source": [
        "# Withheld peak cases data period\n"
      ]
    },
    {
      "cell_type": "code",
      "metadata": {
        "id": "LOy5mO8uNWCi"
      },
      "source": [
        "df_to_model = df_no_peak.drop(columns=col_to_drop)  \n",
        "df_to_model['Series_Complete_Pop_Pct'] = df_to_model['Series_Complete_Pop_Pct'].fillna(0)\n",
        "\n",
        "X = df_to_model.drop(columns='expected_recovery')\n",
        "y = df_to_model.loc[:,'expected_recovery']\n",
        "\n",
        "scaler = MinMaxScaler()\n",
        "X_transformed = scaler.fit_transform(X)"
      ],
      "execution_count": 109,
      "outputs": []
    },
    {
      "cell_type": "code",
      "metadata": {
        "colab": {
          "base_uri": "https://localhost:8080/"
        },
        "id": "LRVLouFhNcpS",
        "outputId": "afb345bb-ec28-4273-f391-ea305fd9e0a9"
      },
      "source": [
        "X_transformed_sm = pd.DataFrame(X_transformed, columns= X.columns)\n",
        "X_transformed_sm.set_index(y.index, inplace=True)\n",
        "\n",
        "X_transformed_sm = sm.add_constant(X_transformed_sm)\n",
        "model = sm.OLS(y, X_transformed_sm)\n",
        "results = model.fit()\n",
        "print(results.summary())"
      ],
      "execution_count": 110,
      "outputs": [
        {
          "output_type": "stream",
          "name": "stdout",
          "text": [
            "                            OLS Regression Results                            \n",
            "==============================================================================\n",
            "Dep. Variable:      expected_recovery   R-squared:                       0.892\n",
            "Model:                            OLS   Adj. R-squared:                  0.885\n",
            "Method:                 Least Squares   F-statistic:                     128.8\n",
            "Date:                Sun, 24 Oct 2021   Prob (F-statistic):          1.02e-225\n",
            "Time:                        16:50:36   Log-Likelihood:                 1253.4\n",
            "No. Observations:                 550   AIC:                            -2439.\n",
            "Df Residuals:                     516   BIC:                            -2292.\n",
            "Df Model:                          33                                         \n",
            "Covariance Type:            nonrobust                                         \n",
            "=============================================================================================\n",
            "                                coef    std err          t      P>|t|      [0.025      0.975]\n",
            "---------------------------------------------------------------------------------------------\n",
            "const                      2.432e+07   2.46e+07      0.990      0.323   -2.39e+07    7.26e+07\n",
            "age_18_24                 -4.882e+05   2.18e+06     -0.224      0.823   -4.77e+06     3.8e+06\n",
            "age_25_39                 -6.564e+05   2.93e+06     -0.224      0.823   -6.42e+06     5.1e+06\n",
            "age_40                    -5.068e+05   2.26e+06     -0.224      0.823   -4.95e+06    3.94e+06\n",
            "age_50                    -4.013e+05   1.79e+06     -0.224      0.823   -3.92e+06    3.12e+06\n",
            "age_60                    -4.651e+05   2.08e+06     -0.224      0.823   -4.55e+06    3.62e+06\n",
            "age_70_up                 -3.876e+05   1.73e+06     -0.224      0.823   -3.79e+06    3.01e+06\n",
            "child                     -1.387e+05    6.2e+05     -0.224      0.823   -1.36e+06    1.08e+06\n",
            "education_bachelor         5.254e+06   4.98e+06      1.054      0.292   -4.54e+06     1.5e+07\n",
            "education_hs               6.909e+06   6.55e+06      1.054      0.292   -5.96e+06    1.98e+07\n",
            "education_less_hs          1.622e+06   1.54e+06      1.054      0.292    -1.4e+06    4.64e+06\n",
            "education_associate         5.53e+06   5.25e+06      1.054      0.292   -4.77e+06    1.58e+07\n",
            "income_100K                  -0.0268      0.013     -2.130      0.034      -0.051      -0.002\n",
            "income_150K                  -0.0263      0.012     -2.173      0.030      -0.050      -0.003\n",
            "income_200K                  -0.0139      0.013     -1.074      0.283      -0.039       0.012\n",
            "income_25K                    0.0156      0.011      1.453      0.147      -0.005       0.037\n",
            "income_35K                   -0.0100      0.010     -1.024      0.306      -0.029       0.009\n",
            "income_50K                    0.0215      0.011      1.997      0.046       0.000       0.043\n",
            "income_75K                   -0.0268      0.011     -2.433      0.015      -0.048      -0.005\n",
            "income_less_25K               0.0084      0.015      0.564      0.573      -0.021       0.038\n",
            "race_other                -1.636e+07   1.18e+07     -1.382      0.168   -3.96e+07     6.9e+06\n",
            "race_asian                -1.755e+07   1.27e+07     -1.382      0.168   -4.25e+07    7.41e+06\n",
            "race_black                -1.478e+07   1.07e+07     -1.382      0.168   -3.58e+07    6.23e+06\n",
            "race_white                -3.034e+07    2.2e+07     -1.382      0.168   -7.35e+07    1.28e+07\n",
            "food_scarcity                -0.0126      0.014     -0.881      0.379      -0.041       0.015\n",
            "housing_insecurity           -0.0177      0.011     -1.675      0.095      -0.038       0.003\n",
            "male                          0.0412      0.013      3.128      0.002       0.015       0.067\n",
            "hispanic_origin              -0.0293      0.008     -3.837      0.000      -0.044      -0.014\n",
            "overall_sentiment             0.2737      0.014     18.922      0.000       0.245       0.302\n",
            "unemployment_rate             0.0577      0.018      3.189      0.002       0.022       0.093\n",
            "new_cases_per_1_mill_pop     -0.0883      0.011     -8.043      0.000      -0.110      -0.067\n",
            "new_deaths_per_1_mill_pop     0.0935      0.015      6.241      0.000       0.064       0.123\n",
            "fatality_rate                -0.0272      0.010     -2.629      0.009      -0.048      -0.007\n",
            "Series_Complete_Pop_Pct       0.0714      0.006     11.727      0.000       0.059       0.083\n",
            "==============================================================================\n",
            "Omnibus:                       13.758   Durbin-Watson:                   1.812\n",
            "Prob(Omnibus):                  0.001   Jarque-Bera (JB):               14.808\n",
            "Skew:                           0.331   Prob(JB):                     0.000609\n",
            "Kurtosis:                       3.455   Cond. No.                     8.38e+10\n",
            "==============================================================================\n",
            "\n",
            "Warnings:\n",
            "[1] Standard Errors assume that the covariance matrix of the errors is correctly specified.\n",
            "[2] The smallest eigenvalue is 4.53e-19. This might indicate that there are\n",
            "strong multicollinearity problems or that the design matrix is singular.\n"
          ]
        }
      ]
    },
    {
      "cell_type": "code",
      "metadata": {
        "id": "IMg35b08NgWX"
      },
      "source": [
        "r = results.get_robustcov_results()"
      ],
      "execution_count": 117,
      "outputs": []
    }
  ]
}