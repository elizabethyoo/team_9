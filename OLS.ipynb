{
  "nbformat": 4,
  "nbformat_minor": 0,
  "metadata": {
    "colab": {
      "name": "OLS",
      "provenance": [],
      "authorship_tag": "ABX9TyOj6clEMQ9MjCx18cIYJdUZ",
      "include_colab_link": true
    },
    "kernelspec": {
      "name": "python3",
      "display_name": "Python 3"
    },
    "language_info": {
      "name": "python"
    }
  },
  "cells": [
    {
      "cell_type": "markdown",
      "metadata": {
        "id": "view-in-github",
        "colab_type": "text"
      },
      "source": [
        "<a href=\"https://colab.research.google.com/github/elizabethyoo/team_9/blob/EDA_linegraphs/OLS.ipynb\" target=\"_parent\"><img src=\"https://colab.research.google.com/assets/colab-badge.svg\" alt=\"Open In Colab\"/></a>"
      ]
    },
    {
      "cell_type": "code",
      "metadata": {
        "colab": {
          "base_uri": "https://localhost:8080/"
        },
        "id": "fxbDJLoR-xfx",
        "outputId": "e9bbb8c3-7c9a-48d0-dc1e-4747386289f8"
      },
      "source": [
        "from google.colab import drive\n",
        "drive.mount('/content/drive')"
      ],
      "execution_count": 1,
      "outputs": [
        {
          "output_type": "stream",
          "name": "stdout",
          "text": [
            "Mounted at /content/drive\n"
          ]
        }
      ]
    },
    {
      "cell_type": "code",
      "metadata": {
        "colab": {
          "base_uri": "https://localhost:8080/"
        },
        "id": "GnhA_DRM-5BZ",
        "outputId": "6be029fb-2212-4480-e276-544494be5ce2"
      },
      "source": [
        "import pandas as pd\n",
        "import glob\n",
        "import numpy as np\n",
        "import seaborn as sns\n",
        "import matplotlib.pyplot as plt\n",
        "import time\n",
        "from matplotlib import animation as animation\n",
        "import matplotlib.dates as mdates\n",
        "\n",
        "from sklearn.linear_model import Ridge\n",
        "from sklearn.preprocessing import MinMaxScaler\n",
        "import statsmodels.api as sm\n",
        "import operator\n",
        "\n",
        "\n",
        "pd.set_option('display.float_format', lambda x: '%.4f' % x)"
      ],
      "execution_count": 2,
      "outputs": [
        {
          "output_type": "stream",
          "name": "stderr",
          "text": [
            "/usr/local/lib/python3.7/dist-packages/statsmodels/tools/_testing.py:19: FutureWarning: pandas.util.testing is deprecated. Use the functions in the public API at pandas.testing instead.\n",
            "  import pandas.util.testing as tm\n"
          ]
        }
      ]
    },
    {
      "cell_type": "code",
      "metadata": {
        "id": "ghf7nFe6-75g"
      },
      "source": [
        "df = pd.read_csv('/content/drive/MyDrive/group_9/Datasets/hps_sbps_unemp_vac.csv', index_col='Date')\n",
        "df_no_peak = df[(df.index<'2020-10-31') | (df.index >'2021-02-28')] \n",
        "\n",
        "# peak winter cases df\n",
        "df_peak = df[~((df.index<'2020-10-31') | (df.index >'2021-02-28'))]"
      ],
      "execution_count": 3,
      "outputs": []
    },
    {
      "cell_type": "code",
      "metadata": {
        "id": "61p8Qv1rCaBd"
      },
      "source": [
        "col_to_drop = ['year', 'month','tot_cases', 'tot_death','population_size','total_deaths_per_1_mill_pop',\n",
        "       'total_cases_per_1_mill_pop','Administered_Dose1_Pop_Pct', 'Administered_Dose1_Recip_12PlusPop_Pct',\n",
        "       'Administered_Dose1_Recip_18PlusPop_Pct',\n",
        "       'Administered_Dose1_Recip_65PlusPop_Pct', \n",
        "       'Series_Complete_12PlusPop_Pct', 'Series_Complete_18PlusPop_Pct',\n",
        "       'Series_Complete_65PlusPop_Pct', 'Additional_Doses_Vax_Pct',\n",
        "       'Additional_Doses_18Plus_Vax_Pct', 'Additional_Doses_50Plus_Vax_Pct',\n",
        "       'Additional_Doses_65Plus_Vax_Pct','female','state',\n",
        "       'childcare_issue', 'financial_stress', 'market_challenges',\n",
        "       'markets_challenges','operational_challenges','new_case', 'new_death','overall_sentiment']\n",
        "\n",
        "\n",
        "df_to_model = df.drop(columns=col_to_drop)  \n",
        "df_no_peak = df_no_peak.drop(columns=col_to_drop)  \n",
        "df_peak = df_peak.drop(columns=col_to_drop) \n",
        "df_peak['new_cases_per_1_mill_pop'] = df_no_peak['new_cases_per_1_mill_pop'].mean()\n",
        "df_to_model['Series_Complete_Pop_Pct'] = df_to_model['Series_Complete_Pop_Pct'].fillna(0)"
      ],
      "execution_count": 4,
      "outputs": []
    },
    {
      "cell_type": "code",
      "metadata": {
        "colab": {
          "base_uri": "https://localhost:8080/",
          "height": 195
        },
        "id": "OP7mgamRBxUi",
        "outputId": "7763806f-7038-450e-e30f-aa33996c71e9"
      },
      "source": [
        "df_to_model.head(2)"
      ],
      "execution_count": 5,
      "outputs": [
        {
          "output_type": "execute_result",
          "data": {
            "text/html": [
              "<div>\n",
              "<style scoped>\n",
              "    .dataframe tbody tr th:only-of-type {\n",
              "        vertical-align: middle;\n",
              "    }\n",
              "\n",
              "    .dataframe tbody tr th {\n",
              "        vertical-align: top;\n",
              "    }\n",
              "\n",
              "    .dataframe thead th {\n",
              "        text-align: right;\n",
              "    }\n",
              "</style>\n",
              "<table border=\"1\" class=\"dataframe\">\n",
              "  <thead>\n",
              "    <tr style=\"text-align: right;\">\n",
              "      <th></th>\n",
              "      <th>age_18_24</th>\n",
              "      <th>age_25_39</th>\n",
              "      <th>age_40</th>\n",
              "      <th>age_50</th>\n",
              "      <th>age_60</th>\n",
              "      <th>age_70_up</th>\n",
              "      <th>child</th>\n",
              "      <th>education_bachelor</th>\n",
              "      <th>education_hs</th>\n",
              "      <th>education_less_hs</th>\n",
              "      <th>education_associate</th>\n",
              "      <th>income_100K</th>\n",
              "      <th>income_150K</th>\n",
              "      <th>income_200K</th>\n",
              "      <th>income_25K</th>\n",
              "      <th>income_35K</th>\n",
              "      <th>income_50K</th>\n",
              "      <th>income_75K</th>\n",
              "      <th>income_less_25K</th>\n",
              "      <th>race_other</th>\n",
              "      <th>race_asian</th>\n",
              "      <th>race_black</th>\n",
              "      <th>race_white</th>\n",
              "      <th>food_scarcity</th>\n",
              "      <th>housing_insecurity</th>\n",
              "      <th>male</th>\n",
              "      <th>hispanic_origin</th>\n",
              "      <th>expected_recovery</th>\n",
              "      <th>unemployment_rate</th>\n",
              "      <th>new_cases_per_1_mill_pop</th>\n",
              "      <th>new_deaths_per_1_mill_pop</th>\n",
              "      <th>fatality_rate</th>\n",
              "      <th>Series_Complete_Pop_Pct</th>\n",
              "    </tr>\n",
              "    <tr>\n",
              "      <th>Date</th>\n",
              "      <th></th>\n",
              "      <th></th>\n",
              "      <th></th>\n",
              "      <th></th>\n",
              "      <th></th>\n",
              "      <th></th>\n",
              "      <th></th>\n",
              "      <th></th>\n",
              "      <th></th>\n",
              "      <th></th>\n",
              "      <th></th>\n",
              "      <th></th>\n",
              "      <th></th>\n",
              "      <th></th>\n",
              "      <th></th>\n",
              "      <th></th>\n",
              "      <th></th>\n",
              "      <th></th>\n",
              "      <th></th>\n",
              "      <th></th>\n",
              "      <th></th>\n",
              "      <th></th>\n",
              "      <th></th>\n",
              "      <th></th>\n",
              "      <th></th>\n",
              "      <th></th>\n",
              "      <th></th>\n",
              "      <th></th>\n",
              "      <th></th>\n",
              "      <th></th>\n",
              "      <th></th>\n",
              "      <th></th>\n",
              "      <th></th>\n",
              "    </tr>\n",
              "  </thead>\n",
              "  <tbody>\n",
              "    <tr>\n",
              "      <th>2020-04-30</th>\n",
              "      <td>9.7022</td>\n",
              "      <td>34.3529</td>\n",
              "      <td>14.8741</td>\n",
              "      <td>16.0768</td>\n",
              "      <td>15.0907</td>\n",
              "      <td>9.9033</td>\n",
              "      <td>0.0000</td>\n",
              "      <td>27.5564</td>\n",
              "      <td>36.0829</td>\n",
              "      <td>1.2940</td>\n",
              "      <td>35.0667</td>\n",
              "      <td>15.1546</td>\n",
              "      <td>5.9602</td>\n",
              "      <td>6.5873</td>\n",
              "      <td>9.6292</td>\n",
              "      <td>9.7133</td>\n",
              "      <td>17.4755</td>\n",
              "      <td>14.2922</td>\n",
              "      <td>8.2719</td>\n",
              "      <td>22.1747</td>\n",
              "      <td>6.9447</td>\n",
              "      <td>2.8202</td>\n",
              "      <td>68.0603</td>\n",
              "      <td>7.4137</td>\n",
              "      <td>1.9379</td>\n",
              "      <td>51.1094</td>\n",
              "      <td>6.4097</td>\n",
              "      <td>-0.5900</td>\n",
              "      <td>12.4000</td>\n",
              "      <td>310.4664</td>\n",
              "      <td>4.1031</td>\n",
              "      <td>3.0277</td>\n",
              "      <td>0.0000</td>\n",
              "    </tr>\n",
              "    <tr>\n",
              "      <th>2020-05-31</th>\n",
              "      <td>9.7347</td>\n",
              "      <td>32.9765</td>\n",
              "      <td>15.5323</td>\n",
              "      <td>16.5215</td>\n",
              "      <td>14.8570</td>\n",
              "      <td>9.7349</td>\n",
              "      <td>0.6431</td>\n",
              "      <td>27.5405</td>\n",
              "      <td>36.2782</td>\n",
              "      <td>1.1069</td>\n",
              "      <td>35.0744</td>\n",
              "      <td>13.8033</td>\n",
              "      <td>7.9779</td>\n",
              "      <td>5.6725</td>\n",
              "      <td>7.4605</td>\n",
              "      <td>8.4605</td>\n",
              "      <td>17.6799</td>\n",
              "      <td>12.3827</td>\n",
              "      <td>13.4845</td>\n",
              "      <td>24.0058</td>\n",
              "      <td>5.1436</td>\n",
              "      <td>2.1758</td>\n",
              "      <td>68.6748</td>\n",
              "      <td>6.9246</td>\n",
              "      <td>2.5193</td>\n",
              "      <td>51.1094</td>\n",
              "      <td>6.2471</td>\n",
              "      <td>-0.5940</td>\n",
              "      <td>12.0000</td>\n",
              "      <td>147.7109</td>\n",
              "      <td>5.4708</td>\n",
              "      <td>2.6981</td>\n",
              "      <td>0.0000</td>\n",
              "    </tr>\n",
              "  </tbody>\n",
              "</table>\n",
              "</div>"
            ],
            "text/plain": [
              "            age_18_24  age_25_39  ...  fatality_rate  Series_Complete_Pop_Pct\n",
              "Date                              ...                                        \n",
              "2020-04-30     9.7022    34.3529  ...         3.0277                   0.0000\n",
              "2020-05-31     9.7347    32.9765  ...         2.6981                   0.0000\n",
              "\n",
              "[2 rows x 33 columns]"
            ]
          },
          "metadata": {},
          "execution_count": 5
        }
      ]
    },
    {
      "cell_type": "code",
      "metadata": {
        "id": "431y4jFAEKKk"
      },
      "source": [
        "X = df_to_model.drop(columns='expected_recovery')\n",
        "y = df_to_model.loc[:,'expected_recovery']\n",
        "\n",
        "scaler = MinMaxScaler()\n",
        "X_transformed = scaler.fit_transform(X)"
      ],
      "execution_count": 6,
      "outputs": []
    },
    {
      "cell_type": "markdown",
      "metadata": {
        "id": "YJyjl_MNNEm1"
      },
      "source": [
        "# Sklearn"
      ]
    },
    {
      "cell_type": "code",
      "metadata": {
        "id": "c_Mr-HcCECdp"
      },
      "source": [
        "model = Ridge()\n",
        "model.fit(X_transformed, y)\n",
        "coef = pd.DataFrame(zip(X.columns,model.coef_ ), columns = ['Features', 'Coef'])\n",
        "\n",
        "# Coef didn't have any p-value"
      ],
      "execution_count": 7,
      "outputs": []
    },
    {
      "cell_type": "markdown",
      "metadata": {
        "id": "2ZiPtbcuNG00"
      },
      "source": [
        "#Statmodel"
      ]
    },
    {
      "cell_type": "code",
      "metadata": {
        "colab": {
          "base_uri": "https://localhost:8080/"
        },
        "id": "Crz3JdlqE7wg",
        "outputId": "9dff77ff-cc06-4870-ddbe-c7b8b2c6339c"
      },
      "source": [
        "X_transformed_sm = pd.DataFrame(X_transformed, columns= X.columns)\n",
        "X_transformed_sm.set_index(y.index, inplace=True)\n",
        "\n",
        "X_transformed_sm = sm.add_constant(X_transformed_sm)\n",
        "model = sm.OLS(y, X_transformed_sm)\n",
        "results = model.fit()\n",
        "print(results.summary())"
      ],
      "execution_count": 8,
      "outputs": [
        {
          "output_type": "stream",
          "name": "stdout",
          "text": [
            "                            OLS Regression Results                            \n",
            "==============================================================================\n",
            "Dep. Variable:      expected_recovery   R-squared:                       0.794\n",
            "Model:                            OLS   Adj. R-squared:                  0.785\n",
            "Method:                 Least Squares   F-statistic:                     92.16\n",
            "Date:                Sun, 24 Oct 2021   Prob (F-statistic):          2.87e-238\n",
            "Time:                        22:42:51   Log-Likelihood:                 1628.7\n",
            "No. Observations:                 800   AIC:                            -3191.\n",
            "Df Residuals:                     767   BIC:                            -3037.\n",
            "Df Model:                          32                                         \n",
            "Covariance Type:            nonrobust                                         \n",
            "=============================================================================================\n",
            "                                coef    std err          t      P>|t|      [0.025      0.975]\n",
            "---------------------------------------------------------------------------------------------\n",
            "const                     -3.294e+06   2.57e+07     -0.128      0.898   -5.38e+07    4.72e+07\n",
            "age_18_24                  2.137e+06   2.54e+06      0.843      0.400   -2.84e+06    7.11e+06\n",
            "age_25_39                  2.555e+06   3.03e+06      0.843      0.400    -3.4e+06    8.51e+06\n",
            "age_40                     1.973e+06   2.34e+06      0.843      0.400   -2.62e+06    6.57e+06\n",
            "age_50                     1.562e+06   1.85e+06      0.843      0.400   -2.08e+06     5.2e+06\n",
            "age_60                     2.013e+06   2.39e+06      0.843      0.400   -2.68e+06     6.7e+06\n",
            "age_70_up                  1.587e+06   1.88e+06      0.843      0.400   -2.11e+06    5.28e+06\n",
            "child                      5.449e+05   6.47e+05      0.843      0.400   -7.25e+05    1.81e+06\n",
            "education_bachelor         2.101e+04    5.1e+06      0.004      0.997   -9.99e+06       1e+07\n",
            "education_hs               2.763e+04   6.71e+06      0.004      0.997   -1.31e+07    1.32e+07\n",
            "education_less_hs          6485.9347   1.57e+06      0.004      0.997   -3.08e+06     3.1e+06\n",
            "education_associate        2.212e+04   5.37e+06      0.004      0.997   -1.05e+07    1.06e+07\n",
            "income_100K                  -0.0306      0.013     -2.329      0.020      -0.056      -0.005\n",
            "income_150K                  -0.0500      0.013     -3.958      0.000      -0.075      -0.025\n",
            "income_200K                  -0.0246      0.015     -1.693      0.091      -0.053       0.004\n",
            "income_25K                   -0.0043      0.011     -0.394      0.694      -0.026       0.017\n",
            "income_35K                   -0.0084      0.011     -0.794      0.427      -0.029       0.012\n",
            "income_50K                    0.0186      0.012      1.597      0.111      -0.004       0.041\n",
            "income_75K                   -0.0315      0.011     -2.757      0.006      -0.054      -0.009\n",
            "income_less_25K              -0.0308      0.016     -1.915      0.056      -0.062       0.001\n",
            "race_other                -1.196e+06   1.24e+07     -0.097      0.923   -2.55e+07    2.31e+07\n",
            "race_asian                -1.285e+06   1.33e+07     -0.097      0.923   -2.74e+07    2.49e+07\n",
            "race_black                 -1.08e+06   1.12e+07     -0.097      0.923   -2.31e+07    2.09e+07\n",
            "race_white                -2.218e+06    2.3e+07     -0.097      0.923   -4.73e+07    4.29e+07\n",
            "food_scarcity                 0.0205      0.015      1.323      0.186      -0.010       0.051\n",
            "housing_insecurity           -0.0274      0.011     -2.545      0.011      -0.049      -0.006\n",
            "male                          0.0481      0.014      3.547      0.000       0.021       0.075\n",
            "hispanic_origin              -0.0251      0.008     -3.181      0.002      -0.041      -0.010\n",
            "unemployment_rate            -0.1268      0.018     -7.084      0.000      -0.162      -0.092\n",
            "new_cases_per_1_mill_pop     -0.0614      0.012     -4.956      0.000      -0.086      -0.037\n",
            "new_deaths_per_1_mill_pop     0.0248      0.013      1.915      0.056      -0.001       0.050\n",
            "fatality_rate                -0.0229      0.012     -1.993      0.047      -0.046      -0.000\n",
            "Series_Complete_Pop_Pct       0.1197      0.006     20.890      0.000       0.108       0.131\n",
            "==============================================================================\n",
            "Omnibus:                       13.399   Durbin-Watson:                   1.328\n",
            "Prob(Omnibus):                  0.001   Jarque-Bera (JB):               15.185\n",
            "Skew:                           0.242   Prob(JB):                     0.000504\n",
            "Kurtosis:                       3.470   Cond. No.                     8.05e+10\n",
            "==============================================================================\n",
            "\n",
            "Warnings:\n",
            "[1] Standard Errors assume that the covariance matrix of the errors is correctly specified.\n",
            "[2] The smallest eigenvalue is 6.58e-19. This might indicate that there are\n",
            "strong multicollinearity problems or that the design matrix is singular.\n"
          ]
        }
      ]
    },
    {
      "cell_type": "code",
      "metadata": {
        "id": "LjVedHxjJih7"
      },
      "source": [
        "# X_transformed_sm = sm.add_constant(X_transformed_sm)\n",
        "# model = sm.OLS(y, X_transformed_sm)\n",
        "# results_reg = model.fit_regularized(method='sqrt_lasso', alpha=0.2, L1_wt=0.0)\n",
        "# print(results_reg.summary())"
      ],
      "execution_count": 9,
      "outputs": []
    },
    {
      "cell_type": "markdown",
      "metadata": {
        "id": "fnvlBpMCNRex"
      },
      "source": [
        "# Withheld peak cases data period\n"
      ]
    },
    {
      "cell_type": "code",
      "metadata": {
        "colab": {
          "base_uri": "https://localhost:8080/"
        },
        "id": "GpQrXbh0n_lP",
        "outputId": "97825acd-54c7-45b6-de65-9a3ca1321698"
      },
      "source": [
        "df_no_peak.index.unique()"
      ],
      "execution_count": 10,
      "outputs": [
        {
          "output_type": "execute_result",
          "data": {
            "text/plain": [
              "Index(['2020-04-30', '2020-05-31', '2020-06-30', '2020-08-31', '2020-09-30',\n",
              "       '2021-03-31', '2021-04-30', '2021-05-31', '2021-06-30', '2021-07-31',\n",
              "       '2021-08-31'],\n",
              "      dtype='object', name='Date')"
            ]
          },
          "metadata": {},
          "execution_count": 10
        }
      ]
    },
    {
      "cell_type": "code",
      "metadata": {
        "id": "LOy5mO8uNWCi"
      },
      "source": [
        "df_to_model = df_no_peak.drop(columns= ['Series_Complete_Pop_Pct','new_deaths_per_1_mill_pop','fatality_rate'])\n",
        "\n",
        "X_no_peak = df_to_model.drop(columns='expected_recovery')\n",
        "y_no_peak = df_to_model.loc[:,'expected_recovery']\n",
        "\n",
        "scaler = MinMaxScaler()\n",
        "X_transformed_no_peak = scaler.fit_transform(X_no_peak)"
      ],
      "execution_count": 11,
      "outputs": []
    },
    {
      "cell_type": "code",
      "metadata": {
        "colab": {
          "base_uri": "https://localhost:8080/"
        },
        "id": "LRVLouFhNcpS",
        "outputId": "1f1df30b-0c0c-401c-d171-eaf12abef585"
      },
      "source": [
        "X_transformed_no_peak_sm = pd.DataFrame(X_transformed_no_peak, columns= X_no_peak.columns)\n",
        "X_transformed_no_peak_sm.set_index(y_no_peak.index, inplace=True)\n",
        "\n",
        "X_transformed_no_peak_sm = sm.add_constant(X_transformed_no_peak_sm)\n",
        "model_no_peak = sm.OLS(y_no_peak, X_transformed_no_peak_sm)\n",
        "results_peak = model_no_peak.fit()\n",
        "print(results_peak.summary())"
      ],
      "execution_count": 12,
      "outputs": [
        {
          "output_type": "stream",
          "name": "stdout",
          "text": [
            "                            OLS Regression Results                            \n",
            "==============================================================================\n",
            "Dep. Variable:      expected_recovery   R-squared:                       0.704\n",
            "Model:                            OLS   Adj. R-squared:                  0.687\n",
            "Method:                 Least Squares   F-statistic:                     42.58\n",
            "Date:                Sun, 24 Oct 2021   Prob (F-statistic):          1.03e-117\n",
            "Time:                        22:42:53   Log-Likelihood:                 976.48\n",
            "No. Observations:                 550   AIC:                            -1893.\n",
            "Df Residuals:                     520   BIC:                            -1764.\n",
            "Df Model:                          29                                         \n",
            "Covariance Type:            nonrobust                                         \n",
            "============================================================================================\n",
            "                               coef    std err          t      P>|t|      [0.025      0.975]\n",
            "--------------------------------------------------------------------------------------------\n",
            "const                     4.511e+07   4.04e+07      1.117      0.264   -3.42e+07    1.24e+08\n",
            "age_18_24                 1.814e+06   3.58e+06      0.506      0.613   -5.22e+06    8.85e+06\n",
            "age_25_39                 2.439e+06   4.82e+06      0.506      0.613   -7.02e+06    1.19e+07\n",
            "age_40                    1.883e+06   3.72e+06      0.506      0.613   -5.42e+06    9.19e+06\n",
            "age_50                    1.491e+06   2.95e+06      0.506      0.613    -4.3e+06    7.28e+06\n",
            "age_60                    1.728e+06   3.41e+06      0.506      0.613   -4.98e+06    8.43e+06\n",
            "age_70_up                  1.44e+06   2.84e+06      0.506      0.613   -4.15e+06    7.03e+06\n",
            "child                     5.155e+05   1.02e+06      0.506      0.613   -1.48e+06    2.52e+06\n",
            "education_bachelor        2.205e+06   8.18e+06      0.269      0.788   -1.39e+07    1.83e+07\n",
            "education_hs                2.9e+06   1.08e+07      0.269      0.788   -1.82e+07     2.4e+07\n",
            "education_less_hs         6.808e+05   2.53e+06      0.269      0.788   -4.28e+06    5.64e+06\n",
            "education_associate       2.322e+06   8.62e+06      0.269      0.788   -1.46e+07    1.92e+07\n",
            "income_100K                 -0.0356      0.020     -1.755      0.080      -0.076       0.004\n",
            "income_150K                 -0.0612      0.020     -3.099      0.002      -0.100      -0.022\n",
            "income_200K                 -0.0440      0.021     -2.092      0.037      -0.085      -0.003\n",
            "income_25K                   0.0033      0.017      0.191      0.849      -0.031       0.038\n",
            "income_35K                  -0.0513      0.016     -3.214      0.001      -0.083      -0.020\n",
            "income_50K                  -0.0499      0.017     -2.923      0.004      -0.083      -0.016\n",
            "income_75K                  -0.0768      0.018     -4.292      0.000      -0.112      -0.042\n",
            "income_less_25K             -0.0022      0.024     -0.091      0.927      -0.049       0.045\n",
            "race_other               -2.846e+07   1.94e+07     -1.464      0.144   -6.66e+07    9.73e+06\n",
            "race_asian               -3.053e+07   2.09e+07     -1.464      0.144   -7.15e+07    1.04e+07\n",
            "race_black               -2.571e+07   1.76e+07     -1.464      0.144   -6.02e+07    8.78e+06\n",
            "race_white               -5.279e+07   3.61e+07     -1.464      0.144   -1.24e+08     1.8e+07\n",
            "food_scarcity               -0.0298      0.022     -1.328      0.185      -0.074       0.014\n",
            "housing_insecurity          -0.0506      0.017     -2.933      0.004      -0.085      -0.017\n",
            "male                         0.0807      0.021      3.804      0.000       0.039       0.122\n",
            "hispanic_origin             -0.0244      0.012     -1.953      0.051      -0.049       0.000\n",
            "unemployment_rate           -0.2176      0.023     -9.458      0.000      -0.263      -0.172\n",
            "new_cases_per_1_mill_pop    -0.0262      0.015     -1.794      0.073      -0.055       0.003\n",
            "==============================================================================\n",
            "Omnibus:                       27.518   Durbin-Watson:                   1.107\n",
            "Prob(Omnibus):                  0.000   Jarque-Bera (JB):               30.671\n",
            "Skew:                           0.530   Prob(JB):                     2.19e-07\n",
            "Kurtosis:                       3.465   Cond. No.                     8.03e+10\n",
            "==============================================================================\n",
            "\n",
            "Warnings:\n",
            "[1] Standard Errors assume that the covariance matrix of the errors is correctly specified.\n",
            "[2] The smallest eigenvalue is 4.56e-19. This might indicate that there are\n",
            "strong multicollinearity problems or that the design matrix is singular.\n"
          ]
        }
      ]
    },
    {
      "cell_type": "code",
      "metadata": {
        "id": "LW-Djt5gjLjl"
      },
      "source": [
        "pred_X_train =  results_peak.predict(X_transformed_no_peak_sm)"
      ],
      "execution_count": 13,
      "outputs": []
    },
    {
      "cell_type": "code",
      "metadata": {
        "colab": {
          "base_uri": "https://localhost:8080/"
        },
        "id": "cdFVu2E0lbnX",
        "outputId": "c69e4e70-440d-4268-a570-8730a9631a09"
      },
      "source": [
        "pred_X_train"
      ],
      "execution_count": 14,
      "outputs": [
        {
          "output_type": "execute_result",
          "data": {
            "text/plain": [
              "Date\n",
              "2020-04-30   -0.5856\n",
              "2020-05-31   -0.5745\n",
              "2020-06-30   -0.5874\n",
              "2020-08-31   -0.5320\n",
              "2020-09-30   -0.5330\n",
              "               ...  \n",
              "2021-04-30   -0.3918\n",
              "2021-05-31   -0.3997\n",
              "2021-06-30   -0.3877\n",
              "2021-07-31   -0.3528\n",
              "2021-08-31   -0.4217\n",
              "Length: 550, dtype: float64"
            ]
          },
          "metadata": {},
          "execution_count": 14
        }
      ]
    },
    {
      "cell_type": "code",
      "metadata": {
        "id": "PkRSEsaghjwi"
      },
      "source": [
        "X_test = df_peak.drop(columns='expected_recovery').drop(columns= ['Series_Complete_Pop_Pct','new_deaths_per_1_mill_pop','fatality_rate'])\n",
        "y_test = df_peak.loc[:,'expected_recovery']\n",
        "\n",
        "X_test_transformed = scaler.fit_transform(X_test)\n",
        "X_test_transformed_sm = pd.DataFrame(X_test_transformed, columns= X_test.columns,index=y_test.index)\n",
        "\n",
        "\n",
        "X_test_transformed_sm = sm.add_constant(X_test_transformed_sm)\n",
        "y_test_pred = results_peak.predict(X_test_transformed_sm)"
      ],
      "execution_count": 15,
      "outputs": []
    },
    {
      "cell_type": "code",
      "metadata": {
        "colab": {
          "base_uri": "https://localhost:8080/"
        },
        "id": "JMVEVjAZlh-E",
        "outputId": "9b7779dd-0ad4-4c4c-b512-319b26e5b3a7"
      },
      "source": [
        "y_test_pred.describe()"
      ],
      "execution_count": 16,
      "outputs": [
        {
          "output_type": "execute_result",
          "data": {
            "text/plain": [
              "count        250.0000\n",
              "mean    -1162029.7405\n",
              "std       347863.9382\n",
              "min     -2452831.3902\n",
              "25%     -1391981.2181\n",
              "50%     -1070653.6705\n",
              "75%      -940322.9541\n",
              "max      -511503.1918\n",
              "dtype: float64"
            ]
          },
          "metadata": {},
          "execution_count": 16
        }
      ]
    },
    {
      "cell_type": "code",
      "metadata": {
        "id": "bB80EXtYkPo_"
      },
      "source": [
        "X_test_transformed_sm['predicted_eri'] = y_test_pred\n",
        "predicted_eri = pd.DataFrame(y_test_pred, columns=['predicted_eri'], index=y_test.index)"
      ],
      "execution_count": 17,
      "outputs": []
    },
    {
      "cell_type": "code",
      "metadata": {
        "colab": {
          "base_uri": "https://localhost:8080/",
          "height": 294
        },
        "id": "6Pz3PZ9ikbvn",
        "outputId": "55210809-63d4-4100-b4c5-399d057cd9c5"
      },
      "source": [
        "title = 'Expected recovery index & New Cases Per Million Population: '\n",
        "fig,ax = plt.subplots(figsize =(10,4))\n",
        "ax.plot(df.groupby(df.index)['expected_recovery'].mean(), color=\"red\", marker=\"o\")\n",
        "ax.plot(predicted_eri.groupby(predicted_eri.index)['predicted_eri'].mean(), color=\"green\", marker=\"o\")\n",
        "ax.set_xlabel(\"Date\",fontsize=14)\n",
        "# ax.set_ylim([-0.8,-0.22])\n",
        "ax.set_ylabel('Expected recovery index',color=\"red\",fontsize=12)\n",
        "\n",
        "# fmt_month = mdates.MonthLocator()\n",
        "# ax.xaxis.set_minor_locator(fmt_month)\n",
        "# ax.xaxis.set_major_formatter(mdates.DateFormatter('%Y-%m'))\n",
        "\n",
        "# ax2=ax.twinx()\n",
        "# ax2.plot(df.groupby(df.index)['new_cases_per_1_mill_pop'].mean(), color=\"blue\", marker=\"o\")\n",
        "# ax2.set_ylabel('New Cases Per Million Population',color=\"blue\",fontsize=12)\n",
        "# # ax2.set_ylim([20,46000])\n",
        "# plt.title(title + 'National level', fontsize=16)\n",
        "# rect =ax.axvspan('2021-06-30', '2021-08-31', alpha=0.5)\n",
        "# ax.legend([rect], ['COVID-19 \\nDelta Variant Wave'], loc=2)\n",
        "# fig.autofmt_xdate()\n",
        "plt.show()"
      ],
      "execution_count": 18,
      "outputs": [
        {
          "output_type": "display_data",
          "data": {
            "image/png": "[encoded data removed]",
            "text/plain": [
              "<Figure size 720x288 with 1 Axes>"
            ]
          },
          "metadata": {
            "needs_background": "light"
          }
        }
      ]
    },
    {
      "cell_type": "markdown",
      "metadata": {
        "id": "0IECJqvhs108"
      },
      "source": [
        "## without minmax scaler"
      ]
    },
    {
      "cell_type": "code",
      "metadata": {
        "colab": {
          "base_uri": "https://localhost:8080/"
        },
        "id": "zZ0lsO78nC7I",
        "outputId": "05b740d0-6ef8-4198-c51f-1223d8e99ed4"
      },
      "source": [
        "df_to_model = df_no_peak.drop(columns=['Series_Complete_Pop_Pct','new_deaths_per_1_mill_pop','fatality_rate'])\n",
        "X_no_peak = df_to_model.drop(columns='expected_recovery')\n",
        "y_no_peak = df_to_model.loc[:,'expected_recovery']\n",
        "\n",
        "# X_no_peak = sm.add_constant(X_no_peak)\n",
        "model_no_peak = sm.OLS(y_no_peak, X_no_peak)\n",
        "results_no_peak = model_no_peak.fit()\n",
        "print(results_no_peak.summary())"
      ],
      "execution_count": 19,
      "outputs": [
        {
          "output_type": "stream",
          "name": "stdout",
          "text": [
            "                            OLS Regression Results                            \n",
            "==============================================================================\n",
            "Dep. Variable:      expected_recovery   R-squared:                       0.703\n",
            "Model:                            OLS   Adj. R-squared:                  0.687\n",
            "Method:                 Least Squares   F-statistic:                     44.12\n",
            "Date:                Sun, 24 Oct 2021   Prob (F-statistic):          1.95e-118\n",
            "Time:                        22:43:00   Log-Likelihood:                 976.21\n",
            "No. Observations:                 550   AIC:                            -1894.\n",
            "Df Residuals:                     521   BIC:                            -1769.\n",
            "Df Model:                          28                                         \n",
            "Covariance Type:            nonrobust                                         \n",
            "============================================================================================\n",
            "                               coef    std err          t      P>|t|      [0.025      0.975]\n",
            "--------------------------------------------------------------------------------------------\n",
            "age_18_24                 2.386e+05   2.62e+05      0.911      0.363   -2.76e+05    7.53e+05\n",
            "age_25_39                 2.386e+05   2.62e+05      0.911      0.363   -2.76e+05    7.53e+05\n",
            "age_40                    2.386e+05   2.62e+05      0.911      0.363   -2.76e+05    7.53e+05\n",
            "age_50                    2.386e+05   2.62e+05      0.911      0.363   -2.76e+05    7.53e+05\n",
            "age_60                    2.386e+05   2.62e+05      0.911      0.363   -2.76e+05    7.53e+05\n",
            "age_70_up                 2.386e+05   2.62e+05      0.911      0.363   -2.76e+05    7.53e+05\n",
            "child                     2.386e+05   2.62e+05      0.911      0.363   -2.76e+05    7.53e+05\n",
            "education_bachelor        2.351e+05   3.05e+05      0.771      0.441   -3.64e+05    8.34e+05\n",
            "education_hs              2.351e+05   3.05e+05      0.771      0.441   -3.64e+05    8.34e+05\n",
            "education_less_hs         2.351e+05   3.05e+05      0.771      0.441   -3.64e+05    8.34e+05\n",
            "education_associate       2.351e+05   3.05e+05      0.771      0.441   -3.64e+05    8.34e+05\n",
            "income_100K                 -0.0026      0.002     -1.708      0.088      -0.006       0.000\n",
            "income_150K                 -0.0075      0.002     -3.113      0.002      -0.012      -0.003\n",
            "income_200K                 -0.0045      0.002     -2.069      0.039      -0.009      -0.000\n",
            "income_25K                   0.0003      0.001      0.212      0.832      -0.003       0.003\n",
            "income_35K                  -0.0043      0.001     -3.205      0.001      -0.007      -0.002\n",
            "income_50K                  -0.0035      0.001     -2.978      0.003      -0.006      -0.001\n",
            "income_75K                  -0.0066      0.002     -4.303      0.000      -0.010      -0.004\n",
            "income_less_25K             -0.0001      0.001     -0.134      0.894      -0.002       0.002\n",
            "race_other               -4.737e+05   3.37e+05     -1.406      0.160   -1.14e+06    1.88e+05\n",
            "race_asian               -4.737e+05   3.37e+05     -1.406      0.160   -1.14e+06    1.88e+05\n",
            "race_black               -4.737e+05   3.37e+05     -1.406      0.160   -1.14e+06    1.88e+05\n",
            "race_white               -4.737e+05   3.37e+05     -1.406      0.160   -1.14e+06    1.88e+05\n",
            "food_scarcity               -0.0018      0.001     -1.322      0.187      -0.005       0.001\n",
            "housing_insecurity          -0.0089      0.003     -2.935      0.003      -0.015      -0.003\n",
            "male                         0.0191      0.005      3.815      0.000       0.009       0.029\n",
            "hispanic_origin             -0.0005      0.000     -1.925      0.055      -0.001    1.09e-05\n",
            "unemployment_rate           -0.0078      0.001     -9.483      0.000      -0.009      -0.006\n",
            "new_cases_per_1_mill_pop -8.184e-07   4.67e-07     -1.753      0.080   -1.74e-06    9.87e-08\n",
            "==============================================================================\n",
            "Omnibus:                       27.132   Durbin-Watson:                   1.109\n",
            "Prob(Omnibus):                  0.000   Jarque-Bera (JB):               30.167\n",
            "Skew:                           0.526   Prob(JB):                     2.81e-07\n",
            "Kurtosis:                       3.458   Cond. No.                     2.84e+12\n",
            "==============================================================================\n",
            "\n",
            "Warnings:\n",
            "[1] Standard Errors assume that the covariance matrix of the errors is correctly specified.\n",
            "[2] The smallest eigenvalue is 2.38e-15. This might indicate that there are\n",
            "strong multicollinearity problems or that the design matrix is singular.\n"
          ]
        }
      ]
    },
    {
      "cell_type": "code",
      "metadata": {
        "id": "li5KFWGGvb6X"
      },
      "source": [
        "X_no_peak_pred = results_no_peak.predict(X_no_peak)"
      ],
      "execution_count": 20,
      "outputs": []
    },
    {
      "cell_type": "code",
      "metadata": {
        "colab": {
          "base_uri": "https://localhost:8080/"
        },
        "id": "9jd6LC9Bz-Z8",
        "outputId": "62d9d343-c09e-45d3-bf2b-cd1cf14608a2"
      },
      "source": [
        "X_no_peak_pred[:5]"
      ],
      "execution_count": 21,
      "outputs": [
        {
          "output_type": "execute_result",
          "data": {
            "text/plain": [
              "Date\n",
              "2020-04-30   -0.5851\n",
              "2020-05-31   -0.5749\n",
              "2020-06-30   -0.5880\n",
              "2020-08-31   -0.5324\n",
              "2020-09-30   -0.5313\n",
              "dtype: float64"
            ]
          },
          "metadata": {},
          "execution_count": 21
        }
      ]
    },
    {
      "cell_type": "code",
      "metadata": {
        "id": "gudDVpb8s0-i"
      },
      "source": [
        "df_to_test = df_peak.drop(columns=['Series_Complete_Pop_Pct','new_deaths_per_1_mill_pop','fatality_rate'])\n",
        "X_test = df_to_test.drop(columns='expected_recovery')\n",
        "y_test = df_to_test.loc[:,'expected_recovery']\n",
        "# X_test = sm.add_constant(X_test)\n",
        "y_test_pred = results_no_peak.predict(X_test)"
      ],
      "execution_count": 22,
      "outputs": []
    },
    {
      "cell_type": "code",
      "metadata": {
        "colab": {
          "base_uri": "https://localhost:8080/"
        },
        "id": "gTdPefdZtifB",
        "outputId": "63d40024-0a2b-4361-b1f4-a940f610669d"
      },
      "source": [
        "y_test_pred"
      ],
      "execution_count": 23,
      "outputs": [
        {
          "output_type": "execute_result",
          "data": {
            "text/plain": [
              "Date\n",
              "2020-10-31   -0.5622\n",
              "2020-11-30   -0.5531\n",
              "2020-12-31   -0.5498\n",
              "2021-01-31   -0.5282\n",
              "2021-02-28   -0.5322\n",
              "               ...  \n",
              "2020-10-31   -0.4741\n",
              "2020-11-30   -0.4644\n",
              "2020-12-31   -0.4866\n",
              "2021-01-31   -0.4538\n",
              "2021-02-28   -0.4250\n",
              "Length: 250, dtype: float64"
            ]
          },
          "metadata": {},
          "execution_count": 23
        }
      ]
    },
    {
      "cell_type": "code",
      "metadata": {
        "id": "-VxFiDOiymLn"
      },
      "source": [
        "predicted_eri = pd.DataFrame(y_test_pred, columns=['predicted_eri'], index=y_test.index)\n",
        "predicted_eri.reset_index(inplace=True)"
      ],
      "execution_count": 24,
      "outputs": []
    },
    {
      "cell_type": "code",
      "metadata": {
        "id": "5vSOFdI56sTt"
      },
      "source": [
        "predicted_eri.loc[predicted_eri['Date']=='2020-10-31', 'predicted_eri'] = df[df.index=='2020-10-31']['expected_recovery'].values"
      ],
      "execution_count": 25,
      "outputs": []
    },
    {
      "cell_type": "code",
      "metadata": {
        "colab": {
          "base_uri": "https://localhost:8080/"
        },
        "id": "EVytfGOb5_Fg",
        "outputId": "98f74d35-b54f-4e9e-952c-21fdfedee461"
      },
      "source": [
        "predicted_eri.set_index('Date', inplace=True)\n",
        "predicted_eri.groupby(predicted_eri.index)['predicted_eri'].mean()"
      ],
      "execution_count": 26,
      "outputs": [
        {
          "output_type": "execute_result",
          "data": {
            "text/plain": [
              "Date\n",
              "2020-10-31   -0.5250\n",
              "2020-11-30   -0.5027\n",
              "2020-12-31   -0.5142\n",
              "2021-01-31   -0.4971\n",
              "2021-02-28   -0.4847\n",
              "Name: predicted_eri, dtype: float64"
            ]
          },
          "metadata": {},
          "execution_count": 26
        }
      ]
    },
    {
      "cell_type": "code",
      "metadata": {
        "colab": {
          "base_uri": "https://localhost:8080/",
          "height": 306
        },
        "id": "TI9ZQrOE0OrQ",
        "outputId": "79ab1974-6e1b-4a87-ab1f-2aa1bff28a3d"
      },
      "source": [
        "title = 'Expected recovery index (ERI) & New Cases Per Million Population: '\n",
        "fig,ax = plt.subplots(figsize =(10,4))\n",
        "p1, = ax.plot(df.groupby(df.index)['expected_recovery'].mean(), color=\"red\", marker=\"o\")\n",
        "p2, = ax.plot(predicted_eri.groupby(predicted_eri.index)['predicted_eri'].mean(), \n",
        "              color=\"deepskyblue\", marker=\"o\", linewidth=2, linestyle = '--',\n",
        "              label='Predicted ERI \\n(COVID cases peak withheld)')\n",
        "ax.set_xlabel(\"Date\",fontsize=14)\n",
        "\n",
        "ax.set_ylabel('Expected recovery index (ERI)',color=\"red\",fontsize=12)\n",
        "\n",
        "fmt_month = mdates.MonthLocator()\n",
        "ax.xaxis.set_minor_locator(fmt_month)\n",
        "ax.xaxis.set_major_formatter(mdates.DateFormatter('%Y-%m'))\n",
        "\n",
        "ax2=ax.twinx()\n",
        "p3, = ax2.plot(df.groupby(df.index)['new_cases_per_1_mill_pop'].mean(), color=\"black\", marker=\"o\", label = 'New cases per 1 million')\n",
        "ax2.set_ylabel('New Cases Per Million Population',color=\"black\",fontsize=12)\n",
        "\n",
        "plt.title(title + 'National level', fontsize=14)\n",
        "rect =ax.axvspan('2020-10-31', '2021-02-28', alpha=0.5, color = 'grey')\n",
        "rect2 =ax.axvspan('2021-06-30', '2021-08-31', alpha=0.5, color = 'grey')\n",
        "ax.annotate('   Second COVID-19 Wave', ('2020-10-31', -.6))\n",
        "ax.annotate('   Delta Wave', ('2021-06-30', -.6))\n",
        "\n",
        "handles, labels = ax.get_legend_handles_labels()\n",
        "\n",
        "# reverse the order\n",
        "ax.legend(handles[::-1], labels[::-1])\n",
        "\n",
        "# or sort them by labels\n",
        "\n",
        "hl = sorted(zip(handles, labels),\n",
        "            key=operator.itemgetter(1))\n",
        "handles2, labels2 = zip(*hl)\n",
        "\n",
        "ax.legend(handles2, labels2)\n",
        "fig.autofmt_xdate()\n",
        "plt.show()"
      ],
      "execution_count": 27,
      "outputs": [
        {
          "output_type": "display_data",
          "data": {
            "image/png": "[encoded data removed]",
            "text/plain": [
              "<Figure size 720x288 with 2 Axes>"
            ]
          },
          "metadata": {
            "needs_background": "light"
          }
        }
      ]
    },
    {
      "cell_type": "code",
      "metadata": {
        "colab": {
          "base_uri": "https://localhost:8080/",
          "height": 306
        },
        "id": "wy6IM3qL0PvL",
        "outputId": "73eef0b3-fbe0-4d48-e57a-049c39b09be9"
      },
      "source": [
        "title = 'Expected recovery index (ERI) & New Cases Per Million Population: '\n",
        "fig,ax = plt.subplots(figsize =(10,4))\n",
        "p1, = ax.plot(df.groupby(df.index)['expected_recovery'].mean(), color=\"red\", marker=\"o\")\n",
        "# p2, = ax.plot(predicted_eri.groupby(predicted_eri.index)['predicted_eri'].mean(), \n",
        "              # color=\"deepskyblue\", marker=\"o\", linewidth=2, linestyle = '--',\n",
        "              # label='Predicted ERI \\n(COVID cases peak withheld)')\n",
        "ax.set_xlabel(\"Date\",fontsize=14)\n",
        "\n",
        "ax.set_ylabel('Expected recovery index (ERI)',color=\"red\",fontsize=12)\n",
        "\n",
        "fmt_month = mdates.MonthLocator()\n",
        "ax.xaxis.set_minor_locator(fmt_month)\n",
        "ax.xaxis.set_major_formatter(mdates.DateFormatter('%Y-%m'))\n",
        "\n",
        "ax2=ax.twinx()\n",
        "p3, = ax2.plot(df.groupby(df.index)['new_cases_per_1_mill_pop'].mean(), color=\"black\", marker=\"o\", label = 'New cases per 1 million')\n",
        "ax2.set_ylabel('New Cases Per Million Population',color=\"black\",fontsize=12)\n",
        "\n",
        "plt.title(title + 'National level', fontsize=14)\n",
        "rect =ax.axvspan('2020-10-31', '2021-02-28', alpha=0.5, color = 'grey')\n",
        "rect2 =ax.axvspan('2021-06-30', '2021-08-31', alpha=0.5, color = 'grey')\n",
        "ax.annotate('   Second COVID-19 Wave', ('2020-10-31', -.6))\n",
        "ax.annotate('   Delta Wave', ('2021-06-30', -.6))\n",
        "\n",
        "# handles, labels = ax.get_legend_handles_labels()\n",
        "\n",
        "# reverse the order\n",
        "# ax.legend(handles[::-1], labels[::-1])\n",
        "\n",
        "# or sort them by labels\n",
        "\n",
        "# hl = sorted(zip(handles, labels),\n",
        "#             key=operator.itemgetter(1))\n",
        "# handles2, labels2 = zip(*hl)\n",
        "\n",
        "# ax.legend(handles2, labels2)\n",
        "fig.autofmt_xdate()\n",
        "plt.show()"
      ],
      "execution_count": 29,
      "outputs": [
        {
          "output_type": "display_data",
          "data": {
            "image/png": "[encoded data removed]",
            "text/plain": [
              "<Figure size 720x288 with 2 Axes>"
            ]
          },
          "metadata": {
            "needs_background": "light"
          }
        }
      ]
    }
  ]
}