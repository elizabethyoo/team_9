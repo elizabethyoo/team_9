{
  "nbformat": 4,
  "nbformat_minor": 0,
  "metadata": {
    "colab": {
      "name": "Complie_sbp.ipynb",
      "provenance": [],
      "collapsed_sections": [],
      "toc_visible": true,
      "authorship_tag": "ABX9TyObt6ZU6UqKaYEJGOlcr5nQ",
      "include_colab_link": true
    },
    "kernelspec": {
      "name": "python3",
      "display_name": "Python 3"
    },
    "language_info": {
      "name": "python"
    }
  },
  "cells": [
    {
      "cell_type": "markdown",
      "metadata": {
        "id": "view-in-github",
        "colab_type": "text"
      },
      "source": [
        "<a href=\"https://colab.research.google.com/github/elizabethyoo/team_9/blob/data%2FBFS_mf/Complie_sbp.ipynb\" target=\"_parent\"><img src=\"https://colab.research.google.com/assets/colab-badge.svg\" alt=\"Open In Colab\"/></a>"
      ]
    },
    {
      "cell_type": "code",
      "metadata": {
        "colab": {
          "base_uri": "https://localhost:8080/"
        },
        "id": "ZuKYmnkhb3c-",
        "outputId": "3bf05f29-acda-40a0-d988-177aaf48e4a9"
      },
      "source": [
        "from google.colab import drive\n",
        "drive.mount('/content/drive')"
      ],
      "execution_count": 1,
      "outputs": [
        {
          "output_type": "stream",
          "name": "stdout",
          "text": [
            "Drive already mounted at /content/drive; to attempt to forcibly remount, call drive.mount(\"/content/drive\", force_remount=True).\n"
          ]
        }
      ]
    },
    {
      "cell_type": "code",
      "metadata": {
        "id": "hFO3GwMLb5sI"
      },
      "source": [
        "import pandas as pd\n",
        "import glob\n",
        "import re\n",
        "import numpy as no\n",
        "import seaborn as sns\n",
        "import matplotlib.pyplot as plt"
      ],
      "execution_count": 2,
      "outputs": []
    },
    {
      "cell_type": "markdown",
      "metadata": {
        "id": "uxKieHb6Pmdo"
      },
      "source": [
        "# Get the file names in the folder"
      ]
    },
    {
      "cell_type": "code",
      "metadata": {
        "id": "-M71Bpi4b5qD"
      },
      "source": [
        "files = glob.glob(f\"/content/drive/MyDrive/Group 9 Project Documents/Datasets/business_pulse/*.xlsx\") "
      ],
      "execution_count": 3,
      "outputs": []
    },
    {
      "cell_type": "code",
      "metadata": {
        "id": "YNKofJ9jb5g_"
      },
      "source": [
        "emp_files = [x for x in files if 'empclass' in x]\n",
        "st_sector_files = [x for x in files if '/national_state_sector' in x]\n",
        "st_files = [x for x in files if '/national_state_' in x and not '/national_state_sector' in x]\n",
        "naics3_files = [x for x in files if 'naics3' in x]\n",
        "indexes_files = [x for x in files if 'indexes' in x]\n",
        "msa_files = [x for x in files if 'top_50_msa' in x]\n",
        "response_urr_files = [x for x in files if 'response_urr' in x]"
      ],
      "execution_count": 4,
      "outputs": []
    },
    {
      "cell_type": "markdown",
      "metadata": {
        "id": "ACAsSI4VPr_g"
      },
      "source": [
        "# Explore data structure of each data set"
      ]
    },
    {
      "cell_type": "code",
      "metadata": {
        "colab": {
          "base_uri": "https://localhost:8080/",
          "height": 112
        },
        "id": "ziwsft1DL97o",
        "outputId": "d73a2ded-5352-4bbd-c7cc-07908ff692d6"
      },
      "source": [
        "# Indexes\n",
        "pd.read_excel(indexes_files[0]).head(2)"
      ],
      "execution_count": 5,
      "outputs": [
        {
          "output_type": "execute_result",
          "data": {
            "text/html": [
              "<div>\n",
              "<style scoped>\n",
              "    .dataframe tbody tr th:only-of-type {\n",
              "        vertical-align: middle;\n",
              "    }\n",
              "\n",
              "    .dataframe tbody tr th {\n",
              "        vertical-align: top;\n",
              "    }\n",
              "\n",
              "    .dataframe thead th {\n",
              "        text-align: right;\n",
              "    }\n",
              "</style>\n",
              "<table border=\"1\" class=\"dataframe\">\n",
              "  <thead>\n",
              "    <tr style=\"text-align: right;\">\n",
              "      <th></th>\n",
              "      <th>ST</th>\n",
              "      <th>NAICS_SECTOR</th>\n",
              "      <th>INDEX_NAME</th>\n",
              "      <th>ESTIMATE_PERCENTAGE</th>\n",
              "    </tr>\n",
              "  </thead>\n",
              "  <tbody>\n",
              "    <tr>\n",
              "      <th>0</th>\n",
              "      <td>-</td>\n",
              "      <td>-</td>\n",
              "      <td>Expected recovery index</td>\n",
              "      <td>-0.58%</td>\n",
              "    </tr>\n",
              "    <tr>\n",
              "      <th>1</th>\n",
              "      <td>-</td>\n",
              "      <td>-</td>\n",
              "      <td>Financial stress index</td>\n",
              "      <td>-0.39%</td>\n",
              "    </tr>\n",
              "  </tbody>\n",
              "</table>\n",
              "</div>"
            ],
            "text/plain": [
              "  ST NAICS_SECTOR               INDEX_NAME ESTIMATE_PERCENTAGE\n",
              "0  -            -  Expected recovery index              -0.58%\n",
              "1  -            -   Financial stress index              -0.39%"
            ]
          },
          "metadata": {},
          "execution_count": 5
        }
      ]
    },
    {
      "cell_type": "code",
      "metadata": {
        "colab": {
          "base_uri": "https://localhost:8080/",
          "height": 112
        },
        "id": "dYCMJrYXPKgb",
        "outputId": "461695fc-52b7-4546-bee3-0b6402ea6d5f"
      },
      "source": [
        "# Exmployee size\n",
        "pd.read_excel(emp_files[0]).head(2)"
      ],
      "execution_count": 6,
      "outputs": [
        {
          "output_type": "execute_result",
          "data": {
            "text/html": [
              "<div>\n",
              "<style scoped>\n",
              "    .dataframe tbody tr th:only-of-type {\n",
              "        vertical-align: middle;\n",
              "    }\n",
              "\n",
              "    .dataframe tbody tr th {\n",
              "        vertical-align: top;\n",
              "    }\n",
              "\n",
              "    .dataframe thead th {\n",
              "        text-align: right;\n",
              "    }\n",
              "</style>\n",
              "<table border=\"1\" class=\"dataframe\">\n",
              "  <thead>\n",
              "    <tr style=\"text-align: right;\">\n",
              "      <th></th>\n",
              "      <th>ST</th>\n",
              "      <th>NAICS_SECTOR</th>\n",
              "      <th>EMPCLASS</th>\n",
              "      <th>EMPLOYEE_SIZE</th>\n",
              "      <th>INSTRUMENT_ID</th>\n",
              "      <th>QUESTION</th>\n",
              "      <th>ANSWER_ID</th>\n",
              "      <th>ANSWER_TEXT</th>\n",
              "      <th>ESTIMATE_PERCENTAGE</th>\n",
              "      <th>SE</th>\n",
              "    </tr>\n",
              "  </thead>\n",
              "  <tbody>\n",
              "    <tr>\n",
              "      <th>0</th>\n",
              "      <td>-</td>\n",
              "      <td>-</td>\n",
              "      <td>-</td>\n",
              "      <td>-</td>\n",
              "      <td>1</td>\n",
              "      <td>Overall, how has this business been affected b...</td>\n",
              "      <td>1</td>\n",
              "      <td>Large negative effect</td>\n",
              "      <td>51.4%</td>\n",
              "      <td>0.21%</td>\n",
              "    </tr>\n",
              "    <tr>\n",
              "      <th>1</th>\n",
              "      <td>-</td>\n",
              "      <td>-</td>\n",
              "      <td>-</td>\n",
              "      <td>-</td>\n",
              "      <td>1</td>\n",
              "      <td>Overall, how has this business been affected b...</td>\n",
              "      <td>2</td>\n",
              "      <td>Moderate negative effect</td>\n",
              "      <td>38.5%</td>\n",
              "      <td>0.27%</td>\n",
              "    </tr>\n",
              "  </tbody>\n",
              "</table>\n",
              "</div>"
            ],
            "text/plain": [
              "  ST NAICS_SECTOR EMPCLASS  ...               ANSWER_TEXT  ESTIMATE_PERCENTAGE     SE\n",
              "0  -            -        -  ...     Large negative effect                51.4%  0.21%\n",
              "1  -            -        -  ...  Moderate negative effect                38.5%  0.27%\n",
              "\n",
              "[2 rows x 10 columns]"
            ]
          },
          "metadata": {},
          "execution_count": 6
        }
      ]
    },
    {
      "cell_type": "code",
      "metadata": {
        "colab": {
          "base_uri": "https://localhost:8080/",
          "height": 112
        },
        "id": "kMyLIZkKParc",
        "outputId": "94379d0e-ea01-4977-ed13-b769a31140a0"
      },
      "source": [
        "# response_urr_files\n",
        "pd.read_excel(response_urr_files[0]).head(2)"
      ],
      "execution_count": 7,
      "outputs": [
        {
          "output_type": "execute_result",
          "data": {
            "text/html": [
              "<div>\n",
              "<style scoped>\n",
              "    .dataframe tbody tr th:only-of-type {\n",
              "        vertical-align: middle;\n",
              "    }\n",
              "\n",
              "    .dataframe tbody tr th {\n",
              "        vertical-align: top;\n",
              "    }\n",
              "\n",
              "    .dataframe thead th {\n",
              "        text-align: right;\n",
              "    }\n",
              "</style>\n",
              "<table border=\"1\" class=\"dataframe\">\n",
              "  <thead>\n",
              "    <tr style=\"text-align: right;\">\n",
              "      <th></th>\n",
              "      <th>STATE_TAB</th>\n",
              "      <th>RESPONSE_COUNT</th>\n",
              "      <th>URR</th>\n",
              "    </tr>\n",
              "  </thead>\n",
              "  <tbody>\n",
              "    <tr>\n",
              "      <th>0</th>\n",
              "      <td>AK</td>\n",
              "      <td>80</td>\n",
              "      <td>22%</td>\n",
              "    </tr>\n",
              "    <tr>\n",
              "      <th>1</th>\n",
              "      <td>AL</td>\n",
              "      <td>250</td>\n",
              "      <td>19%</td>\n",
              "    </tr>\n",
              "  </tbody>\n",
              "</table>\n",
              "</div>"
            ],
            "text/plain": [
              "  STATE_TAB  RESPONSE_COUNT  URR\n",
              "0        AK              80  22%\n",
              "1        AL             250  19%"
            ]
          },
          "metadata": {},
          "execution_count": 7
        }
      ]
    },
    {
      "cell_type": "code",
      "metadata": {
        "colab": {
          "base_uri": "https://localhost:8080/",
          "height": 112
        },
        "id": "Tn4TrwM8P5ys",
        "outputId": "1d75aaae-ea40-4d1e-b0c1-1e887b0150dd"
      },
      "source": [
        "# st_sector_files\n",
        "pd.read_excel(st_sector_files[0]).head(2)"
      ],
      "execution_count": 8,
      "outputs": [
        {
          "output_type": "execute_result",
          "data": {
            "text/html": [
              "<div>\n",
              "<style scoped>\n",
              "    .dataframe tbody tr th:only-of-type {\n",
              "        vertical-align: middle;\n",
              "    }\n",
              "\n",
              "    .dataframe tbody tr th {\n",
              "        vertical-align: top;\n",
              "    }\n",
              "\n",
              "    .dataframe thead th {\n",
              "        text-align: right;\n",
              "    }\n",
              "</style>\n",
              "<table border=\"1\" class=\"dataframe\">\n",
              "  <thead>\n",
              "    <tr style=\"text-align: right;\">\n",
              "      <th></th>\n",
              "      <th>ST</th>\n",
              "      <th>NAICS_SECTOR</th>\n",
              "      <th>INSTRUMENT_ID</th>\n",
              "      <th>QUESTION</th>\n",
              "      <th>ANSWER_ID</th>\n",
              "      <th>ANSWER_TEXT</th>\n",
              "      <th>ESTIMATE_PERCENTAGE</th>\n",
              "      <th>SE</th>\n",
              "    </tr>\n",
              "  </thead>\n",
              "  <tbody>\n",
              "    <tr>\n",
              "      <th>0</th>\n",
              "      <td>-</td>\n",
              "      <td>-</td>\n",
              "      <td>1</td>\n",
              "      <td>Overall, how has this business been affected b...</td>\n",
              "      <td>1</td>\n",
              "      <td>Large negative effect</td>\n",
              "      <td>51.4%</td>\n",
              "      <td>0.21%</td>\n",
              "    </tr>\n",
              "    <tr>\n",
              "      <th>1</th>\n",
              "      <td>-</td>\n",
              "      <td>-</td>\n",
              "      <td>1</td>\n",
              "      <td>Overall, how has this business been affected b...</td>\n",
              "      <td>2</td>\n",
              "      <td>Moderate negative effect</td>\n",
              "      <td>38.5%</td>\n",
              "      <td>0.27%</td>\n",
              "    </tr>\n",
              "  </tbody>\n",
              "</table>\n",
              "</div>"
            ],
            "text/plain": [
              "  ST NAICS_SECTOR  ...  ESTIMATE_PERCENTAGE     SE\n",
              "0  -            -  ...                51.4%  0.21%\n",
              "1  -            -  ...                38.5%  0.27%\n",
              "\n",
              "[2 rows x 8 columns]"
            ]
          },
          "metadata": {},
          "execution_count": 8
        }
      ]
    },
    {
      "cell_type": "markdown",
      "metadata": {
        "id": "IGPU0SD3QGzS"
      },
      "source": [
        "## Note:\n",
        "1. Data doesn't have date/time column.\n",
        "2. Percentage sign is included in the dataset.\n",
        "\n",
        "## To do:\n",
        "1. Add date to the dataframe to indicate when the data is collected. \n",
        "2. Strip the \"%\" out so we can treat the value as float data type."
      ]
    },
    {
      "cell_type": "code",
      "metadata": {
        "id": "CPD5yCJ3J2ef"
      },
      "source": [
        "def p2f(x):\n",
        "    return float(x.strip('%'))/100\n",
        "\n",
        "def add_date_period_to_df(files_name):\n",
        "  # Getting file name --getting date range of the data\n",
        "  \n",
        "  regex = r'\\d+[A-Z][a-z]+\\d+_\\d+[A-Z][a-z]+\\d+'  \n",
        "  period_str = re.search(regex, files_name.split('/')[-1])[0]\n",
        "  date_period = period_str.split('_')\n",
        "\n",
        "\n",
        "  date_start = pd.to_datetime(date_period[0], format= '%d%b%y')\n",
        "  date_end = pd.to_datetime(date_period[1], format= '%d%b%y')\n",
        "  \n",
        "  # the data that was in percentage got turn into fraction\n",
        "  df = pd.read_excel(files_name,  converters={'ESTIMATE_PERCENTAGE':p2f, 'SE':p2f}).assign(DATE_START=date_start).assign(DATE_END=date_end)\n",
        "  return df"
      ],
      "execution_count": 9,
      "outputs": []
    },
    {
      "cell_type": "code",
      "metadata": {
        "colab": {
          "base_uri": "https://localhost:8080/",
          "height": 206
        },
        "id": "FcgzWODtJsQW",
        "outputId": "27b585f9-4bdb-4078-8bb1-78d4cea9cfab"
      },
      "source": [
        "test_index_df = add_date_period_to_df(indexes_files[0])\n",
        "test_index_df.head()"
      ],
      "execution_count": 10,
      "outputs": [
        {
          "output_type": "execute_result",
          "data": {
            "text/html": [
              "<div>\n",
              "<style scoped>\n",
              "    .dataframe tbody tr th:only-of-type {\n",
              "        vertical-align: middle;\n",
              "    }\n",
              "\n",
              "    .dataframe tbody tr th {\n",
              "        vertical-align: top;\n",
              "    }\n",
              "\n",
              "    .dataframe thead th {\n",
              "        text-align: right;\n",
              "    }\n",
              "</style>\n",
              "<table border=\"1\" class=\"dataframe\">\n",
              "  <thead>\n",
              "    <tr style=\"text-align: right;\">\n",
              "      <th></th>\n",
              "      <th>ST</th>\n",
              "      <th>NAICS_SECTOR</th>\n",
              "      <th>INDEX_NAME</th>\n",
              "      <th>ESTIMATE_PERCENTAGE</th>\n",
              "      <th>DATE_START</th>\n",
              "      <th>DATE_END</th>\n",
              "    </tr>\n",
              "  </thead>\n",
              "  <tbody>\n",
              "    <tr>\n",
              "      <th>0</th>\n",
              "      <td>-</td>\n",
              "      <td>-</td>\n",
              "      <td>Expected recovery index</td>\n",
              "      <td>-0.0058</td>\n",
              "      <td>2020-04-26</td>\n",
              "      <td>2020-05-02</td>\n",
              "    </tr>\n",
              "    <tr>\n",
              "      <th>1</th>\n",
              "      <td>-</td>\n",
              "      <td>-</td>\n",
              "      <td>Financial stress index</td>\n",
              "      <td>-0.0039</td>\n",
              "      <td>2020-04-26</td>\n",
              "      <td>2020-05-02</td>\n",
              "    </tr>\n",
              "    <tr>\n",
              "      <th>2</th>\n",
              "      <td>-</td>\n",
              "      <td>-</td>\n",
              "      <td>Operational challenges index</td>\n",
              "      <td>-0.0045</td>\n",
              "      <td>2020-04-26</td>\n",
              "      <td>2020-05-02</td>\n",
              "    </tr>\n",
              "    <tr>\n",
              "      <th>3</th>\n",
              "      <td>-</td>\n",
              "      <td>-</td>\n",
              "      <td>Overall sentiment index</td>\n",
              "      <td>-0.0069</td>\n",
              "      <td>2020-04-26</td>\n",
              "      <td>2020-05-02</td>\n",
              "    </tr>\n",
              "    <tr>\n",
              "      <th>4</th>\n",
              "      <td>-</td>\n",
              "      <td>11</td>\n",
              "      <td>Expected recovery index</td>\n",
              "      <td>-0.0049</td>\n",
              "      <td>2020-04-26</td>\n",
              "      <td>2020-05-02</td>\n",
              "    </tr>\n",
              "  </tbody>\n",
              "</table>\n",
              "</div>"
            ],
            "text/plain": [
              "  ST NAICS_SECTOR  ... DATE_START   DATE_END\n",
              "0  -            -  ... 2020-04-26 2020-05-02\n",
              "1  -            -  ... 2020-04-26 2020-05-02\n",
              "2  -            -  ... 2020-04-26 2020-05-02\n",
              "3  -            -  ... 2020-04-26 2020-05-02\n",
              "4  -           11  ... 2020-04-26 2020-05-02\n",
              "\n",
              "[5 rows x 6 columns]"
            ]
          },
          "metadata": {},
          "execution_count": 10
        }
      ]
    },
    {
      "cell_type": "markdown",
      "metadata": {
        "id": "9ectiUE_JCmJ"
      },
      "source": [
        "# Append date into 1 big data set by data type\n"
      ]
    },
    {
      "cell_type": "markdown",
      "metadata": {
        "id": "6wr9r3vXR3bJ"
      },
      "source": [
        "## Index Files"
      ]
    },
    {
      "cell_type": "code",
      "metadata": {
        "id": "puIayVKKM-O9"
      },
      "source": [
        "# append data into 1 big date set\n",
        "df_index_all = pd.DataFrame()\n",
        "\n",
        "# loop thru all files in the list and concat them into one df\n",
        "for file in indexes_files:\n",
        "  df_index = add_date_period_to_df(file)\n",
        "  df_index_all =pd.concat([df_index_all, df_index])"
      ],
      "execution_count": 11,
      "outputs": []
    },
    {
      "cell_type": "code",
      "metadata": {
        "colab": {
          "base_uri": "https://localhost:8080/"
        },
        "id": "SXihpBufNg9A",
        "outputId": "be2a33a3-b632-4dbf-9403-aa74e95f1979"
      },
      "source": [
        "df_index_all.shape"
      ],
      "execution_count": 12,
      "outputs": [
        {
          "output_type": "execute_result",
          "data": {
            "text/plain": [
              "(13582, 6)"
            ]
          },
          "metadata": {},
          "execution_count": 12
        }
      ]
    },
    {
      "cell_type": "code",
      "metadata": {
        "colab": {
          "base_uri": "https://localhost:8080/",
          "height": 206
        },
        "id": "0Qod9IM0Ni-M",
        "outputId": "48240f7e-a0c9-4f31-d9b1-03fb192a6e3e"
      },
      "source": [
        "df_index_all.head()"
      ],
      "execution_count": 13,
      "outputs": [
        {
          "output_type": "execute_result",
          "data": {
            "text/html": [
              "<div>\n",
              "<style scoped>\n",
              "    .dataframe tbody tr th:only-of-type {\n",
              "        vertical-align: middle;\n",
              "    }\n",
              "\n",
              "    .dataframe tbody tr th {\n",
              "        vertical-align: top;\n",
              "    }\n",
              "\n",
              "    .dataframe thead th {\n",
              "        text-align: right;\n",
              "    }\n",
              "</style>\n",
              "<table border=\"1\" class=\"dataframe\">\n",
              "  <thead>\n",
              "    <tr style=\"text-align: right;\">\n",
              "      <th></th>\n",
              "      <th>ST</th>\n",
              "      <th>NAICS_SECTOR</th>\n",
              "      <th>INDEX_NAME</th>\n",
              "      <th>ESTIMATE_PERCENTAGE</th>\n",
              "      <th>DATE_START</th>\n",
              "      <th>DATE_END</th>\n",
              "    </tr>\n",
              "  </thead>\n",
              "  <tbody>\n",
              "    <tr>\n",
              "      <th>0</th>\n",
              "      <td>-</td>\n",
              "      <td>-</td>\n",
              "      <td>Expected recovery index</td>\n",
              "      <td>-0.0058</td>\n",
              "      <td>2020-04-26</td>\n",
              "      <td>2020-05-02</td>\n",
              "    </tr>\n",
              "    <tr>\n",
              "      <th>1</th>\n",
              "      <td>-</td>\n",
              "      <td>-</td>\n",
              "      <td>Financial stress index</td>\n",
              "      <td>-0.0039</td>\n",
              "      <td>2020-04-26</td>\n",
              "      <td>2020-05-02</td>\n",
              "    </tr>\n",
              "    <tr>\n",
              "      <th>2</th>\n",
              "      <td>-</td>\n",
              "      <td>-</td>\n",
              "      <td>Operational challenges index</td>\n",
              "      <td>-0.0045</td>\n",
              "      <td>2020-04-26</td>\n",
              "      <td>2020-05-02</td>\n",
              "    </tr>\n",
              "    <tr>\n",
              "      <th>3</th>\n",
              "      <td>-</td>\n",
              "      <td>-</td>\n",
              "      <td>Overall sentiment index</td>\n",
              "      <td>-0.0069</td>\n",
              "      <td>2020-04-26</td>\n",
              "      <td>2020-05-02</td>\n",
              "    </tr>\n",
              "    <tr>\n",
              "      <th>4</th>\n",
              "      <td>-</td>\n",
              "      <td>11</td>\n",
              "      <td>Expected recovery index</td>\n",
              "      <td>-0.0049</td>\n",
              "      <td>2020-04-26</td>\n",
              "      <td>2020-05-02</td>\n",
              "    </tr>\n",
              "  </tbody>\n",
              "</table>\n",
              "</div>"
            ],
            "text/plain": [
              "  ST NAICS_SECTOR  ... DATE_START   DATE_END\n",
              "0  -            -  ... 2020-04-26 2020-05-02\n",
              "1  -            -  ... 2020-04-26 2020-05-02\n",
              "2  -            -  ... 2020-04-26 2020-05-02\n",
              "3  -            -  ... 2020-04-26 2020-05-02\n",
              "4  -           11  ... 2020-04-26 2020-05-02\n",
              "\n",
              "[5 rows x 6 columns]"
            ]
          },
          "metadata": {},
          "execution_count": 13
        }
      ]
    },
    {
      "cell_type": "code",
      "metadata": {
        "colab": {
          "base_uri": "https://localhost:8080/",
          "height": 206
        },
        "id": "TodZBmVIRdMU",
        "outputId": "4022e0df-8a35-4a23-92eb-06f54fde578b"
      },
      "source": [
        "df_index_all.tail()"
      ],
      "execution_count": 14,
      "outputs": [
        {
          "output_type": "execute_result",
          "data": {
            "text/html": [
              "<div>\n",
              "<style scoped>\n",
              "    .dataframe tbody tr th:only-of-type {\n",
              "        vertical-align: middle;\n",
              "    }\n",
              "\n",
              "    .dataframe tbody tr th {\n",
              "        vertical-align: top;\n",
              "    }\n",
              "\n",
              "    .dataframe thead th {\n",
              "        text-align: right;\n",
              "    }\n",
              "</style>\n",
              "<table border=\"1\" class=\"dataframe\">\n",
              "  <thead>\n",
              "    <tr style=\"text-align: right;\">\n",
              "      <th></th>\n",
              "      <th>ST</th>\n",
              "      <th>NAICS_SECTOR</th>\n",
              "      <th>INDEX_NAME</th>\n",
              "      <th>ESTIMATE_PERCENTAGE</th>\n",
              "      <th>DATE_START</th>\n",
              "      <th>DATE_END</th>\n",
              "    </tr>\n",
              "  </thead>\n",
              "  <tbody>\n",
              "    <tr>\n",
              "      <th>279</th>\n",
              "      <td>WV</td>\n",
              "      <td>-</td>\n",
              "      <td>Overall sentiment index</td>\n",
              "      <td>-0.0035</td>\n",
              "      <td>2021-09-27</td>\n",
              "      <td>2021-10-03</td>\n",
              "    </tr>\n",
              "    <tr>\n",
              "      <th>280</th>\n",
              "      <td>WY</td>\n",
              "      <td>-</td>\n",
              "      <td>Expected recovery index</td>\n",
              "      <td>-0.0040</td>\n",
              "      <td>2021-09-27</td>\n",
              "      <td>2021-10-03</td>\n",
              "    </tr>\n",
              "    <tr>\n",
              "      <th>281</th>\n",
              "      <td>WY</td>\n",
              "      <td>-</td>\n",
              "      <td>Market challenges index</td>\n",
              "      <td>0.0009</td>\n",
              "      <td>2021-09-27</td>\n",
              "      <td>2021-10-03</td>\n",
              "    </tr>\n",
              "    <tr>\n",
              "      <th>282</th>\n",
              "      <td>WY</td>\n",
              "      <td>-</td>\n",
              "      <td>Operational challenges index</td>\n",
              "      <td>-0.0016</td>\n",
              "      <td>2021-09-27</td>\n",
              "      <td>2021-10-03</td>\n",
              "    </tr>\n",
              "    <tr>\n",
              "      <th>283</th>\n",
              "      <td>WY</td>\n",
              "      <td>-</td>\n",
              "      <td>Overall sentiment index</td>\n",
              "      <td>-0.0025</td>\n",
              "      <td>2021-09-27</td>\n",
              "      <td>2021-10-03</td>\n",
              "    </tr>\n",
              "  </tbody>\n",
              "</table>\n",
              "</div>"
            ],
            "text/plain": [
              "     ST NAICS_SECTOR  ... DATE_START   DATE_END\n",
              "279  WV            -  ... 2021-09-27 2021-10-03\n",
              "280  WY            -  ... 2021-09-27 2021-10-03\n",
              "281  WY            -  ... 2021-09-27 2021-10-03\n",
              "282  WY            -  ... 2021-09-27 2021-10-03\n",
              "283  WY            -  ... 2021-09-27 2021-10-03\n",
              "\n",
              "[5 rows x 6 columns]"
            ]
          },
          "metadata": {},
          "execution_count": 14
        }
      ]
    },
    {
      "cell_type": "markdown",
      "metadata": {
        "id": "qjo-wggKJFnD"
      },
      "source": [
        "## State & NAICS"
      ]
    },
    {
      "cell_type": "code",
      "metadata": {
        "id": "lRm2QZVJR8s8"
      },
      "source": [
        "# append data into 1 big date set\n",
        "df_st_sector_all = pd.DataFrame()\n",
        "\n",
        "# loop thru all files in the list and concat them into one df\n",
        "for file in st_sector_files:\n",
        "  df_index = add_date_period_to_df(file)\n",
        "  df_st_sector_all =pd.concat([df_st_sector_all, df_index])"
      ],
      "execution_count": 15,
      "outputs": []
    },
    {
      "cell_type": "code",
      "metadata": {
        "colab": {
          "base_uri": "https://localhost:8080/"
        },
        "id": "NeLhGgnOSlIO",
        "outputId": "d0ef5dab-2f77-41f0-d134-e240baf13911"
      },
      "source": [
        "df_st_sector_all.shape"
      ],
      "execution_count": 16,
      "outputs": [
        {
          "output_type": "execute_result",
          "data": {
            "text/plain": [
              "(911072, 10)"
            ]
          },
          "metadata": {},
          "execution_count": 16
        }
      ]
    },
    {
      "cell_type": "code",
      "metadata": {
        "colab": {
          "base_uri": "https://localhost:8080/",
          "height": 206
        },
        "id": "C3EfdYZ2S2LZ",
        "outputId": "d3e2ceb3-4a35-43fe-cc18-a65e9707f8c4"
      },
      "source": [
        "df_st_sector_all.head()"
      ],
      "execution_count": 17,
      "outputs": [
        {
          "output_type": "execute_result",
          "data": {
            "text/html": [
              "<div>\n",
              "<style scoped>\n",
              "    .dataframe tbody tr th:only-of-type {\n",
              "        vertical-align: middle;\n",
              "    }\n",
              "\n",
              "    .dataframe tbody tr th {\n",
              "        vertical-align: top;\n",
              "    }\n",
              "\n",
              "    .dataframe thead th {\n",
              "        text-align: right;\n",
              "    }\n",
              "</style>\n",
              "<table border=\"1\" class=\"dataframe\">\n",
              "  <thead>\n",
              "    <tr style=\"text-align: right;\">\n",
              "      <th></th>\n",
              "      <th>ST</th>\n",
              "      <th>NAICS_SECTOR</th>\n",
              "      <th>INSTRUMENT_ID</th>\n",
              "      <th>QUESTION</th>\n",
              "      <th>ANSWER_ID</th>\n",
              "      <th>ANSWER_TEXT</th>\n",
              "      <th>ESTIMATE_PERCENTAGE</th>\n",
              "      <th>SE</th>\n",
              "      <th>DATE_START</th>\n",
              "      <th>DATE_END</th>\n",
              "    </tr>\n",
              "  </thead>\n",
              "  <tbody>\n",
              "    <tr>\n",
              "      <th>0</th>\n",
              "      <td>-</td>\n",
              "      <td>-</td>\n",
              "      <td>1</td>\n",
              "      <td>Overall, how has this business been affected b...</td>\n",
              "      <td>1</td>\n",
              "      <td>Large negative effect</td>\n",
              "      <td>0.514</td>\n",
              "      <td>0.0021</td>\n",
              "      <td>2020-04-26</td>\n",
              "      <td>2020-05-02</td>\n",
              "    </tr>\n",
              "    <tr>\n",
              "      <th>1</th>\n",
              "      <td>-</td>\n",
              "      <td>-</td>\n",
              "      <td>1</td>\n",
              "      <td>Overall, how has this business been affected b...</td>\n",
              "      <td>2</td>\n",
              "      <td>Moderate negative effect</td>\n",
              "      <td>0.385</td>\n",
              "      <td>0.0027</td>\n",
              "      <td>2020-04-26</td>\n",
              "      <td>2020-05-02</td>\n",
              "    </tr>\n",
              "    <tr>\n",
              "      <th>2</th>\n",
              "      <td>-</td>\n",
              "      <td>-</td>\n",
              "      <td>1</td>\n",
              "      <td>Overall, how has this business been affected b...</td>\n",
              "      <td>3</td>\n",
              "      <td>Little or no effect</td>\n",
              "      <td>0.076</td>\n",
              "      <td>0.0029</td>\n",
              "      <td>2020-04-26</td>\n",
              "      <td>2020-05-02</td>\n",
              "    </tr>\n",
              "    <tr>\n",
              "      <th>3</th>\n",
              "      <td>-</td>\n",
              "      <td>-</td>\n",
              "      <td>1</td>\n",
              "      <td>Overall, how has this business been affected b...</td>\n",
              "      <td>4</td>\n",
              "      <td>Moderate positive effect</td>\n",
              "      <td>0.017</td>\n",
              "      <td>0.0008</td>\n",
              "      <td>2020-04-26</td>\n",
              "      <td>2020-05-02</td>\n",
              "    </tr>\n",
              "    <tr>\n",
              "      <th>4</th>\n",
              "      <td>-</td>\n",
              "      <td>-</td>\n",
              "      <td>1</td>\n",
              "      <td>Overall, how has this business been affected b...</td>\n",
              "      <td>5</td>\n",
              "      <td>Large positive effect</td>\n",
              "      <td>0.008</td>\n",
              "      <td>0.0006</td>\n",
              "      <td>2020-04-26</td>\n",
              "      <td>2020-05-02</td>\n",
              "    </tr>\n",
              "  </tbody>\n",
              "</table>\n",
              "</div>"
            ],
            "text/plain": [
              "  ST NAICS_SECTOR  INSTRUMENT_ID  ...      SE  DATE_START   DATE_END\n",
              "0  -            -              1  ...  0.0021  2020-04-26 2020-05-02\n",
              "1  -            -              1  ...  0.0027  2020-04-26 2020-05-02\n",
              "2  -            -              1  ...  0.0029  2020-04-26 2020-05-02\n",
              "3  -            -              1  ...  0.0008  2020-04-26 2020-05-02\n",
              "4  -            -              1  ...  0.0006  2020-04-26 2020-05-02\n",
              "\n",
              "[5 rows x 10 columns]"
            ]
          },
          "metadata": {},
          "execution_count": 17
        }
      ]
    },
    {
      "cell_type": "code",
      "metadata": {
        "colab": {
          "base_uri": "https://localhost:8080/",
          "height": 206
        },
        "id": "SNTUpqXEf5ZH",
        "outputId": "528aa843-8fc3-4917-8c1c-958a3f029cfc"
      },
      "source": [
        "df_st_sector_all.tail()"
      ],
      "execution_count": 18,
      "outputs": [
        {
          "output_type": "execute_result",
          "data": {
            "text/html": [
              "<div>\n",
              "<style scoped>\n",
              "    .dataframe tbody tr th:only-of-type {\n",
              "        vertical-align: middle;\n",
              "    }\n",
              "\n",
              "    .dataframe tbody tr th {\n",
              "        vertical-align: top;\n",
              "    }\n",
              "\n",
              "    .dataframe thead th {\n",
              "        text-align: right;\n",
              "    }\n",
              "</style>\n",
              "<table border=\"1\" class=\"dataframe\">\n",
              "  <thead>\n",
              "    <tr style=\"text-align: right;\">\n",
              "      <th></th>\n",
              "      <th>ST</th>\n",
              "      <th>NAICS_SECTOR</th>\n",
              "      <th>INSTRUMENT_ID</th>\n",
              "      <th>QUESTION</th>\n",
              "      <th>ANSWER_ID</th>\n",
              "      <th>ANSWER_TEXT</th>\n",
              "      <th>ESTIMATE_PERCENTAGE</th>\n",
              "      <th>SE</th>\n",
              "      <th>DATE_START</th>\n",
              "      <th>DATE_END</th>\n",
              "    </tr>\n",
              "  </thead>\n",
              "  <tbody>\n",
              "    <tr>\n",
              "      <th>17363</th>\n",
              "      <td>WY</td>\n",
              "      <td>-</td>\n",
              "      <td>7</td>\n",
              "      <td>In the last week, did this business have a cha...</td>\n",
              "      <td>3</td>\n",
              "      <td>No change</td>\n",
              "      <td>0.765</td>\n",
              "      <td>0.0393</td>\n",
              "      <td>2021-09-27</td>\n",
              "      <td>2021-10-03</td>\n",
              "    </tr>\n",
              "    <tr>\n",
              "      <th>17364</th>\n",
              "      <td>WY</td>\n",
              "      <td>-</td>\n",
              "      <td>8</td>\n",
              "      <td>In the last week, did this business require em...</td>\n",
              "      <td>2</td>\n",
              "      <td>No</td>\n",
              "      <td>0.780</td>\n",
              "      <td>0.0700</td>\n",
              "      <td>2021-09-27</td>\n",
              "      <td>2021-10-03</td>\n",
              "    </tr>\n",
              "    <tr>\n",
              "      <th>17365</th>\n",
              "      <td>WY</td>\n",
              "      <td>-</td>\n",
              "      <td>9</td>\n",
              "      <td>In the last week, did this business require em...</td>\n",
              "      <td>2</td>\n",
              "      <td>No</td>\n",
              "      <td>0.755</td>\n",
              "      <td>0.0802</td>\n",
              "      <td>2021-09-27</td>\n",
              "      <td>2021-10-03</td>\n",
              "    </tr>\n",
              "    <tr>\n",
              "      <th>17366</th>\n",
              "      <td>WY</td>\n",
              "      <td>62</td>\n",
              "      <td>13</td>\n",
              "      <td>Comparing now to what was normal before March ...</td>\n",
              "      <td>3</td>\n",
              "      <td>Little or no change in number of hours worked ...</td>\n",
              "      <td>1.000</td>\n",
              "      <td>0.0000</td>\n",
              "      <td>2021-09-27</td>\n",
              "      <td>2021-10-03</td>\n",
              "    </tr>\n",
              "    <tr>\n",
              "      <th>17367</th>\n",
              "      <td>WY</td>\n",
              "      <td>62</td>\n",
              "      <td>5</td>\n",
              "      <td>In the last week, did this business do any of ...</td>\n",
              "      <td>4</td>\n",
              "      <td>None of the above</td>\n",
              "      <td>1.000</td>\n",
              "      <td>0.0000</td>\n",
              "      <td>2021-09-27</td>\n",
              "      <td>2021-10-03</td>\n",
              "    </tr>\n",
              "  </tbody>\n",
              "</table>\n",
              "</div>"
            ],
            "text/plain": [
              "       ST NAICS_SECTOR  INSTRUMENT_ID  ...      SE  DATE_START   DATE_END\n",
              "17363  WY            -              7  ...  0.0393  2021-09-27 2021-10-03\n",
              "17364  WY            -              8  ...  0.0700  2021-09-27 2021-10-03\n",
              "17365  WY            -              9  ...  0.0802  2021-09-27 2021-10-03\n",
              "17366  WY           62             13  ...  0.0000  2021-09-27 2021-10-03\n",
              "17367  WY           62              5  ...  0.0000  2021-09-27 2021-10-03\n",
              "\n",
              "[5 rows x 10 columns]"
            ]
          },
          "metadata": {},
          "execution_count": 18
        }
      ]
    },
    {
      "cell_type": "markdown",
      "metadata": {
        "id": "9TM_tf5bfeiV"
      },
      "source": [
        "# TO DO\n",
        "\n",
        "1. The state name is in abbreviation. Data structure/ value for state name is different from the household data. Therefore, a conversion of the state name is needed. (Either on the small business dataset or the household dataset)\n",
        "\n",
        "2. Select features that can be used as an indicator for business recovery.\n",
        "\n",
        "3. from the household datasets, find interesting variables that might be associated with the business recovery. "
      ]
    },
    {
      "cell_type": "code",
      "metadata": {
        "id": "Zo3-eHWkfeFB"
      },
      "source": [
        "state_name_mapping = {\n",
        "  \"AL\": \"Alabama\",\n",
        "  \"AK\": \"Alaska\",\n",
        "  \"AZ\": \"Arizona\",\n",
        "  \"AR\": \"Arkansas\",\n",
        "  \"CA\": \"California\",\n",
        "  \"CO\": \"Colorado\",\n",
        "  \"CT\": \"Connecticut\",\n",
        "  \"DE\": \"Delaware\",\n",
        "  \"FL\": \"Florida\",\n",
        "  \"GA\": \"Georgia\",\n",
        "  \"HI\": \"Hawaii\",\n",
        "  \"ID\": \"Idaho\",\n",
        "  \"IL\": \"Illinois\",\n",
        "  \"IN\": \"Indiana\",\n",
        "  \"IA\": \"Iowa\",\n",
        "  \"KS\": \"Kansas\",\n",
        "  \"KY\": \"Kentucky\",\n",
        "  \"LA\": \"Louisiana\",\n",
        "  \"ME\": \"Maine\",\n",
        "  \"MD\": \"Maryland\",\n",
        "  \"MA\": \"Massachusetts\",\n",
        "  \"MI\": \"Michigan\",\n",
        "  \"MN\": \"Minnesota\",\n",
        "  \"MS\": \"Mississippi\",\n",
        "  \"MO\": \"Missouri\",\n",
        "  \"MT\": \"Montana\",\n",
        "  \"NE\": \"Nebraska\",\n",
        "  \"NV\": \"Nevada\",\n",
        "  \"NH\": \"New Hampshire\",\n",
        "  \"NJ\": \"New Jersey\",\n",
        "  \"NM\": \"New Mexico\",\n",
        "  \"NY\": \"New York\",\n",
        "  \"NC\": \"North Carolina\",\n",
        "  \"ND\": \"North Dakota\",\n",
        "  \"OH\": \"Ohio\",\n",
        "  \"OK\": \"Oklahoma\",\n",
        "  \"OR\": \"Oregon\",\n",
        "  \"PA\": \"Pennsylvania\",\n",
        "  \"RI\": \"Rhode Island\",\n",
        "  \"SC\": \"South Carolina\",\n",
        "  \"SD\": \"South Dakota\",\n",
        "  \"TN\": \"Tennessee\",\n",
        "  \"TX\": \"Texas\",\n",
        "  \"UT\": \"Utah\",\n",
        "  \"VT\": \"Vermont\",\n",
        "  \"VA\": \"Virginia\",\n",
        "  \"WA\": \"Washington\",\n",
        "  \"WV\": \"West Virginia\",\n",
        "  \"WI\": \"Wisconsin\",\n",
        "  \"WY\": \"Wyoming\"\n",
        "}"
      ],
      "execution_count": 19,
      "outputs": []
    }
  ]
}