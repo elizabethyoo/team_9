{
  "nbformat": 4,
  "nbformat_minor": 0,
  "metadata": {
    "colab": {
      "name": "Complie_sbp.ipynb",
      "provenance": [],
      "collapsed_sections": [],
      "authorship_tag": "ABX9TyO0PfExQ3zDfUIDKK0f8Iky",
      "include_colab_link": true
    },
    "kernelspec": {
      "name": "python3",
      "display_name": "Python 3"
    },
    "language_info": {
      "name": "python"
    }
  },
  "cells": [
    {
      "cell_type": "markdown",
      "metadata": {
        "id": "view-in-github",
        "colab_type": "text"
      },
      "source": [
        "<a href=\"https://colab.research.google.com/github/elizabethyoo/team_9/blob/data%2FBFS_mf/Complie_sbp.ipynb\" target=\"_parent\"><img src=\"https://colab.research.google.com/assets/colab-badge.svg\" alt=\"Open In Colab\"/></a>"
      ]
    },
    {
      "cell_type": "code",
      "metadata": {
        "colab": {
          "base_uri": "https://localhost:8080/"
        },
        "id": "ZuKYmnkhb3c-",
        "outputId": "7de782d0-a695-4269-eac1-ce053d01850b"
      },
      "source": [
        "from google.colab import drive\n",
        "drive.mount('/content/drive')"
      ],
      "execution_count": 6,
      "outputs": [
        {
          "output_type": "stream",
          "name": "stdout",
          "text": [
            "Mounted at /content/drive\n"
          ]
        }
      ]
    },
    {
      "cell_type": "code",
      "metadata": {
        "id": "hFO3GwMLb5sI"
      },
      "source": [
        "import pandas as pd\n",
        "import glob\n",
        "import re\n",
        "import numpy as no\n",
        "import seaborn as sns\n",
        "import matplotlib.pyplot as plt"
      ],
      "execution_count": 25,
      "outputs": []
    },
    {
      "cell_type": "code",
      "metadata": {
        "id": "-M71Bpi4b5qD"
      },
      "source": [
        "files = glob.glob(f\"/content/drive/MyDrive/Group 9 Project Documents/Datasets/business_pulse/*.xlsx\") "
      ],
      "execution_count": 52,
      "outputs": []
    },
    {
      "cell_type": "code",
      "metadata": {
        "id": "YNKofJ9jb5g_"
      },
      "source": [
        "emp_files = [x for x in files if 'empclass' in x]\n",
        "st_sector_files = [x for x in files if '/national_state_sector' in x]\n",
        "st_files = [x for x in files if '/national_state_' in x and not '/national_state_sector' in x]\n",
        "naics3_files = [x for x in files if 'naics3' in x]\n",
        "indexes_files = [x for x in files if 'indexes' in x]\n",
        "msa_files = [x for x in files if 'top_50_msa' in x]\n",
        "response_urr_files = [x for x in files if 'response_urr' in x]"
      ],
      "execution_count": 50,
      "outputs": []
    },
    {
      "cell_type": "code",
      "metadata": {
        "colab": {
          "base_uri": "https://localhost:8080/",
          "height": 35
        },
        "id": "hmdr4PGWhefd",
        "outputId": "46e15d97-19ac-45fd-8b9a-f9e7c28c97c7"
      },
      "source": [
        "st_sector_files[0]"
      ],
      "execution_count": 75,
      "outputs": [
        {
          "output_type": "execute_result",
          "data": {
            "application/vnd.google.colaboratory.intrinsic+json": {
              "type": "string"
            },
            "text/plain": [
              "'/content/drive/MyDrive/Group 9 Project Documents/Datasets/business_pulse/national_state_sector_26Apr20_02May20.xlsx'"
            ]
          },
          "metadata": {},
          "execution_count": 75
        }
      ]
    },
    {
      "cell_type": "code",
      "metadata": {
        "colab": {
          "base_uri": "https://localhost:8080/"
        },
        "id": "NM5Wi4ghitQO",
        "outputId": "85e06617-fa5b-459f-c214-7184060ab481"
      },
      "source": [
        "regex = r'\\d+[A-Z][a-z]+\\d+_\\d+[A-Z][a-z]+\\d+'  \n",
        "match = re.search(regex, st_sector_files[0].split('/')[-1])[0]\n",
        "print(match)"
      ],
      "execution_count": 76,
      "outputs": [
        {
          "output_type": "stream",
          "name": "stdout",
          "text": [
            "26Apr20_02May20\n"
          ]
        }
      ]
    },
    {
      "cell_type": "code",
      "metadata": {
        "id": "5ZMwQAILhwdr"
      },
      "source": [
        "st_df = pd.read_excel(st_sector_files[0]).assign(DATE=match)"
      ],
      "execution_count": 77,
      "outputs": []
    },
    {
      "cell_type": "code",
      "metadata": {
        "colab": {
          "base_uri": "https://localhost:8080/",
          "height": 206
        },
        "id": "-KET7bunh0Yt",
        "outputId": "4100873a-0f9f-4e82-f0ef-e3f425dd2042"
      },
      "source": [
        "st_df.head()"
      ],
      "execution_count": 78,
      "outputs": [
        {
          "output_type": "execute_result",
          "data": {
            "text/html": [
              "<div>\n",
              "<style scoped>\n",
              "    .dataframe tbody tr th:only-of-type {\n",
              "        vertical-align: middle;\n",
              "    }\n",
              "\n",
              "    .dataframe tbody tr th {\n",
              "        vertical-align: top;\n",
              "    }\n",
              "\n",
              "    .dataframe thead th {\n",
              "        text-align: right;\n",
              "    }\n",
              "</style>\n",
              "<table border=\"1\" class=\"dataframe\">\n",
              "  <thead>\n",
              "    <tr style=\"text-align: right;\">\n",
              "      <th></th>\n",
              "      <th>ST</th>\n",
              "      <th>NAICS_SECTOR</th>\n",
              "      <th>INSTRUMENT_ID</th>\n",
              "      <th>QUESTION</th>\n",
              "      <th>ANSWER_ID</th>\n",
              "      <th>ANSWER_TEXT</th>\n",
              "      <th>ESTIMATE_PERCENTAGE</th>\n",
              "      <th>SE</th>\n",
              "      <th>DATE</th>\n",
              "    </tr>\n",
              "  </thead>\n",
              "  <tbody>\n",
              "    <tr>\n",
              "      <th>0</th>\n",
              "      <td>-</td>\n",
              "      <td>-</td>\n",
              "      <td>1</td>\n",
              "      <td>Overall, how has this business been affected b...</td>\n",
              "      <td>1</td>\n",
              "      <td>Large negative effect</td>\n",
              "      <td>51.4%</td>\n",
              "      <td>0.21%</td>\n",
              "      <td>26Apr20_02May20</td>\n",
              "    </tr>\n",
              "    <tr>\n",
              "      <th>1</th>\n",
              "      <td>-</td>\n",
              "      <td>-</td>\n",
              "      <td>1</td>\n",
              "      <td>Overall, how has this business been affected b...</td>\n",
              "      <td>2</td>\n",
              "      <td>Moderate negative effect</td>\n",
              "      <td>38.5%</td>\n",
              "      <td>0.27%</td>\n",
              "      <td>26Apr20_02May20</td>\n",
              "    </tr>\n",
              "    <tr>\n",
              "      <th>2</th>\n",
              "      <td>-</td>\n",
              "      <td>-</td>\n",
              "      <td>1</td>\n",
              "      <td>Overall, how has this business been affected b...</td>\n",
              "      <td>3</td>\n",
              "      <td>Little or no effect</td>\n",
              "      <td>7.6%</td>\n",
              "      <td>0.29%</td>\n",
              "      <td>26Apr20_02May20</td>\n",
              "    </tr>\n",
              "    <tr>\n",
              "      <th>3</th>\n",
              "      <td>-</td>\n",
              "      <td>-</td>\n",
              "      <td>1</td>\n",
              "      <td>Overall, how has this business been affected b...</td>\n",
              "      <td>4</td>\n",
              "      <td>Moderate positive effect</td>\n",
              "      <td>1.7%</td>\n",
              "      <td>0.08%</td>\n",
              "      <td>26Apr20_02May20</td>\n",
              "    </tr>\n",
              "    <tr>\n",
              "      <th>4</th>\n",
              "      <td>-</td>\n",
              "      <td>-</td>\n",
              "      <td>1</td>\n",
              "      <td>Overall, how has this business been affected b...</td>\n",
              "      <td>5</td>\n",
              "      <td>Large positive effect</td>\n",
              "      <td>0.8%</td>\n",
              "      <td>0.06%</td>\n",
              "      <td>26Apr20_02May20</td>\n",
              "    </tr>\n",
              "  </tbody>\n",
              "</table>\n",
              "</div>"
            ],
            "text/plain": [
              "  ST NAICS_SECTOR  INSTRUMENT_ID  ... ESTIMATE_PERCENTAGE     SE             DATE\n",
              "0  -            -              1  ...               51.4%  0.21%  26Apr20_02May20\n",
              "1  -            -              1  ...               38.5%  0.27%  26Apr20_02May20\n",
              "2  -            -              1  ...                7.6%  0.29%  26Apr20_02May20\n",
              "3  -            -              1  ...                1.7%  0.08%  26Apr20_02May20\n",
              "4  -            -              1  ...                0.8%  0.06%  26Apr20_02May20\n",
              "\n",
              "[5 rows x 9 columns]"
            ]
          },
          "metadata": {},
          "execution_count": 78
        }
      ]
    },
    {
      "cell_type": "code",
      "metadata": {
        "id": "NLXqtGsnwWyY"
      },
      "source": [
        ""
      ],
      "execution_count": null,
      "outputs": []
    }
  ]
}