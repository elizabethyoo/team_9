{
  "nbformat": 4,
  "nbformat_minor": 0,
  "metadata": {
    "colab": {
      "name": "Complie_sbp.ipynb",
      "provenance": [],
      "collapsed_sections": [],
      "authorship_tag": "ABX9TyMf+CGQDyS/Wy5LRV3OGXkC",
      "include_colab_link": true
    },
    "kernelspec": {
      "name": "python3",
      "display_name": "Python 3"
    },
    "language_info": {
      "name": "python"
    }
  },
  "cells": [
    {
      "cell_type": "markdown",
      "metadata": {
        "id": "view-in-github",
        "colab_type": "text"
      },
      "source": [
        "<a href=\"https://colab.research.google.com/github/elizabethyoo/team_9/blob/data%2FBFS_mf/Complie_sbp.ipynb\" target=\"_parent\"><img src=\"https://colab.research.google.com/assets/colab-badge.svg\" alt=\"Open In Colab\"/></a>"
      ]
    },
    {
      "cell_type": "code",
      "metadata": {
        "colab": {
          "base_uri": "https://localhost:8080/"
        },
        "id": "ZuKYmnkhb3c-",
        "outputId": "39006bb6-4b29-415c-aa23-69cf3eebc548"
      },
      "source": [
        "from google.colab import drive\n",
        "drive.mount('/content/drive')"
      ],
      "execution_count": 1,
      "outputs": [
        {
          "output_type": "stream",
          "name": "stdout",
          "text": [
            "Mounted at /content/drive\n"
          ]
        }
      ]
    },
    {
      "cell_type": "code",
      "metadata": {
        "id": "hFO3GwMLb5sI"
      },
      "source": [
        "import pandas as pd\n",
        "import glob\n",
        "import re\n",
        "import numpy as no\n",
        "import seaborn as sns\n",
        "import matplotlib.pyplot as plt"
      ],
      "execution_count": 2,
      "outputs": []
    },
    {
      "cell_type": "code",
      "metadata": {
        "id": "-M71Bpi4b5qD"
      },
      "source": [
        "files = glob.glob(f\"/content/drive/MyDrive/Group 9 Project Documents/Datasets/business_pulse/*.xlsx\") "
      ],
      "execution_count": 3,
      "outputs": []
    },
    {
      "cell_type": "code",
      "metadata": {
        "id": "YNKofJ9jb5g_"
      },
      "source": [
        "emp_files = [x for x in files if 'empclass' in x]\n",
        "st_sector_files = [x for x in files if '/national_state_sector' in x]\n",
        "st_files = [x for x in files if '/national_state_' in x and not '/national_state_sector' in x]\n",
        "naics3_files = [x for x in files if 'naics3' in x]\n",
        "indexes_files = [x for x in files if 'indexes' in x]\n",
        "msa_files = [x for x in files if 'top_50_msa' in x]\n",
        "response_urr_files = [x for x in files if 'response_urr' in x]"
      ],
      "execution_count": 4,
      "outputs": []
    },
    {
      "cell_type": "code",
      "metadata": {
        "colab": {
          "base_uri": "https://localhost:8080/",
          "height": 35
        },
        "id": "hmdr4PGWhefd",
        "outputId": "4161b804-c47f-497f-89eb-d8aace23fcb8"
      },
      "source": [
        "st_sector_files[0]"
      ],
      "execution_count": 5,
      "outputs": [
        {
          "output_type": "execute_result",
          "data": {
            "application/vnd.google.colaboratory.intrinsic+json": {
              "type": "string"
            },
            "text/plain": [
              "'/content/drive/MyDrive/Group 9 Project Documents/Datasets/business_pulse/national_state_sector_26Apr20_02May20.xlsx'"
            ]
          },
          "metadata": {},
          "execution_count": 5
        }
      ]
    },
    {
      "cell_type": "code",
      "metadata": {
        "id": "dLSU1yfrgp26"
      },
      "source": [
        "def p2f(x):\n",
        "    return float(x.strip('%'))/100"
      ],
      "execution_count": 29,
      "outputs": []
    },
    {
      "cell_type": "code",
      "metadata": {
        "colab": {
          "base_uri": "https://localhost:8080/"
        },
        "id": "NM5Wi4ghitQO",
        "outputId": "74114796-507f-44c2-c171-4d684380de8b"
      },
      "source": [
        "regex = r'\\d+[A-Z][a-z]+\\d+_\\d+[A-Z][a-z]+\\d+'  \n",
        "period_str = re.search(regex, st_sector_files[0].split('/')[-1])[0]\n",
        "print(period_str)"
      ],
      "execution_count": 18,
      "outputs": [
        {
          "output_type": "stream",
          "name": "stdout",
          "text": [
            "26Apr20_02May20\n"
          ]
        }
      ]
    },
    {
      "cell_type": "code",
      "metadata": {
        "id": "Yk2U4byMe8CH"
      },
      "source": [
        "date_start_end = period_str.split('_')"
      ],
      "execution_count": 21,
      "outputs": []
    },
    {
      "cell_type": "code",
      "metadata": {
        "id": "gMlwDtxcfM-c"
      },
      "source": [
        "date_start = pd.to_datetime(date_start_end[0], format= '%d%b%y')\n",
        "date_end = pd.to_datetime(date_start_end[1], format= '%d%b%y')"
      ],
      "execution_count": 23,
      "outputs": []
    },
    {
      "cell_type": "code",
      "metadata": {
        "id": "5ZMwQAILhwdr"
      },
      "source": [
        "df = pd.read_excel(st_sector_files[0],  converters={'ESTIMATE_PERCENTAGE':p2f, 'SE':p2f}).assign(DATE_START=date_start).assign(DATE_END= date_end)"
      ],
      "execution_count": 30,
      "outputs": []
    },
    {
      "cell_type": "code",
      "metadata": {
        "colab": {
          "base_uri": "https://localhost:8080/",
          "height": 206
        },
        "id": "-KET7bunh0Yt",
        "outputId": "6520f48a-9dc0-479e-e312-b51f57fd9432"
      },
      "source": [
        "df.head()"
      ],
      "execution_count": 31,
      "outputs": [
        {
          "output_type": "execute_result",
          "data": {
            "text/html": [
              "<div>\n",
              "<style scoped>\n",
              "    .dataframe tbody tr th:only-of-type {\n",
              "        vertical-align: middle;\n",
              "    }\n",
              "\n",
              "    .dataframe tbody tr th {\n",
              "        vertical-align: top;\n",
              "    }\n",
              "\n",
              "    .dataframe thead th {\n",
              "        text-align: right;\n",
              "    }\n",
              "</style>\n",
              "<table border=\"1\" class=\"dataframe\">\n",
              "  <thead>\n",
              "    <tr style=\"text-align: right;\">\n",
              "      <th></th>\n",
              "      <th>ST</th>\n",
              "      <th>NAICS_SECTOR</th>\n",
              "      <th>INSTRUMENT_ID</th>\n",
              "      <th>QUESTION</th>\n",
              "      <th>ANSWER_ID</th>\n",
              "      <th>ANSWER_TEXT</th>\n",
              "      <th>ESTIMATE_PERCENTAGE</th>\n",
              "      <th>SE</th>\n",
              "      <th>DATE_START</th>\n",
              "      <th>DATE_END</th>\n",
              "    </tr>\n",
              "  </thead>\n",
              "  <tbody>\n",
              "    <tr>\n",
              "      <th>0</th>\n",
              "      <td>-</td>\n",
              "      <td>-</td>\n",
              "      <td>1</td>\n",
              "      <td>Overall, how has this business been affected b...</td>\n",
              "      <td>1</td>\n",
              "      <td>Large negative effect</td>\n",
              "      <td>0.514</td>\n",
              "      <td>0.0021</td>\n",
              "      <td>2020-04-26</td>\n",
              "      <td>2020-05-02</td>\n",
              "    </tr>\n",
              "    <tr>\n",
              "      <th>1</th>\n",
              "      <td>-</td>\n",
              "      <td>-</td>\n",
              "      <td>1</td>\n",
              "      <td>Overall, how has this business been affected b...</td>\n",
              "      <td>2</td>\n",
              "      <td>Moderate negative effect</td>\n",
              "      <td>0.385</td>\n",
              "      <td>0.0027</td>\n",
              "      <td>2020-04-26</td>\n",
              "      <td>2020-05-02</td>\n",
              "    </tr>\n",
              "    <tr>\n",
              "      <th>2</th>\n",
              "      <td>-</td>\n",
              "      <td>-</td>\n",
              "      <td>1</td>\n",
              "      <td>Overall, how has this business been affected b...</td>\n",
              "      <td>3</td>\n",
              "      <td>Little or no effect</td>\n",
              "      <td>0.076</td>\n",
              "      <td>0.0029</td>\n",
              "      <td>2020-04-26</td>\n",
              "      <td>2020-05-02</td>\n",
              "    </tr>\n",
              "    <tr>\n",
              "      <th>3</th>\n",
              "      <td>-</td>\n",
              "      <td>-</td>\n",
              "      <td>1</td>\n",
              "      <td>Overall, how has this business been affected b...</td>\n",
              "      <td>4</td>\n",
              "      <td>Moderate positive effect</td>\n",
              "      <td>0.017</td>\n",
              "      <td>0.0008</td>\n",
              "      <td>2020-04-26</td>\n",
              "      <td>2020-05-02</td>\n",
              "    </tr>\n",
              "    <tr>\n",
              "      <th>4</th>\n",
              "      <td>-</td>\n",
              "      <td>-</td>\n",
              "      <td>1</td>\n",
              "      <td>Overall, how has this business been affected b...</td>\n",
              "      <td>5</td>\n",
              "      <td>Large positive effect</td>\n",
              "      <td>0.008</td>\n",
              "      <td>0.0006</td>\n",
              "      <td>2020-04-26</td>\n",
              "      <td>2020-05-02</td>\n",
              "    </tr>\n",
              "  </tbody>\n",
              "</table>\n",
              "</div>"
            ],
            "text/plain": [
              "  ST NAICS_SECTOR  INSTRUMENT_ID  ...      SE  DATE_START   DATE_END\n",
              "0  -            -              1  ...  0.0021  2020-04-26 2020-05-02\n",
              "1  -            -              1  ...  0.0027  2020-04-26 2020-05-02\n",
              "2  -            -              1  ...  0.0029  2020-04-26 2020-05-02\n",
              "3  -            -              1  ...  0.0008  2020-04-26 2020-05-02\n",
              "4  -            -              1  ...  0.0006  2020-04-26 2020-05-02\n",
              "\n",
              "[5 rows x 10 columns]"
            ]
          },
          "metadata": {},
          "execution_count": 31
        }
      ]
    },
    {
      "cell_type": "code",
      "metadata": {
        "colab": {
          "base_uri": "https://localhost:8080/",
          "height": 424
        },
        "id": "32Y4ZaG6g9PV",
        "outputId": "d274cba8-e9b8-4393-e0e9-cc77dce3a104"
      },
      "source": [
        "df.loc[((df['INSTRUMENT_ID']==1) & (df['NAICS_SECTOR']=='-')),:]"
      ],
      "execution_count": 37,
      "outputs": [
        {
          "output_type": "execute_result",
          "data": {
            "text/html": [
              "<div>\n",
              "<style scoped>\n",
              "    .dataframe tbody tr th:only-of-type {\n",
              "        vertical-align: middle;\n",
              "    }\n",
              "\n",
              "    .dataframe tbody tr th {\n",
              "        vertical-align: top;\n",
              "    }\n",
              "\n",
              "    .dataframe thead th {\n",
              "        text-align: right;\n",
              "    }\n",
              "</style>\n",
              "<table border=\"1\" class=\"dataframe\">\n",
              "  <thead>\n",
              "    <tr style=\"text-align: right;\">\n",
              "      <th></th>\n",
              "      <th>ST</th>\n",
              "      <th>NAICS_SECTOR</th>\n",
              "      <th>INSTRUMENT_ID</th>\n",
              "      <th>QUESTION</th>\n",
              "      <th>ANSWER_ID</th>\n",
              "      <th>ANSWER_TEXT</th>\n",
              "      <th>ESTIMATE_PERCENTAGE</th>\n",
              "      <th>SE</th>\n",
              "      <th>DATE_START</th>\n",
              "      <th>DATE_END</th>\n",
              "    </tr>\n",
              "  </thead>\n",
              "  <tbody>\n",
              "    <tr>\n",
              "      <th>0</th>\n",
              "      <td>-</td>\n",
              "      <td>-</td>\n",
              "      <td>1</td>\n",
              "      <td>Overall, how has this business been affected b...</td>\n",
              "      <td>1</td>\n",
              "      <td>Large negative effect</td>\n",
              "      <td>0.514</td>\n",
              "      <td>0.0021</td>\n",
              "      <td>2020-04-26</td>\n",
              "      <td>2020-05-02</td>\n",
              "    </tr>\n",
              "    <tr>\n",
              "      <th>1</th>\n",
              "      <td>-</td>\n",
              "      <td>-</td>\n",
              "      <td>1</td>\n",
              "      <td>Overall, how has this business been affected b...</td>\n",
              "      <td>2</td>\n",
              "      <td>Moderate negative effect</td>\n",
              "      <td>0.385</td>\n",
              "      <td>0.0027</td>\n",
              "      <td>2020-04-26</td>\n",
              "      <td>2020-05-02</td>\n",
              "    </tr>\n",
              "    <tr>\n",
              "      <th>2</th>\n",
              "      <td>-</td>\n",
              "      <td>-</td>\n",
              "      <td>1</td>\n",
              "      <td>Overall, how has this business been affected b...</td>\n",
              "      <td>3</td>\n",
              "      <td>Little or no effect</td>\n",
              "      <td>0.076</td>\n",
              "      <td>0.0029</td>\n",
              "      <td>2020-04-26</td>\n",
              "      <td>2020-05-02</td>\n",
              "    </tr>\n",
              "    <tr>\n",
              "      <th>3</th>\n",
              "      <td>-</td>\n",
              "      <td>-</td>\n",
              "      <td>1</td>\n",
              "      <td>Overall, how has this business been affected b...</td>\n",
              "      <td>4</td>\n",
              "      <td>Moderate positive effect</td>\n",
              "      <td>0.017</td>\n",
              "      <td>0.0008</td>\n",
              "      <td>2020-04-26</td>\n",
              "      <td>2020-05-02</td>\n",
              "    </tr>\n",
              "    <tr>\n",
              "      <th>4</th>\n",
              "      <td>-</td>\n",
              "      <td>-</td>\n",
              "      <td>1</td>\n",
              "      <td>Overall, how has this business been affected b...</td>\n",
              "      <td>5</td>\n",
              "      <td>Large positive effect</td>\n",
              "      <td>0.008</td>\n",
              "      <td>0.0006</td>\n",
              "      <td>2020-04-26</td>\n",
              "      <td>2020-05-02</td>\n",
              "    </tr>\n",
              "    <tr>\n",
              "      <th>...</th>\n",
              "      <td>...</td>\n",
              "      <td>...</td>\n",
              "      <td>...</td>\n",
              "      <td>...</td>\n",
              "      <td>...</td>\n",
              "      <td>...</td>\n",
              "      <td>...</td>\n",
              "      <td>...</td>\n",
              "      <td>...</td>\n",
              "      <td>...</td>\n",
              "    </tr>\n",
              "    <tr>\n",
              "      <th>13027</th>\n",
              "      <td>WV</td>\n",
              "      <td>-</td>\n",
              "      <td>1</td>\n",
              "      <td>Overall, how has this business been affected b...</td>\n",
              "      <td>1</td>\n",
              "      <td>Large negative effect</td>\n",
              "      <td>0.439</td>\n",
              "      <td>0.0716</td>\n",
              "      <td>2020-04-26</td>\n",
              "      <td>2020-05-02</td>\n",
              "    </tr>\n",
              "    <tr>\n",
              "      <th>13028</th>\n",
              "      <td>WV</td>\n",
              "      <td>-</td>\n",
              "      <td>1</td>\n",
              "      <td>Overall, how has this business been affected b...</td>\n",
              "      <td>2</td>\n",
              "      <td>Moderate negative effect</td>\n",
              "      <td>0.417</td>\n",
              "      <td>0.0504</td>\n",
              "      <td>2020-04-26</td>\n",
              "      <td>2020-05-02</td>\n",
              "    </tr>\n",
              "    <tr>\n",
              "      <th>13062</th>\n",
              "      <td>WY</td>\n",
              "      <td>-</td>\n",
              "      <td>1</td>\n",
              "      <td>Overall, how has this business been affected b...</td>\n",
              "      <td>1</td>\n",
              "      <td>Large negative effect</td>\n",
              "      <td>0.490</td>\n",
              "      <td>0.0652</td>\n",
              "      <td>2020-04-26</td>\n",
              "      <td>2020-05-02</td>\n",
              "    </tr>\n",
              "    <tr>\n",
              "      <th>13063</th>\n",
              "      <td>WY</td>\n",
              "      <td>-</td>\n",
              "      <td>1</td>\n",
              "      <td>Overall, how has this business been affected b...</td>\n",
              "      <td>2</td>\n",
              "      <td>Moderate negative effect</td>\n",
              "      <td>0.343</td>\n",
              "      <td>0.0697</td>\n",
              "      <td>2020-04-26</td>\n",
              "      <td>2020-05-02</td>\n",
              "    </tr>\n",
              "    <tr>\n",
              "      <th>13064</th>\n",
              "      <td>WY</td>\n",
              "      <td>-</td>\n",
              "      <td>1</td>\n",
              "      <td>Overall, how has this business been affected b...</td>\n",
              "      <td>3</td>\n",
              "      <td>Little or no effect</td>\n",
              "      <td>0.157</td>\n",
              "      <td>0.0327</td>\n",
              "      <td>2020-04-26</td>\n",
              "      <td>2020-05-02</td>\n",
              "    </tr>\n",
              "  </tbody>\n",
              "</table>\n",
              "<p>173 rows × 10 columns</p>\n",
              "</div>"
            ],
            "text/plain": [
              "       ST NAICS_SECTOR  INSTRUMENT_ID  ...      SE  DATE_START   DATE_END\n",
              "0       -            -              1  ...  0.0021  2020-04-26 2020-05-02\n",
              "1       -            -              1  ...  0.0027  2020-04-26 2020-05-02\n",
              "2       -            -              1  ...  0.0029  2020-04-26 2020-05-02\n",
              "3       -            -              1  ...  0.0008  2020-04-26 2020-05-02\n",
              "4       -            -              1  ...  0.0006  2020-04-26 2020-05-02\n",
              "...    ..          ...            ...  ...     ...         ...        ...\n",
              "13027  WV            -              1  ...  0.0716  2020-04-26 2020-05-02\n",
              "13028  WV            -              1  ...  0.0504  2020-04-26 2020-05-02\n",
              "13062  WY            -              1  ...  0.0652  2020-04-26 2020-05-02\n",
              "13063  WY            -              1  ...  0.0697  2020-04-26 2020-05-02\n",
              "13064  WY            -              1  ...  0.0327  2020-04-26 2020-05-02\n",
              "\n",
              "[173 rows x 10 columns]"
            ]
          },
          "metadata": {},
          "execution_count": 37
        }
      ]
    },
    {
      "cell_type": "code",
      "metadata": {
        "id": "Zo3-eHWkfeFB"
      },
      "source": [
        "state_name_mapping = {\n",
        "  \"AL\": \"Alabama\",\n",
        "  \"AK\": \"Alaska\",\n",
        "  \"AZ\": \"Arizona\",\n",
        "  \"AR\": \"Arkansas\",\n",
        "  \"CA\": \"California\",\n",
        "  \"CO\": \"Colorado\",\n",
        "  \"CT\": \"Connecticut\",\n",
        "  \"DE\": \"Delaware\",\n",
        "  \"FL\": \"Florida\",\n",
        "  \"GA\": \"Georgia\",\n",
        "  \"HI\": \"Hawaii\",\n",
        "  \"ID\": \"Idaho\",\n",
        "  \"IL\": \"Illinois\",\n",
        "  \"IN\": \"Indiana\",\n",
        "  \"IA\": \"Iowa\",\n",
        "  \"KS\": \"Kansas\",\n",
        "  \"KY\": \"Kentucky\",\n",
        "  \"LA\": \"Louisiana\",\n",
        "  \"ME\": \"Maine\",\n",
        "  \"MD\": \"Maryland\",\n",
        "  \"MA\": \"Massachusetts\",\n",
        "  \"MI\": \"Michigan\",\n",
        "  \"MN\": \"Minnesota\",\n",
        "  \"MS\": \"Mississippi\",\n",
        "  \"MO\": \"Missouri\",\n",
        "  \"MT\": \"Montana\",\n",
        "  \"NE\": \"Nebraska\",\n",
        "  \"NV\": \"Nevada\",\n",
        "  \"NH\": \"New Hampshire\",\n",
        "  \"NJ\": \"New Jersey\",\n",
        "  \"NM\": \"New Mexico\",\n",
        "  \"NY\": \"New York\",\n",
        "  \"NC\": \"North Carolina\",\n",
        "  \"ND\": \"North Dakota\",\n",
        "  \"OH\": \"Ohio\",\n",
        "  \"OK\": \"Oklahoma\",\n",
        "  \"OR\": \"Oregon\",\n",
        "  \"PA\": \"Pennsylvania\",\n",
        "  \"RI\": \"Rhode Island\",\n",
        "  \"SC\": \"South Carolina\",\n",
        "  \"SD\": \"South Dakota\",\n",
        "  \"TN\": \"Tennessee\",\n",
        "  \"TX\": \"Texas\",\n",
        "  \"UT\": \"Utah\",\n",
        "  \"VT\": \"Vermont\",\n",
        "  \"VA\": \"Virginia\",\n",
        "  \"WA\": \"Washington\",\n",
        "  \"WV\": \"West Virginia\",\n",
        "  \"WI\": \"Wisconsin\",\n",
        "  \"WY\": \"Wyoming\"\n",
        "}"
      ],
      "execution_count": 11,
      "outputs": []
    },
    {
      "cell_type": "code",
      "metadata": {
        "id": "SNTUpqXEf5ZH"
      },
      "source": [
        ""
      ],
      "execution_count": null,
      "outputs": []
    },
    {
      "cell_type": "markdown",
      "metadata": {
        "id": "9TM_tf5bfeiV"
      },
      "source": [
        "# TO DO\n",
        "\n",
        "1. The state name is in abbreviation. Data structure/ value for state name is different from the household data. Therefore, a conversion of the state name is needed. (Either on the small business dataset or the household dataset)\n",
        "\n",
        "2. Select features that can be used as an indicator for business recovery.\n",
        "\n",
        "3. from the household datasets, find interesting variables that might be associated with the business recovery. "
      ]
    }
  ]
}