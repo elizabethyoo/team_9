{
  "nbformat": 4,
  "nbformat_minor": 0,
  "metadata": {
    "colab": {
      "name": "Complie_sbp.ipynb",
      "provenance": [],
      "collapsed_sections": [],
      "toc_visible": true,
      "authorship_tag": "ABX9TyMenAg/RvH3mz//LoffR2HS",
      "include_colab_link": true
    },
    "kernelspec": {
      "name": "python3",
      "display_name": "Python 3"
    },
    "language_info": {
      "name": "python"
    }
  },
  "cells": [
    {
      "cell_type": "markdown",
      "metadata": {
        "id": "view-in-github",
        "colab_type": "text"
      },
      "source": [
        "<a href=\"https://colab.research.google.com/github/elizabethyoo/team_9/blob/data%2FBFS_mf/Complie_sbp.ipynb\" target=\"_parent\"><img src=\"https://colab.research.google.com/assets/colab-badge.svg\" alt=\"Open In Colab\"/></a>"
      ]
    },
    {
      "cell_type": "code",
      "metadata": {
        "colab": {
          "base_uri": "https://localhost:8080/"
        },
        "id": "ZuKYmnkhb3c-",
        "outputId": "b8c6a6c0-35c0-4f7b-8b0c-05d71bc57e15"
      },
      "source": [
        "from google.colab import drive\n",
        "drive.mount('/content/drive')"
      ],
      "execution_count": 1,
      "outputs": [
        {
          "output_type": "stream",
          "name": "stdout",
          "text": [
            "Drive already mounted at /content/drive; to attempt to forcibly remount, call drive.mount(\"/content/drive\", force_remount=True).\n"
          ]
        }
      ]
    },
    {
      "cell_type": "code",
      "metadata": {
        "id": "hFO3GwMLb5sI"
      },
      "source": [
        "import pandas as pd\n",
        "import glob\n",
        "import re\n",
        "import numpy as no\n",
        "import seaborn as sns\n",
        "import matplotlib.pyplot as plt"
      ],
      "execution_count": 2,
      "outputs": []
    },
    {
      "cell_type": "markdown",
      "metadata": {
        "id": "uxKieHb6Pmdo"
      },
      "source": [
        "# Get the file names in the folder"
      ]
    },
    {
      "cell_type": "code",
      "metadata": {
        "id": "-M71Bpi4b5qD"
      },
      "source": [
        "files = glob.glob(f\"/content/drive/MyDrive/Group 9 Project Documents/Datasets/business_pulse/*.xlsx\") "
      ],
      "execution_count": 3,
      "outputs": []
    },
    {
      "cell_type": "code",
      "metadata": {
        "id": "YNKofJ9jb5g_"
      },
      "source": [
        "emp_files = [x for x in files if 'empclass' in x]\n",
        "st_sector_files = [x for x in files if '/national_state_sector' in x]\n",
        "st_files = [x for x in files if '/national_state_' in x and not '/national_state_sector' in x]\n",
        "naics3_files = [x for x in files if 'naics3' in x]\n",
        "indexes_files = [x for x in files if 'indexes' in x]\n",
        "msa_files = [x for x in files if 'top_50_msa' in x]\n",
        "response_urr_files = [x for x in files if 'response_urr' in x]"
      ],
      "execution_count": 4,
      "outputs": []
    },
    {
      "cell_type": "markdown",
      "metadata": {
        "id": "ACAsSI4VPr_g"
      },
      "source": [
        "# Explore data structure of each data set"
      ]
    },
    {
      "cell_type": "code",
      "metadata": {
        "colab": {
          "base_uri": "https://localhost:8080/",
          "height": 112
        },
        "id": "ziwsft1DL97o",
        "outputId": "e2299bc5-4141-4038-c5a2-2bff6cff2e7c"
      },
      "source": [
        "# Indexes\n",
        "pd.read_excel(indexes_files[0]).head(2)"
      ],
      "execution_count": 5,
      "outputs": [
        {
          "output_type": "execute_result",
          "data": {
            "text/html": [
              "<div>\n",
              "<style scoped>\n",
              "    .dataframe tbody tr th:only-of-type {\n",
              "        vertical-align: middle;\n",
              "    }\n",
              "\n",
              "    .dataframe tbody tr th {\n",
              "        vertical-align: top;\n",
              "    }\n",
              "\n",
              "    .dataframe thead th {\n",
              "        text-align: right;\n",
              "    }\n",
              "</style>\n",
              "<table border=\"1\" class=\"dataframe\">\n",
              "  <thead>\n",
              "    <tr style=\"text-align: right;\">\n",
              "      <th></th>\n",
              "      <th>ST</th>\n",
              "      <th>NAICS_SECTOR</th>\n",
              "      <th>INDEX_NAME</th>\n",
              "      <th>ESTIMATE_PERCENTAGE</th>\n",
              "    </tr>\n",
              "  </thead>\n",
              "  <tbody>\n",
              "    <tr>\n",
              "      <th>0</th>\n",
              "      <td>-</td>\n",
              "      <td>-</td>\n",
              "      <td>Expected recovery index</td>\n",
              "      <td>-0.58%</td>\n",
              "    </tr>\n",
              "    <tr>\n",
              "      <th>1</th>\n",
              "      <td>-</td>\n",
              "      <td>-</td>\n",
              "      <td>Financial stress index</td>\n",
              "      <td>-0.39%</td>\n",
              "    </tr>\n",
              "  </tbody>\n",
              "</table>\n",
              "</div>"
            ],
            "text/plain": [
              "  ST NAICS_SECTOR               INDEX_NAME ESTIMATE_PERCENTAGE\n",
              "0  -            -  Expected recovery index              -0.58%\n",
              "1  -            -   Financial stress index              -0.39%"
            ]
          },
          "metadata": {},
          "execution_count": 5
        }
      ]
    },
    {
      "cell_type": "code",
      "metadata": {
        "colab": {
          "base_uri": "https://localhost:8080/",
          "height": 112
        },
        "id": "dYCMJrYXPKgb",
        "outputId": "015a4fa7-8c27-47bc-87c8-b5e249e22734"
      },
      "source": [
        "# Exmployee size\n",
        "pd.read_excel(emp_files[0]).head(2)"
      ],
      "execution_count": 6,
      "outputs": [
        {
          "output_type": "execute_result",
          "data": {
            "text/html": [
              "<div>\n",
              "<style scoped>\n",
              "    .dataframe tbody tr th:only-of-type {\n",
              "        vertical-align: middle;\n",
              "    }\n",
              "\n",
              "    .dataframe tbody tr th {\n",
              "        vertical-align: top;\n",
              "    }\n",
              "\n",
              "    .dataframe thead th {\n",
              "        text-align: right;\n",
              "    }\n",
              "</style>\n",
              "<table border=\"1\" class=\"dataframe\">\n",
              "  <thead>\n",
              "    <tr style=\"text-align: right;\">\n",
              "      <th></th>\n",
              "      <th>ST</th>\n",
              "      <th>NAICS_SECTOR</th>\n",
              "      <th>EMPCLASS</th>\n",
              "      <th>EMPLOYEE_SIZE</th>\n",
              "      <th>INSTRUMENT_ID</th>\n",
              "      <th>QUESTION</th>\n",
              "      <th>ANSWER_ID</th>\n",
              "      <th>ANSWER_TEXT</th>\n",
              "      <th>ESTIMATE_PERCENTAGE</th>\n",
              "      <th>SE</th>\n",
              "    </tr>\n",
              "  </thead>\n",
              "  <tbody>\n",
              "    <tr>\n",
              "      <th>0</th>\n",
              "      <td>-</td>\n",
              "      <td>-</td>\n",
              "      <td>-</td>\n",
              "      <td>-</td>\n",
              "      <td>1</td>\n",
              "      <td>Overall, how has this business been affected b...</td>\n",
              "      <td>1</td>\n",
              "      <td>Large negative effect</td>\n",
              "      <td>51.4%</td>\n",
              "      <td>0.21%</td>\n",
              "    </tr>\n",
              "    <tr>\n",
              "      <th>1</th>\n",
              "      <td>-</td>\n",
              "      <td>-</td>\n",
              "      <td>-</td>\n",
              "      <td>-</td>\n",
              "      <td>1</td>\n",
              "      <td>Overall, how has this business been affected b...</td>\n",
              "      <td>2</td>\n",
              "      <td>Moderate negative effect</td>\n",
              "      <td>38.5%</td>\n",
              "      <td>0.27%</td>\n",
              "    </tr>\n",
              "  </tbody>\n",
              "</table>\n",
              "</div>"
            ],
            "text/plain": [
              "  ST NAICS_SECTOR EMPCLASS  ...               ANSWER_TEXT  ESTIMATE_PERCENTAGE     SE\n",
              "0  -            -        -  ...     Large negative effect                51.4%  0.21%\n",
              "1  -            -        -  ...  Moderate negative effect                38.5%  0.27%\n",
              "\n",
              "[2 rows x 10 columns]"
            ]
          },
          "metadata": {},
          "execution_count": 6
        }
      ]
    },
    {
      "cell_type": "code",
      "metadata": {
        "colab": {
          "base_uri": "https://localhost:8080/",
          "height": 112
        },
        "id": "kMyLIZkKParc",
        "outputId": "95bf2e5d-4180-43c9-87e7-9dc6d6545b94"
      },
      "source": [
        "# response_urr_files\n",
        "pd.read_excel(response_urr_files[0]).head(2)"
      ],
      "execution_count": 7,
      "outputs": [
        {
          "output_type": "execute_result",
          "data": {
            "text/html": [
              "<div>\n",
              "<style scoped>\n",
              "    .dataframe tbody tr th:only-of-type {\n",
              "        vertical-align: middle;\n",
              "    }\n",
              "\n",
              "    .dataframe tbody tr th {\n",
              "        vertical-align: top;\n",
              "    }\n",
              "\n",
              "    .dataframe thead th {\n",
              "        text-align: right;\n",
              "    }\n",
              "</style>\n",
              "<table border=\"1\" class=\"dataframe\">\n",
              "  <thead>\n",
              "    <tr style=\"text-align: right;\">\n",
              "      <th></th>\n",
              "      <th>STATE_TAB</th>\n",
              "      <th>RESPONSE_COUNT</th>\n",
              "      <th>URR</th>\n",
              "    </tr>\n",
              "  </thead>\n",
              "  <tbody>\n",
              "    <tr>\n",
              "      <th>0</th>\n",
              "      <td>AK</td>\n",
              "      <td>80</td>\n",
              "      <td>22%</td>\n",
              "    </tr>\n",
              "    <tr>\n",
              "      <th>1</th>\n",
              "      <td>AL</td>\n",
              "      <td>250</td>\n",
              "      <td>19%</td>\n",
              "    </tr>\n",
              "  </tbody>\n",
              "</table>\n",
              "</div>"
            ],
            "text/plain": [
              "  STATE_TAB  RESPONSE_COUNT  URR\n",
              "0        AK              80  22%\n",
              "1        AL             250  19%"
            ]
          },
          "metadata": {},
          "execution_count": 7
        }
      ]
    },
    {
      "cell_type": "code",
      "metadata": {
        "colab": {
          "base_uri": "https://localhost:8080/",
          "height": 112
        },
        "id": "Tn4TrwM8P5ys",
        "outputId": "878bc00b-8be6-461c-afca-d08e4a51dc5e"
      },
      "source": [
        "# st_sector_files\n",
        "pd.read_excel(st_sector_files[0]).head(2)"
      ],
      "execution_count": 8,
      "outputs": [
        {
          "output_type": "execute_result",
          "data": {
            "text/html": [
              "<div>\n",
              "<style scoped>\n",
              "    .dataframe tbody tr th:only-of-type {\n",
              "        vertical-align: middle;\n",
              "    }\n",
              "\n",
              "    .dataframe tbody tr th {\n",
              "        vertical-align: top;\n",
              "    }\n",
              "\n",
              "    .dataframe thead th {\n",
              "        text-align: right;\n",
              "    }\n",
              "</style>\n",
              "<table border=\"1\" class=\"dataframe\">\n",
              "  <thead>\n",
              "    <tr style=\"text-align: right;\">\n",
              "      <th></th>\n",
              "      <th>ST</th>\n",
              "      <th>NAICS_SECTOR</th>\n",
              "      <th>INSTRUMENT_ID</th>\n",
              "      <th>QUESTION</th>\n",
              "      <th>ANSWER_ID</th>\n",
              "      <th>ANSWER_TEXT</th>\n",
              "      <th>ESTIMATE_PERCENTAGE</th>\n",
              "      <th>SE</th>\n",
              "    </tr>\n",
              "  </thead>\n",
              "  <tbody>\n",
              "    <tr>\n",
              "      <th>0</th>\n",
              "      <td>-</td>\n",
              "      <td>-</td>\n",
              "      <td>1</td>\n",
              "      <td>Overall, how has this business been affected b...</td>\n",
              "      <td>1</td>\n",
              "      <td>Large negative effect</td>\n",
              "      <td>51.4%</td>\n",
              "      <td>0.21%</td>\n",
              "    </tr>\n",
              "    <tr>\n",
              "      <th>1</th>\n",
              "      <td>-</td>\n",
              "      <td>-</td>\n",
              "      <td>1</td>\n",
              "      <td>Overall, how has this business been affected b...</td>\n",
              "      <td>2</td>\n",
              "      <td>Moderate negative effect</td>\n",
              "      <td>38.5%</td>\n",
              "      <td>0.27%</td>\n",
              "    </tr>\n",
              "  </tbody>\n",
              "</table>\n",
              "</div>"
            ],
            "text/plain": [
              "  ST NAICS_SECTOR  ...  ESTIMATE_PERCENTAGE     SE\n",
              "0  -            -  ...                51.4%  0.21%\n",
              "1  -            -  ...                38.5%  0.27%\n",
              "\n",
              "[2 rows x 8 columns]"
            ]
          },
          "metadata": {},
          "execution_count": 8
        }
      ]
    },
    {
      "cell_type": "markdown",
      "metadata": {
        "id": "IGPU0SD3QGzS"
      },
      "source": [
        "## Note:\n",
        "1. Data doesn't have date/time column.\n",
        "2. Percentage sign is included in the dataset.\n",
        "\n",
        "\n",
        "## To do:\n",
        "1. Add date to the dataframe to indicate when the data is collected. \n",
        "2. Strip the \"%\" out so we can treat the value as float data type."
      ]
    },
    {
      "cell_type": "code",
      "metadata": {
        "colab": {
          "base_uri": "https://localhost:8080/",
          "height": 35
        },
        "id": "f7eOrDWXeDRL",
        "outputId": "dc585c1b-d206-42a7-ba54-4b5b73f25cf8"
      },
      "source": [
        "indexes_files[0]"
      ],
      "execution_count": 9,
      "outputs": [
        {
          "output_type": "execute_result",
          "data": {
            "application/vnd.google.colaboratory.intrinsic+json": {
              "type": "string"
            },
            "text/plain": [
              "'/content/drive/MyDrive/Group 9 Project Documents/Datasets/business_pulse/indexes_26Apr20_02May20.xlsx'"
            ]
          },
          "metadata": {},
          "execution_count": 9
        }
      ]
    },
    {
      "cell_type": "code",
      "metadata": {
        "id": "CPD5yCJ3J2ef"
      },
      "source": [
        "def p2f(x):\n",
        "    return float(x.strip('%'))\n",
        "\n",
        "def add_date_period_to_df(files_name):\n",
        "  # Getting file name --getting date range of the data\n",
        "  \n",
        "  regex = r'\\d+[A-Z][a-z]+\\d+_\\d+[A-Z][a-z]+\\d+'  \n",
        "  period_str = re.search(regex, files_name.split('/')[-1])[0]\n",
        "  date_period = period_str.split('_')\n",
        "\n",
        "\n",
        "  date_start = pd.to_datetime(date_period[0], format= '%d%b%y')\n",
        "  date_end = pd.to_datetime(date_period[1], format= '%d%b%y')\n",
        "  \n",
        "  # the data that was in percentage got turn into fraction\n",
        "  df = pd.read_excel(files_name,  converters={'ESTIMATE_PERCENTAGE':p2f, 'SE':p2f}).assign(DATE_START=date_start).assign(DATE_END=date_end)\n",
        "  return df"
      ],
      "execution_count": 10,
      "outputs": []
    },
    {
      "cell_type": "code",
      "metadata": {
        "colab": {
          "base_uri": "https://localhost:8080/",
          "height": 206
        },
        "id": "FcgzWODtJsQW",
        "outputId": "4441e2c2-57ee-4cc4-ecd2-ef16f4b2a047"
      },
      "source": [
        "test_index_df = add_date_period_to_df(indexes_files[0])\n",
        "test_index_df.head()"
      ],
      "execution_count": 11,
      "outputs": [
        {
          "output_type": "execute_result",
          "data": {
            "text/html": [
              "<div>\n",
              "<style scoped>\n",
              "    .dataframe tbody tr th:only-of-type {\n",
              "        vertical-align: middle;\n",
              "    }\n",
              "\n",
              "    .dataframe tbody tr th {\n",
              "        vertical-align: top;\n",
              "    }\n",
              "\n",
              "    .dataframe thead th {\n",
              "        text-align: right;\n",
              "    }\n",
              "</style>\n",
              "<table border=\"1\" class=\"dataframe\">\n",
              "  <thead>\n",
              "    <tr style=\"text-align: right;\">\n",
              "      <th></th>\n",
              "      <th>ST</th>\n",
              "      <th>NAICS_SECTOR</th>\n",
              "      <th>INDEX_NAME</th>\n",
              "      <th>ESTIMATE_PERCENTAGE</th>\n",
              "      <th>DATE_START</th>\n",
              "      <th>DATE_END</th>\n",
              "    </tr>\n",
              "  </thead>\n",
              "  <tbody>\n",
              "    <tr>\n",
              "      <th>0</th>\n",
              "      <td>-</td>\n",
              "      <td>-</td>\n",
              "      <td>Expected recovery index</td>\n",
              "      <td>-0.58</td>\n",
              "      <td>2020-04-26</td>\n",
              "      <td>2020-05-02</td>\n",
              "    </tr>\n",
              "    <tr>\n",
              "      <th>1</th>\n",
              "      <td>-</td>\n",
              "      <td>-</td>\n",
              "      <td>Financial stress index</td>\n",
              "      <td>-0.39</td>\n",
              "      <td>2020-04-26</td>\n",
              "      <td>2020-05-02</td>\n",
              "    </tr>\n",
              "    <tr>\n",
              "      <th>2</th>\n",
              "      <td>-</td>\n",
              "      <td>-</td>\n",
              "      <td>Operational challenges index</td>\n",
              "      <td>-0.45</td>\n",
              "      <td>2020-04-26</td>\n",
              "      <td>2020-05-02</td>\n",
              "    </tr>\n",
              "    <tr>\n",
              "      <th>3</th>\n",
              "      <td>-</td>\n",
              "      <td>-</td>\n",
              "      <td>Overall sentiment index</td>\n",
              "      <td>-0.69</td>\n",
              "      <td>2020-04-26</td>\n",
              "      <td>2020-05-02</td>\n",
              "    </tr>\n",
              "    <tr>\n",
              "      <th>4</th>\n",
              "      <td>-</td>\n",
              "      <td>11</td>\n",
              "      <td>Expected recovery index</td>\n",
              "      <td>-0.49</td>\n",
              "      <td>2020-04-26</td>\n",
              "      <td>2020-05-02</td>\n",
              "    </tr>\n",
              "  </tbody>\n",
              "</table>\n",
              "</div>"
            ],
            "text/plain": [
              "  ST NAICS_SECTOR  ... DATE_START   DATE_END\n",
              "0  -            -  ... 2020-04-26 2020-05-02\n",
              "1  -            -  ... 2020-04-26 2020-05-02\n",
              "2  -            -  ... 2020-04-26 2020-05-02\n",
              "3  -            -  ... 2020-04-26 2020-05-02\n",
              "4  -           11  ... 2020-04-26 2020-05-02\n",
              "\n",
              "[5 rows x 6 columns]"
            ]
          },
          "metadata": {},
          "execution_count": 11
        }
      ]
    },
    {
      "cell_type": "markdown",
      "metadata": {
        "id": "9ectiUE_JCmJ"
      },
      "source": [
        "# Append date into 1 big data set by data type\n"
      ]
    },
    {
      "cell_type": "markdown",
      "metadata": {
        "id": "6wr9r3vXR3bJ"
      },
      "source": [
        "## Index Files"
      ]
    },
    {
      "cell_type": "code",
      "metadata": {
        "id": "puIayVKKM-O9"
      },
      "source": [
        "# append data into 1 big date set\n",
        "df_index_all = pd.DataFrame()\n",
        "\n",
        "# loop thru all files in the list and concat them into one df\n",
        "for file in indexes_files:\n",
        "  df_index = add_date_period_to_df(file)\n",
        "  df_index_all =pd.concat([df_index_all, df_index])"
      ],
      "execution_count": 12,
      "outputs": []
    },
    {
      "cell_type": "code",
      "metadata": {
        "colab": {
          "base_uri": "https://localhost:8080/"
        },
        "id": "SXihpBufNg9A",
        "outputId": "5bbf4224-73a6-484c-aebd-ec3b17d730eb"
      },
      "source": [
        "df_index_all.shape"
      ],
      "execution_count": 13,
      "outputs": [
        {
          "output_type": "execute_result",
          "data": {
            "text/plain": [
              "(13582, 6)"
            ]
          },
          "metadata": {},
          "execution_count": 13
        }
      ]
    },
    {
      "cell_type": "code",
      "metadata": {
        "colab": {
          "base_uri": "https://localhost:8080/",
          "height": 206
        },
        "id": "0Qod9IM0Ni-M",
        "outputId": "66c75afe-1112-4d68-b26c-e018fe096e55"
      },
      "source": [
        "df_index_all.head()"
      ],
      "execution_count": 14,
      "outputs": [
        {
          "output_type": "execute_result",
          "data": {
            "text/html": [
              "<div>\n",
              "<style scoped>\n",
              "    .dataframe tbody tr th:only-of-type {\n",
              "        vertical-align: middle;\n",
              "    }\n",
              "\n",
              "    .dataframe tbody tr th {\n",
              "        vertical-align: top;\n",
              "    }\n",
              "\n",
              "    .dataframe thead th {\n",
              "        text-align: right;\n",
              "    }\n",
              "</style>\n",
              "<table border=\"1\" class=\"dataframe\">\n",
              "  <thead>\n",
              "    <tr style=\"text-align: right;\">\n",
              "      <th></th>\n",
              "      <th>ST</th>\n",
              "      <th>NAICS_SECTOR</th>\n",
              "      <th>INDEX_NAME</th>\n",
              "      <th>ESTIMATE_PERCENTAGE</th>\n",
              "      <th>DATE_START</th>\n",
              "      <th>DATE_END</th>\n",
              "    </tr>\n",
              "  </thead>\n",
              "  <tbody>\n",
              "    <tr>\n",
              "      <th>0</th>\n",
              "      <td>-</td>\n",
              "      <td>-</td>\n",
              "      <td>Expected recovery index</td>\n",
              "      <td>-0.58</td>\n",
              "      <td>2020-04-26</td>\n",
              "      <td>2020-05-02</td>\n",
              "    </tr>\n",
              "    <tr>\n",
              "      <th>1</th>\n",
              "      <td>-</td>\n",
              "      <td>-</td>\n",
              "      <td>Financial stress index</td>\n",
              "      <td>-0.39</td>\n",
              "      <td>2020-04-26</td>\n",
              "      <td>2020-05-02</td>\n",
              "    </tr>\n",
              "    <tr>\n",
              "      <th>2</th>\n",
              "      <td>-</td>\n",
              "      <td>-</td>\n",
              "      <td>Operational challenges index</td>\n",
              "      <td>-0.45</td>\n",
              "      <td>2020-04-26</td>\n",
              "      <td>2020-05-02</td>\n",
              "    </tr>\n",
              "    <tr>\n",
              "      <th>3</th>\n",
              "      <td>-</td>\n",
              "      <td>-</td>\n",
              "      <td>Overall sentiment index</td>\n",
              "      <td>-0.69</td>\n",
              "      <td>2020-04-26</td>\n",
              "      <td>2020-05-02</td>\n",
              "    </tr>\n",
              "    <tr>\n",
              "      <th>4</th>\n",
              "      <td>-</td>\n",
              "      <td>11</td>\n",
              "      <td>Expected recovery index</td>\n",
              "      <td>-0.49</td>\n",
              "      <td>2020-04-26</td>\n",
              "      <td>2020-05-02</td>\n",
              "    </tr>\n",
              "  </tbody>\n",
              "</table>\n",
              "</div>"
            ],
            "text/plain": [
              "  ST NAICS_SECTOR  ... DATE_START   DATE_END\n",
              "0  -            -  ... 2020-04-26 2020-05-02\n",
              "1  -            -  ... 2020-04-26 2020-05-02\n",
              "2  -            -  ... 2020-04-26 2020-05-02\n",
              "3  -            -  ... 2020-04-26 2020-05-02\n",
              "4  -           11  ... 2020-04-26 2020-05-02\n",
              "\n",
              "[5 rows x 6 columns]"
            ]
          },
          "metadata": {},
          "execution_count": 14
        }
      ]
    },
    {
      "cell_type": "code",
      "metadata": {
        "colab": {
          "base_uri": "https://localhost:8080/",
          "height": 206
        },
        "id": "TodZBmVIRdMU",
        "outputId": "08e1de17-a090-4ddc-c948-8bca398c4074"
      },
      "source": [
        "df_index_all.tail()"
      ],
      "execution_count": 15,
      "outputs": [
        {
          "output_type": "execute_result",
          "data": {
            "text/html": [
              "<div>\n",
              "<style scoped>\n",
              "    .dataframe tbody tr th:only-of-type {\n",
              "        vertical-align: middle;\n",
              "    }\n",
              "\n",
              "    .dataframe tbody tr th {\n",
              "        vertical-align: top;\n",
              "    }\n",
              "\n",
              "    .dataframe thead th {\n",
              "        text-align: right;\n",
              "    }\n",
              "</style>\n",
              "<table border=\"1\" class=\"dataframe\">\n",
              "  <thead>\n",
              "    <tr style=\"text-align: right;\">\n",
              "      <th></th>\n",
              "      <th>ST</th>\n",
              "      <th>NAICS_SECTOR</th>\n",
              "      <th>INDEX_NAME</th>\n",
              "      <th>ESTIMATE_PERCENTAGE</th>\n",
              "      <th>DATE_START</th>\n",
              "      <th>DATE_END</th>\n",
              "    </tr>\n",
              "  </thead>\n",
              "  <tbody>\n",
              "    <tr>\n",
              "      <th>279</th>\n",
              "      <td>WV</td>\n",
              "      <td>-</td>\n",
              "      <td>Overall sentiment index</td>\n",
              "      <td>-0.35</td>\n",
              "      <td>2021-09-27</td>\n",
              "      <td>2021-10-03</td>\n",
              "    </tr>\n",
              "    <tr>\n",
              "      <th>280</th>\n",
              "      <td>WY</td>\n",
              "      <td>-</td>\n",
              "      <td>Expected recovery index</td>\n",
              "      <td>-0.40</td>\n",
              "      <td>2021-09-27</td>\n",
              "      <td>2021-10-03</td>\n",
              "    </tr>\n",
              "    <tr>\n",
              "      <th>281</th>\n",
              "      <td>WY</td>\n",
              "      <td>-</td>\n",
              "      <td>Market challenges index</td>\n",
              "      <td>0.09</td>\n",
              "      <td>2021-09-27</td>\n",
              "      <td>2021-10-03</td>\n",
              "    </tr>\n",
              "    <tr>\n",
              "      <th>282</th>\n",
              "      <td>WY</td>\n",
              "      <td>-</td>\n",
              "      <td>Operational challenges index</td>\n",
              "      <td>-0.16</td>\n",
              "      <td>2021-09-27</td>\n",
              "      <td>2021-10-03</td>\n",
              "    </tr>\n",
              "    <tr>\n",
              "      <th>283</th>\n",
              "      <td>WY</td>\n",
              "      <td>-</td>\n",
              "      <td>Overall sentiment index</td>\n",
              "      <td>-0.25</td>\n",
              "      <td>2021-09-27</td>\n",
              "      <td>2021-10-03</td>\n",
              "    </tr>\n",
              "  </tbody>\n",
              "</table>\n",
              "</div>"
            ],
            "text/plain": [
              "     ST NAICS_SECTOR  ... DATE_START   DATE_END\n",
              "279  WV            -  ... 2021-09-27 2021-10-03\n",
              "280  WY            -  ... 2021-09-27 2021-10-03\n",
              "281  WY            -  ... 2021-09-27 2021-10-03\n",
              "282  WY            -  ... 2021-09-27 2021-10-03\n",
              "283  WY            -  ... 2021-09-27 2021-10-03\n",
              "\n",
              "[5 rows x 6 columns]"
            ]
          },
          "metadata": {},
          "execution_count": 15
        }
      ]
    },
    {
      "cell_type": "code",
      "metadata": {
        "colab": {
          "base_uri": "https://localhost:8080/"
        },
        "id": "r8iKxeuFXKzg",
        "outputId": "5c330b00-5067-48a0-f6a9-2516566a24b2"
      },
      "source": [
        "df_index_all.dtypes"
      ],
      "execution_count": 16,
      "outputs": [
        {
          "output_type": "execute_result",
          "data": {
            "text/plain": [
              "ST                             object\n",
              "NAICS_SECTOR                   object\n",
              "INDEX_NAME                     object\n",
              "ESTIMATE_PERCENTAGE           float64\n",
              "DATE_START             datetime64[ns]\n",
              "DATE_END               datetime64[ns]\n",
              "dtype: object"
            ]
          },
          "metadata": {},
          "execution_count": 16
        }
      ]
    },
    {
      "cell_type": "markdown",
      "metadata": {
        "id": "qjo-wggKJFnD"
      },
      "source": [
        "## State & NAICS"
      ]
    },
    {
      "cell_type": "code",
      "metadata": {
        "id": "lRm2QZVJR8s8"
      },
      "source": [
        "# append data into 1 big date set\n",
        "df_st_sector_all = pd.DataFrame()\n",
        "\n",
        "# loop thru all files in the list and concat them into one df\n",
        "for file in st_sector_files:\n",
        "  df_index = add_date_period_to_df(file)\n",
        "  df_st_sector_all =pd.concat([df_st_sector_all, df_index])"
      ],
      "execution_count": 17,
      "outputs": []
    },
    {
      "cell_type": "code",
      "metadata": {
        "colab": {
          "base_uri": "https://localhost:8080/"
        },
        "id": "NeLhGgnOSlIO",
        "outputId": "f7d4d6b0-d4a1-4638-957f-c9979828032f"
      },
      "source": [
        "df_st_sector_all.shape"
      ],
      "execution_count": 18,
      "outputs": [
        {
          "output_type": "execute_result",
          "data": {
            "text/plain": [
              "(911072, 10)"
            ]
          },
          "metadata": {},
          "execution_count": 18
        }
      ]
    },
    {
      "cell_type": "code",
      "metadata": {
        "colab": {
          "base_uri": "https://localhost:8080/",
          "height": 206
        },
        "id": "C3EfdYZ2S2LZ",
        "outputId": "0be61b60-f827-4e73-b66c-942bf1b0aea9"
      },
      "source": [
        "df_st_sector_all.head()"
      ],
      "execution_count": 19,
      "outputs": [
        {
          "output_type": "execute_result",
          "data": {
            "text/html": [
              "<div>\n",
              "<style scoped>\n",
              "    .dataframe tbody tr th:only-of-type {\n",
              "        vertical-align: middle;\n",
              "    }\n",
              "\n",
              "    .dataframe tbody tr th {\n",
              "        vertical-align: top;\n",
              "    }\n",
              "\n",
              "    .dataframe thead th {\n",
              "        text-align: right;\n",
              "    }\n",
              "</style>\n",
              "<table border=\"1\" class=\"dataframe\">\n",
              "  <thead>\n",
              "    <tr style=\"text-align: right;\">\n",
              "      <th></th>\n",
              "      <th>ST</th>\n",
              "      <th>NAICS_SECTOR</th>\n",
              "      <th>INSTRUMENT_ID</th>\n",
              "      <th>QUESTION</th>\n",
              "      <th>ANSWER_ID</th>\n",
              "      <th>ANSWER_TEXT</th>\n",
              "      <th>ESTIMATE_PERCENTAGE</th>\n",
              "      <th>SE</th>\n",
              "      <th>DATE_START</th>\n",
              "      <th>DATE_END</th>\n",
              "    </tr>\n",
              "  </thead>\n",
              "  <tbody>\n",
              "    <tr>\n",
              "      <th>0</th>\n",
              "      <td>-</td>\n",
              "      <td>-</td>\n",
              "      <td>1</td>\n",
              "      <td>Overall, how has this business been affected b...</td>\n",
              "      <td>1</td>\n",
              "      <td>Large negative effect</td>\n",
              "      <td>51.4</td>\n",
              "      <td>0.21</td>\n",
              "      <td>2020-04-26</td>\n",
              "      <td>2020-05-02</td>\n",
              "    </tr>\n",
              "    <tr>\n",
              "      <th>1</th>\n",
              "      <td>-</td>\n",
              "      <td>-</td>\n",
              "      <td>1</td>\n",
              "      <td>Overall, how has this business been affected b...</td>\n",
              "      <td>2</td>\n",
              "      <td>Moderate negative effect</td>\n",
              "      <td>38.5</td>\n",
              "      <td>0.27</td>\n",
              "      <td>2020-04-26</td>\n",
              "      <td>2020-05-02</td>\n",
              "    </tr>\n",
              "    <tr>\n",
              "      <th>2</th>\n",
              "      <td>-</td>\n",
              "      <td>-</td>\n",
              "      <td>1</td>\n",
              "      <td>Overall, how has this business been affected b...</td>\n",
              "      <td>3</td>\n",
              "      <td>Little or no effect</td>\n",
              "      <td>7.6</td>\n",
              "      <td>0.29</td>\n",
              "      <td>2020-04-26</td>\n",
              "      <td>2020-05-02</td>\n",
              "    </tr>\n",
              "    <tr>\n",
              "      <th>3</th>\n",
              "      <td>-</td>\n",
              "      <td>-</td>\n",
              "      <td>1</td>\n",
              "      <td>Overall, how has this business been affected b...</td>\n",
              "      <td>4</td>\n",
              "      <td>Moderate positive effect</td>\n",
              "      <td>1.7</td>\n",
              "      <td>0.08</td>\n",
              "      <td>2020-04-26</td>\n",
              "      <td>2020-05-02</td>\n",
              "    </tr>\n",
              "    <tr>\n",
              "      <th>4</th>\n",
              "      <td>-</td>\n",
              "      <td>-</td>\n",
              "      <td>1</td>\n",
              "      <td>Overall, how has this business been affected b...</td>\n",
              "      <td>5</td>\n",
              "      <td>Large positive effect</td>\n",
              "      <td>0.8</td>\n",
              "      <td>0.06</td>\n",
              "      <td>2020-04-26</td>\n",
              "      <td>2020-05-02</td>\n",
              "    </tr>\n",
              "  </tbody>\n",
              "</table>\n",
              "</div>"
            ],
            "text/plain": [
              "  ST NAICS_SECTOR  INSTRUMENT_ID  ...    SE  DATE_START   DATE_END\n",
              "0  -            -              1  ...  0.21  2020-04-26 2020-05-02\n",
              "1  -            -              1  ...  0.27  2020-04-26 2020-05-02\n",
              "2  -            -              1  ...  0.29  2020-04-26 2020-05-02\n",
              "3  -            -              1  ...  0.08  2020-04-26 2020-05-02\n",
              "4  -            -              1  ...  0.06  2020-04-26 2020-05-02\n",
              "\n",
              "[5 rows x 10 columns]"
            ]
          },
          "metadata": {},
          "execution_count": 19
        }
      ]
    },
    {
      "cell_type": "code",
      "metadata": {
        "colab": {
          "base_uri": "https://localhost:8080/",
          "height": 206
        },
        "id": "SNTUpqXEf5ZH",
        "outputId": "fcdac59c-11bd-4a55-ee44-9f9b1f92dd55"
      },
      "source": [
        "df_st_sector_all.tail()"
      ],
      "execution_count": 20,
      "outputs": [
        {
          "output_type": "execute_result",
          "data": {
            "text/html": [
              "<div>\n",
              "<style scoped>\n",
              "    .dataframe tbody tr th:only-of-type {\n",
              "        vertical-align: middle;\n",
              "    }\n",
              "\n",
              "    .dataframe tbody tr th {\n",
              "        vertical-align: top;\n",
              "    }\n",
              "\n",
              "    .dataframe thead th {\n",
              "        text-align: right;\n",
              "    }\n",
              "</style>\n",
              "<table border=\"1\" class=\"dataframe\">\n",
              "  <thead>\n",
              "    <tr style=\"text-align: right;\">\n",
              "      <th></th>\n",
              "      <th>ST</th>\n",
              "      <th>NAICS_SECTOR</th>\n",
              "      <th>INSTRUMENT_ID</th>\n",
              "      <th>QUESTION</th>\n",
              "      <th>ANSWER_ID</th>\n",
              "      <th>ANSWER_TEXT</th>\n",
              "      <th>ESTIMATE_PERCENTAGE</th>\n",
              "      <th>SE</th>\n",
              "      <th>DATE_START</th>\n",
              "      <th>DATE_END</th>\n",
              "    </tr>\n",
              "  </thead>\n",
              "  <tbody>\n",
              "    <tr>\n",
              "      <th>17363</th>\n",
              "      <td>WY</td>\n",
              "      <td>-</td>\n",
              "      <td>7</td>\n",
              "      <td>In the last week, did this business have a cha...</td>\n",
              "      <td>3</td>\n",
              "      <td>No change</td>\n",
              "      <td>76.5</td>\n",
              "      <td>3.93</td>\n",
              "      <td>2021-09-27</td>\n",
              "      <td>2021-10-03</td>\n",
              "    </tr>\n",
              "    <tr>\n",
              "      <th>17364</th>\n",
              "      <td>WY</td>\n",
              "      <td>-</td>\n",
              "      <td>8</td>\n",
              "      <td>In the last week, did this business require em...</td>\n",
              "      <td>2</td>\n",
              "      <td>No</td>\n",
              "      <td>78.0</td>\n",
              "      <td>7.00</td>\n",
              "      <td>2021-09-27</td>\n",
              "      <td>2021-10-03</td>\n",
              "    </tr>\n",
              "    <tr>\n",
              "      <th>17365</th>\n",
              "      <td>WY</td>\n",
              "      <td>-</td>\n",
              "      <td>9</td>\n",
              "      <td>In the last week, did this business require em...</td>\n",
              "      <td>2</td>\n",
              "      <td>No</td>\n",
              "      <td>75.5</td>\n",
              "      <td>8.02</td>\n",
              "      <td>2021-09-27</td>\n",
              "      <td>2021-10-03</td>\n",
              "    </tr>\n",
              "    <tr>\n",
              "      <th>17366</th>\n",
              "      <td>WY</td>\n",
              "      <td>62</td>\n",
              "      <td>13</td>\n",
              "      <td>Comparing now to what was normal before March ...</td>\n",
              "      <td>3</td>\n",
              "      <td>Little or no change in number of hours worked ...</td>\n",
              "      <td>100.0</td>\n",
              "      <td>0.00</td>\n",
              "      <td>2021-09-27</td>\n",
              "      <td>2021-10-03</td>\n",
              "    </tr>\n",
              "    <tr>\n",
              "      <th>17367</th>\n",
              "      <td>WY</td>\n",
              "      <td>62</td>\n",
              "      <td>5</td>\n",
              "      <td>In the last week, did this business do any of ...</td>\n",
              "      <td>4</td>\n",
              "      <td>None of the above</td>\n",
              "      <td>100.0</td>\n",
              "      <td>0.00</td>\n",
              "      <td>2021-09-27</td>\n",
              "      <td>2021-10-03</td>\n",
              "    </tr>\n",
              "  </tbody>\n",
              "</table>\n",
              "</div>"
            ],
            "text/plain": [
              "       ST NAICS_SECTOR  INSTRUMENT_ID  ...    SE  DATE_START   DATE_END\n",
              "17363  WY            -              7  ...  3.93  2021-09-27 2021-10-03\n",
              "17364  WY            -              8  ...  7.00  2021-09-27 2021-10-03\n",
              "17365  WY            -              9  ...  8.02  2021-09-27 2021-10-03\n",
              "17366  WY           62             13  ...  0.00  2021-09-27 2021-10-03\n",
              "17367  WY           62              5  ...  0.00  2021-09-27 2021-10-03\n",
              "\n",
              "[5 rows x 10 columns]"
            ]
          },
          "metadata": {},
          "execution_count": 20
        }
      ]
    },
    {
      "cell_type": "code",
      "metadata": {
        "colab": {
          "base_uri": "https://localhost:8080/"
        },
        "id": "wzPfInuFXG4I",
        "outputId": "d05d6527-26d1-4674-9065-af32ce085538"
      },
      "source": [
        "df_st_sector_all.dtypes"
      ],
      "execution_count": 21,
      "outputs": [
        {
          "output_type": "execute_result",
          "data": {
            "text/plain": [
              "ST                             object\n",
              "NAICS_SECTOR                   object\n",
              "INSTRUMENT_ID                   int64\n",
              "QUESTION                       object\n",
              "ANSWER_ID                       int64\n",
              "ANSWER_TEXT                    object\n",
              "ESTIMATE_PERCENTAGE           float64\n",
              "SE                            float64\n",
              "DATE_START             datetime64[ns]\n",
              "DATE_END               datetime64[ns]\n",
              "dtype: object"
            ]
          },
          "metadata": {},
          "execution_count": 21
        }
      ]
    },
    {
      "cell_type": "markdown",
      "metadata": {
        "id": "9TM_tf5bfeiV"
      },
      "source": [
        "# TO DO\n",
        "\n",
        "1. The state name is in abbreviation. Data structure/ value for state name is different from the household data. Therefore, a conversion of the state name is needed. (Either on the small business dataset or the household dataset)\n",
        "\n",
        "2. Select features that can be used as an indicator for business recovery.\n",
        "\n",
        "3. from the household datasets, find interesting variables that might be associated with the business recovery. "
      ]
    },
    {
      "cell_type": "code",
      "metadata": {
        "id": "Zo3-eHWkfeFB"
      },
      "source": [
        "state_name_mapping = {\n",
        "  \"AL\": \"Alabama\",\n",
        "  \"AK\": \"Alaska\",\n",
        "  \"AZ\": \"Arizona\",\n",
        "  \"AR\": \"Arkansas\",\n",
        "  \"CA\": \"California\",\n",
        "  \"CO\": \"Colorado\",\n",
        "  \"CT\": \"Connecticut\",\n",
        "  \"DE\": \"Delaware\",\n",
        "  \"FL\": \"Florida\",\n",
        "  \"GA\": \"Georgia\",\n",
        "  \"HI\": \"Hawaii\",\n",
        "  \"ID\": \"Idaho\",\n",
        "  \"IL\": \"Illinois\",\n",
        "  \"IN\": \"Indiana\",\n",
        "  \"IA\": \"Iowa\",\n",
        "  \"KS\": \"Kansas\",\n",
        "  \"KY\": \"Kentucky\",\n",
        "  \"LA\": \"Louisiana\",\n",
        "  \"ME\": \"Maine\",\n",
        "  \"MD\": \"Maryland\",\n",
        "  \"MA\": \"Massachusetts\",\n",
        "  \"MI\": \"Michigan\",\n",
        "  \"MN\": \"Minnesota\",\n",
        "  \"MS\": \"Mississippi\",\n",
        "  \"MO\": \"Missouri\",\n",
        "  \"MT\": \"Montana\",\n",
        "  \"NE\": \"Nebraska\",\n",
        "  \"NV\": \"Nevada\",\n",
        "  \"NH\": \"New Hampshire\",\n",
        "  \"NJ\": \"New Jersey\",\n",
        "  \"NM\": \"New Mexico\",\n",
        "  \"NY\": \"New York\",\n",
        "  \"NC\": \"North Carolina\",\n",
        "  \"ND\": \"North Dakota\",\n",
        "  \"OH\": \"Ohio\",\n",
        "  \"OK\": \"Oklahoma\",\n",
        "  \"OR\": \"Oregon\",\n",
        "  \"PA\": \"Pennsylvania\",\n",
        "  \"RI\": \"Rhode Island\",\n",
        "  \"SC\": \"South Carolina\",\n",
        "  \"SD\": \"South Dakota\",\n",
        "  \"TN\": \"Tennessee\",\n",
        "  \"TX\": \"Texas\",\n",
        "  \"UT\": \"Utah\",\n",
        "  \"VT\": \"Vermont\",\n",
        "  \"VA\": \"Virginia\",\n",
        "  \"WA\": \"Washington\",\n",
        "  \"WV\": \"West Virginia\",\n",
        "  \"WI\": \"Wisconsin\",\n",
        "  \"WY\": \"Wyoming\"\n",
        "}"
      ],
      "execution_count": 22,
      "outputs": []
    }
  ]
}