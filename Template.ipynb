{
  "nbformat": 4,
  "nbformat_minor": 0,
  "metadata": {
    "colab": {
      "name": "Template.ipynb",
      "provenance": [],
      "authorship_tag": "ABX9TyMqUfzrKafkSI7m0V+u2AcH",
      "include_colab_link": true
    },
    "kernelspec": {
      "name": "python3",
      "display_name": "Python 3"
    },
    "language_info": {
      "name": "python"
    }
  },
  "cells": [
    {
      "cell_type": "markdown",
      "metadata": {
        "id": "view-in-github",
        "colab_type": "text"
      },
      "source": [
        "<a href=\"https://colab.research.google.com/github/elizabethyoo/team_9/blob/main/Template.ipynb\" target=\"_parent\"><img src=\"https://colab.research.google.com/assets/colab-badge.svg\" alt=\"Open In Colab\"/></a>"
      ]
    },
    {
      "cell_type": "markdown",
      "metadata": {
        "id": "hvpkN6mneALV"
      },
      "source": [
        "#Template\n",
        "\n",
        "This is a template for the Group 9 analysis of small business during the Covid19 Pandemic. When starting a completely new analysis, please create a copy of this from the branch and rename it using analysis_name.ipynb format.\n",
        "\n",
        "It will be updated with common functions."
      ]
    },
    {
      "cell_type": "markdown",
      "metadata": {
        "id": "r7vVVHzzhWeD"
      },
      "source": [
        "#Setup"
      ]
    },
    {
      "cell_type": "markdown",
      "metadata": {
        "id": "iDyFk_CaipGg"
      },
      "source": [
        "**Mount Google Drive**\n",
        "\n",
        "To have access to the shared group 9 project folder, first create a shortcut to it in your drive. Then run the cell below to mount your google drive and follow the prompt to get the code."
      ]
    },
    {
      "cell_type": "code",
      "metadata": {
        "id": "ZcVwwv6DWlH5"
      },
      "source": [
        "# Mount google drive\n",
        "\n",
        "from google.colab import drive\n",
        "\n",
        "drive.mount('/content/gdrive')\n",
        "root_path = '/content/gdrive/MyDrive/Group 9 Project Documents'"
      ],
      "execution_count": null,
      "outputs": []
    },
    {
      "cell_type": "code",
      "metadata": {
        "id": "9s6vQPjqYKRw"
      },
      "source": [
        "# Imports\n",
        "\n",
        "import matplotlib.pyplot as plt\n",
        "import numpy as np\n",
        "import pandas as pd"
      ],
      "execution_count": 4,
      "outputs": []
    },
    {
      "cell_type": "markdown",
      "metadata": {
        "id": "7v_U0BbDjgRo"
      },
      "source": [
        "---\n",
        "# Common Functions\n"
      ]
    },
    {
      "cell_type": "code",
      "metadata": {
        "id": "ASzgHP9bjyXm"
      },
      "source": [
        "def plot_stuff(x,y):\n",
        "  \"\"\"\n",
        "  Args\n",
        "  x : \n",
        "  y:\n",
        "\n",
        "  Returns:\n",
        "  something\n",
        "  \"\"\"\n",
        "  raise NotImplementedError"
      ],
      "execution_count": null,
      "outputs": []
    }
  ]
}