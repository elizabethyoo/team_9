{
  "nbformat": 4,
  "nbformat_minor": 0,
  "metadata": {
    "colab": {
      "name": "Copy of Template.ipynb",
      "provenance": [],
      "mount_file_id": "1f-VeuvGnnNaJvEoA8Zuc-pFrJF2PJG8C",
      "authorship_tag": "ABX9TyOiBLUMBYYLYDAti6nARCoC",
      "include_colab_link": true
    },
    "kernelspec": {
      "name": "python3",
      "display_name": "Python 3"
    },
    "language_info": {
      "name": "python"
    }
  },
  "cells": [
    {
      "cell_type": "markdown",
      "metadata": {
        "id": "view-in-github",
        "colab_type": "text"
      },
      "source": [
        "<a href=\"https://colab.research.google.com/github/elizabethyoo/team_9/blob/update_template/Template.ipynb\" target=\"_parent\"><img src=\"https://colab.research.google.com/assets/colab-badge.svg\" alt=\"Open In Colab\"/></a>"
      ]
    },
    {
      "cell_type": "markdown",
      "metadata": {
        "id": "hvpkN6mneALV"
      },
      "source": [
        "#Template\n",
        "\n",
        "This is a template for the Group 9 analysis of small business during the Covid19 Pandemic. When starting a completely new analysis, please create a copy of this from the branch and rename it using analysis_name.ipynb format.\n",
        "\n",
        "It will be updated with common functions."
      ]
    },
    {
      "cell_type": "markdown",
      "metadata": {
        "id": "r7vVVHzzhWeD"
      },
      "source": [
        "#Setup"
      ]
    },
    {
      "cell_type": "markdown",
      "metadata": {
        "id": "iDyFk_CaipGg"
      },
      "source": [
        "**Mount Google Drive**\n",
        "\n",
        "To have access to the shared group 9 project folder, first create a shortcut to it in your drive. Then run the cell below to mount your google drive and follow the prompt to get the code."
      ]
    },
    {
      "cell_type": "code",
      "metadata": {
        "id": "ZcVwwv6DWlH5",
        "colab": {
          "base_uri": "https://localhost:8080/"
        },
        "outputId": "1e4cc4f3-e9e4-4ff4-8829-66560d539347"
      },
      "source": [
        "# Mount google drive\n",
        "\n",
        "from google.colab import drive\n",
        "\n",
        "drive.mount('/content/gdrive')"
      ],
      "execution_count": 6,
      "outputs": [
        {
          "output_type": "stream",
          "name": "stdout",
          "text": [
            "Mounted at /content/gdrive\n"
          ]
        }
      ]
    },
    {
      "cell_type": "code",
      "metadata": {
        "id": "9s6vQPjqYKRw"
      },
      "source": [
        "# Imports\n",
        "import matplotlib.pyplot as plt\n",
        "import numpy as np\n",
        "import pandas as pd"
      ],
      "execution_count": 2,
      "outputs": []
    },
    {
      "cell_type": "markdown",
      "metadata": {
        "id": "7v_U0BbDjgRo"
      },
      "source": [
        "---\n",
        "# Common Functions\n"
      ]
    },
    {
      "cell_type": "code",
      "metadata": {
        "id": "ASzgHP9bjyXm"
      },
      "source": [
        "def plot_stuff(x,y):\n",
        "  \"\"\"\n",
        "  Args\n",
        "  x : \n",
        "  y:\n",
        "\n",
        "  Returns:\n",
        "  something\n",
        "  \"\"\"\n",
        "  raise NotImplementedError"
      ],
      "execution_count": null,
      "outputs": []
    },
    {
      "cell_type": "code",
      "metadata": {
        "id": "SCST5TTWMCcG"
      },
      "source": [
        "root_path = '/content/gdrive/MyDrive/team_9/Datasets/'\n",
        "states = pd.read_csv(root_path+'state_key.csv', dtype={\"ps_id\":str})\n",
        "state_key = {key:value for (key,value) in zip(states.ps_id,states.abrv)}"
      ],
      "execution_count": 7,
      "outputs": []
    }
  ]
}