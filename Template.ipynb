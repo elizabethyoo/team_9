{
  "nbformat": 4,
  "nbformat_minor": 0,
  "metadata": {
    "colab": {
      "name": "Template.ipynb",
      "provenance": [],
      "authorship_tag": "ABX9TyPmTqyzhbxGb0LLN7yrehx6",
      "include_colab_link": true
    },
    "kernelspec": {
      "name": "python3",
      "display_name": "Python 3"
    },
    "language_info": {
      "name": "python"
    }
  },
  "cells": [
    {
      "cell_type": "markdown",
      "metadata": {
        "id": "view-in-github",
        "colab_type": "text"
      },
      "source": [
        "<a href=\"https://colab.research.google.com/github/elizabethyoo/team_9/blob/main/Template.ipynb\" target=\"_parent\"><img src=\"https://colab.research.google.com/assets/colab-badge.svg\" alt=\"Open In Colab\"/></a>"
      ]
    },
    {
      "cell_type": "code",
      "metadata": {
        "colab": {
          "base_uri": "https://localhost:8080/"
        },
        "id": "ZcVwwv6DWlH5",
        "outputId": "de12ee83-e67f-4a7d-82be-8ba84085c01a"
      },
      "source": [
        "from google.colab import drive\n",
        "\n",
        "drive.mount('/content/gdrive')\n",
        "root_path = '/content/gdrive/MyDrive/Group 9 Project Documents'"
      ],
      "execution_count": 1,
      "outputs": [
        {
          "output_type": "stream",
          "name": "stdout",
          "text": [
            "Mounted at /content/gdrive\n"
          ]
        }
      ]
    },
    {
      "cell_type": "code",
      "metadata": {
        "id": "9s6vQPjqYKRw"
      },
      "source": [
        "import pandas as pd"
      ],
      "execution_count": 4,
      "outputs": []
    },
    {
      "cell_type": "code",
      "metadata": {
        "id": "9agYzwa5Zbg6"
      },
      "source": [
        "dictionary = pd.read_csv('/content/gdrive/MyDrive/Group 9 Project Documents/pulse2021_puf_36.csv')"
      ],
      "execution_count": 9,
      "outputs": []
    },
    {
      "cell_type": "code",
      "metadata": {
        "colab": {
          "base_uri": "https://localhost:8080/"
        },
        "id": "a4KHTPoiaXCV",
        "outputId": "4c6648a3-fa2e-47fa-93d3-43a9fbb83a96"
      },
      "source": [
        "dictionary.head"
      ],
      "execution_count": 10,
      "outputs": [
        {
          "output_type": "execute_result",
          "data": {
            "text/plain": [
              "<bound method NDFrame.head of                            SCRAM  WEEK  EST_ST  ...  PSWHYCHG8  PSWHYCHG9  INCOME\n",
              "0      V360000001S30010264000112    36       1  ...        -88        -88     -88\n",
              "1      V360000001S30011372510122    36       1  ...        -88        -88       2\n",
              "2      V360000001S30011968410122    36       1  ...        -88        -88       5\n",
              "3      V360000001S32011392710122    36       1  ...        -88        -88       4\n",
              "4      V360000001S37010583600122    36       1  ...        -88        -88       3\n",
              "...                          ...   ...     ...  ...        ...        ...     ...\n",
              "69109  V369950006S11560023200022    36      56  ...        -88        -88       5\n",
              "69110  V369950006S12560043400022    36      56  ...        -88        -88       1\n",
              "69111  V369950006S12560749400012    36      56  ...        -88        -88       4\n",
              "69112  V369950006S50560700110012    36      19  ...        -88        -88       3\n",
              "69113  V369950006S52560912210012    36      56  ...        -88        -88     -88\n",
              "\n",
              "[69114 rows x 202 columns]>"
            ]
          },
          "metadata": {},
          "execution_count": 10
        }
      ]
    }
  ]
}