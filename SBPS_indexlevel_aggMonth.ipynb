{
  "nbformat": 4,
  "nbformat_minor": 0,
  "metadata": {
    "colab": {
      "name": "SBPS_indexlevel_aggMonth.ipynb",
      "provenance": [],
      "mount_file_id": "1s2qQJHvWEY62mIIrxkbMqx6S3tCEcYXD",
      "authorship_tag": "ABX9TyPbZZNaEZ7u7fjvgF3Oer0e",
      "include_colab_link": true
    },
    "kernelspec": {
      "name": "python3",
      "display_name": "Python 3"
    },
    "language_info": {
      "name": "python"
    }
  },
  "cells": [
    {
      "cell_type": "markdown",
      "metadata": {
        "id": "view-in-github",
        "colab_type": "text"
      },
      "source": [
        "<a href=\"https://colab.research.google.com/github/elizabethyoo/team_9/blob/explore%2F02-eda-sbps/SBPS_indexlevel_aggMonth.ipynb\" target=\"_parent\"><img src=\"https://colab.research.google.com/assets/colab-badge.svg\" alt=\"Open In Colab\"/></a>"
      ]
    },
    {
      "cell_type": "code",
      "metadata": {
        "colab": {
          "base_uri": "https://localhost:8080/"
        },
        "id": "9ZIG-N7p5iU5",
        "outputId": "613f5fec-2a87-4d92-cfb3-64890ee8a09a"
      },
      "source": [
        "from google.colab import drive\n",
        "\n",
        "drive.mount('/content/gdrive')\n",
        "root_path = '/content/gdrive/MyDrive/DS4A/Group 9 Project Documents'"
      ],
      "execution_count": null,
      "outputs": [
        {
          "output_type": "stream",
          "name": "stdout",
          "text": [
            "Mounted at /content/gdrive\n"
          ]
        }
      ]
    },
    {
      "cell_type": "code",
      "metadata": {
        "id": "Rq45Ws9q5wFf"
      },
      "source": [
        "import numpy as np\n",
        "import matplotlib.pyplot as plt\n",
        "import pandas as pd\n",
        "import seaborn as sns\n",
        "%matplotlib inline\n",
        "plt.rcParams['figure.figsize'] = 15,10\n",
        "import warnings\n",
        "warnings.filterwarnings('ignore')"
      ],
      "execution_count": null,
      "outputs": []
    },
    {
      "cell_type": "code",
      "metadata": {
        "colab": {
          "base_uri": "https://localhost:8080/"
        },
        "id": "Q9UpCFITxN0w",
        "outputId": "5b34b65b-aadb-4ff4-eccb-1c3b597479fe"
      },
      "source": [
        "from google.colab import drive\n",
        "drive.mount('/content/drive')"
      ],
      "execution_count": null,
      "outputs": [
        {
          "output_type": "stream",
          "name": "stdout",
          "text": [
            "Drive already mounted at /content/drive; to attempt to forcibly remount, call drive.mount(\"/content/drive\", force_remount=True).\n"
          ]
        }
      ]
    },
    {
      "cell_type": "code",
      "metadata": {
        "id": "M8DBNFPY5xKk"
      },
      "source": [
        "combo_df = pd.read_csv('/content/drive/MyDrive/DS4A/Datasets /business_pulse/combined_indexes.csv')"
      ],
      "execution_count": null,
      "outputs": []
    },
    {
      "cell_type": "code",
      "metadata": {
        "colab": {
          "base_uri": "https://localhost:8080/",
          "height": 204
        },
        "id": "892LqTQK6OK4",
        "outputId": "b745ea3c-d787-48ac-907c-acd11772d112"
      },
      "source": [
        "combo_df.head()"
      ],
      "execution_count": null,
      "outputs": [
        {
          "output_type": "execute_result",
          "data": {
            "text/html": [
              "<div>\n",
              "<style scoped>\n",
              "    .dataframe tbody tr th:only-of-type {\n",
              "        vertical-align: middle;\n",
              "    }\n",
              "\n",
              "    .dataframe tbody tr th {\n",
              "        vertical-align: top;\n",
              "    }\n",
              "\n",
              "    .dataframe thead th {\n",
              "        text-align: right;\n",
              "    }\n",
              "</style>\n",
              "<table border=\"1\" class=\"dataframe\">\n",
              "  <thead>\n",
              "    <tr style=\"text-align: right;\">\n",
              "      <th></th>\n",
              "      <th>ST</th>\n",
              "      <th>NAICS_SECTOR</th>\n",
              "      <th>INDEX_NAME</th>\n",
              "      <th>ESTIMATE_PERCENTAGE</th>\n",
              "      <th>DATE_START</th>\n",
              "      <th>DATE_END</th>\n",
              "    </tr>\n",
              "  </thead>\n",
              "  <tbody>\n",
              "    <tr>\n",
              "      <th>0</th>\n",
              "      <td>-</td>\n",
              "      <td>-</td>\n",
              "      <td>Expected recovery index</td>\n",
              "      <td>-0.58</td>\n",
              "      <td>2020-04-26</td>\n",
              "      <td>2020-05-02</td>\n",
              "    </tr>\n",
              "    <tr>\n",
              "      <th>1</th>\n",
              "      <td>-</td>\n",
              "      <td>-</td>\n",
              "      <td>Financial stress index</td>\n",
              "      <td>-0.39</td>\n",
              "      <td>2020-04-26</td>\n",
              "      <td>2020-05-02</td>\n",
              "    </tr>\n",
              "    <tr>\n",
              "      <th>2</th>\n",
              "      <td>-</td>\n",
              "      <td>-</td>\n",
              "      <td>Operational challenges index</td>\n",
              "      <td>-0.45</td>\n",
              "      <td>2020-04-26</td>\n",
              "      <td>2020-05-02</td>\n",
              "    </tr>\n",
              "    <tr>\n",
              "      <th>3</th>\n",
              "      <td>-</td>\n",
              "      <td>-</td>\n",
              "      <td>Overall sentiment index</td>\n",
              "      <td>-0.69</td>\n",
              "      <td>2020-04-26</td>\n",
              "      <td>2020-05-02</td>\n",
              "    </tr>\n",
              "    <tr>\n",
              "      <th>4</th>\n",
              "      <td>-</td>\n",
              "      <td>11</td>\n",
              "      <td>Expected recovery index</td>\n",
              "      <td>-0.49</td>\n",
              "      <td>2020-04-26</td>\n",
              "      <td>2020-05-02</td>\n",
              "    </tr>\n",
              "  </tbody>\n",
              "</table>\n",
              "</div>"
            ],
            "text/plain": [
              "  ST NAICS_SECTOR  ...  DATE_START    DATE_END\n",
              "0  -            -  ...  2020-04-26  2020-05-02\n",
              "1  -            -  ...  2020-04-26  2020-05-02\n",
              "2  -            -  ...  2020-04-26  2020-05-02\n",
              "3  -            -  ...  2020-04-26  2020-05-02\n",
              "4  -           11  ...  2020-04-26  2020-05-02\n",
              "\n",
              "[5 rows x 6 columns]"
            ]
          },
          "metadata": {},
          "execution_count": 5
        }
      ]
    },
    {
      "cell_type": "code",
      "metadata": {
        "colab": {
          "base_uri": "https://localhost:8080/",
          "height": 204
        },
        "id": "5iFqjhTligod",
        "outputId": "474e40d5-a0d3-4543-b836-4800b16f6ad7"
      },
      "source": [
        "Filter1 = (combo_df.ST != \"-\") & (combo_df.NAICS_SECTOR == '-')\n",
        "combo_df = combo_df[Filter1]\n",
        "combo_df.head()"
      ],
      "execution_count": null,
      "outputs": [
        {
          "output_type": "execute_result",
          "data": {
            "text/html": [
              "<div>\n",
              "<style scoped>\n",
              "    .dataframe tbody tr th:only-of-type {\n",
              "        vertical-align: middle;\n",
              "    }\n",
              "\n",
              "    .dataframe tbody tr th {\n",
              "        vertical-align: top;\n",
              "    }\n",
              "\n",
              "    .dataframe thead th {\n",
              "        text-align: right;\n",
              "    }\n",
              "</style>\n",
              "<table border=\"1\" class=\"dataframe\">\n",
              "  <thead>\n",
              "    <tr style=\"text-align: right;\">\n",
              "      <th></th>\n",
              "      <th>ST</th>\n",
              "      <th>NAICS_SECTOR</th>\n",
              "      <th>INDEX_NAME</th>\n",
              "      <th>ESTIMATE_PERCENTAGE</th>\n",
              "      <th>DATE_START</th>\n",
              "      <th>DATE_END</th>\n",
              "    </tr>\n",
              "  </thead>\n",
              "  <tbody>\n",
              "    <tr>\n",
              "      <th>80</th>\n",
              "      <td>AK</td>\n",
              "      <td>-</td>\n",
              "      <td>Expected recovery index</td>\n",
              "      <td>-0.59</td>\n",
              "      <td>2020-04-26</td>\n",
              "      <td>2020-05-02</td>\n",
              "    </tr>\n",
              "    <tr>\n",
              "      <th>81</th>\n",
              "      <td>AK</td>\n",
              "      <td>-</td>\n",
              "      <td>Financial stress index</td>\n",
              "      <td>-0.36</td>\n",
              "      <td>2020-04-26</td>\n",
              "      <td>2020-05-02</td>\n",
              "    </tr>\n",
              "    <tr>\n",
              "      <th>82</th>\n",
              "      <td>AK</td>\n",
              "      <td>-</td>\n",
              "      <td>Operational challenges index</td>\n",
              "      <td>-0.39</td>\n",
              "      <td>2020-04-26</td>\n",
              "      <td>2020-05-02</td>\n",
              "    </tr>\n",
              "    <tr>\n",
              "      <th>83</th>\n",
              "      <td>AK</td>\n",
              "      <td>-</td>\n",
              "      <td>Overall sentiment index</td>\n",
              "      <td>-0.66</td>\n",
              "      <td>2020-04-26</td>\n",
              "      <td>2020-05-02</td>\n",
              "    </tr>\n",
              "    <tr>\n",
              "      <th>84</th>\n",
              "      <td>AL</td>\n",
              "      <td>-</td>\n",
              "      <td>Expected recovery index</td>\n",
              "      <td>-0.51</td>\n",
              "      <td>2020-04-26</td>\n",
              "      <td>2020-05-02</td>\n",
              "    </tr>\n",
              "  </tbody>\n",
              "</table>\n",
              "</div>"
            ],
            "text/plain": [
              "    ST NAICS_SECTOR  ...  DATE_START    DATE_END\n",
              "80  AK            -  ...  2020-04-26  2020-05-02\n",
              "81  AK            -  ...  2020-04-26  2020-05-02\n",
              "82  AK            -  ...  2020-04-26  2020-05-02\n",
              "83  AK            -  ...  2020-04-26  2020-05-02\n",
              "84  AL            -  ...  2020-04-26  2020-05-02\n",
              "\n",
              "[5 rows x 6 columns]"
            ]
          },
          "metadata": {},
          "execution_count": 6
        }
      ]
    },
    {
      "cell_type": "code",
      "metadata": {
        "colab": {
          "base_uri": "https://localhost:8080/",
          "height": 204
        },
        "id": "oN-uRnc1jAnv",
        "outputId": "566b0480-0d3e-4a87-87f7-18f6dce66b5d"
      },
      "source": [
        "combo_df = combo_df.drop(columns=['NAICS_SECTOR', 'DATE_END'])\n",
        "combo_df.head()"
      ],
      "execution_count": null,
      "outputs": [
        {
          "output_type": "execute_result",
          "data": {
            "text/html": [
              "<div>\n",
              "<style scoped>\n",
              "    .dataframe tbody tr th:only-of-type {\n",
              "        vertical-align: middle;\n",
              "    }\n",
              "\n",
              "    .dataframe tbody tr th {\n",
              "        vertical-align: top;\n",
              "    }\n",
              "\n",
              "    .dataframe thead th {\n",
              "        text-align: right;\n",
              "    }\n",
              "</style>\n",
              "<table border=\"1\" class=\"dataframe\">\n",
              "  <thead>\n",
              "    <tr style=\"text-align: right;\">\n",
              "      <th></th>\n",
              "      <th>ST</th>\n",
              "      <th>INDEX_NAME</th>\n",
              "      <th>ESTIMATE_PERCENTAGE</th>\n",
              "      <th>DATE_START</th>\n",
              "    </tr>\n",
              "  </thead>\n",
              "  <tbody>\n",
              "    <tr>\n",
              "      <th>80</th>\n",
              "      <td>AK</td>\n",
              "      <td>Expected recovery index</td>\n",
              "      <td>-0.59</td>\n",
              "      <td>2020-04-26</td>\n",
              "    </tr>\n",
              "    <tr>\n",
              "      <th>81</th>\n",
              "      <td>AK</td>\n",
              "      <td>Financial stress index</td>\n",
              "      <td>-0.36</td>\n",
              "      <td>2020-04-26</td>\n",
              "    </tr>\n",
              "    <tr>\n",
              "      <th>82</th>\n",
              "      <td>AK</td>\n",
              "      <td>Operational challenges index</td>\n",
              "      <td>-0.39</td>\n",
              "      <td>2020-04-26</td>\n",
              "    </tr>\n",
              "    <tr>\n",
              "      <th>83</th>\n",
              "      <td>AK</td>\n",
              "      <td>Overall sentiment index</td>\n",
              "      <td>-0.66</td>\n",
              "      <td>2020-04-26</td>\n",
              "    </tr>\n",
              "    <tr>\n",
              "      <th>84</th>\n",
              "      <td>AL</td>\n",
              "      <td>Expected recovery index</td>\n",
              "      <td>-0.51</td>\n",
              "      <td>2020-04-26</td>\n",
              "    </tr>\n",
              "  </tbody>\n",
              "</table>\n",
              "</div>"
            ],
            "text/plain": [
              "    ST                    INDEX_NAME  ESTIMATE_PERCENTAGE  DATE_START\n",
              "80  AK       Expected recovery index                -0.59  2020-04-26\n",
              "81  AK        Financial stress index                -0.36  2020-04-26\n",
              "82  AK  Operational challenges index                -0.39  2020-04-26\n",
              "83  AK       Overall sentiment index                -0.66  2020-04-26\n",
              "84  AL       Expected recovery index                -0.51  2020-04-26"
            ]
          },
          "metadata": {},
          "execution_count": 7
        }
      ]
    },
    {
      "cell_type": "code",
      "metadata": {
        "id": "1rKcydq0mO33"
      },
      "source": [
        "#need to convert date_start from obj to datetimeindex\n",
        "#once converted, do the group by date start, st and index name\n",
        "#then resample by 'M' at level that will keep date st and index (I think level 2? maybe 3?) \n",
        "#then index=false to flatten and then export to csv for monthly aggregated data"
      ],
      "execution_count": null,
      "outputs": []
    },
    {
      "cell_type": "code",
      "metadata": {
        "colab": {
          "base_uri": "https://localhost:8080/",
          "height": 450
        },
        "id": "N7xsW1cEjRdm",
        "outputId": "721115b0-c885-4e6c-ed43-251458708678"
      },
      "source": [
        "Grouped_df = combo_df.groupby(['DATE_START', 'ST', 'INDEX_NAME']).mean()\n",
        "Grouped_df"
      ],
      "execution_count": null,
      "outputs": [
        {
          "output_type": "execute_result",
          "data": {
            "text/html": [
              "<div>\n",
              "<style scoped>\n",
              "    .dataframe tbody tr th:only-of-type {\n",
              "        vertical-align: middle;\n",
              "    }\n",
              "\n",
              "    .dataframe tbody tr th {\n",
              "        vertical-align: top;\n",
              "    }\n",
              "\n",
              "    .dataframe thead th {\n",
              "        text-align: right;\n",
              "    }\n",
              "</style>\n",
              "<table border=\"1\" class=\"dataframe\">\n",
              "  <thead>\n",
              "    <tr style=\"text-align: right;\">\n",
              "      <th></th>\n",
              "      <th></th>\n",
              "      <th></th>\n",
              "      <th>ESTIMATE_PERCENTAGE</th>\n",
              "    </tr>\n",
              "    <tr>\n",
              "      <th>DATE_START</th>\n",
              "      <th>ST</th>\n",
              "      <th>INDEX_NAME</th>\n",
              "      <th></th>\n",
              "    </tr>\n",
              "  </thead>\n",
              "  <tbody>\n",
              "    <tr>\n",
              "      <th rowspan=\"5\" valign=\"top\">2020-04-26</th>\n",
              "      <th rowspan=\"4\" valign=\"top\">AK</th>\n",
              "      <th>Expected recovery index</th>\n",
              "      <td>-0.59</td>\n",
              "    </tr>\n",
              "    <tr>\n",
              "      <th>Financial stress index</th>\n",
              "      <td>-0.36</td>\n",
              "    </tr>\n",
              "    <tr>\n",
              "      <th>Operational challenges index</th>\n",
              "      <td>-0.39</td>\n",
              "    </tr>\n",
              "    <tr>\n",
              "      <th>Overall sentiment index</th>\n",
              "      <td>-0.66</td>\n",
              "    </tr>\n",
              "    <tr>\n",
              "      <th>AL</th>\n",
              "      <th>Expected recovery index</th>\n",
              "      <td>-0.51</td>\n",
              "    </tr>\n",
              "    <tr>\n",
              "      <th>...</th>\n",
              "      <th>...</th>\n",
              "      <th>...</th>\n",
              "      <td>...</td>\n",
              "    </tr>\n",
              "    <tr>\n",
              "      <th rowspan=\"5\" valign=\"top\">2021-09-27</th>\n",
              "      <th>WV</th>\n",
              "      <th>Overall sentiment index</th>\n",
              "      <td>-0.35</td>\n",
              "    </tr>\n",
              "    <tr>\n",
              "      <th rowspan=\"4\" valign=\"top\">WY</th>\n",
              "      <th>Expected recovery index</th>\n",
              "      <td>-0.40</td>\n",
              "    </tr>\n",
              "    <tr>\n",
              "      <th>Market challenges index</th>\n",
              "      <td>0.09</td>\n",
              "    </tr>\n",
              "    <tr>\n",
              "      <th>Operational challenges index</th>\n",
              "      <td>-0.16</td>\n",
              "    </tr>\n",
              "    <tr>\n",
              "      <th>Overall sentiment index</th>\n",
              "      <td>-0.25</td>\n",
              "    </tr>\n",
              "  </tbody>\n",
              "</table>\n",
              "<p>9880 rows × 1 columns</p>\n",
              "</div>"
            ],
            "text/plain": [
              "                                            ESTIMATE_PERCENTAGE\n",
              "DATE_START ST INDEX_NAME                                       \n",
              "2020-04-26 AK Expected recovery index                     -0.59\n",
              "              Financial stress index                      -0.36\n",
              "              Operational challenges index                -0.39\n",
              "              Overall sentiment index                     -0.66\n",
              "           AL Expected recovery index                     -0.51\n",
              "...                                                         ...\n",
              "2021-09-27 WV Overall sentiment index                     -0.35\n",
              "           WY Expected recovery index                     -0.40\n",
              "              Market challenges index                      0.09\n",
              "              Operational challenges index                -0.16\n",
              "              Overall sentiment index                     -0.25\n",
              "\n",
              "[9880 rows x 1 columns]"
            ]
          },
          "metadata": {},
          "execution_count": 10
        }
      ]
    },
    {
      "cell_type": "code",
      "metadata": {
        "colab": {
          "base_uri": "https://localhost:8080/",
          "height": 306
        },
        "id": "wS27-AkPmGhp",
        "outputId": "9111bdae-e646-48cf-97ed-7a76e9f5890c"
      },
      "source": [
        "Grouped_df.resample('M', level=2).mean()"
      ],
      "execution_count": null,
      "outputs": [
        {
          "output_type": "error",
          "ename": "TypeError",
          "evalue": "ignored",
          "traceback": [
            "\u001b[0;31m---------------------------------------------------------------------------\u001b[0m",
            "\u001b[0;31mTypeError\u001b[0m                                 Traceback (most recent call last)",
            "\u001b[0;32m<ipython-input-11-ff276c8b11c9>\u001b[0m in \u001b[0;36m<module>\u001b[0;34m()\u001b[0m\n\u001b[0;32m----> 1\u001b[0;31m \u001b[0mGrouped_df\u001b[0m\u001b[0;34m.\u001b[0m\u001b[0mresample\u001b[0m\u001b[0;34m(\u001b[0m\u001b[0;34m'M'\u001b[0m\u001b[0;34m,\u001b[0m \u001b[0mlevel\u001b[0m\u001b[0;34m=\u001b[0m\u001b[0;36m2\u001b[0m\u001b[0;34m)\u001b[0m\u001b[0;34m.\u001b[0m\u001b[0mmean\u001b[0m\u001b[0;34m(\u001b[0m\u001b[0;34m)\u001b[0m\u001b[0;34m\u001b[0m\u001b[0;34m\u001b[0m\u001b[0m\n\u001b[0m",
            "\u001b[0;32m/usr/local/lib/python3.7/dist-packages/pandas/core/generic.py\u001b[0m in \u001b[0;36mresample\u001b[0;34m(self, rule, axis, closed, label, convention, kind, loffset, base, on, level, origin, offset)\u001b[0m\n\u001b[1;32m   8094\u001b[0m             \u001b[0mlevel\u001b[0m\u001b[0;34m=\u001b[0m\u001b[0mlevel\u001b[0m\u001b[0;34m,\u001b[0m\u001b[0;34m\u001b[0m\u001b[0;34m\u001b[0m\u001b[0m\n\u001b[1;32m   8095\u001b[0m             \u001b[0morigin\u001b[0m\u001b[0;34m=\u001b[0m\u001b[0morigin\u001b[0m\u001b[0;34m,\u001b[0m\u001b[0;34m\u001b[0m\u001b[0;34m\u001b[0m\u001b[0m\n\u001b[0;32m-> 8096\u001b[0;31m             \u001b[0moffset\u001b[0m\u001b[0;34m=\u001b[0m\u001b[0moffset\u001b[0m\u001b[0;34m,\u001b[0m\u001b[0;34m\u001b[0m\u001b[0;34m\u001b[0m\u001b[0m\n\u001b[0m\u001b[1;32m   8097\u001b[0m         )\n\u001b[1;32m   8098\u001b[0m \u001b[0;34m\u001b[0m\u001b[0m\n",
            "\u001b[0;32m/usr/local/lib/python3.7/dist-packages/pandas/core/resample.py\u001b[0m in \u001b[0;36mget_resampler\u001b[0;34m(obj, kind, **kwds)\u001b[0m\n\u001b[1;32m   1268\u001b[0m     \"\"\"\n\u001b[1;32m   1269\u001b[0m     \u001b[0mtg\u001b[0m \u001b[0;34m=\u001b[0m \u001b[0mTimeGrouper\u001b[0m\u001b[0;34m(\u001b[0m\u001b[0;34m**\u001b[0m\u001b[0mkwds\u001b[0m\u001b[0;34m)\u001b[0m\u001b[0;34m\u001b[0m\u001b[0;34m\u001b[0m\u001b[0m\n\u001b[0;32m-> 1270\u001b[0;31m     \u001b[0;32mreturn\u001b[0m \u001b[0mtg\u001b[0m\u001b[0;34m.\u001b[0m\u001b[0m_get_resampler\u001b[0m\u001b[0;34m(\u001b[0m\u001b[0mobj\u001b[0m\u001b[0;34m,\u001b[0m \u001b[0mkind\u001b[0m\u001b[0;34m=\u001b[0m\u001b[0mkind\u001b[0m\u001b[0;34m)\u001b[0m\u001b[0;34m\u001b[0m\u001b[0;34m\u001b[0m\u001b[0m\n\u001b[0m\u001b[1;32m   1271\u001b[0m \u001b[0;34m\u001b[0m\u001b[0m\n\u001b[1;32m   1272\u001b[0m \u001b[0;34m\u001b[0m\u001b[0m\n",
            "\u001b[0;32m/usr/local/lib/python3.7/dist-packages/pandas/core/resample.py\u001b[0m in \u001b[0;36m_get_resampler\u001b[0;34m(self, obj, kind)\u001b[0m\n\u001b[1;32m   1434\u001b[0m \u001b[0;34m\u001b[0m\u001b[0m\n\u001b[1;32m   1435\u001b[0m         raise TypeError(\n\u001b[0;32m-> 1436\u001b[0;31m             \u001b[0;34m\"Only valid with DatetimeIndex, \"\u001b[0m\u001b[0;34m\u001b[0m\u001b[0;34m\u001b[0m\u001b[0m\n\u001b[0m\u001b[1;32m   1437\u001b[0m             \u001b[0;34m\"TimedeltaIndex or PeriodIndex, \"\u001b[0m\u001b[0;34m\u001b[0m\u001b[0;34m\u001b[0m\u001b[0m\n\u001b[1;32m   1438\u001b[0m             \u001b[0;34mf\"but got an instance of '{type(ax).__name__}'\"\u001b[0m\u001b[0;34m\u001b[0m\u001b[0;34m\u001b[0m\u001b[0m\n",
            "\u001b[0;31mTypeError\u001b[0m: Only valid with DatetimeIndex, TimedeltaIndex or PeriodIndex, but got an instance of 'Index'"
          ]
        }
      ]
    },
    {
      "cell_type": "code",
      "metadata": {
        "colab": {
          "base_uri": "https://localhost:8080/"
        },
        "id": "dX3KUeqV6-hN",
        "outputId": "1c122443-3ab2-4a72-b8ff-0953012e55f5"
      },
      "source": [
        "combo_df.info()"
      ],
      "execution_count": null,
      "outputs": [
        {
          "output_type": "stream",
          "name": "stdout",
          "text": [
            "<class 'pandas.core.frame.DataFrame'>\n",
            "Int64Index: 9880 entries, 80 to 13581\n",
            "Data columns (total 4 columns):\n",
            " #   Column               Non-Null Count  Dtype  \n",
            "---  ------               --------------  -----  \n",
            " 0   ST                   9880 non-null   object \n",
            " 1   INDEX_NAME           9880 non-null   object \n",
            " 2   ESTIMATE_PERCENTAGE  9880 non-null   float64\n",
            " 3   DATE_START           9880 non-null   object \n",
            "dtypes: float64(1), object(3)\n",
            "memory usage: 385.9+ KB\n"
          ]
        }
      ]
    }
  ]
}