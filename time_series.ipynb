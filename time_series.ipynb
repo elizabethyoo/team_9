{
  "nbformat": 4,
  "nbformat_minor": 0,
  "metadata": {
    "colab": {
      "name": "time_series.ipynb",
      "provenance": [],
      "collapsed_sections": [],
      "include_colab_link": true
    },
    "kernelspec": {
      "name": "python3",
      "display_name": "Python 3"
    },
    "language_info": {
      "name": "python"
    }
  },
  "cells": [
    {
      "cell_type": "markdown",
      "metadata": {
        "id": "view-in-github",
        "colab_type": "text"
      },
      "source": [
        "<a href=\"https://colab.research.google.com/github/elizabethyoo/team_9/blob/main/time_series.ipynb\" target=\"_parent\"><img src=\"https://colab.research.google.com/assets/colab-badge.svg\" alt=\"Open In Colab\"/></a>"
      ]
    },
    {
      "cell_type": "markdown",
      "metadata": {
        "id": "q4-RSJHx_mb3"
      },
      "source": [
        "# Time Series Analysis\n",
        "\n",
        "## autoregression for univariate TS 1-step lookahead forecasting \n",
        "\n",
        "## ARIMA for multivariate TS 1-step lookahead forecasting "
      ]
    },
    {
      "cell_type": "code",
      "metadata": {
        "id": "ZcVwwv6DWlH5",
        "colab": {
          "base_uri": "https://localhost:8080/"
        },
        "outputId": "806ee596-5f12-4c09-9c24-bfb798a92991"
      },
      "source": [
        "# Mount google drive\n",
        "\n",
        "from google.colab import drive\n",
        "\n",
        "drive.mount('/content/gdrive')\n",
        "root_path = '/content/drive/MyDrive/Group 9 Project Documents/'"
      ],
      "execution_count": 62,
      "outputs": [
        {
          "output_type": "stream",
          "name": "stdout",
          "text": [
            "Drive already mounted at /content/gdrive; to attempt to forcibly remount, call drive.mount(\"/content/gdrive\", force_remount=True).\n"
          ]
        }
      ]
    },
    {
      "cell_type": "code",
      "metadata": {
        "colab": {
          "base_uri": "https://localhost:8080/",
          "height": 38
        },
        "id": "cfsyd-_C2SFh",
        "outputId": "6c90439b-f6c4-4179-bce3-af858336bc9b"
      },
      "source": [
        "root_path"
      ],
      "execution_count": 63,
      "outputs": [
        {
          "output_type": "execute_result",
          "data": {
            "application/vnd.google.colaboratory.intrinsic+json": {
              "type": "string"
            },
            "text/plain": [
              "'/content/drive/MyDrive/Group 9 Project Documents/'"
            ]
          },
          "metadata": {},
          "execution_count": 63
        }
      ]
    },
    {
      "cell_type": "code",
      "metadata": {
        "id": "9s6vQPjqYKRw"
      },
      "source": [
        "import pandas as pd\n",
        "import glob\n",
        "import re\n",
        "import numpy as np\n",
        "import seaborn as sns\n",
        "import matplotlib.pyplot as plt\n",
        "import time\n",
        "import re\n",
        "pd.set_option('display.float_format', lambda x: '%.3f' % x)\n",
        "from pandas import read_csv"
      ],
      "execution_count": 64,
      "outputs": []
    },
    {
      "cell_type": "markdown",
      "metadata": {
        "id": "r7vVVHzzhWeD"
      },
      "source": [
        "# Preprocessing \n",
        "edit: whoops did not need"
      ]
    },
    {
      "cell_type": "code",
      "metadata": {
        "colab": {
          "base_uri": "https://localhost:8080/",
          "height": 511
        },
        "id": "wuksW72viPHr",
        "outputId": "71c4e40c-7ad6-4872-dace-6ea41d7dbca0"
      },
      "source": [
        "hps_state_agg_path = '/content/gdrive/MyDrive/Group 9 Project Documents/Datasets/cleaned_datasets/hps_state_agg.csv'\n",
        "sbps_agg_month_path = '/content/gdrive/MyDrive/Group 9 Project Documents/Datasets/cleaned_datasets/sbps_agg_month.csv'\n",
        "unemp_cleaned_path = '/content/gdrive/MyDrive/Group 9 Project Documents/Datasets/cleaned_datasets/unemployment_cleaned.csv'\n",
        "\n",
        "hps_df = pd.read_csv(hps_state_agg_path)\n",
        "sbps_df = pd.read_csv(sbps_agg_month_path)\n",
        "unemp_df = pd.read_csv(unemp_cleaned_path)"
      ],
      "execution_count": 101,
      "outputs": [
        {
          "output_type": "error",
          "ename": "FileNotFoundError",
          "evalue": "ignored",
          "traceback": [
            "\u001b[0;31m---------------------------------------------------------------------------\u001b[0m",
            "\u001b[0;31mFileNotFoundError\u001b[0m                         Traceback (most recent call last)",
            "\u001b[0;32m<ipython-input-101-bf7363e5f89d>\u001b[0m in \u001b[0;36m<module>\u001b[0;34m()\u001b[0m\n\u001b[1;32m      3\u001b[0m \u001b[0munemp_cleaned_path\u001b[0m \u001b[0;34m=\u001b[0m \u001b[0;34m'/content/gdrive/MyDrive/Group 9 Project Documents/Datasets/cleaned_datasets/unemployment_cleaned.csv'\u001b[0m\u001b[0;34m\u001b[0m\u001b[0;34m\u001b[0m\u001b[0m\n\u001b[1;32m      4\u001b[0m \u001b[0;34m\u001b[0m\u001b[0m\n\u001b[0;32m----> 5\u001b[0;31m \u001b[0mhps_df\u001b[0m \u001b[0;34m=\u001b[0m \u001b[0mpd\u001b[0m\u001b[0;34m.\u001b[0m\u001b[0mread_csv\u001b[0m\u001b[0;34m(\u001b[0m\u001b[0mhps_state_agg_path\u001b[0m\u001b[0;34m)\u001b[0m\u001b[0;34m\u001b[0m\u001b[0;34m\u001b[0m\u001b[0m\n\u001b[0m\u001b[1;32m      6\u001b[0m \u001b[0msbps_df\u001b[0m \u001b[0;34m=\u001b[0m \u001b[0mpd\u001b[0m\u001b[0;34m.\u001b[0m\u001b[0mread_csv\u001b[0m\u001b[0;34m(\u001b[0m\u001b[0msbps_agg_month_path\u001b[0m\u001b[0;34m)\u001b[0m\u001b[0;34m\u001b[0m\u001b[0;34m\u001b[0m\u001b[0m\n\u001b[1;32m      7\u001b[0m \u001b[0munemp_df\u001b[0m \u001b[0;34m=\u001b[0m \u001b[0mpd\u001b[0m\u001b[0;34m.\u001b[0m\u001b[0mread_csv\u001b[0m\u001b[0;34m(\u001b[0m\u001b[0munemp_cleaned_path\u001b[0m\u001b[0;34m)\u001b[0m\u001b[0;34m\u001b[0m\u001b[0;34m\u001b[0m\u001b[0m\n",
            "\u001b[0;32m/usr/local/lib/python3.7/dist-packages/pandas/io/parsers.py\u001b[0m in \u001b[0;36mread_csv\u001b[0;34m(filepath_or_buffer, sep, delimiter, header, names, index_col, usecols, squeeze, prefix, mangle_dupe_cols, dtype, engine, converters, true_values, false_values, skipinitialspace, skiprows, skipfooter, nrows, na_values, keep_default_na, na_filter, verbose, skip_blank_lines, parse_dates, infer_datetime_format, keep_date_col, date_parser, dayfirst, cache_dates, iterator, chunksize, compression, thousands, decimal, lineterminator, quotechar, quoting, doublequote, escapechar, comment, encoding, dialect, error_bad_lines, warn_bad_lines, delim_whitespace, low_memory, memory_map, float_precision)\u001b[0m\n\u001b[1;32m    686\u001b[0m     )\n\u001b[1;32m    687\u001b[0m \u001b[0;34m\u001b[0m\u001b[0m\n\u001b[0;32m--> 688\u001b[0;31m     \u001b[0;32mreturn\u001b[0m \u001b[0m_read\u001b[0m\u001b[0;34m(\u001b[0m\u001b[0mfilepath_or_buffer\u001b[0m\u001b[0;34m,\u001b[0m \u001b[0mkwds\u001b[0m\u001b[0;34m)\u001b[0m\u001b[0;34m\u001b[0m\u001b[0;34m\u001b[0m\u001b[0m\n\u001b[0m\u001b[1;32m    689\u001b[0m \u001b[0;34m\u001b[0m\u001b[0m\n\u001b[1;32m    690\u001b[0m \u001b[0;34m\u001b[0m\u001b[0m\n",
            "\u001b[0;32m/usr/local/lib/python3.7/dist-packages/pandas/io/parsers.py\u001b[0m in \u001b[0;36m_read\u001b[0;34m(filepath_or_buffer, kwds)\u001b[0m\n\u001b[1;32m    452\u001b[0m \u001b[0;34m\u001b[0m\u001b[0m\n\u001b[1;32m    453\u001b[0m     \u001b[0;31m# Create the parser.\u001b[0m\u001b[0;34m\u001b[0m\u001b[0;34m\u001b[0m\u001b[0;34m\u001b[0m\u001b[0m\n\u001b[0;32m--> 454\u001b[0;31m     \u001b[0mparser\u001b[0m \u001b[0;34m=\u001b[0m \u001b[0mTextFileReader\u001b[0m\u001b[0;34m(\u001b[0m\u001b[0mfp_or_buf\u001b[0m\u001b[0;34m,\u001b[0m \u001b[0;34m**\u001b[0m\u001b[0mkwds\u001b[0m\u001b[0;34m)\u001b[0m\u001b[0;34m\u001b[0m\u001b[0;34m\u001b[0m\u001b[0m\n\u001b[0m\u001b[1;32m    455\u001b[0m \u001b[0;34m\u001b[0m\u001b[0m\n\u001b[1;32m    456\u001b[0m     \u001b[0;32mif\u001b[0m \u001b[0mchunksize\u001b[0m \u001b[0;32mor\u001b[0m \u001b[0miterator\u001b[0m\u001b[0;34m:\u001b[0m\u001b[0;34m\u001b[0m\u001b[0;34m\u001b[0m\u001b[0m\n",
            "\u001b[0;32m/usr/local/lib/python3.7/dist-packages/pandas/io/parsers.py\u001b[0m in \u001b[0;36m__init__\u001b[0;34m(self, f, engine, **kwds)\u001b[0m\n\u001b[1;32m    946\u001b[0m             \u001b[0mself\u001b[0m\u001b[0;34m.\u001b[0m\u001b[0moptions\u001b[0m\u001b[0;34m[\u001b[0m\u001b[0;34m\"has_index_names\"\u001b[0m\u001b[0;34m]\u001b[0m \u001b[0;34m=\u001b[0m \u001b[0mkwds\u001b[0m\u001b[0;34m[\u001b[0m\u001b[0;34m\"has_index_names\"\u001b[0m\u001b[0;34m]\u001b[0m\u001b[0;34m\u001b[0m\u001b[0;34m\u001b[0m\u001b[0m\n\u001b[1;32m    947\u001b[0m \u001b[0;34m\u001b[0m\u001b[0m\n\u001b[0;32m--> 948\u001b[0;31m         \u001b[0mself\u001b[0m\u001b[0;34m.\u001b[0m\u001b[0m_make_engine\u001b[0m\u001b[0;34m(\u001b[0m\u001b[0mself\u001b[0m\u001b[0;34m.\u001b[0m\u001b[0mengine\u001b[0m\u001b[0;34m)\u001b[0m\u001b[0;34m\u001b[0m\u001b[0;34m\u001b[0m\u001b[0m\n\u001b[0m\u001b[1;32m    949\u001b[0m \u001b[0;34m\u001b[0m\u001b[0m\n\u001b[1;32m    950\u001b[0m     \u001b[0;32mdef\u001b[0m \u001b[0mclose\u001b[0m\u001b[0;34m(\u001b[0m\u001b[0mself\u001b[0m\u001b[0;34m)\u001b[0m\u001b[0;34m:\u001b[0m\u001b[0;34m\u001b[0m\u001b[0;34m\u001b[0m\u001b[0m\n",
            "\u001b[0;32m/usr/local/lib/python3.7/dist-packages/pandas/io/parsers.py\u001b[0m in \u001b[0;36m_make_engine\u001b[0;34m(self, engine)\u001b[0m\n\u001b[1;32m   1178\u001b[0m     \u001b[0;32mdef\u001b[0m \u001b[0m_make_engine\u001b[0m\u001b[0;34m(\u001b[0m\u001b[0mself\u001b[0m\u001b[0;34m,\u001b[0m \u001b[0mengine\u001b[0m\u001b[0;34m=\u001b[0m\u001b[0;34m\"c\"\u001b[0m\u001b[0;34m)\u001b[0m\u001b[0;34m:\u001b[0m\u001b[0;34m\u001b[0m\u001b[0;34m\u001b[0m\u001b[0m\n\u001b[1;32m   1179\u001b[0m         \u001b[0;32mif\u001b[0m \u001b[0mengine\u001b[0m \u001b[0;34m==\u001b[0m \u001b[0;34m\"c\"\u001b[0m\u001b[0;34m:\u001b[0m\u001b[0;34m\u001b[0m\u001b[0;34m\u001b[0m\u001b[0m\n\u001b[0;32m-> 1180\u001b[0;31m             \u001b[0mself\u001b[0m\u001b[0;34m.\u001b[0m\u001b[0m_engine\u001b[0m \u001b[0;34m=\u001b[0m \u001b[0mCParserWrapper\u001b[0m\u001b[0;34m(\u001b[0m\u001b[0mself\u001b[0m\u001b[0;34m.\u001b[0m\u001b[0mf\u001b[0m\u001b[0;34m,\u001b[0m \u001b[0;34m**\u001b[0m\u001b[0mself\u001b[0m\u001b[0;34m.\u001b[0m\u001b[0moptions\u001b[0m\u001b[0;34m)\u001b[0m\u001b[0;34m\u001b[0m\u001b[0;34m\u001b[0m\u001b[0m\n\u001b[0m\u001b[1;32m   1181\u001b[0m         \u001b[0;32melse\u001b[0m\u001b[0;34m:\u001b[0m\u001b[0;34m\u001b[0m\u001b[0;34m\u001b[0m\u001b[0m\n\u001b[1;32m   1182\u001b[0m             \u001b[0;32mif\u001b[0m \u001b[0mengine\u001b[0m \u001b[0;34m==\u001b[0m \u001b[0;34m\"python\"\u001b[0m\u001b[0;34m:\u001b[0m\u001b[0;34m\u001b[0m\u001b[0;34m\u001b[0m\u001b[0m\n",
            "\u001b[0;32m/usr/local/lib/python3.7/dist-packages/pandas/io/parsers.py\u001b[0m in \u001b[0;36m__init__\u001b[0;34m(self, src, **kwds)\u001b[0m\n\u001b[1;32m   2008\u001b[0m         \u001b[0mkwds\u001b[0m\u001b[0;34m[\u001b[0m\u001b[0;34m\"usecols\"\u001b[0m\u001b[0;34m]\u001b[0m \u001b[0;34m=\u001b[0m \u001b[0mself\u001b[0m\u001b[0;34m.\u001b[0m\u001b[0musecols\u001b[0m\u001b[0;34m\u001b[0m\u001b[0;34m\u001b[0m\u001b[0m\n\u001b[1;32m   2009\u001b[0m \u001b[0;34m\u001b[0m\u001b[0m\n\u001b[0;32m-> 2010\u001b[0;31m         \u001b[0mself\u001b[0m\u001b[0;34m.\u001b[0m\u001b[0m_reader\u001b[0m \u001b[0;34m=\u001b[0m \u001b[0mparsers\u001b[0m\u001b[0;34m.\u001b[0m\u001b[0mTextReader\u001b[0m\u001b[0;34m(\u001b[0m\u001b[0msrc\u001b[0m\u001b[0;34m,\u001b[0m \u001b[0;34m**\u001b[0m\u001b[0mkwds\u001b[0m\u001b[0;34m)\u001b[0m\u001b[0;34m\u001b[0m\u001b[0;34m\u001b[0m\u001b[0m\n\u001b[0m\u001b[1;32m   2011\u001b[0m         \u001b[0mself\u001b[0m\u001b[0;34m.\u001b[0m\u001b[0munnamed_cols\u001b[0m \u001b[0;34m=\u001b[0m \u001b[0mself\u001b[0m\u001b[0;34m.\u001b[0m\u001b[0m_reader\u001b[0m\u001b[0;34m.\u001b[0m\u001b[0munnamed_cols\u001b[0m\u001b[0;34m\u001b[0m\u001b[0;34m\u001b[0m\u001b[0m\n\u001b[1;32m   2012\u001b[0m \u001b[0;34m\u001b[0m\u001b[0m\n",
            "\u001b[0;32mpandas/_libs/parsers.pyx\u001b[0m in \u001b[0;36mpandas._libs.parsers.TextReader.__cinit__\u001b[0;34m()\u001b[0m\n",
            "\u001b[0;32mpandas/_libs/parsers.pyx\u001b[0m in \u001b[0;36mpandas._libs.parsers.TextReader._setup_parser_source\u001b[0;34m()\u001b[0m\n",
            "\u001b[0;31mFileNotFoundError\u001b[0m: [Errno 2] No such file or directory: '/content/gdrive/MyDrive/Group 9 Project Documents/Datasets/cleaned_datasets/hps_state_agg.csv'"
          ]
        }
      ]
    },
    {
      "cell_type": "markdown",
      "metadata": {
        "id": "R_giQUopE-QU"
      },
      "source": [
        "## Extract features of interest\n"
      ]
    },
    {
      "cell_type": "code",
      "metadata": {
        "colab": {
          "base_uri": "https://localhost:8080/",
          "height": 1000
        },
        "id": "4pP6RN9_TF1Y",
        "outputId": "e0d64a9d-8a33-49c2-bebf-0e4dd77df494"
      },
      "source": [
        "hps_df.info()\n",
        "hps_df.describe()"
      ],
      "execution_count": 102,
      "outputs": [
        {
          "output_type": "stream",
          "name": "stdout",
          "text": [
            "<class 'pandas.core.frame.DataFrame'>\n",
            "RangeIndex: 918 entries, 0 to 917\n",
            "Data columns (total 38 columns):\n",
            " #   Column                                     Non-Null Count  Dtype  \n",
            "---  ------                                     --------------  -----  \n",
            " 0   EST_ST                                     918 non-null    int64  \n",
            " 1   YEAR                                       918 non-null    int64  \n",
            " 2   MONTH                                      918 non-null    int64  \n",
            " 3   AGE_GRP_18_24                              918 non-null    float64\n",
            " 4   AGE_GRP_25_39                              918 non-null    float64\n",
            " 5   AGE_GRP_40_49                              918 non-null    float64\n",
            " 6   AGE_GRP_50_59                              918 non-null    float64\n",
            " 7   AGE_GRP_60_69                              918 non-null    float64\n",
            " 8   AGE_GRP_70_up                              918 non-null    float64\n",
            " 9   AGE_GRP_less_18                            918 non-null    float64\n",
            " 10  COVID_VACC_DOSE_not_plan_all_dose          918 non-null    float64\n",
            " 11  COVID_VACC_DOSE_plan_to_receive_all_doses  918 non-null    float64\n",
            " 12  COVID_VACC_DOSE_received_all_doses         918 non-null    float64\n",
            " 13  EDUCATION_bachelor_or_higher               918 non-null    float64\n",
            " 14  EDUCATION_high_school_diploma_GED          918 non-null    float64\n",
            " 15  EDUCATION_less_high school                 918 non-null    float64\n",
            " 16  EDUCATION_some_college_asscte_degree       918 non-null    float64\n",
            " 17  INCOME_BEFORE_TAX_$100,000_$149,999        918 non-null    float64\n",
            " 18  INCOME_BEFORE_TAX_$150,000_$199,999        918 non-null    float64\n",
            " 19  INCOME_BEFORE_TAX_$200,000_above           918 non-null    float64\n",
            " 20  INCOME_BEFORE_TAX_$25,000_$34,999          918 non-null    float64\n",
            " 21  INCOME_BEFORE_TAX_$35,000_$49,999          918 non-null    float64\n",
            " 22  INCOME_BEFORE_TAX_$50,000_$74,999          918 non-null    float64\n",
            " 23  INCOME_BEFORE_TAX_$75,000_$99,999          918 non-null    float64\n",
            " 24  INCOME_BEFORE_TAX_Less_$25,000             918 non-null    float64\n",
            " 25  RACE_Any_other_race_alone_or_mixed_race    918 non-null    float64\n",
            " 26  RACE_Asian,_alone                          918 non-null    float64\n",
            " 27  RACE_Black_alone                           918 non-null    float64\n",
            " 28  RACE_White_alone                           918 non-null    float64\n",
            " 29  FOOD_SCARCITY                              918 non-null    float64\n",
            " 30  HOUSING_INSECURITY                         918 non-null    float64\n",
            " 31  MALE                                       918 non-null    float64\n",
            " 32  FEMALE                                     918 non-null    float64\n",
            " 33  HISPANIC_ORIGIN                            918 non-null    float64\n",
            " 34  RECVD_COVID_VACC                           459 non-null    float64\n",
            " 35  CHILDCARE_ISSUE                            306 non-null    float64\n",
            " 36  STATE                                      918 non-null    object \n",
            " 37  STATE_ABBR                                 900 non-null    object \n",
            "dtypes: float64(33), int64(3), object(2)\n",
            "memory usage: 272.7+ KB\n"
          ]
        },
        {
          "output_type": "execute_result",
          "data": {
            "text/html": [
              "<div>\n",
              "<style scoped>\n",
              "    .dataframe tbody tr th:only-of-type {\n",
              "        vertical-align: middle;\n",
              "    }\n",
              "\n",
              "    .dataframe tbody tr th {\n",
              "        vertical-align: top;\n",
              "    }\n",
              "\n",
              "    .dataframe thead th {\n",
              "        text-align: right;\n",
              "    }\n",
              "</style>\n",
              "<table border=\"1\" class=\"dataframe\">\n",
              "  <thead>\n",
              "    <tr style=\"text-align: right;\">\n",
              "      <th></th>\n",
              "      <th>EST_ST</th>\n",
              "      <th>YEAR</th>\n",
              "      <th>MONTH</th>\n",
              "      <th>AGE_GRP_18_24</th>\n",
              "      <th>AGE_GRP_25_39</th>\n",
              "      <th>AGE_GRP_40_49</th>\n",
              "      <th>AGE_GRP_50_59</th>\n",
              "      <th>AGE_GRP_60_69</th>\n",
              "      <th>AGE_GRP_70_up</th>\n",
              "      <th>AGE_GRP_less_18</th>\n",
              "      <th>COVID_VACC_DOSE_not_plan_all_dose</th>\n",
              "      <th>COVID_VACC_DOSE_plan_to_receive_all_doses</th>\n",
              "      <th>COVID_VACC_DOSE_received_all_doses</th>\n",
              "      <th>EDUCATION_bachelor_or_higher</th>\n",
              "      <th>EDUCATION_high_school_diploma_GED</th>\n",
              "      <th>EDUCATION_less_high school</th>\n",
              "      <th>EDUCATION_some_college_asscte_degree</th>\n",
              "      <th>INCOME_BEFORE_TAX_$100,000_$149,999</th>\n",
              "      <th>INCOME_BEFORE_TAX_$150,000_$199,999</th>\n",
              "      <th>INCOME_BEFORE_TAX_$200,000_above</th>\n",
              "      <th>INCOME_BEFORE_TAX_$25,000_$34,999</th>\n",
              "      <th>INCOME_BEFORE_TAX_$35,000_$49,999</th>\n",
              "      <th>INCOME_BEFORE_TAX_$50,000_$74,999</th>\n",
              "      <th>INCOME_BEFORE_TAX_$75,000_$99,999</th>\n",
              "      <th>INCOME_BEFORE_TAX_Less_$25,000</th>\n",
              "      <th>RACE_Any_other_race_alone_or_mixed_race</th>\n",
              "      <th>RACE_Asian,_alone</th>\n",
              "      <th>RACE_Black_alone</th>\n",
              "      <th>RACE_White_alone</th>\n",
              "      <th>FOOD_SCARCITY</th>\n",
              "      <th>HOUSING_INSECURITY</th>\n",
              "      <th>MALE</th>\n",
              "      <th>FEMALE</th>\n",
              "      <th>HISPANIC_ORIGIN</th>\n",
              "      <th>RECVD_COVID_VACC</th>\n",
              "      <th>CHILDCARE_ISSUE</th>\n",
              "    </tr>\n",
              "  </thead>\n",
              "  <tbody>\n",
              "    <tr>\n",
              "      <th>count</th>\n",
              "      <td>918.000</td>\n",
              "      <td>918.000</td>\n",
              "      <td>918.000</td>\n",
              "      <td>918.000</td>\n",
              "      <td>918.000</td>\n",
              "      <td>918.000</td>\n",
              "      <td>918.000</td>\n",
              "      <td>918.000</td>\n",
              "      <td>918.000</td>\n",
              "      <td>918.000</td>\n",
              "      <td>918.000</td>\n",
              "      <td>918.000</td>\n",
              "      <td>918.000</td>\n",
              "      <td>918.000</td>\n",
              "      <td>918.000</td>\n",
              "      <td>918.000</td>\n",
              "      <td>918.000</td>\n",
              "      <td>918.000</td>\n",
              "      <td>918.000</td>\n",
              "      <td>918.000</td>\n",
              "      <td>918.000</td>\n",
              "      <td>918.000</td>\n",
              "      <td>918.000</td>\n",
              "      <td>918.000</td>\n",
              "      <td>918.000</td>\n",
              "      <td>918.000</td>\n",
              "      <td>918.000</td>\n",
              "      <td>918.000</td>\n",
              "      <td>918.000</td>\n",
              "      <td>918.000</td>\n",
              "      <td>918.000</td>\n",
              "      <td>918.000</td>\n",
              "      <td>918.000</td>\n",
              "      <td>918.000</td>\n",
              "      <td>459.000</td>\n",
              "      <td>306.000</td>\n",
              "    </tr>\n",
              "    <tr>\n",
              "      <th>mean</th>\n",
              "      <td>28.961</td>\n",
              "      <td>2020.500</td>\n",
              "      <td>6.500</td>\n",
              "      <td>8.790</td>\n",
              "      <td>27.335</td>\n",
              "      <td>16.541</td>\n",
              "      <td>17.093</td>\n",
              "      <td>17.782</td>\n",
              "      <td>11.497</td>\n",
              "      <td>0.961</td>\n",
              "      <td>0.078</td>\n",
              "      <td>0.562</td>\n",
              "      <td>12.727</td>\n",
              "      <td>30.145</td>\n",
              "      <td>36.532</td>\n",
              "      <td>1.965</td>\n",
              "      <td>31.357</td>\n",
              "      <td>11.699</td>\n",
              "      <td>5.040</td>\n",
              "      <td>5.176</td>\n",
              "      <td>8.402</td>\n",
              "      <td>9.573</td>\n",
              "      <td>13.812</td>\n",
              "      <td>10.347</td>\n",
              "      <td>10.837</td>\n",
              "      <td>6.456</td>\n",
              "      <td>4.348</td>\n",
              "      <td>10.571</td>\n",
              "      <td>78.625</td>\n",
              "      <td>9.639</td>\n",
              "      <td>2.282</td>\n",
              "      <td>48.587</td>\n",
              "      <td>51.413</td>\n",
              "      <td>11.194</td>\n",
              "      <td>60.992</td>\n",
              "      <td>20.399</td>\n",
              "    </tr>\n",
              "    <tr>\n",
              "      <th>std</th>\n",
              "      <td>15.685</td>\n",
              "      <td>0.500</td>\n",
              "      <td>2.988</td>\n",
              "      <td>1.953</td>\n",
              "      <td>3.340</td>\n",
              "      <td>1.479</td>\n",
              "      <td>1.644</td>\n",
              "      <td>2.078</td>\n",
              "      <td>1.705</td>\n",
              "      <td>0.605</td>\n",
              "      <td>0.234</td>\n",
              "      <td>1.421</td>\n",
              "      <td>28.611</td>\n",
              "      <td>6.295</td>\n",
              "      <td>5.302</td>\n",
              "      <td>1.104</td>\n",
              "      <td>3.996</td>\n",
              "      <td>2.219</td>\n",
              "      <td>1.666</td>\n",
              "      <td>2.752</td>\n",
              "      <td>2.027</td>\n",
              "      <td>1.941</td>\n",
              "      <td>2.384</td>\n",
              "      <td>1.879</td>\n",
              "      <td>3.207</td>\n",
              "      <td>5.394</td>\n",
              "      <td>5.527</td>\n",
              "      <td>9.862</td>\n",
              "      <td>13.035</td>\n",
              "      <td>2.731</td>\n",
              "      <td>1.017</td>\n",
              "      <td>1.012</td>\n",
              "      <td>1.012</td>\n",
              "      <td>9.446</td>\n",
              "      <td>26.938</td>\n",
              "      <td>6.659</td>\n",
              "    </tr>\n",
              "    <tr>\n",
              "      <th>min</th>\n",
              "      <td>1.000</td>\n",
              "      <td>2020.000</td>\n",
              "      <td>1.000</td>\n",
              "      <td>2.995</td>\n",
              "      <td>19.698</td>\n",
              "      <td>10.696</td>\n",
              "      <td>10.152</td>\n",
              "      <td>10.615</td>\n",
              "      <td>5.891</td>\n",
              "      <td>0.000</td>\n",
              "      <td>0.000</td>\n",
              "      <td>0.000</td>\n",
              "      <td>0.000</td>\n",
              "      <td>19.930</td>\n",
              "      <td>14.749</td>\n",
              "      <td>0.000</td>\n",
              "      <td>15.635</td>\n",
              "      <td>6.094</td>\n",
              "      <td>1.608</td>\n",
              "      <td>1.468</td>\n",
              "      <td>3.399</td>\n",
              "      <td>2.707</td>\n",
              "      <td>6.360</td>\n",
              "      <td>5.485</td>\n",
              "      <td>4.227</td>\n",
              "      <td>1.525</td>\n",
              "      <td>0.182</td>\n",
              "      <td>0.223</td>\n",
              "      <td>24.978</td>\n",
              "      <td>2.711</td>\n",
              "      <td>0.307</td>\n",
              "      <td>46.349</td>\n",
              "      <td>48.841</td>\n",
              "      <td>1.690</td>\n",
              "      <td>7.805</td>\n",
              "      <td>8.108</td>\n",
              "    </tr>\n",
              "    <tr>\n",
              "      <th>25%</th>\n",
              "      <td>16.000</td>\n",
              "      <td>2020.000</td>\n",
              "      <td>4.000</td>\n",
              "      <td>7.530</td>\n",
              "      <td>25.230</td>\n",
              "      <td>15.569</td>\n",
              "      <td>16.073</td>\n",
              "      <td>16.569</td>\n",
              "      <td>10.452</td>\n",
              "      <td>0.526</td>\n",
              "      <td>0.000</td>\n",
              "      <td>0.000</td>\n",
              "      <td>0.000</td>\n",
              "      <td>26.381</td>\n",
              "      <td>33.455</td>\n",
              "      <td>1.213</td>\n",
              "      <td>28.845</td>\n",
              "      <td>10.145</td>\n",
              "      <td>3.863</td>\n",
              "      <td>3.423</td>\n",
              "      <td>6.968</td>\n",
              "      <td>8.379</td>\n",
              "      <td>12.201</td>\n",
              "      <td>9.102</td>\n",
              "      <td>8.556</td>\n",
              "      <td>3.836</td>\n",
              "      <td>1.794</td>\n",
              "      <td>2.897</td>\n",
              "      <td>70.732</td>\n",
              "      <td>7.607</td>\n",
              "      <td>1.556</td>\n",
              "      <td>47.936</td>\n",
              "      <td>50.666</td>\n",
              "      <td>5.073</td>\n",
              "      <td>39.266</td>\n",
              "      <td>15.710</td>\n",
              "    </tr>\n",
              "    <tr>\n",
              "      <th>50%</th>\n",
              "      <td>29.000</td>\n",
              "      <td>2020.500</td>\n",
              "      <td>6.500</td>\n",
              "      <td>8.792</td>\n",
              "      <td>26.920</td>\n",
              "      <td>16.426</td>\n",
              "      <td>17.070</td>\n",
              "      <td>17.831</td>\n",
              "      <td>11.411</td>\n",
              "      <td>0.897</td>\n",
              "      <td>0.000</td>\n",
              "      <td>0.000</td>\n",
              "      <td>0.000</td>\n",
              "      <td>29.297</td>\n",
              "      <td>36.316</td>\n",
              "      <td>1.807</td>\n",
              "      <td>31.322</td>\n",
              "      <td>11.608</td>\n",
              "      <td>4.727</td>\n",
              "      <td>4.390</td>\n",
              "      <td>8.272</td>\n",
              "      <td>9.485</td>\n",
              "      <td>13.663</td>\n",
              "      <td>10.160</td>\n",
              "      <td>10.308</td>\n",
              "      <td>4.940</td>\n",
              "      <td>2.799</td>\n",
              "      <td>7.215</td>\n",
              "      <td>80.647</td>\n",
              "      <td>9.402</td>\n",
              "      <td>2.135</td>\n",
              "      <td>48.498</td>\n",
              "      <td>51.502</td>\n",
              "      <td>8.160</td>\n",
              "      <td>73.897</td>\n",
              "      <td>19.340</td>\n",
              "    </tr>\n",
              "    <tr>\n",
              "      <th>75%</th>\n",
              "      <td>42.000</td>\n",
              "      <td>2021.000</td>\n",
              "      <td>9.000</td>\n",
              "      <td>9.917</td>\n",
              "      <td>28.885</td>\n",
              "      <td>17.301</td>\n",
              "      <td>18.160</td>\n",
              "      <td>19.046</td>\n",
              "      <td>12.505</td>\n",
              "      <td>1.281</td>\n",
              "      <td>0.000</td>\n",
              "      <td>0.000</td>\n",
              "      <td>0.000</td>\n",
              "      <td>32.840</td>\n",
              "      <td>39.850</td>\n",
              "      <td>2.433</td>\n",
              "      <td>34.140</td>\n",
              "      <td>13.205</td>\n",
              "      <td>6.051</td>\n",
              "      <td>6.098</td>\n",
              "      <td>9.672</td>\n",
              "      <td>10.800</td>\n",
              "      <td>15.231</td>\n",
              "      <td>11.438</td>\n",
              "      <td>12.522</td>\n",
              "      <td>6.771</td>\n",
              "      <td>4.981</td>\n",
              "      <td>14.641</td>\n",
              "      <td>88.705</td>\n",
              "      <td>11.389</td>\n",
              "      <td>2.834</td>\n",
              "      <td>49.334</td>\n",
              "      <td>52.064</td>\n",
              "      <td>12.073</td>\n",
              "      <td>81.605</td>\n",
              "      <td>24.528</td>\n",
              "    </tr>\n",
              "    <tr>\n",
              "      <th>max</th>\n",
              "      <td>56.000</td>\n",
              "      <td>2021.000</td>\n",
              "      <td>12.000</td>\n",
              "      <td>16.970</td>\n",
              "      <td>48.720</td>\n",
              "      <td>26.585</td>\n",
              "      <td>22.867</td>\n",
              "      <td>24.613</td>\n",
              "      <td>16.845</td>\n",
              "      <td>4.499</td>\n",
              "      <td>2.923</td>\n",
              "      <td>8.377</td>\n",
              "      <td>93.339</td>\n",
              "      <td>58.596</td>\n",
              "      <td>51.887</td>\n",
              "      <td>7.863</td>\n",
              "      <td>54.123</td>\n",
              "      <td>19.540</td>\n",
              "      <td>12.411</td>\n",
              "      <td>26.613</td>\n",
              "      <td>15.581</td>\n",
              "      <td>16.073</td>\n",
              "      <td>23.166</td>\n",
              "      <td>17.359</td>\n",
              "      <td>28.377</td>\n",
              "      <td>40.273</td>\n",
              "      <td>41.692</td>\n",
              "      <td>44.598</td>\n",
              "      <td>96.840</td>\n",
              "      <td>22.533</td>\n",
              "      <td>6.498</td>\n",
              "      <td>51.159</td>\n",
              "      <td>53.651</td>\n",
              "      <td>46.734</td>\n",
              "      <td>94.367</td>\n",
              "      <td>38.584</td>\n",
              "    </tr>\n",
              "  </tbody>\n",
              "</table>\n",
              "</div>"
            ],
            "text/plain": [
              "       EST_ST     YEAR  ...  RECVD_COVID_VACC  CHILDCARE_ISSUE\n",
              "count 918.000  918.000  ...           459.000          306.000\n",
              "mean   28.961 2020.500  ...            60.992           20.399\n",
              "std    15.685    0.500  ...            26.938            6.659\n",
              "min     1.000 2020.000  ...             7.805            8.108\n",
              "25%    16.000 2020.000  ...            39.266           15.710\n",
              "50%    29.000 2020.500  ...            73.897           19.340\n",
              "75%    42.000 2021.000  ...            81.605           24.528\n",
              "max    56.000 2021.000  ...            94.367           38.584\n",
              "\n",
              "[8 rows x 36 columns]"
            ]
          },
          "metadata": {},
          "execution_count": 102
        }
      ]
    },
    {
      "cell_type": "markdown",
      "metadata": {
        "id": "9wU9YTxRR8Ba"
      },
      "source": [
        "dropping covid vax rate since more than 50% of entries missing "
      ]
    },
    {
      "cell_type": "code",
      "metadata": {
        "id": "eXP8yTuCTKAb"
      },
      "source": [
        "# Want to subset: YEAR, MONTH, COVID_VACC_DOSE_received_all_doses, HOUSING_INSECURITY, STATE, STATE_ABBR\n",
        "hps_tmp = hps_df[['YEAR', 'MONTH', 'HOUSING_INSECURITY', 'STATE', 'STATE_ABBR']]"
      ],
      "execution_count": 103,
      "outputs": []
    },
    {
      "cell_type": "code",
      "metadata": {
        "colab": {
          "base_uri": "https://localhost:8080/",
          "height": 467
        },
        "id": "aJ3BEvkKDViC",
        "outputId": "c66bfd15-8e09-419e-baf6-183e221e7fac"
      },
      "source": [
        "unemp_df.info() \n",
        "unemp_df.describe()"
      ],
      "execution_count": 104,
      "outputs": [
        {
          "output_type": "stream",
          "name": "stdout",
          "text": [
            "<class 'pandas.core.frame.DataFrame'>\n",
            "RangeIndex: 1040 entries, 0 to 1039\n",
            "Data columns (total 3 columns):\n",
            " #   Column             Non-Null Count  Dtype  \n",
            "---  ------             --------------  -----  \n",
            " 0   state              1040 non-null   object \n",
            " 1   date               1040 non-null   object \n",
            " 2   unemployment_rate  1038 non-null   float64\n",
            "dtypes: float64(1), object(2)\n",
            "memory usage: 24.5+ KB\n"
          ]
        },
        {
          "output_type": "execute_result",
          "data": {
            "text/html": [
              "<div>\n",
              "<style scoped>\n",
              "    .dataframe tbody tr th:only-of-type {\n",
              "        vertical-align: middle;\n",
              "    }\n",
              "\n",
              "    .dataframe tbody tr th {\n",
              "        vertical-align: top;\n",
              "    }\n",
              "\n",
              "    .dataframe thead th {\n",
              "        text-align: right;\n",
              "    }\n",
              "</style>\n",
              "<table border=\"1\" class=\"dataframe\">\n",
              "  <thead>\n",
              "    <tr style=\"text-align: right;\">\n",
              "      <th></th>\n",
              "      <th>unemployment_rate</th>\n",
              "    </tr>\n",
              "  </thead>\n",
              "  <tbody>\n",
              "    <tr>\n",
              "      <th>count</th>\n",
              "      <td>1038.000</td>\n",
              "    </tr>\n",
              "    <tr>\n",
              "      <th>mean</th>\n",
              "      <td>6.633</td>\n",
              "    </tr>\n",
              "    <tr>\n",
              "      <th>std</th>\n",
              "      <td>3.294</td>\n",
              "    </tr>\n",
              "    <tr>\n",
              "      <th>min</th>\n",
              "      <td>1.700</td>\n",
              "    </tr>\n",
              "    <tr>\n",
              "      <th>25%</th>\n",
              "      <td>4.325</td>\n",
              "    </tr>\n",
              "    <tr>\n",
              "      <th>50%</th>\n",
              "      <td>5.900</td>\n",
              "    </tr>\n",
              "    <tr>\n",
              "      <th>75%</th>\n",
              "      <td>7.900</td>\n",
              "    </tr>\n",
              "    <tr>\n",
              "      <th>max</th>\n",
              "      <td>29.700</td>\n",
              "    </tr>\n",
              "  </tbody>\n",
              "</table>\n",
              "</div>"
            ],
            "text/plain": [
              "       unemployment_rate\n",
              "count           1038.000\n",
              "mean               6.633\n",
              "std                3.294\n",
              "min                1.700\n",
              "25%                4.325\n",
              "50%                5.900\n",
              "75%                7.900\n",
              "max               29.700"
            ]
          },
          "metadata": {},
          "execution_count": 104
        }
      ]
    },
    {
      "cell_type": "markdown",
      "metadata": {
        "id": "ZjIETpVKVFNB"
      },
      "source": [
        "keep unemp_df as is "
      ]
    },
    {
      "cell_type": "code",
      "metadata": {
        "colab": {
          "base_uri": "https://localhost:8080/",
          "height": 586
        },
        "id": "nv73kbJhS9hK",
        "outputId": "5d43c35d-19e3-48f2-cc04-241ab4540cb3"
      },
      "source": [
        "sbps_df.info()\n",
        "sbps_df.describe()"
      ],
      "execution_count": 105,
      "outputs": [
        {
          "output_type": "stream",
          "name": "stdout",
          "text": [
            "<class 'pandas.core.frame.DataFrame'>\n",
            "RangeIndex: 884 entries, 0 to 883\n",
            "Data columns (total 8 columns):\n",
            " #   Column                        Non-Null Count  Dtype  \n",
            "---  ------                        --------------  -----  \n",
            " 0   ST                            884 non-null    object \n",
            " 1   DATE_START                    884 non-null    object \n",
            " 2   Expected recovery index       884 non-null    float64\n",
            " 3   Financial stress index        468 non-null    float64\n",
            " 4   Market challenges index       104 non-null    float64\n",
            " 5   Market(s) challenges index    52 non-null     float64\n",
            " 6   Operational challenges index  884 non-null    float64\n",
            " 7   Overall sentiment index       884 non-null    float64\n",
            "dtypes: float64(6), object(2)\n",
            "memory usage: 55.4+ KB\n"
          ]
        },
        {
          "output_type": "execute_result",
          "data": {
            "text/html": [
              "<div>\n",
              "<style scoped>\n",
              "    .dataframe tbody tr th:only-of-type {\n",
              "        vertical-align: middle;\n",
              "    }\n",
              "\n",
              "    .dataframe tbody tr th {\n",
              "        vertical-align: top;\n",
              "    }\n",
              "\n",
              "    .dataframe thead th {\n",
              "        text-align: right;\n",
              "    }\n",
              "</style>\n",
              "<table border=\"1\" class=\"dataframe\">\n",
              "  <thead>\n",
              "    <tr style=\"text-align: right;\">\n",
              "      <th></th>\n",
              "      <th>Expected recovery index</th>\n",
              "      <th>Financial stress index</th>\n",
              "      <th>Market challenges index</th>\n",
              "      <th>Market(s) challenges index</th>\n",
              "      <th>Operational challenges index</th>\n",
              "      <th>Overall sentiment index</th>\n",
              "    </tr>\n",
              "  </thead>\n",
              "  <tbody>\n",
              "    <tr>\n",
              "      <th>count</th>\n",
              "      <td>884.000</td>\n",
              "      <td>468.000</td>\n",
              "      <td>104.000</td>\n",
              "      <td>52.000</td>\n",
              "      <td>884.000</td>\n",
              "      <td>884.000</td>\n",
              "    </tr>\n",
              "    <tr>\n",
              "      <th>mean</th>\n",
              "      <td>-0.519</td>\n",
              "      <td>-0.316</td>\n",
              "      <td>0.075</td>\n",
              "      <td>0.078</td>\n",
              "      <td>-0.171</td>\n",
              "      <td>-0.463</td>\n",
              "    </tr>\n",
              "    <tr>\n",
              "      <th>std</th>\n",
              "      <td>0.071</td>\n",
              "      <td>0.034</td>\n",
              "      <td>0.026</td>\n",
              "      <td>0.034</td>\n",
              "      <td>0.085</td>\n",
              "      <td>0.098</td>\n",
              "    </tr>\n",
              "    <tr>\n",
              "      <th>min</th>\n",
              "      <td>-0.703</td>\n",
              "      <td>-0.500</td>\n",
              "      <td>-0.035</td>\n",
              "      <td>-0.020</td>\n",
              "      <td>-0.670</td>\n",
              "      <td>-0.780</td>\n",
              "    </tr>\n",
              "    <tr>\n",
              "      <th>25%</th>\n",
              "      <td>-0.570</td>\n",
              "      <td>-0.330</td>\n",
              "      <td>0.060</td>\n",
              "      <td>0.060</td>\n",
              "      <td>-0.191</td>\n",
              "      <td>-0.515</td>\n",
              "    </tr>\n",
              "    <tr>\n",
              "      <th>50%</th>\n",
              "      <td>-0.526</td>\n",
              "      <td>-0.310</td>\n",
              "      <td>0.076</td>\n",
              "      <td>0.080</td>\n",
              "      <td>-0.150</td>\n",
              "      <td>-0.450</td>\n",
              "    </tr>\n",
              "    <tr>\n",
              "      <th>75%</th>\n",
              "      <td>-0.467</td>\n",
              "      <td>-0.297</td>\n",
              "      <td>0.092</td>\n",
              "      <td>0.092</td>\n",
              "      <td>-0.115</td>\n",
              "      <td>-0.393</td>\n",
              "    </tr>\n",
              "    <tr>\n",
              "      <th>max</th>\n",
              "      <td>-0.305</td>\n",
              "      <td>-0.230</td>\n",
              "      <td>0.125</td>\n",
              "      <td>0.170</td>\n",
              "      <td>-0.007</td>\n",
              "      <td>-0.217</td>\n",
              "    </tr>\n",
              "  </tbody>\n",
              "</table>\n",
              "</div>"
            ],
            "text/plain": [
              "       Expected recovery index  ...  Overall sentiment index\n",
              "count                  884.000  ...                  884.000\n",
              "mean                    -0.519  ...                   -0.463\n",
              "std                      0.071  ...                    0.098\n",
              "min                     -0.703  ...                   -0.780\n",
              "25%                     -0.570  ...                   -0.515\n",
              "50%                     -0.526  ...                   -0.450\n",
              "75%                     -0.467  ...                   -0.393\n",
              "max                     -0.305  ...                   -0.217\n",
              "\n",
              "[8 rows x 6 columns]"
            ]
          },
          "metadata": {},
          "execution_count": 105
        }
      ]
    },
    {
      "cell_type": "code",
      "metadata": {
        "id": "vRSJhdu_UR_F"
      },
      "source": [
        "# variables of interst: ST, DATE_START, Expected recovery index, Overall sentiment index\n",
        "sbps_tmp = sbps_df[['ST', 'DATE_START', 'Expected recovery index', 'Overall sentiment index']]"
      ],
      "execution_count": 106,
      "outputs": []
    },
    {
      "cell_type": "markdown",
      "metadata": {
        "id": "A9aOtUOSX_SW"
      },
      "source": [
        "## TODO (for multivariate prediction!!): Now merge temporary dfs into one df, based on state and date. We need to first parse the dates (monthly granularity), and deal with missing values e.g. missing state names, missing numbers (impute via sample mean?)\n"
      ]
    },
    {
      "cell_type": "markdown",
      "metadata": {
        "id": "n2Q2sS8_bu_2"
      },
      "source": [
        "\n",
        "# Univariate autogression \n"
      ]
    },
    {
      "cell_type": "code",
      "metadata": {
        "id": "SatN3XMGWRy-"
      },
      "source": [
        "# sbps_tmp\n",
        "# hps_tmp \n",
        "# unemp_df\n",
        "eri_df = sbps_tmp.drop(['Overall sentiment index'], axis=1)\n",
        "osi_df = sbps_tmp.drop(['Expected recovery index'], axis=1)"
      ],
      "execution_count": 71,
      "outputs": []
    },
    {
      "cell_type": "code",
      "metadata": {
        "id": "liQCcKZAn5_s"
      },
      "source": [
        "osi_df_tmp = osi_df[osi_df['ST'] == 'CA'][['DATE_START', 'Overall sentiment index']]\n",
        "osi_df_tmp.to_csv('/content/gdrive/MyDrive/Group 9 Project Documents/Datasets/cleaned_datasets/eri_univariate.csv', index=False)"
      ],
      "execution_count": 88,
      "outputs": []
    },
    {
      "cell_type": "markdown",
      "metadata": {
        "id": "T6BB-Cjk-_Ca"
      },
      "source": [
        "Check for optimal lag value, autocorrelation"
      ]
    },
    {
      "cell_type": "code",
      "metadata": {
        "colab": {
          "base_uri": "https://localhost:8080/",
          "height": 279
        },
        "id": "nF4TQKCh_PCn",
        "outputId": "c822977f-8cf0-4639-e9c8-4e40aabb661d"
      },
      "source": [
        "from pandas import read_csv\n",
        "from matplotlib import pyplot\n",
        "from pandas.plotting import lag_plot\n",
        "series = read_csv('/content/gdrive/MyDrive/Group 9 Project Documents/Datasets/cleaned_datasets/eri_univariate.csv', header=0, index_col=0)\n",
        "lag_plot(series)\n",
        "pyplot.show()"
      ],
      "execution_count": 99,
      "outputs": [
        {
          "output_type": "display_data",
          "data": {
            "image/png": "[encoded data removed]",
            "text/plain": [
              "<Figure size 432x288 with 1 Axes>"
            ]
          },
          "metadata": {
            "needs_background": "light"
          }
        }
      ]
    },
    {
      "cell_type": "markdown",
      "metadata": {
        "id": "UMwhhxqT_fxh"
      },
      "source": [
        " some positive correlation, now let us numerically verify"
      ]
    },
    {
      "cell_type": "code",
      "metadata": {
        "colab": {
          "base_uri": "https://localhost:8080/"
        },
        "id": "conqe1tfnVWV",
        "outputId": "580bc421-e11f-4090-d767-653b5ee370c4"
      },
      "source": [
        "from pandas import read_csv\n",
        "from pandas import DataFrame\n",
        "from pandas import concat\n",
        "from matplotlib import pyplot\n",
        "series = read_csv('/content/gdrive/MyDrive/Group 9 Project Documents/Datasets/cleaned_datasets/eri_univariate.csv', header=0, index_col=0)\n",
        "values = DataFrame(series.values)\n",
        "dataframe = concat([values.shift(1), values], axis=1)\n",
        "dataframe.columns = ['t-1', 't+1']\n",
        "result = dataframe.corr()\n",
        "print(result)\n"
      ],
      "execution_count": 89,
      "outputs": [
        {
          "output_type": "stream",
          "name": "stdout",
          "text": [
            "      t-1   t+1\n",
            "t-1 1.000 0.970\n",
            "t+1 0.970 1.000\n"
          ]
        }
      ]
    },
    {
      "cell_type": "markdown",
      "metadata": {
        "id": "_zyvt0hK_-y4"
      },
      "source": [
        "### Autoregressive model for out-of-sample predictions \n",
        "TODO: 1-step lookahead --> N-step lookahead\n",
        "\n"
      ]
    },
    {
      "cell_type": "code",
      "metadata": {
        "colab": {
          "base_uri": "https://localhost:8080/",
          "height": 418
        },
        "id": "4_LyqLAJaX-W",
        "outputId": "8c07ec2d-f48f-452a-ab78-7a6265e1a2b9"
      },
      "source": [
        "# static autoregressive model\n",
        "from pandas import read_csv\n",
        "from matplotlib import pyplot\n",
        "from statsmodels.tsa.ar_model import AutoReg\n",
        "from sklearn.metrics import mean_squared_error\n",
        "from math import sqrt\n",
        "\n",
        "# load dataset\n",
        "series = read_csv('/content/gdrive/MyDrive/Group 9 Project Documents/Datasets/cleaned_datasets/eri_univariate.csv', header=0, index_col=0, parse_dates=True, squeeze=True)\n",
        "series.reset_index(drop=True, inplace=True)\n",
        "\n",
        "# split dataset\n",
        "X = series.values\n",
        "train, test = X[1:len(X)-7], X[len(X)-7:]\n",
        "# train autoregression\n",
        "model = AutoReg(train, lags=1)\n",
        "model_fit = model.fit()\n",
        "print('Coefficients: %s' % model_fit.params)\n",
        "# make predictions\n",
        "predictions = model_fit.predict(start=len(train), end=len(train)+len(test)-1, dynamic=False)\n",
        "for i in range(len(predictions)):\n",
        "\tprint('predicted=%f, expected=%f' % (predictions[i], test[i]))\n",
        "rmse = sqrt(mean_squared_error(test, predictions))\n",
        "print('Test RMSE: %.3f' % rmse)\n",
        "# plot results\n",
        "pyplot.plot(test)\n",
        "pyplot.plot(predictions, color='red')\n",
        "pyplot.show()\n",
        "\n",
        "\n",
        "from pandas import datetime\n",
        "start_index = datetime(1990, 12, 25)\n",
        "end_index = datetime(1990, 12, 26)\n",
        "forecast = model_fit.predict(start=start_index, end=end_index)"
      ],
      "execution_count": 97,
      "outputs": [
        {
          "output_type": "stream",
          "name": "stdout",
          "text": [
            "Coefficients: [-0.22681146  0.55951106]\n",
            "predicted=-0.512162, expected=-0.494000\n",
            "predicted=-0.513372, expected=-0.485000\n",
            "predicted=-0.514049, expected=-0.456667\n",
            "predicted=-0.514427, expected=-0.455000\n",
            "predicted=-0.514639, expected=-0.450000\n",
            "predicted=-0.514758, expected=-0.450000\n",
            "predicted=-0.514824, expected=-0.440000\n",
            "Test RMSE: 0.056\n"
          ]
        },
        {
          "output_type": "display_data",
          "data": {
            "image/png": "[encoded data removed]",
            "text/plain": [
              "<Figure size 432x288 with 1 Axes>"
            ]
          },
          "metadata": {
            "needs_background": "light"
          }
        }
      ]
    }
  ]
}