{
  "nbformat": 4,
  "nbformat_minor": 0,
  "metadata": {
    "colab": {
      "name": "time_series.ipynb",
      "provenance": [],
      "collapsed_sections": [],
      "include_colab_link": true
    },
    "kernelspec": {
      "name": "python3",
      "display_name": "Python 3"
    },
    "language_info": {
      "name": "python"
    }
  },
  "cells": [
    {
      "cell_type": "markdown",
      "metadata": {
        "id": "view-in-github",
        "colab_type": "text"
      },
      "source": [
        "<a href=\"https://colab.research.google.com/github/elizabethyoo/team_9/blob/main/time_series.ipynb\" target=\"_parent\"><img src=\"https://colab.research.google.com/assets/colab-badge.svg\" alt=\"Open In Colab\"/></a>"
      ]
    },
    {
      "cell_type": "markdown",
      "metadata": {
        "id": "q4-RSJHx_mb3"
      },
      "source": [
        "# Time Series Analysis\n",
        "\n",
        "## autoregression for univariate TS 1-step lookahead forecasting \n",
        "\n",
        "## ARIMA for multivariate TS 1-step lookahead forecasting "
      ]
    },
    {
      "cell_type": "code",
      "metadata": {
        "id": "ZcVwwv6DWlH5",
        "colab": {
          "base_uri": "https://localhost:8080/"
        },
        "outputId": "806ee596-5f12-4c09-9c24-bfb798a92991"
      },
      "source": [
        "# Mount google drive\n",
        "\n",
        "from google.colab import drive\n",
        "\n",
        "drive.mount('/content/gdrive')\n",
        "root_path = '/content/drive/MyDrive/Group 9 Project Documents/'"
      ],
      "execution_count": 62,
      "outputs": [
        {
          "output_type": "stream",
          "name": "stdout",
          "text": [
            "Drive already mounted at /content/gdrive; to attempt to forcibly remount, call drive.mount(\"/content/gdrive\", force_remount=True).\n"
          ]
        }
      ]
    },
    {
      "cell_type": "code",
      "metadata": {
        "colab": {
          "base_uri": "https://localhost:8080/",
          "height": 38
        },
        "id": "cfsyd-_C2SFh",
        "outputId": "6c90439b-f6c4-4179-bce3-af858336bc9b"
      },
      "source": [
        "root_path"
      ],
      "execution_count": 63,
      "outputs": [
        {
          "output_type": "execute_result",
          "data": {
            "application/vnd.google.colaboratory.intrinsic+json": {
              "type": "string"
            },
            "text/plain": [
              "'/content/drive/MyDrive/Group 9 Project Documents/'"
            ]
          },
          "metadata": {},
          "execution_count": 63
        }
      ]
    },
    {
      "cell_type": "code",
      "metadata": {
        "id": "9s6vQPjqYKRw"
      },
      "source": [
        "import pandas as pd\n",
        "import glob\n",
        "import re\n",
        "import numpy as np\n",
        "import seaborn as sns\n",
        "import matplotlib.pyplot as plt\n",
        "import time\n",
        "import re\n",
        "pd.set_option('display.float_format', lambda x: '%.3f' % x)\n",
        "from pandas import read_csv"
      ],
      "execution_count": 64,
      "outputs": []
    },
    {
      "cell_type": "markdown",
      "metadata": {
        "id": "r7vVVHzzhWeD"
      },
      "source": [
        "# Preprocessing \n",
        "edit: whoops did not need"
      ]
    },
    {
      "cell_type": "code",
      "metadata": {
        "colab": {
          "base_uri": "https://localhost:8080/",
          "height": 0
        },
        "id": "wuksW72viPHr",
        "outputId": "71c4e40c-7ad6-4872-dace-6ea41d7dbca0"
      },
      "source": [
        "hps_state_agg_path = '/content/gdrive/MyDrive/Group 9 Project Documents/Datasets/cleaned_datasets/hps_state_agg.csv'\n",
        "sbps_agg_month_path = '/content/gdrive/MyDrive/Group 9 Project Documents/Datasets/cleaned_datasets/sbps_agg_month.csv'\n",
        "unemp_cleaned_path = '/content/gdrive/MyDrive/Group 9 Project Documents/Datasets/cleaned_datasets/unemployment_cleaned.csv'\n",
        "\n",
        "hps_df = pd.read_csv(hps_state_agg_path)\n",
        "sbps_df = pd.read_csv(sbps_agg_month_path)\n",
        "unemp_df = pd.read_csv(unemp_cleaned_path)"
      ],
      "execution_count": 101,
      "outputs": [
        {
          "output_type": "error",
          "ename": "FileNotFoundError",
          "evalue": "ignored",
          "traceback": [
            "\u001b[0;31m---------------------------------------------------------------------------\u001b[0m",
            "\u001b[0;31mFileNotFoundError\u001b[0m                         Traceback (most recent call last)",
            "\u001b[0;32m<ipython-input-101-bf7363e5f89d>\u001b[0m in \u001b[0;36m<module>\u001b[0;34m()\u001b[0m\n\u001b[1;32m      3\u001b[0m \u001b[0munemp_cleaned_path\u001b[0m \u001b[0;34m=\u001b[0m \u001b[0;34m'/content/gdrive/MyDrive/Group 9 Project Documents/Datasets/cleaned_datasets/unemployment_cleaned.csv'\u001b[0m\u001b[0;34m\u001b[0m\u001b[0;34m\u001b[0m\u001b[0m\n\u001b[1;32m      4\u001b[0m \u001b[0;34m\u001b[0m\u001b[0m\n\u001b[0;32m----> 5\u001b[0;31m \u001b[0mhps_df\u001b[0m \u001b[0;34m=\u001b[0m \u001b[0mpd\u001b[0m\u001b[0;34m.\u001b[0m\u001b[0mread_csv\u001b[0m\u001b[0;34m(\u001b[0m\u001b[0mhps_state_agg_path\u001b[0m\u001b[0;34m)\u001b[0m\u001b[0;34m\u001b[0m\u001b[0;34m\u001b[0m\u001b[0m\n\u001b[0m\u001b[1;32m      6\u001b[0m \u001b[0msbps_df\u001b[0m \u001b[0;34m=\u001b[0m \u001b[0mpd\u001b[0m\u001b[0;34m.\u001b[0m\u001b[0mread_csv\u001b[0m\u001b[0;34m(\u001b[0m\u001b[0msbps_agg_month_path\u001b[0m\u001b[0;34m)\u001b[0m\u001b[0;34m\u001b[0m\u001b[0;34m\u001b[0m\u001b[0m\n\u001b[1;32m      7\u001b[0m \u001b[0munemp_df\u001b[0m \u001b[0;34m=\u001b[0m \u001b[0mpd\u001b[0m\u001b[0;34m.\u001b[0m\u001b[0mread_csv\u001b[0m\u001b[0;34m(\u001b[0m\u001b[0munemp_cleaned_path\u001b[0m\u001b[0;34m)\u001b[0m\u001b[0;34m\u001b[0m\u001b[0;34m\u001b[0m\u001b[0m\n",
            "\u001b[0;32m/usr/local/lib/python3.7/dist-packages/pandas/io/parsers.py\u001b[0m in \u001b[0;36mread_csv\u001b[0;34m(filepath_or_buffer, sep, delimiter, header, names, index_col, usecols, squeeze, prefix, mangle_dupe_cols, dtype, engine, converters, true_values, false_values, skipinitialspace, skiprows, skipfooter, nrows, na_values, keep_default_na, na_filter, verbose, skip_blank_lines, parse_dates, infer_datetime_format, keep_date_col, date_parser, dayfirst, cache_dates, iterator, chunksize, compression, thousands, decimal, lineterminator, quotechar, quoting, doublequote, escapechar, comment, encoding, dialect, error_bad_lines, warn_bad_lines, delim_whitespace, low_memory, memory_map, float_precision)\u001b[0m\n\u001b[1;32m    686\u001b[0m     )\n\u001b[1;32m    687\u001b[0m \u001b[0;34m\u001b[0m\u001b[0m\n\u001b[0;32m--> 688\u001b[0;31m     \u001b[0;32mreturn\u001b[0m \u001b[0m_read\u001b[0m\u001b[0;34m(\u001b[0m\u001b[0mfilepath_or_buffer\u001b[0m\u001b[0;34m,\u001b[0m \u001b[0mkwds\u001b[0m\u001b[0;34m)\u001b[0m\u001b[0;34m\u001b[0m\u001b[0;34m\u001b[0m\u001b[0m\n\u001b[0m\u001b[1;32m    689\u001b[0m \u001b[0;34m\u001b[0m\u001b[0m\n\u001b[1;32m    690\u001b[0m \u001b[0;34m\u001b[0m\u001b[0m\n",
            "\u001b[0;32m/usr/local/lib/python3.7/dist-packages/pandas/io/parsers.py\u001b[0m in \u001b[0;36m_read\u001b[0;34m(filepath_or_buffer, kwds)\u001b[0m\n\u001b[1;32m    452\u001b[0m \u001b[0;34m\u001b[0m\u001b[0m\n\u001b[1;32m    453\u001b[0m     \u001b[0;31m# Create the parser.\u001b[0m\u001b[0;34m\u001b[0m\u001b[0;34m\u001b[0m\u001b[0;34m\u001b[0m\u001b[0m\n\u001b[0;32m--> 454\u001b[0;31m     \u001b[0mparser\u001b[0m \u001b[0;34m=\u001b[0m \u001b[0mTextFileReader\u001b[0m\u001b[0;34m(\u001b[0m\u001b[0mfp_or_buf\u001b[0m\u001b[0;34m,\u001b[0m \u001b[0;34m**\u001b[0m\u001b[0mkwds\u001b[0m\u001b[0;34m)\u001b[0m\u001b[0;34m\u001b[0m\u001b[0;34m\u001b[0m\u001b[0m\n\u001b[0m\u001b[1;32m    455\u001b[0m \u001b[0;34m\u001b[0m\u001b[0m\n\u001b[1;32m    456\u001b[0m     \u001b[0;32mif\u001b[0m \u001b[0mchunksize\u001b[0m \u001b[0;32mor\u001b[0m \u001b[0miterator\u001b[0m\u001b[0;34m:\u001b[0m\u001b[0;34m\u001b[0m\u001b[0;34m\u001b[0m\u001b[0m\n",
            "\u001b[0;32m/usr/local/lib/python3.7/dist-packages/pandas/io/parsers.py\u001b[0m in \u001b[0;36m__init__\u001b[0;34m(self, f, engine, **kwds)\u001b[0m\n\u001b[1;32m    946\u001b[0m             \u001b[0mself\u001b[0m\u001b[0;34m.\u001b[0m\u001b[0moptions\u001b[0m\u001b[0;34m[\u001b[0m\u001b[0;34m\"has_index_names\"\u001b[0m\u001b[0;34m]\u001b[0m \u001b[0;34m=\u001b[0m \u001b[0mkwds\u001b[0m\u001b[0;34m[\u001b[0m\u001b[0;34m\"has_index_names\"\u001b[0m\u001b[0;34m]\u001b[0m\u001b[0;34m\u001b[0m\u001b[0;34m\u001b[0m\u001b[0m\n\u001b[1;32m    947\u001b[0m \u001b[0;34m\u001b[0m\u001b[0m\n\u001b[0;32m--> 948\u001b[0;31m         \u001b[0mself\u001b[0m\u001b[0;34m.\u001b[0m\u001b[0m_make_engine\u001b[0m\u001b[0;34m(\u001b[0m\u001b[0mself\u001b[0m\u001b[0;34m.\u001b[0m\u001b[0mengine\u001b[0m\u001b[0;34m)\u001b[0m\u001b[0;34m\u001b[0m\u001b[0;34m\u001b[0m\u001b[0m\n\u001b[0m\u001b[1;32m    949\u001b[0m \u001b[0;34m\u001b[0m\u001b[0m\n\u001b[1;32m    950\u001b[0m     \u001b[0;32mdef\u001b[0m \u001b[0mclose\u001b[0m\u001b[0;34m(\u001b[0m\u001b[0mself\u001b[0m\u001b[0;34m)\u001b[0m\u001b[0;34m:\u001b[0m\u001b[0;34m\u001b[0m\u001b[0;34m\u001b[0m\u001b[0m\n",
            "\u001b[0;32m/usr/local/lib/python3.7/dist-packages/pandas/io/parsers.py\u001b[0m in \u001b[0;36m_make_engine\u001b[0;34m(self, engine)\u001b[0m\n\u001b[1;32m   1178\u001b[0m     \u001b[0;32mdef\u001b[0m \u001b[0m_make_engine\u001b[0m\u001b[0;34m(\u001b[0m\u001b[0mself\u001b[0m\u001b[0;34m,\u001b[0m \u001b[0mengine\u001b[0m\u001b[0;34m=\u001b[0m\u001b[0;34m\"c\"\u001b[0m\u001b[0;34m)\u001b[0m\u001b[0;34m:\u001b[0m\u001b[0;34m\u001b[0m\u001b[0;34m\u001b[0m\u001b[0m\n\u001b[1;32m   1179\u001b[0m         \u001b[0;32mif\u001b[0m \u001b[0mengine\u001b[0m \u001b[0;34m==\u001b[0m \u001b[0;34m\"c\"\u001b[0m\u001b[0;34m:\u001b[0m\u001b[0;34m\u001b[0m\u001b[0;34m\u001b[0m\u001b[0m\n\u001b[0;32m-> 1180\u001b[0;31m             \u001b[0mself\u001b[0m\u001b[0;34m.\u001b[0m\u001b[0m_engine\u001b[0m \u001b[0;34m=\u001b[0m \u001b[0mCParserWrapper\u001b[0m\u001b[0;34m(\u001b[0m\u001b[0mself\u001b[0m\u001b[0;34m.\u001b[0m\u001b[0mf\u001b[0m\u001b[0;34m,\u001b[0m \u001b[0;34m**\u001b[0m\u001b[0mself\u001b[0m\u001b[0;34m.\u001b[0m\u001b[0moptions\u001b[0m\u001b[0;34m)\u001b[0m\u001b[0;34m\u001b[0m\u001b[0;34m\u001b[0m\u001b[0m\n\u001b[0m\u001b[1;32m   1181\u001b[0m         \u001b[0;32melse\u001b[0m\u001b[0;34m:\u001b[0m\u001b[0;34m\u001b[0m\u001b[0;34m\u001b[0m\u001b[0m\n\u001b[1;32m   1182\u001b[0m             \u001b[0;32mif\u001b[0m \u001b[0mengine\u001b[0m \u001b[0;34m==\u001b[0m \u001b[0;34m\"python\"\u001b[0m\u001b[0;34m:\u001b[0m\u001b[0;34m\u001b[0m\u001b[0;34m\u001b[0m\u001b[0m\n",
            "\u001b[0;32m/usr/local/lib/python3.7/dist-packages/pandas/io/parsers.py\u001b[0m in \u001b[0;36m__init__\u001b[0;34m(self, src, **kwds)\u001b[0m\n\u001b[1;32m   2008\u001b[0m         \u001b[0mkwds\u001b[0m\u001b[0;34m[\u001b[0m\u001b[0;34m\"usecols\"\u001b[0m\u001b[0;34m]\u001b[0m \u001b[0;34m=\u001b[0m \u001b[0mself\u001b[0m\u001b[0;34m.\u001b[0m\u001b[0musecols\u001b[0m\u001b[0;34m\u001b[0m\u001b[0;34m\u001b[0m\u001b[0m\n\u001b[1;32m   2009\u001b[0m \u001b[0;34m\u001b[0m\u001b[0m\n\u001b[0;32m-> 2010\u001b[0;31m         \u001b[0mself\u001b[0m\u001b[0;34m.\u001b[0m\u001b[0m_reader\u001b[0m \u001b[0;34m=\u001b[0m \u001b[0mparsers\u001b[0m\u001b[0;34m.\u001b[0m\u001b[0mTextReader\u001b[0m\u001b[0;34m(\u001b[0m\u001b[0msrc\u001b[0m\u001b[0;34m,\u001b[0m \u001b[0;34m**\u001b[0m\u001b[0mkwds\u001b[0m\u001b[0;34m)\u001b[0m\u001b[0;34m\u001b[0m\u001b[0;34m\u001b[0m\u001b[0m\n\u001b[0m\u001b[1;32m   2011\u001b[0m         \u001b[0mself\u001b[0m\u001b[0;34m.\u001b[0m\u001b[0munnamed_cols\u001b[0m \u001b[0;34m=\u001b[0m \u001b[0mself\u001b[0m\u001b[0;34m.\u001b[0m\u001b[0m_reader\u001b[0m\u001b[0;34m.\u001b[0m\u001b[0munnamed_cols\u001b[0m\u001b[0;34m\u001b[0m\u001b[0;34m\u001b[0m\u001b[0m\n\u001b[1;32m   2012\u001b[0m \u001b[0;34m\u001b[0m\u001b[0m\n",
            "\u001b[0;32mpandas/_libs/parsers.pyx\u001b[0m in \u001b[0;36mpandas._libs.parsers.TextReader.__cinit__\u001b[0;34m()\u001b[0m\n",
            "\u001b[0;32mpandas/_libs/parsers.pyx\u001b[0m in \u001b[0;36mpandas._libs.parsers.TextReader._setup_parser_source\u001b[0;34m()\u001b[0m\n",
            "\u001b[0;31mFileNotFoundError\u001b[0m: [Errno 2] No such file or directory: '/content/gdrive/MyDrive/Group 9 Project Documents/Datasets/cleaned_datasets/hps_state_agg.csv'"
          ]
        }
      ]
    },
    {
      "cell_type": "markdown",
      "metadata": {
        "id": "R_giQUopE-QU"
      },
      "source": [
        "## Extract features of interest\n"
      ]
    },
    {
      "cell_type": "code",
      "metadata": {
        "colab": {
          "base_uri": "https://localhost:8080/",
          "height": 0
        },
        "id": "4pP6RN9_TF1Y",
        "outputId": "e0d64a9d-8a33-49c2-bebf-0e4dd77df494"
      },
      "source": [
        "hps_df.info()\n",
        "hps_df.describe()"
      ],
      "execution_count": 102,
      "outputs": [
        {
          "output_type": "stream",
          "name": "stdout",
          "text": [
            "<class 'pandas.core.frame.DataFrame'>\n",
            "RangeIndex: 918 entries, 0 to 917\n",
            "Data columns (total 38 columns):\n",
            " #   Column                                     Non-Null Count  Dtype  \n",
            "---  ------                                     --------------  -----  \n",
            " 0   EST_ST                                     918 non-null    int64  \n",
            " 1   YEAR                                       918 non-null    int64  \n",
            " 2   MONTH                                      918 non-null    int64  \n",
            " 3   AGE_GRP_18_24                              918 non-null    float64\n",
            " 4   AGE_GRP_25_39                              918 non-null    float64\n",
            " 5   AGE_GRP_40_49                              918 non-null    float64\n",
            " 6   AGE_GRP_50_59                              918 non-null    float64\n",
            " 7   AGE_GRP_60_69                              918 non-null    float64\n",
            " 8   AGE_GRP_70_up                              918 non-null    float64\n",
            " 9   AGE_GRP_less_18                            918 non-null    float64\n",
            " 10  COVID_VACC_DOSE_not_plan_all_dose          918 non-null    float64\n",
            " 11  COVID_VACC_DOSE_plan_to_receive_all_doses  918 non-null    float64\n",
            " 12  COVID_VACC_DOSE_received_all_doses         918 non-null    float64\n",
            " 13  EDUCATION_bachelor_or_higher               918 non-null    float64\n",
            " 14  EDUCATION_high_school_diploma_GED          918 non-null    float64\n",
            " 15  EDUCATION_less_high school                 918 non-null    float64\n",
            " 16  EDUCATION_some_college_asscte_degree       918 non-null    float64\n",
            " 17  INCOME_BEFORE_TAX_$100,000_$149,999        918 non-null    float64\n",
            " 18  INCOME_BEFORE_TAX_$150,000_$199,999        918 non-null    float64\n",
            " 19  INCOME_BEFORE_TAX_$200,000_above           918 non-null    float64\n",
            " 20  INCOME_BEFORE_TAX_$25,000_$34,999          918 non-null    float64\n",
            " 21  INCOME_BEFORE_TAX_$35,000_$49,999          918 non-null    float64\n",
            " 22  INCOME_BEFORE_TAX_$50,000_$74,999          918 non-null    float64\n",
            " 23  INCOME_BEFORE_TAX_$75,000_$99,999          918 non-null    float64\n",
            " 24  INCOME_BEFORE_TAX_Less_$25,000             918 non-null    float64\n",
            " 25  RACE_Any_other_race_alone_or_mixed_race    918 non-null    float64\n",
            " 26  RACE_Asian,_alone                          918 non-null    float64\n",
            " 27  RACE_Black_alone                           918 non-null    float64\n",
            " 28  RACE_White_alone                           918 non-null    float64\n",
            " 29  FOOD_SCARCITY                              918 non-null    float64\n",
            " 30  HOUSING_INSECURITY                         918 non-null    float64\n",
            " 31  MALE                                       918 non-null    float64\n",
            " 32  FEMALE                                     918 non-null    float64\n",
            " 33  HISPANIC_ORIGIN                            918 non-null    float64\n",
            " 34  RECVD_COVID_VACC                           459 non-null    float64\n",
            " 35  CHILDCARE_ISSUE                            306 non-null    float64\n",
            " 36  STATE                                      918 non-null    object \n",
            " 37  STATE_ABBR                                 900 non-null    object \n",
            "dtypes: float64(33), int64(3), object(2)\n",
            "memory usage: 272.7+ KB\n"
          ]
        },
        {
          "output_type": "execute_result",
          "data": {
            "text/html": [
              "<div>\n",
              "<style scoped>\n",
              "    .dataframe tbody tr th:only-of-type {\n",
              "        vertical-align: middle;\n",
              "    }\n",
              "\n",
              "    .dataframe tbody tr th {\n",
              "        vertical-align: top;\n",
              "    }\n",
              "\n",
              "    .dataframe thead th {\n",
              "        text-align: right;\n",
              "    }\n",
              "</style>\n",
              "<table border=\"1\" class=\"dataframe\">\n",
              "  <thead>\n",
              "    <tr style=\"text-align: right;\">\n",
              "      <th></th>\n",
              "      <th>EST_ST</th>\n",
              "      <th>YEAR</th>\n",
              "      <th>MONTH</th>\n",
              "      <th>AGE_GRP_18_24</th>\n",
              "      <th>AGE_GRP_25_39</th>\n",
              "      <th>AGE_GRP_40_49</th>\n",
              "      <th>AGE_GRP_50_59</th>\n",
              "      <th>AGE_GRP_60_69</th>\n",
              "      <th>AGE_GRP_70_up</th>\n",
              "      <th>AGE_GRP_less_18</th>\n",
              "      <th>COVID_VACC_DOSE_not_plan_all_dose</th>\n",
              "      <th>COVID_VACC_DOSE_plan_to_receive_all_doses</th>\n",
              "      <th>COVID_VACC_DOSE_received_all_doses</th>\n",
              "      <th>EDUCATION_bachelor_or_higher</th>\n",
              "      <th>EDUCATION_high_school_diploma_GED</th>\n",
              "      <th>EDUCATION_less_high school</th>\n",
              "      <th>EDUCATION_some_college_asscte_degree</th>\n",
              "      <th>INCOME_BEFORE_TAX_$100,000_$149,999</th>\n",
              "      <th>INCOME_BEFORE_TAX_$150,000_$199,999</th>\n",
              "      <th>INCOME_BEFORE_TAX_$200,000_above</th>\n",
              "      <th>INCOME_BEFORE_TAX_$25,000_$34,999</th>\n",
              "      <th>INCOME_BEFORE_TAX_$35,000_$49,999</th>\n",
              "      <th>INCOME_BEFORE_TAX_$50,000_$74,999</th>\n",
              "      <th>INCOME_BEFORE_TAX_$75,000_$99,999</th>\n",
              "      <th>INCOME_BEFORE_TAX_Less_$25,000</th>\n",
              "      <th>RACE_Any_other_race_alone_or_mixed_race</th>\n",
              "      <th>RACE_Asian,_alone</th>\n",
              "      <th>RACE_Black_alone</th>\n",
              "      <th>RACE_White_alone</th>\n",
              "      <th>FOOD_SCARCITY</th>\n",
              "      <th>HOUSING_INSECURITY</th>\n",
              "      <th>MALE</th>\n",
              "      <th>FEMALE</th>\n",
              "      <th>HISPANIC_ORIGIN</th>\n",
              "      <th>RECVD_COVID_VACC</th>\n",
              "      <th>CHILDCARE_ISSUE</th>\n",
              "    </tr>\n",
              "  </thead>\n",
              "  <tbody>\n",
              "    <tr>\n",
              "      <th>count</th>\n",
              "      <td>918.000</td>\n",
              "      <td>918.000</td>\n",
              "      <td>918.000</td>\n",
              "      <td>918.000</td>\n",
              "      <td>918.000</td>\n",
              "      <td>918.000</td>\n",
              "      <td>918.000</td>\n",
              "      <td>918.000</td>\n",
              "      <td>918.000</td>\n",
              "      <td>918.000</td>\n",
              "      <td>918.000</td>\n",
              "      <td>918.000</td>\n",
              "      <td>918.000</td>\n",
              "      <td>918.000</td>\n",
              "      <td>918.000</td>\n",
              "      <td>918.000</td>\n",
              "      <td>918.000</td>\n",
              "      <td>918.000</td>\n",
              "      <td>918.000</td>\n",
              "      <td>918.000</td>\n",
              "      <td>918.000</td>\n",
              "      <td>918.000</td>\n",
              "      <td>918.000</td>\n",
              "      <td>918.000</td>\n",
              "      <td>918.000</td>\n",
              "      <td>918.000</td>\n",
              "      <td>918.000</td>\n",
              "      <td>918.000</td>\n",
              "      <td>918.000</td>\n",
              "      <td>918.000</td>\n",
              "      <td>918.000</td>\n",
              "      <td>918.000</td>\n",
              "      <td>918.000</td>\n",
              "      <td>918.000</td>\n",
              "      <td>459.000</td>\n",
              "      <td>306.000</td>\n",
              "    </tr>\n",
              "    <tr>\n",
              "      <th>mean</th>\n",
              "      <td>28.961</td>\n",
              "      <td>2020.500</td>\n",
              "      <td>6.500</td>\n",
              "      <td>8.790</td>\n",
              "      <td>27.335</td>\n",
              "      <td>16.541</td>\n",
              "      <td>17.093</td>\n",
              "      <td>17.782</td>\n",
              "      <td>11.497</td>\n",
              "      <td>0.961</td>\n",
              "      <td>0.078</td>\n",
              "      <td>0.562</td>\n",
              "      <td>12.727</td>\n",
              "      <td>30.145</td>\n",
              "      <td>36.532</td>\n",
              "      <td>1.965</td>\n",
              "      <td>31.357</td>\n",
              "      <td>11.699</td>\n",
              "      <td>5.040</td>\n",
              "      <td>5.176</td>\n",
              "      <td>8.402</td>\n",
              "      <td>9.573</td>\n",
              "      <td>13.812</td>\n",
              "      <td>10.347</td>\n",
              "      <td>10.837</td>\n",
              "      <td>6.456</td>\n",
              "      <td>4.348</td>\n",
              "      <td>10.571</td>\n",
              "      <td>78.625</td>\n",
              "      <td>9.639</td>\n",
              "      <td>2.282</td>\n",
              "      <td>48.587</td>\n",
              "      <td>51.413</td>\n",
              "      <td>11.194</td>\n",
              "      <td>60.992</td>\n",
              "      <td>20.399</td>\n",
              "    </tr>\n",
              "    <tr>\n",
              "      <th>std</th>\n",
              "      <td>15.685</td>\n",
              "      <td>0.500</td>\n",
              "      <td>2.988</td>\n",
              "      <td>1.953</td>\n",
              "      <td>3.340</td>\n",
              "      <td>1.479</td>\n",
              "      <td>1.644</td>\n",
              "      <td>2.078</td>\n",
              "      <td>1.705</td>\n",
              "      <td>0.605</td>\n",
              "      <td>0.234</td>\n",
              "      <td>1.421</td>\n",
              "      <td>28.611</td>\n",
              "      <td>6.295</td>\n",
              "      <td>5.302</td>\n",
              "      <td>1.104</td>\n",
              "      <td>3.996</td>\n",
              "      <td>2.219</td>\n",
              "      <td>1.666</td>\n",
              "      <td>2.752</td>\n",
              "      <td>2.027</td>\n",
              "      <td>1.941</td>\n",
              "      <td>2.384</td>\n",
              "      <td>1.879</td>\n",
              "      <td>3.207</td>\n",
              "      <td>5.394</td>\n",
              "      <td>5.527</td>\n",
              "      <td>9.862</td>\n",
              "      <td>13.035</td>\n",
              "      <td>2.731</td>\n",
              "      <td>1.017</td>\n",
              "      <td>1.012</td>\n",
              "      <td>1.012</td>\n",
              "      <td>9.446</td>\n",
              "      <td>26.938</td>\n",
              "      <td>6.659</td>\n",
              "    </tr>\n",
              "    <tr>\n",
              "      <th>min</th>\n",
              "      <td>1.000</td>\n",
              "      <td>2020.000</td>\n",
              "      <td>1.000</td>\n",
              "      <td>2.995</td>\n",
              "      <td>19.698</td>\n",
              "      <td>10.696</td>\n",
              "      <td>10.152</td>\n",
              "      <td>10.615</td>\n",
              "      <td>5.891</td>\n",
              "      <td>0.000</td>\n",
              "      <td>0.000</td>\n",
              "      <td>0.000</td>\n",
              "      <td>0.000</td>\n",
              "      <td>19.930</td>\n",
              "      <td>14.749</td>\n",
              "      <td>0.000</td>\n",
              "      <td>15.635</td>\n",
              "      <td>6.094</td>\n",
              "      <td>1.608</td>\n",
              "      <td>1.468</td>\n",
              "      <td>3.399</td>\n",
              "      <td>2.707</td>\n",
              "      <td>6.360</td>\n",
              "      <td>5.485</td>\n",
              "      <td>4.227</td>\n",
              "      <td>1.525</td>\n",
              "      <td>0.182</td>\n",
              "      <td>0.223</td>\n",
              "      <td>24.978</td>\n",
              "      <td>2.711</td>\n",
              "      <td>0.307</td>\n",
              "      <td>46.349</td>\n",
              "      <td>48.841</td>\n",
              "      <td>1.690</td>\n",
              "      <td>7.805</td>\n",
              "      <td>8.108</td>\n",
              "    </tr>\n",
              "    <tr>\n",
              "      <th>25%</th>\n",
              "      <td>16.000</td>\n",
              "      <td>2020.000</td>\n",
              "      <td>4.000</td>\n",
              "      <td>7.530</td>\n",
              "      <td>25.230</td>\n",
              "      <td>15.569</td>\n",
              "      <td>16.073</td>\n",
              "      <td>16.569</td>\n",
              "      <td>10.452</td>\n",
              "      <td>0.526</td>\n",
              "      <td>0.000</td>\n",
              "      <td>0.000</td>\n",
              "      <td>0.000</td>\n",
              "      <td>26.381</td>\n",
              "      <td>33.455</td>\n",
              "      <td>1.213</td>\n",
              "      <td>28.845</td>\n",
              "      <td>10.145</td>\n",
              "      <td>3.863</td>\n",
              "      <td>3.423</td>\n",
              "      <td>6.968</td>\n",
              "      <td>8.379</td>\n",
              "      <td>12.201</td>\n",
              "      <td>9.102</td>\n",
              "      <td>8.556</td>\n",
              "      <td>3.836</td>\n",
              "      <td>1.794</td>\n",
              "      <td>2.897</td>\n",
              "      <td>70.732</td>\n",
              "      <td>7.607</td>\n",
              "      <td>1.556</td>\n",
              "      <td>47.936</td>\n",
              "      <td>50.666</td>\n",
              "      <td>5.073</td>\n",
              "      <td>39.266</td>\n",
              "      <td>15.710</td>\n",
              "    </tr>\n",
              "    <tr>\n",
              "      <th>50%</th>\n",
              "      <td>29.000</td>\n",
              "      <td>2020.500</td>\n",
              "      <td>6.500</td>\n",
              "      <td>8.792</td>\n",
              "      <td>26.920</td>\n",
              "      <td>16.426</td>\n",
              "      <td>17.070</td>\n",
              "      <td>17.831</td>\n",
              "      <td>11.411</td>\n",
              "      <td>0.897</td>\n",
              "      <td>0.000</td>\n",
              "      <td>0.000</td>\n",
              "      <td>0.000</td>\n",
              "      <td>29.297</td>\n",
              "      <td>36.316</td>\n",
              "      <td>1.807</td>\n",
              "      <td>31.322</td>\n",
              "      <td>11.608</td>\n",
              "      <td>4.727</td>\n",
              "      <td>4.390</td>\n",
              "      <td>8.272</td>\n",
              "      <td>9.485</td>\n",
              "      <td>13.663</td>\n",
              "      <td>10.160</td>\n",
              "      <td>10.308</td>\n",
              "      <td>4.940</td>\n",
              "      <td>2.799</td>\n",
              "      <td>7.215</td>\n",
              "      <td>80.647</td>\n",
              "      <td>9.402</td>\n",
              "      <td>2.135</td>\n",
              "      <td>48.498</td>\n",
              "      <td>51.502</td>\n",
              "      <td>8.160</td>\n",
              "      <td>73.897</td>\n",
              "      <td>19.340</td>\n",
              "    </tr>\n",
              "    <tr>\n",
              "      <th>75%</th>\n",
              "      <td>42.000</td>\n",
              "      <td>2021.000</td>\n",
              "      <td>9.000</td>\n",
              "      <td>9.917</td>\n",
              "      <td>28.885</td>\n",
              "      <td>17.301</td>\n",
              "      <td>18.160</td>\n",
              "      <td>19.046</td>\n",
              "      <td>12.505</td>\n",
              "      <td>1.281</td>\n",
              "      <td>0.000</td>\n",
              "      <td>0.000</td>\n",
              "      <td>0.000</td>\n",
              "      <td>32.840</td>\n",
              "      <td>39.850</td>\n",
              "      <td>2.433</td>\n",
              "      <td>34.140</td>\n",
              "      <td>13.205</td>\n",
              "      <td>6.051</td>\n",
              "      <td>6.098</td>\n",
              "      <td>9.672</td>\n",
              "      <td>10.800</td>\n",
              "      <td>15.231</td>\n",
              "      <td>11.438</td>\n",
              "      <td>12.522</td>\n",
              "      <td>6.771</td>\n",
              "      <td>4.981</td>\n",
              "      <td>14.641</td>\n",
              "      <td>88.705</td>\n",
              "      <td>11.389</td>\n",
              "      <td>2.834</td>\n",
              "      <td>49.334</td>\n",
              "      <td>52.064</td>\n",
              "      <td>12.073</td>\n",
              "      <td>81.605</td>\n",
              "      <td>24.528</td>\n",
              "    </tr>\n",
              "    <tr>\n",
              "      <th>max</th>\n",
              "      <td>56.000</td>\n",
              "      <td>2021.000</td>\n",
              "      <td>12.000</td>\n",
              "      <td>16.970</td>\n",
              "      <td>48.720</td>\n",
              "      <td>26.585</td>\n",
              "      <td>22.867</td>\n",
              "      <td>24.613</td>\n",
              "      <td>16.845</td>\n",
              "      <td>4.499</td>\n",
              "      <td>2.923</td>\n",
              "      <td>8.377</td>\n",
              "      <td>93.339</td>\n",
              "      <td>58.596</td>\n",
              "      <td>51.887</td>\n",
              "      <td>7.863</td>\n",
              "      <td>54.123</td>\n",
              "      <td>19.540</td>\n",
              "      <td>12.411</td>\n",
              "      <td>26.613</td>\n",
              "      <td>15.581</td>\n",
              "      <td>16.073</td>\n",
              "      <td>23.166</td>\n",
              "      <td>17.359</td>\n",
              "      <td>28.377</td>\n",
              "      <td>40.273</td>\n",
              "      <td>41.692</td>\n",
              "      <td>44.598</td>\n",
              "      <td>96.840</td>\n",
              "      <td>22.533</td>\n",
              "      <td>6.498</td>\n",
              "      <td>51.159</td>\n",
              "      <td>53.651</td>\n",
              "      <td>46.734</td>\n",
              "      <td>94.367</td>\n",
              "      <td>38.584</td>\n",
              "    </tr>\n",
              "  </tbody>\n",
              "</table>\n",
              "</div>"
            ],
            "text/plain": [
              "       EST_ST     YEAR  ...  RECVD_COVID_VACC  CHILDCARE_ISSUE\n",
              "count 918.000  918.000  ...           459.000          306.000\n",
              "mean   28.961 2020.500  ...            60.992           20.399\n",
              "std    15.685    0.500  ...            26.938            6.659\n",
              "min     1.000 2020.000  ...             7.805            8.108\n",
              "25%    16.000 2020.000  ...            39.266           15.710\n",
              "50%    29.000 2020.500  ...            73.897           19.340\n",
              "75%    42.000 2021.000  ...            81.605           24.528\n",
              "max    56.000 2021.000  ...            94.367           38.584\n",
              "\n",
              "[8 rows x 36 columns]"
            ]
          },
          "metadata": {},
          "execution_count": 102
        }
      ]
    },
    {
      "cell_type": "markdown",
      "metadata": {
        "id": "9wU9YTxRR8Ba"
      },
      "source": [
        "dropping covid vax rate since more than 50% of entries missing "
      ]
    },
    {
      "cell_type": "code",
      "metadata": {
        "id": "eXP8yTuCTKAb"
      },
      "source": [
        "# Want to subset: YEAR, MONTH, COVID_VACC_DOSE_received_all_doses, HOUSING_INSECURITY, STATE, STATE_ABBR\n",
        "hps_tmp = hps_df[['YEAR', 'MONTH', 'HOUSING_INSECURITY', 'STATE', 'STATE_ABBR']]"
      ],
      "execution_count": 103,
      "outputs": []
    },
    {
      "cell_type": "code",
      "metadata": {
        "colab": {
          "base_uri": "https://localhost:8080/",
          "height": 0
        },
        "id": "aJ3BEvkKDViC",
        "outputId": "c66bfd15-8e09-419e-baf6-183e221e7fac"
      },
      "source": [
        "unemp_df.info() \n",
        "unemp_df.describe()"
      ],
      "execution_count": 104,
      "outputs": [
        {
          "output_type": "stream",
          "name": "stdout",
          "text": [
            "<class 'pandas.core.frame.DataFrame'>\n",
            "RangeIndex: 1040 entries, 0 to 1039\n",
            "Data columns (total 3 columns):\n",
            " #   Column             Non-Null Count  Dtype  \n",
            "---  ------             --------------  -----  \n",
            " 0   state              1040 non-null   object \n",
            " 1   date               1040 non-null   object \n",
            " 2   unemployment_rate  1038 non-null   float64\n",
            "dtypes: float64(1), object(2)\n",
            "memory usage: 24.5+ KB\n"
          ]
        },
        {
          "output_type": "execute_result",
          "data": {
            "text/html": [
              "<div>\n",
              "<style scoped>\n",
              "    .dataframe tbody tr th:only-of-type {\n",
              "        vertical-align: middle;\n",
              "    }\n",
              "\n",
              "    .dataframe tbody tr th {\n",
              "        vertical-align: top;\n",
              "    }\n",
              "\n",
              "    .dataframe thead th {\n",
              "        text-align: right;\n",
              "    }\n",
              "</style>\n",
              "<table border=\"1\" class=\"dataframe\">\n",
              "  <thead>\n",
              "    <tr style=\"text-align: right;\">\n",
              "      <th></th>\n",
              "      <th>unemployment_rate</th>\n",
              "    </tr>\n",
              "  </thead>\n",
              "  <tbody>\n",
              "    <tr>\n",
              "      <th>count</th>\n",
              "      <td>1038.000</td>\n",
              "    </tr>\n",
              "    <tr>\n",
              "      <th>mean</th>\n",
              "      <td>6.633</td>\n",
              "    </tr>\n",
              "    <tr>\n",
              "      <th>std</th>\n",
              "      <td>3.294</td>\n",
              "    </tr>\n",
              "    <tr>\n",
              "      <th>min</th>\n",
              "      <td>1.700</td>\n",
              "    </tr>\n",
              "    <tr>\n",
              "      <th>25%</th>\n",
              "      <td>4.325</td>\n",
              "    </tr>\n",
              "    <tr>\n",
              "      <th>50%</th>\n",
              "      <td>5.900</td>\n",
              "    </tr>\n",
              "    <tr>\n",
              "      <th>75%</th>\n",
              "      <td>7.900</td>\n",
              "    </tr>\n",
              "    <tr>\n",
              "      <th>max</th>\n",
              "      <td>29.700</td>\n",
              "    </tr>\n",
              "  </tbody>\n",
              "</table>\n",
              "</div>"
            ],
            "text/plain": [
              "       unemployment_rate\n",
              "count           1038.000\n",
              "mean               6.633\n",
              "std                3.294\n",
              "min                1.700\n",
              "25%                4.325\n",
              "50%                5.900\n",
              "75%                7.900\n",
              "max               29.700"
            ]
          },
          "metadata": {},
          "execution_count": 104
        }
      ]
    },
    {
      "cell_type": "markdown",
      "metadata": {
        "id": "ZjIETpVKVFNB"
      },
      "source": [
        "keep unemp_df as is "
      ]
    },
    {
      "cell_type": "code",
      "metadata": {
        "colab": {
          "base_uri": "https://localhost:8080/",
          "height": 0
        },
        "id": "nv73kbJhS9hK",
        "outputId": "5d43c35d-19e3-48f2-cc04-241ab4540cb3"
      },
      "source": [
        "sbps_df.info()\n",
        "sbps_df.describe()"
      ],
      "execution_count": 105,
      "outputs": [
        {
          "output_type": "stream",
          "name": "stdout",
          "text": [
            "<class 'pandas.core.frame.DataFrame'>\n",
            "RangeIndex: 884 entries, 0 to 883\n",
            "Data columns (total 8 columns):\n",
            " #   Column                        Non-Null Count  Dtype  \n",
            "---  ------                        --------------  -----  \n",
            " 0   ST                            884 non-null    object \n",
            " 1   DATE_START                    884 non-null    object \n",
            " 2   Expected recovery index       884 non-null    float64\n",
            " 3   Financial stress index        468 non-null    float64\n",
            " 4   Market challenges index       104 non-null    float64\n",
            " 5   Market(s) challenges index    52 non-null     float64\n",
            " 6   Operational challenges index  884 non-null    float64\n",
            " 7   Overall sentiment index       884 non-null    float64\n",
            "dtypes: float64(6), object(2)\n",
            "memory usage: 55.4+ KB\n"
          ]
        },
        {
          "output_type": "execute_result",
          "data": {
            "text/html": [
              "<div>\n",
              "<style scoped>\n",
              "    .dataframe tbody tr th:only-of-type {\n",
              "        vertical-align: middle;\n",
              "    }\n",
              "\n",
              "    .dataframe tbody tr th {\n",
              "        vertical-align: top;\n",
              "    }\n",
              "\n",
              "    .dataframe thead th {\n",
              "        text-align: right;\n",
              "    }\n",
              "</style>\n",
              "<table border=\"1\" class=\"dataframe\">\n",
              "  <thead>\n",
              "    <tr style=\"text-align: right;\">\n",
              "      <th></th>\n",
              "      <th>Expected recovery index</th>\n",
              "      <th>Financial stress index</th>\n",
              "      <th>Market challenges index</th>\n",
              "      <th>Market(s) challenges index</th>\n",
              "      <th>Operational challenges index</th>\n",
              "      <th>Overall sentiment index</th>\n",
              "    </tr>\n",
              "  </thead>\n",
              "  <tbody>\n",
              "    <tr>\n",
              "      <th>count</th>\n",
              "      <td>884.000</td>\n",
              "      <td>468.000</td>\n",
              "      <td>104.000</td>\n",
              "      <td>52.000</td>\n",
              "      <td>884.000</td>\n",
              "      <td>884.000</td>\n",
              "    </tr>\n",
              "    <tr>\n",
              "      <th>mean</th>\n",
              "      <td>-0.519</td>\n",
              "      <td>-0.316</td>\n",
              "      <td>0.075</td>\n",
              "      <td>0.078</td>\n",
              "      <td>-0.171</td>\n",
              "      <td>-0.463</td>\n",
              "    </tr>\n",
              "    <tr>\n",
              "      <th>std</th>\n",
              "      <td>0.071</td>\n",
              "      <td>0.034</td>\n",
              "      <td>0.026</td>\n",
              "      <td>0.034</td>\n",
              "      <td>0.085</td>\n",
              "      <td>0.098</td>\n",
              "    </tr>\n",
              "    <tr>\n",
              "      <th>min</th>\n",
              "      <td>-0.703</td>\n",
              "      <td>-0.500</td>\n",
              "      <td>-0.035</td>\n",
              "      <td>-0.020</td>\n",
              "      <td>-0.670</td>\n",
              "      <td>-0.780</td>\n",
              "    </tr>\n",
              "    <tr>\n",
              "      <th>25%</th>\n",
              "      <td>-0.570</td>\n",
              "      <td>-0.330</td>\n",
              "      <td>0.060</td>\n",
              "      <td>0.060</td>\n",
              "      <td>-0.191</td>\n",
              "      <td>-0.515</td>\n",
              "    </tr>\n",
              "    <tr>\n",
              "      <th>50%</th>\n",
              "      <td>-0.526</td>\n",
              "      <td>-0.310</td>\n",
              "      <td>0.076</td>\n",
              "      <td>0.080</td>\n",
              "      <td>-0.150</td>\n",
              "      <td>-0.450</td>\n",
              "    </tr>\n",
              "    <tr>\n",
              "      <th>75%</th>\n",
              "      <td>-0.467</td>\n",
              "      <td>-0.297</td>\n",
              "      <td>0.092</td>\n",
              "      <td>0.092</td>\n",
              "      <td>-0.115</td>\n",
              "      <td>-0.393</td>\n",
              "    </tr>\n",
              "    <tr>\n",
              "      <th>max</th>\n",
              "      <td>-0.305</td>\n",
              "      <td>-0.230</td>\n",
              "      <td>0.125</td>\n",
              "      <td>0.170</td>\n",
              "      <td>-0.007</td>\n",
              "      <td>-0.217</td>\n",
              "    </tr>\n",
              "  </tbody>\n",
              "</table>\n",
              "</div>"
            ],
            "text/plain": [
              "       Expected recovery index  ...  Overall sentiment index\n",
              "count                  884.000  ...                  884.000\n",
              "mean                    -0.519  ...                   -0.463\n",
              "std                      0.071  ...                    0.098\n",
              "min                     -0.703  ...                   -0.780\n",
              "25%                     -0.570  ...                   -0.515\n",
              "50%                     -0.526  ...                   -0.450\n",
              "75%                     -0.467  ...                   -0.393\n",
              "max                     -0.305  ...                   -0.217\n",
              "\n",
              "[8 rows x 6 columns]"
            ]
          },
          "metadata": {},
          "execution_count": 105
        }
      ]
    },
    {
      "cell_type": "code",
      "metadata": {
        "id": "vRSJhdu_UR_F"
      },
      "source": [
        "# variables of interst: ST, DATE_START, Expected recovery index, Overall sentiment index\n",
        "sbps_tmp = sbps_df[['ST', 'DATE_START', 'Expected recovery index', 'Overall sentiment index']]"
      ],
      "execution_count": 106,
      "outputs": []
    },
    {
      "cell_type": "markdown",
      "metadata": {
        "id": "A9aOtUOSX_SW"
      },
      "source": [
        "## TODO (for multivariate prediction!!): Now merge temporary dfs into one df, based on state and date. We need to first parse the dates (monthly granularity), and deal with missing values e.g. missing state names, missing numbers (impute via sample mean?)\n"
      ]
    },
    {
      "cell_type": "markdown",
      "metadata": {
        "id": "n2Q2sS8_bu_2"
      },
      "source": [
        "\n",
        "# Univariate autogression \n"
      ]
    },
    {
      "cell_type": "code",
      "metadata": {
        "id": "SatN3XMGWRy-"
      },
      "source": [
        "# sbps_tmp\n",
        "# hps_tmp \n",
        "# unemp_df\n",
        "eri_df = sbps_tmp.drop(['Overall sentiment index'], axis=1)\n",
        "osi_df = sbps_tmp.drop(['Expected recovery index'], axis=1)"
      ],
      "execution_count": 109,
      "outputs": []
    },
    {
      "cell_type": "code",
      "metadata": {
        "id": "xUMOdTn9Bp4y"
      },
      "source": [
        "# # eri for california\n",
        "# eri_df_tmp = eri_df[osi_df['ST'] == 'CA'][['DATE_START', 'Expected recovery index']]\n",
        "# eri_df_tmp.to_csv('/content/gdrive/MyDrive/Group 9 Project Documents/Datasets/cleaned_datasets/eri_univariate.csv', index=False)\n"
      ],
      "execution_count": 112,
      "outputs": []
    },
    {
      "cell_type": "markdown",
      "metadata": {
        "id": "wrwpmJ4eB1z3"
      },
      "source": [
        ""
      ]
    },
    {
      "cell_type": "code",
      "metadata": {
        "id": "liQCcKZAn5_s"
      },
      "source": [
        "# # osi for california\n",
        "# osi_df_tmp = osi_df[osi_df['ST'] == 'CA'][['DATE_START', 'Overall sentiment index']]\n",
        "# osi_df_tmp.to_csv('/content/gdrive/MyDrive/Group 9 Project Documents/Datasets/cleaned_datasets/osi_univariate.csv', index=False)\n"
      ],
      "execution_count": 113,
      "outputs": []
    },
    {
      "cell_type": "markdown",
      "metadata": {
        "id": "T6BB-Cjk-_Ca"
      },
      "source": [
        "Check for optimal lag value, autocorrelation"
      ]
    },
    {
      "cell_type": "code",
      "metadata": {
        "colab": {
          "base_uri": "https://localhost:8080/",
          "height": 279
        },
        "id": "nF4TQKCh_PCn",
        "outputId": "1765e5e5-9545-484b-de60-6b3c7249263e"
      },
      "source": [
        "from pandas import read_csv\n",
        "from matplotlib import pyplot\n",
        "from pandas.plotting import lag_plot\n",
        "series = read_csv('/content/gdrive/MyDrive/Group 9 Project Documents/Datasets/cleaned_datasets/eri_univariate.csv', header=0, index_col=0)\n",
        "lag_plot(series)\n",
        "pyplot.show()"
      ],
      "execution_count": 114,
      "outputs": [
        {
          "output_type": "display_data",
          "data": {
            "image/png": "[encoded data removed]",
            "text/plain": [
              "<Figure size 432x288 with 1 Axes>"
            ]
          },
          "metadata": {
            "needs_background": "light"
          }
        }
      ]
    },
    {
      "cell_type": "code",
      "metadata": {
        "colab": {
          "base_uri": "https://localhost:8080/",
          "height": 607
        },
        "id": "J4gSaqKtBVnV",
        "outputId": "b02042da-8902-43d3-b38d-41b71a4bf9cc"
      },
      "source": [
        "series"
      ],
      "execution_count": 115,
      "outputs": [
        {
          "output_type": "execute_result",
          "data": {
            "text/html": [
              "<div>\n",
              "<style scoped>\n",
              "    .dataframe tbody tr th:only-of-type {\n",
              "        vertical-align: middle;\n",
              "    }\n",
              "\n",
              "    .dataframe tbody tr th {\n",
              "        vertical-align: top;\n",
              "    }\n",
              "\n",
              "    .dataframe thead th {\n",
              "        text-align: right;\n",
              "    }\n",
              "</style>\n",
              "<table border=\"1\" class=\"dataframe\">\n",
              "  <thead>\n",
              "    <tr style=\"text-align: right;\">\n",
              "      <th></th>\n",
              "      <th>Expected recovery index</th>\n",
              "    </tr>\n",
              "    <tr>\n",
              "      <th>DATE_START</th>\n",
              "      <th></th>\n",
              "    </tr>\n",
              "  </thead>\n",
              "  <tbody>\n",
              "    <tr>\n",
              "      <th>2020-04-30</th>\n",
              "      <td>-0.620</td>\n",
              "    </tr>\n",
              "    <tr>\n",
              "      <th>2020-05-31</th>\n",
              "      <td>-0.642</td>\n",
              "    </tr>\n",
              "    <tr>\n",
              "      <th>2020-06-30</th>\n",
              "      <td>-0.647</td>\n",
              "    </tr>\n",
              "    <tr>\n",
              "      <th>2020-08-31</th>\n",
              "      <td>-0.610</td>\n",
              "    </tr>\n",
              "    <tr>\n",
              "      <th>2020-09-30</th>\n",
              "      <td>-0.597</td>\n",
              "    </tr>\n",
              "    <tr>\n",
              "      <th>2020-10-31</th>\n",
              "      <td>-0.590</td>\n",
              "    </tr>\n",
              "    <tr>\n",
              "      <th>2020-11-30</th>\n",
              "      <td>-0.600</td>\n",
              "    </tr>\n",
              "    <tr>\n",
              "      <th>2020-12-31</th>\n",
              "      <td>-0.607</td>\n",
              "    </tr>\n",
              "    <tr>\n",
              "      <th>2021-01-31</th>\n",
              "      <td>-0.620</td>\n",
              "    </tr>\n",
              "    <tr>\n",
              "      <th>2021-02-28</th>\n",
              "      <td>-0.605</td>\n",
              "    </tr>\n",
              "    <tr>\n",
              "      <th>2021-03-31</th>\n",
              "      <td>-0.570</td>\n",
              "    </tr>\n",
              "    <tr>\n",
              "      <th>2021-04-30</th>\n",
              "      <td>-0.555</td>\n",
              "    </tr>\n",
              "    <tr>\n",
              "      <th>2021-05-31</th>\n",
              "      <td>-0.517</td>\n",
              "    </tr>\n",
              "    <tr>\n",
              "      <th>2021-06-30</th>\n",
              "      <td>-0.497</td>\n",
              "    </tr>\n",
              "    <tr>\n",
              "      <th>2021-07-31</th>\n",
              "      <td>-0.495</td>\n",
              "    </tr>\n",
              "    <tr>\n",
              "      <th>2021-08-31</th>\n",
              "      <td>-0.527</td>\n",
              "    </tr>\n",
              "    <tr>\n",
              "      <th>2021-09-30</th>\n",
              "      <td>-0.522</td>\n",
              "    </tr>\n",
              "  </tbody>\n",
              "</table>\n",
              "</div>"
            ],
            "text/plain": [
              "            Expected recovery index\n",
              "DATE_START                         \n",
              "2020-04-30                   -0.620\n",
              "2020-05-31                   -0.642\n",
              "2020-06-30                   -0.647\n",
              "2020-08-31                   -0.610\n",
              "2020-09-30                   -0.597\n",
              "2020-10-31                   -0.590\n",
              "2020-11-30                   -0.600\n",
              "2020-12-31                   -0.607\n",
              "2021-01-31                   -0.620\n",
              "2021-02-28                   -0.605\n",
              "2021-03-31                   -0.570\n",
              "2021-04-30                   -0.555\n",
              "2021-05-31                   -0.517\n",
              "2021-06-30                   -0.497\n",
              "2021-07-31                   -0.495\n",
              "2021-08-31                   -0.527\n",
              "2021-09-30                   -0.522"
            ]
          },
          "metadata": {},
          "execution_count": 115
        }
      ]
    },
    {
      "cell_type": "markdown",
      "metadata": {
        "id": "UMwhhxqT_fxh"
      },
      "source": [
        " some positive correlation, now let us numerically verify"
      ]
    },
    {
      "cell_type": "code",
      "metadata": {
        "colab": {
          "base_uri": "https://localhost:8080/"
        },
        "id": "conqe1tfnVWV",
        "outputId": "9df906b3-18e2-4888-af64-713d0588f632"
      },
      "source": [
        "from pandas import read_csv\n",
        "from pandas import DataFrame\n",
        "from pandas import concat\n",
        "from matplotlib import pyplot\n",
        "series = read_csv('/content/gdrive/MyDrive/Group 9 Project Documents/Datasets/cleaned_datasets/eri_univariate.csv', header=0, index_col=0)\n",
        "values = DataFrame(series.values)\n",
        "dataframe = concat([values.shift(1), values], axis=1)\n",
        "dataframe.columns = ['t-1', 't+1']\n",
        "result = dataframe.corr()\n",
        "print(result)"
      ],
      "execution_count": 116,
      "outputs": [
        {
          "output_type": "stream",
          "name": "stdout",
          "text": [
            "      t-1   t+1\n",
            "t-1 1.000 0.914\n",
            "t+1 0.914 1.000\n"
          ]
        }
      ]
    },
    {
      "cell_type": "markdown",
      "metadata": {
        "id": "_zyvt0hK_-y4"
      },
      "source": [
        "### Autoregressive model for out-of-sample predictions \n",
        "N-step lookahead for a fixed state (CA)\n",
        "\n"
      ]
    },
    {
      "cell_type": "code",
      "metadata": {
        "colab": {
          "base_uri": "https://localhost:8080/",
          "height": 460
        },
        "id": "4_LyqLAJaX-W",
        "outputId": "964614d9-8d20-4b29-dcd3-a89b58a2faac"
      },
      "source": [
        "# static autoregressive model\n",
        "from pandas import read_csv\n",
        "from matplotlib import pyplot\n",
        "from statsmodels.tsa.ar_model import AutoReg\n",
        "from sklearn.metrics import mean_squared_error\n",
        "from math import sqrt\n",
        "\n",
        "# load dataset\n",
        "series = read_csv('/content/drive/MyDrive/Group 9 Project Documents/Datasets/cleaned_datasets/eri_univariate.csv', header=0, index_col=0, parse_dates=True, squeeze=True)\n",
        "series.reset_index(drop=True, inplace=True)\n",
        "\n",
        "# fit model\n",
        "NUM_STEPS = 3\n",
        "X = series.values\n",
        "train = X\n",
        "model = AutoReg(train, lags=1)\n",
        "model_fit = model.fit()\n",
        "print('Coefficients: %s' % model_fit.params)\n",
        "\n",
        "# make predictions \n",
        "predictions = model_fit.predict(len(train), end= len(train) + NUM_STEPS - 1)\n",
        "for i in range(len(predictions)):\n",
        "\tprint('predicted=%f' % predictions[i])"
      ],
      "execution_count": 18,
      "outputs": [
        {
          "output_type": "error",
          "ename": "OSError",
          "evalue": "ignored",
          "traceback": [
            "\u001b[0;31m---------------------------------------------------------------------------\u001b[0m",
            "\u001b[0;31mOSError\u001b[0m                                   Traceback (most recent call last)",
            "\u001b[0;32m<ipython-input-18-1111ad413e9a>\u001b[0m in \u001b[0;36m<module>\u001b[0;34m\u001b[0m\n\u001b[1;32m      7\u001b[0m \u001b[0;34m\u001b[0m\u001b[0m\n\u001b[1;32m      8\u001b[0m \u001b[0;31m# load dataset\u001b[0m\u001b[0;34m\u001b[0m\u001b[0;34m\u001b[0m\u001b[0;34m\u001b[0m\u001b[0m\n\u001b[0;32m----> 9\u001b[0;31m \u001b[0mseries\u001b[0m \u001b[0;34m=\u001b[0m \u001b[0mread_csv\u001b[0m\u001b[0;34m(\u001b[0m\u001b[0;34m'/content/gdrive/MyDrive/Group 9 Project Documents/Datasets/cleaned_datasets/eri_univariate.csv'\u001b[0m\u001b[0;34m,\u001b[0m \u001b[0mheader\u001b[0m\u001b[0;34m=\u001b[0m\u001b[0;36m0\u001b[0m\u001b[0;34m,\u001b[0m \u001b[0mindex_col\u001b[0m\u001b[0;34m=\u001b[0m\u001b[0;36m0\u001b[0m\u001b[0;34m,\u001b[0m \u001b[0mparse_dates\u001b[0m\u001b[0;34m=\u001b[0m\u001b[0;32mTrue\u001b[0m\u001b[0;34m,\u001b[0m \u001b[0msqueeze\u001b[0m\u001b[0;34m=\u001b[0m\u001b[0;32mTrue\u001b[0m\u001b[0;34m)\u001b[0m\u001b[0;34m\u001b[0m\u001b[0;34m\u001b[0m\u001b[0m\n\u001b[0m\u001b[1;32m     10\u001b[0m \u001b[0mseries\u001b[0m\u001b[0;34m.\u001b[0m\u001b[0mreset_index\u001b[0m\u001b[0;34m(\u001b[0m\u001b[0mdrop\u001b[0m\u001b[0;34m=\u001b[0m\u001b[0;32mTrue\u001b[0m\u001b[0;34m,\u001b[0m \u001b[0minplace\u001b[0m\u001b[0;34m=\u001b[0m\u001b[0;32mTrue\u001b[0m\u001b[0;34m)\u001b[0m\u001b[0;34m\u001b[0m\u001b[0;34m\u001b[0m\u001b[0m\n\u001b[1;32m     11\u001b[0m \u001b[0;34m\u001b[0m\u001b[0m\n",
            "\u001b[0;32m/usr/local/lib/python3.7/dist-packages/pandas/io/parsers.py\u001b[0m in \u001b[0;36mread_csv\u001b[0;34m(filepath_or_buffer, sep, delimiter, header, names, index_col, usecols, squeeze, prefix, mangle_dupe_cols, dtype, engine, converters, true_values, false_values, skipinitialspace, skiprows, skipfooter, nrows, na_values, keep_default_na, na_filter, verbose, skip_blank_lines, parse_dates, infer_datetime_format, keep_date_col, date_parser, dayfirst, cache_dates, iterator, chunksize, compression, thousands, decimal, lineterminator, quotechar, quoting, doublequote, escapechar, comment, encoding, dialect, error_bad_lines, warn_bad_lines, delim_whitespace, low_memory, memory_map, float_precision)\u001b[0m\n\u001b[1;32m    686\u001b[0m     )\n\u001b[1;32m    687\u001b[0m \u001b[0;34m\u001b[0m\u001b[0m\n\u001b[0;32m--> 688\u001b[0;31m     \u001b[0;32mreturn\u001b[0m \u001b[0m_read\u001b[0m\u001b[0;34m(\u001b[0m\u001b[0mfilepath_or_buffer\u001b[0m\u001b[0;34m,\u001b[0m \u001b[0mkwds\u001b[0m\u001b[0;34m)\u001b[0m\u001b[0;34m\u001b[0m\u001b[0;34m\u001b[0m\u001b[0m\n\u001b[0m\u001b[1;32m    689\u001b[0m \u001b[0;34m\u001b[0m\u001b[0m\n\u001b[1;32m    690\u001b[0m \u001b[0;34m\u001b[0m\u001b[0m\n",
            "\u001b[0;32m/usr/local/lib/python3.7/dist-packages/pandas/io/parsers.py\u001b[0m in \u001b[0;36m_read\u001b[0;34m(filepath_or_buffer, kwds)\u001b[0m\n\u001b[1;32m    452\u001b[0m \u001b[0;34m\u001b[0m\u001b[0m\n\u001b[1;32m    453\u001b[0m     \u001b[0;31m# Create the parser.\u001b[0m\u001b[0;34m\u001b[0m\u001b[0;34m\u001b[0m\u001b[0;34m\u001b[0m\u001b[0m\n\u001b[0;32m--> 454\u001b[0;31m     \u001b[0mparser\u001b[0m \u001b[0;34m=\u001b[0m \u001b[0mTextFileReader\u001b[0m\u001b[0;34m(\u001b[0m\u001b[0mfp_or_buf\u001b[0m\u001b[0;34m,\u001b[0m \u001b[0;34m**\u001b[0m\u001b[0mkwds\u001b[0m\u001b[0;34m)\u001b[0m\u001b[0;34m\u001b[0m\u001b[0;34m\u001b[0m\u001b[0m\n\u001b[0m\u001b[1;32m    455\u001b[0m \u001b[0;34m\u001b[0m\u001b[0m\n\u001b[1;32m    456\u001b[0m     \u001b[0;32mif\u001b[0m \u001b[0mchunksize\u001b[0m \u001b[0;32mor\u001b[0m \u001b[0miterator\u001b[0m\u001b[0;34m:\u001b[0m\u001b[0;34m\u001b[0m\u001b[0;34m\u001b[0m\u001b[0m\n",
            "\u001b[0;32m/usr/local/lib/python3.7/dist-packages/pandas/io/parsers.py\u001b[0m in \u001b[0;36m__init__\u001b[0;34m(self, f, engine, **kwds)\u001b[0m\n\u001b[1;32m    946\u001b[0m             \u001b[0mself\u001b[0m\u001b[0;34m.\u001b[0m\u001b[0moptions\u001b[0m\u001b[0;34m[\u001b[0m\u001b[0;34m\"has_index_names\"\u001b[0m\u001b[0;34m]\u001b[0m \u001b[0;34m=\u001b[0m \u001b[0mkwds\u001b[0m\u001b[0;34m[\u001b[0m\u001b[0;34m\"has_index_names\"\u001b[0m\u001b[0;34m]\u001b[0m\u001b[0;34m\u001b[0m\u001b[0;34m\u001b[0m\u001b[0m\n\u001b[1;32m    947\u001b[0m \u001b[0;34m\u001b[0m\u001b[0m\n\u001b[0;32m--> 948\u001b[0;31m         \u001b[0mself\u001b[0m\u001b[0;34m.\u001b[0m\u001b[0m_make_engine\u001b[0m\u001b[0;34m(\u001b[0m\u001b[0mself\u001b[0m\u001b[0;34m.\u001b[0m\u001b[0mengine\u001b[0m\u001b[0;34m)\u001b[0m\u001b[0;34m\u001b[0m\u001b[0;34m\u001b[0m\u001b[0m\n\u001b[0m\u001b[1;32m    949\u001b[0m \u001b[0;34m\u001b[0m\u001b[0m\n\u001b[1;32m    950\u001b[0m     \u001b[0;32mdef\u001b[0m \u001b[0mclose\u001b[0m\u001b[0;34m(\u001b[0m\u001b[0mself\u001b[0m\u001b[0;34m)\u001b[0m\u001b[0;34m:\u001b[0m\u001b[0;34m\u001b[0m\u001b[0;34m\u001b[0m\u001b[0m\n",
            "\u001b[0;32m/usr/local/lib/python3.7/dist-packages/pandas/io/parsers.py\u001b[0m in \u001b[0;36m_make_engine\u001b[0;34m(self, engine)\u001b[0m\n\u001b[1;32m   1178\u001b[0m     \u001b[0;32mdef\u001b[0m \u001b[0m_make_engine\u001b[0m\u001b[0;34m(\u001b[0m\u001b[0mself\u001b[0m\u001b[0;34m,\u001b[0m \u001b[0mengine\u001b[0m\u001b[0;34m=\u001b[0m\u001b[0;34m\"c\"\u001b[0m\u001b[0;34m)\u001b[0m\u001b[0;34m:\u001b[0m\u001b[0;34m\u001b[0m\u001b[0;34m\u001b[0m\u001b[0m\n\u001b[1;32m   1179\u001b[0m         \u001b[0;32mif\u001b[0m \u001b[0mengine\u001b[0m \u001b[0;34m==\u001b[0m \u001b[0;34m\"c\"\u001b[0m\u001b[0;34m:\u001b[0m\u001b[0;34m\u001b[0m\u001b[0;34m\u001b[0m\u001b[0m\n\u001b[0;32m-> 1180\u001b[0;31m             \u001b[0mself\u001b[0m\u001b[0;34m.\u001b[0m\u001b[0m_engine\u001b[0m \u001b[0;34m=\u001b[0m \u001b[0mCParserWrapper\u001b[0m\u001b[0;34m(\u001b[0m\u001b[0mself\u001b[0m\u001b[0;34m.\u001b[0m\u001b[0mf\u001b[0m\u001b[0;34m,\u001b[0m \u001b[0;34m**\u001b[0m\u001b[0mself\u001b[0m\u001b[0;34m.\u001b[0m\u001b[0moptions\u001b[0m\u001b[0;34m)\u001b[0m\u001b[0;34m\u001b[0m\u001b[0;34m\u001b[0m\u001b[0m\n\u001b[0m\u001b[1;32m   1181\u001b[0m         \u001b[0;32melse\u001b[0m\u001b[0;34m:\u001b[0m\u001b[0;34m\u001b[0m\u001b[0;34m\u001b[0m\u001b[0m\n\u001b[1;32m   1182\u001b[0m             \u001b[0;32mif\u001b[0m \u001b[0mengine\u001b[0m \u001b[0;34m==\u001b[0m \u001b[0;34m\"python\"\u001b[0m\u001b[0;34m:\u001b[0m\u001b[0;34m\u001b[0m\u001b[0;34m\u001b[0m\u001b[0m\n",
            "\u001b[0;32m/usr/local/lib/python3.7/dist-packages/pandas/io/parsers.py\u001b[0m in \u001b[0;36m__init__\u001b[0;34m(self, src, **kwds)\u001b[0m\n\u001b[1;32m   2008\u001b[0m         \u001b[0mkwds\u001b[0m\u001b[0;34m[\u001b[0m\u001b[0;34m\"usecols\"\u001b[0m\u001b[0;34m]\u001b[0m \u001b[0;34m=\u001b[0m \u001b[0mself\u001b[0m\u001b[0;34m.\u001b[0m\u001b[0musecols\u001b[0m\u001b[0;34m\u001b[0m\u001b[0;34m\u001b[0m\u001b[0m\n\u001b[1;32m   2009\u001b[0m \u001b[0;34m\u001b[0m\u001b[0m\n\u001b[0;32m-> 2010\u001b[0;31m         \u001b[0mself\u001b[0m\u001b[0;34m.\u001b[0m\u001b[0m_reader\u001b[0m \u001b[0;34m=\u001b[0m \u001b[0mparsers\u001b[0m\u001b[0;34m.\u001b[0m\u001b[0mTextReader\u001b[0m\u001b[0;34m(\u001b[0m\u001b[0msrc\u001b[0m\u001b[0;34m,\u001b[0m \u001b[0;34m**\u001b[0m\u001b[0mkwds\u001b[0m\u001b[0;34m)\u001b[0m\u001b[0;34m\u001b[0m\u001b[0;34m\u001b[0m\u001b[0m\n\u001b[0m\u001b[1;32m   2011\u001b[0m         \u001b[0mself\u001b[0m\u001b[0;34m.\u001b[0m\u001b[0munnamed_cols\u001b[0m \u001b[0;34m=\u001b[0m \u001b[0mself\u001b[0m\u001b[0;34m.\u001b[0m\u001b[0m_reader\u001b[0m\u001b[0;34m.\u001b[0m\u001b[0munnamed_cols\u001b[0m\u001b[0;34m\u001b[0m\u001b[0;34m\u001b[0m\u001b[0m\n\u001b[1;32m   2012\u001b[0m \u001b[0;34m\u001b[0m\u001b[0m\n",
            "\u001b[0;32mpandas/_libs/parsers.pyx\u001b[0m in \u001b[0;36mpandas._libs.parsers.TextReader.__cinit__\u001b[0;34m()\u001b[0m\n",
            "\u001b[0;32mpandas/_libs/parsers.pyx\u001b[0m in \u001b[0;36mpandas._libs.parsers.TextReader._setup_parser_source\u001b[0;34m()\u001b[0m\n",
            "\u001b[0;31mOSError\u001b[0m: [Errno 107] Transport endpoint is not connected: '/content/gdrive/MyDrive/Group 9 Project Documents/Datasets/cleaned_datasets/eri_univariate.csv'"
          ]
        }
      ]
    },
    {
      "cell_type": "markdown",
      "metadata": {
        "id": "tC13XUjoUpac"
      },
      "source": [
        "Generalize to all 51 states\n"
      ]
    },
    {
      "cell_type": "code",
      "metadata": {
        "colab": {
          "base_uri": "https://localhost:8080/"
        },
        "id": "SpxXHwKf6r9l",
        "outputId": "7889b27f-5fae-484d-f071-40afe2db7bdf"
      },
      "source": [
        "from google.colab import drive\n",
        "drive.mount('/content/drive')"
      ],
      "execution_count": 1,
      "outputs": [
        {
          "output_type": "stream",
          "name": "stdout",
          "text": [
            "Drive already mounted at /content/drive; to attempt to forcibly remount, call drive.mount(\"/content/drive\", force_remount=True).\n"
          ]
        }
      ]
    },
    {
      "cell_type": "code",
      "metadata": {
        "id": "_Ns1ih-S6tef"
      },
      "source": [
        "import pandas as pd\n",
        "import glob\n",
        "import re\n",
        "import numpy as np\n",
        "import seaborn as sns\n",
        "import matplotlib.pyplot as plt\n",
        "import time\n",
        "import re\n",
        "pd.set_option('display.float_format', lambda x: '%.3f' % x)"
      ],
      "execution_count": 2,
      "outputs": []
    },
    {
      "cell_type": "code",
      "metadata": {
        "id": "596xvjjU6CpU"
      },
      "source": [
        "file_path = '/content/drive/MyDrive/Group 9 Project Documents/Datasets/hps_sbps_unemp_merged.csv'\n",
        "cols = list(pd.read_csv(file_path, nrows =1))\n",
        "df = pd.read_csv(file_path,  usecols =[i for i in cols if i != 'Unnamed: 0'])"
      ],
      "execution_count": 3,
      "outputs": []
    },
    {
      "cell_type": "code",
      "metadata": {
        "id": "NRZn0mEB63u5"
      },
      "source": [
        "df.MONTH = df.MONTH.astype(str)\n",
        "df.YEAR = df.YEAR.astype(str)\n",
        "if len(df.MONTH) ==1:\n",
        "  df.MONTH = \"0\"+df.MONTH\n",
        "\n",
        "df['date'] = pd.to_datetime(df['YEAR']+df['MONTH'], format='%Y%m')\n",
        "df.set_index(df['date'], inplace =True)"
      ],
      "execution_count": 4,
      "outputs": []
    },
    {
      "cell_type": "code",
      "metadata": {
        "colab": {
          "base_uri": "https://localhost:8080/"
        },
        "id": "e0IztrGGYvVu",
        "outputId": "a5abacc5-79c7-431b-da1b-97e737c63612"
      },
      "source": [
        "df.columns # 'Expected recovery index', 'date', 'Overall sentiment index'"
      ],
      "execution_count": 5,
      "outputs": [
        {
          "output_type": "execute_result",
          "data": {
            "text/plain": [
              "Index(['STATE_ABBR', 'YEAR', 'MONTH', 'AGE_GRP_18_24', 'AGE_GRP_25_39',\n",
              "       'AGE_GRP_40_49', 'AGE_GRP_50_59', 'AGE_GRP_60_69', 'AGE_GRP_70_up',\n",
              "       'AGE_GRP_less_18', 'COVID_VACC_DOSE_not_plan_all_dose',\n",
              "       'COVID_VACC_DOSE_plan_to_receive_all_doses',\n",
              "       'COVID_VACC_DOSE_received_all_doses', 'EDUCATION_bachelor_or_higher',\n",
              "       'EDUCATION_high_school_diploma_GED', 'EDUCATION_less_high school',\n",
              "       'EDUCATION_some_college_asscte_degree',\n",
              "       'INCOME_BEFORE_TAX_$100,000_$149,999',\n",
              "       'INCOME_BEFORE_TAX_$150,000_$199,999',\n",
              "       'INCOME_BEFORE_TAX_$200,000_above', 'INCOME_BEFORE_TAX_$25,000_$34,999',\n",
              "       'INCOME_BEFORE_TAX_$35,000_$49,999',\n",
              "       'INCOME_BEFORE_TAX_$50,000_$74,999',\n",
              "       'INCOME_BEFORE_TAX_$75,000_$99,999', 'INCOME_BEFORE_TAX_Less_$25,000',\n",
              "       'RACE_Any_other_race_alone_or_mixed_race', 'RACE_Asian,_alone',\n",
              "       'RACE_Black_alone', 'RACE_White_alone', 'FOOD_SCARCITY',\n",
              "       'HOUSING_INSECURITY', 'MALE', 'FEMALE', 'HISPANIC_ORIGIN',\n",
              "       'RECVD_COVID_VACC', 'CHILDCARE_ISSUE', 'Expected recovery index',\n",
              "       'Financial stress index', 'Market challenges index',\n",
              "       'Market(s) challenges index', 'Operational challenges index',\n",
              "       'Overall sentiment index', 'unemployment_rate', 'date'],\n",
              "      dtype='object')"
            ]
          },
          "metadata": {},
          "execution_count": 5
        }
      ]
    },
    {
      "cell_type": "code",
      "metadata": {
        "colab": {
          "base_uri": "https://localhost:8080/"
        },
        "id": "079HhVUNib1b",
        "outputId": "9cfe4a3b-36cc-4e1c-a10d-e79840e05d80"
      },
      "source": [
        "!pip install ipdb\n",
        "import ipdb"
      ],
      "execution_count": 6,
      "outputs": [
        {
          "output_type": "stream",
          "name": "stdout",
          "text": [
            "Requirement already satisfied: ipdb in /usr/local/lib/python3.7/dist-packages (0.13.9)\n",
            "Requirement already satisfied: setuptools in /usr/local/lib/python3.7/dist-packages (from ipdb) (57.4.0)\n",
            "Requirement already satisfied: decorator in /usr/local/lib/python3.7/dist-packages (from ipdb) (4.4.2)\n",
            "Requirement already satisfied: toml>=0.10.2 in /usr/local/lib/python3.7/dist-packages (from ipdb) (0.10.2)\n",
            "Requirement already satisfied: ipython>=7.17.0 in /usr/local/lib/python3.7/dist-packages (from ipdb) (7.28.0)\n",
            "Requirement already satisfied: pexpect>4.3 in /usr/local/lib/python3.7/dist-packages (from ipython>=7.17.0->ipdb) (4.8.0)\n",
            "Requirement already satisfied: prompt-toolkit!=3.0.0,!=3.0.1,<3.1.0,>=2.0.0 in /usr/local/lib/python3.7/dist-packages (from ipython>=7.17.0->ipdb) (3.0.21)\n",
            "Requirement already satisfied: pygments in /usr/local/lib/python3.7/dist-packages (from ipython>=7.17.0->ipdb) (2.6.1)\n",
            "Requirement already satisfied: jedi>=0.16 in /usr/local/lib/python3.7/dist-packages (from ipython>=7.17.0->ipdb) (0.18.0)\n",
            "Requirement already satisfied: matplotlib-inline in /usr/local/lib/python3.7/dist-packages (from ipython>=7.17.0->ipdb) (0.1.3)\n",
            "Requirement already satisfied: pickleshare in /usr/local/lib/python3.7/dist-packages (from ipython>=7.17.0->ipdb) (0.7.5)\n",
            "Requirement already satisfied: traitlets>=4.2 in /usr/local/lib/python3.7/dist-packages (from ipython>=7.17.0->ipdb) (5.1.0)\n",
            "Requirement already satisfied: backcall in /usr/local/lib/python3.7/dist-packages (from ipython>=7.17.0->ipdb) (0.2.0)\n",
            "Requirement already satisfied: parso<0.9.0,>=0.8.0 in /usr/local/lib/python3.7/dist-packages (from jedi>=0.16->ipython>=7.17.0->ipdb) (0.8.2)\n",
            "Requirement already satisfied: ptyprocess>=0.5 in /usr/local/lib/python3.7/dist-packages (from pexpect>4.3->ipython>=7.17.0->ipdb) (0.7.0)\n",
            "Requirement already satisfied: wcwidth in /usr/local/lib/python3.7/dist-packages (from prompt-toolkit!=3.0.0,!=3.0.1,<3.1.0,>=2.0.0->ipython>=7.17.0->ipdb) (0.2.5)\n"
          ]
        }
      ]
    },
    {
      "cell_type": "code",
      "metadata": {
        "colab": {
          "base_uri": "https://localhost:8080/",
          "height": 232
        },
        "id": "qxl_tS7904xw",
        "outputId": "67616fd7-7645-4059-ae6b-d8a80603d74b"
      },
      "source": [
        "# static autoregressive model\n",
        "from pandas import read_csv\n",
        "from matplotlib import pyplot\n",
        "from statsmodels.tsa.ar_model import AutoReg\n",
        "from sklearn.metrics import mean_squared_error\n",
        "from math import sqrt\n",
        "import datetime as dt\n",
        "# load dataset\n",
        "series = read_csv('/content/drive/MyDrive/Group 9 Project Documents/Datasets/hps_sbps_unemp_merged.csv') #header=0, index_col=0, parse_dates=True, squeeze=True\n",
        "#series.reset_index(drop=True, inplace=True)\n",
        "\n",
        "for state in df.STATE_ABBR.unique():\n",
        "  #df_tmp = np.array(df[df['STATE_ABBR'] == state][['Expected recovery index', 'date']].values)\n",
        "  df_tmp = df[df['STATE_ABBR'] == state][['Expected recovery index', 'date']].reset_index(drop=True)\n",
        "  df_tmp['index'] = df_tmp.index\n",
        "  df_tmp.set_index('date', inplace=True)\n",
        "  df_tmp = df_tmp[['index', 'Expected recovery index']]\n",
        "  \n",
        "  series = df_tmp.values\n",
        "\n",
        "  # fit model\n",
        "  NUM_STEPS = 3\n",
        "  X = np.transpose(series)\n",
        "  train = X\n",
        "  #ipdb.set_trace()\n",
        "  model = AutoReg(train, lags=1)\n",
        "  model_fit = model.fit()\n",
        "  print('Coefficients: %s' % model_fit.params, state)\n",
        "    # # make predictions \n",
        "    # predictions = model_fit.predict(len(train), end= len(train) + NUM_STEPS - 1)\n",
        "    # for i in range(len(predictions)):\n",
        "    #   print('predicted=%f' % predictions[i])\n",
        "  #  feature_1 ='Expected recovery index'\n",
        "  #  feature_2 = 'Overall sentiment index'\n",
        "  #  title = 'Expected recovery index & Overall sentiment index: '\n",
        "  #  df_state = df.loc[df['STATE_ABBR']==state,:]\n",
        "  #  fig,ax = plt.subplots(figsize =(10,4))\n",
        "  #  ax.plot(df_state.index, df_state[feature_1], color=\"red\", marker=\"o\")\n",
        "  #  ax.set_xlabel(\"Date\",fontsize=14)\n",
        "  #  ax.set_ylim([-1,0])\n",
        "  #  ax.set_ylabel(feature_1,color=\"red\",fontsize=14)\n",
        "\n",
        "  #  ax2=ax.twinx()\n",
        "  #  ax2.plot(df_state.index, df_state[feature_2],color=\"blue\",marker=\"o\")\n",
        "  #  ax2.set_ylabel(feature_2,color=\"blue\",fontsize=14)\n",
        "  #  ax2.set_ylim([-1,1])\n",
        "  #  plt.title(title +state)\n",
        "  #  plt.show()\n"
      ],
      "execution_count": 1,
      "outputs": [
        {
          "output_type": "error",
          "ename": "NameError",
          "evalue": "ignored",
          "traceback": [
            "\u001b[0;31m---------------------------------------------------------------------------\u001b[0m",
            "\u001b[0;31mNameError\u001b[0m                                 Traceback (most recent call last)",
            "\u001b[0;32m<ipython-input-1-2823dd27d078>\u001b[0m in \u001b[0;36m<module>\u001b[0;34m\u001b[0m\n\u001b[1;32m     10\u001b[0m \u001b[0;31m#series.reset_index(drop=True, inplace=True)\u001b[0m\u001b[0;34m\u001b[0m\u001b[0;34m\u001b[0m\u001b[0;34m\u001b[0m\u001b[0m\n\u001b[1;32m     11\u001b[0m \u001b[0;34m\u001b[0m\u001b[0m\n\u001b[0;32m---> 12\u001b[0;31m \u001b[0;32mfor\u001b[0m \u001b[0mstate\u001b[0m \u001b[0;32min\u001b[0m \u001b[0mdf\u001b[0m\u001b[0;34m.\u001b[0m\u001b[0mSTATE_ABBR\u001b[0m\u001b[0;34m.\u001b[0m\u001b[0munique\u001b[0m\u001b[0;34m(\u001b[0m\u001b[0;34m)\u001b[0m\u001b[0;34m:\u001b[0m\u001b[0;34m\u001b[0m\u001b[0;34m\u001b[0m\u001b[0m\n\u001b[0m\u001b[1;32m     13\u001b[0m   \u001b[0;31m#df_tmp = np.array(df[df['STATE_ABBR'] == state][['Expected recovery index', 'date']].values)\u001b[0m\u001b[0;34m\u001b[0m\u001b[0;34m\u001b[0m\u001b[0;34m\u001b[0m\u001b[0m\n\u001b[1;32m     14\u001b[0m   \u001b[0mdf_tmp\u001b[0m \u001b[0;34m=\u001b[0m \u001b[0mdf\u001b[0m\u001b[0;34m[\u001b[0m\u001b[0mdf\u001b[0m\u001b[0;34m[\u001b[0m\u001b[0;34m'STATE_ABBR'\u001b[0m\u001b[0;34m]\u001b[0m \u001b[0;34m==\u001b[0m \u001b[0mstate\u001b[0m\u001b[0;34m]\u001b[0m\u001b[0;34m[\u001b[0m\u001b[0;34m[\u001b[0m\u001b[0;34m'Expected recovery index'\u001b[0m\u001b[0;34m,\u001b[0m \u001b[0;34m'date'\u001b[0m\u001b[0;34m]\u001b[0m\u001b[0;34m]\u001b[0m\u001b[0;34m.\u001b[0m\u001b[0mreset_index\u001b[0m\u001b[0;34m(\u001b[0m\u001b[0mdrop\u001b[0m\u001b[0;34m=\u001b[0m\u001b[0;32mTrue\u001b[0m\u001b[0;34m)\u001b[0m\u001b[0;34m\u001b[0m\u001b[0;34m\u001b[0m\u001b[0m\n",
            "\u001b[0;31mNameError\u001b[0m: name 'df' is not defined"
          ]
        }
      ]
    },
    {
      "cell_type": "code",
      "metadata": {
        "id": "Jyx5_8SxZN_e"
      },
      "source": [
        ""
      ],
      "execution_count": null,
      "outputs": []
    },
    {
      "cell_type": "code",
      "metadata": {
        "id": "c33f_lhkV1Fn"
      },
      "source": [
        "# static autoregressive model\n",
        "from pandas import read_csv\n",
        "from matplotlib import pyplot\n",
        "from statsmodels.tsa.ar_model import AutoReg\n",
        "\n",
        "\n",
        "# load dataset\n",
        "series = read_csv('/content/gdrive/MyDrive/Group 9 Project Documents/Datasets/cleaned_datasets/eri_univariate.csv', header=0, index_col=0, parse_dates=True, squeeze=True)\n",
        "\n",
        "\n",
        "series.reset_index(drop=True, inplace=True)\n",
        "\n",
        "# fit model\n",
        "NUM_STEPS = 3\n",
        "X = series.values\n",
        "train = X\n",
        "model = AutoReg(train, lags=1)\n",
        "model_fit = model.fit()\n",
        "print('Coefficients: %s' % model_fit.params)\n",
        "\n",
        "# make predictions \n",
        "predictions = model_fit.predict(len(train), end= len(train) + NUM_STEPS - 1)\n",
        "for i in range(len(predictions)):\n",
        "\t#print state name \n",
        "  print('predicted=%f' % predictions[i])\n",
        " "
      ],
      "execution_count": null,
      "outputs": []
    },
    {
      "cell_type": "code",
      "metadata": {
        "colab": {
          "base_uri": "https://localhost:8080/"
        },
        "id": "MsmDkijvt_MQ",
        "outputId": "9d5a9801-a498-4f4f-e3cf-75bff2706c01"
      },
      "source": [
        "# static autoregressive model\n",
        "from pandas import read_csv\n",
        "from matplotlib import pyplot\n",
        "from statsmodels.tsa.ar_model import AutoReg\n",
        "from sklearn.metrics import mean_squared_error\n",
        "from math import sqrt\n",
        "import ipdb \n",
        "\n",
        "# load dataset\n",
        "df = read_csv('/content/drive/MyDrive/Group 9 Project Documents/Datasets/hps_sbps_unemp_merged.csv')\n",
        "\n",
        "ipdb.set_trace()\n",
        "ny_df = df[df['STATE_ABBR'] == 'NY'][['Expected recovery index', 'date']]\n",
        "ms_df = df[df['STATE_ABBR'] == 'MS'][['Expected recovery index', 'date']]\n",
        "# series.reset_index(drop=True, inplace=True)\n",
        "ipdb.set_trace()\n",
        "# # fit model\n",
        "# NUM_STEPS = 3\n",
        "# X = series.values\n",
        "# train = X\n",
        "# model = AutoReg(train, lags=1)\n",
        "# model_fit = model.fit()\n",
        "# print('Coefficients: %s' % model_fit.params)\n",
        "ipdb.set_trace()\n",
        "# # make predictions \n",
        "# predictions = model_fit.predict(len(train), end= len(train) + NUM_STEPS - 1)\n",
        "# for i in range(len(predictions)):\n",
        "# \tprint('predicted=%f' % predictions[i])"
      ],
      "execution_count": null,
      "outputs": [
        {
          "metadata": {
            "tags": null
          },
          "name": "stderr",
          "output_type": "stream",
          "text": [
            "\n",
            "PYDEV DEBUGGER WARNING:\n",
            "sys.settrace() should not be used when the debugger is being used.\n",
            "This may cause the debugger to stop working correctly.\n",
            "If this is needed, please check: \n",
            "http://pydev.blogspot.com/2007/06/why-cant-pydev-debugger-work-with.html\n",
            "to see how to restore the debug tracing back correctly.\n",
            "Call Location:\n",
            "  File \"/usr/lib/python3.7/bdb.py\", line 332, in set_trace\n",
            "    sys.settrace(self.trace_dispatch)\n",
            "\n"
          ]
        },
        {
          "metadata": {
            "tags": null
          },
          "name": "stdout",
          "output_type": "stream",
          "text": [
            "--Return--\n",
            "None\n",
            "> \u001b[0;32m<ipython-input-2-765e21137b8f>\u001b[0m(12)\u001b[0;36m<module>\u001b[0;34m()\u001b[0m\n",
            "\u001b[0;32m     11 \u001b[0;31m\u001b[0;34m\u001b[0m\u001b[0m\n",
            "\u001b[0m\u001b[0;32m---> 12 \u001b[0;31m\u001b[0mipdb\u001b[0m\u001b[0;34m.\u001b[0m\u001b[0mset_trace\u001b[0m\u001b[0;34m(\u001b[0m\u001b[0;34m)\u001b[0m\u001b[0;34m\u001b[0m\u001b[0;34m\u001b[0m\u001b[0m\n",
            "\u001b[0m\u001b[0;32m     13 \u001b[0;31m\u001b[0mny_df\u001b[0m \u001b[0;34m=\u001b[0m \u001b[0mdf\u001b[0m\u001b[0;34m[\u001b[0m\u001b[0mdf\u001b[0m\u001b[0;34m[\u001b[0m\u001b[0;34m'STATE_ABBR'\u001b[0m\u001b[0;34m]\u001b[0m \u001b[0;34m==\u001b[0m \u001b[0;34m'NY'\u001b[0m\u001b[0;34m]\u001b[0m\u001b[0;34m[\u001b[0m\u001b[0;34m[\u001b[0m\u001b[0;34m'Expected recovery index'\u001b[0m\u001b[0;34m,\u001b[0m \u001b[0;34m'date'\u001b[0m\u001b[0;34m]\u001b[0m\u001b[0;34m]\u001b[0m\u001b[0;34m\u001b[0m\u001b[0;34m\u001b[0m\u001b[0m\n",
            "\u001b[0m\n",
            "Index(['Unnamed: 0', 'STATE_ABBR', 'YEAR', 'MONTH', 'AGE_GRP_18_24',\n",
            "       'AGE_GRP_25_39', 'AGE_GRP_40_49', 'AGE_GRP_50_59', 'AGE_GRP_60_69',\n",
            "       'AGE_GRP_70_up', 'AGE_GRP_less_18', 'COVID_VACC_DOSE_not_plan_all_dose',\n",
            "       'COVID_VACC_DOSE_plan_to_receive_all_doses',\n",
            "       'COVID_VACC_DOSE_received_all_doses', 'EDUCATION_bachelor_or_higher',\n",
            "       'EDUCATION_high_school_diploma_GED', 'EDUCATION_less_high school',\n",
            "       'EDUCATION_some_college_asscte_degree',\n",
            "       'INCOME_BEFORE_TAX_$100,000_$149,999',\n",
            "       'INCOME_BEFORE_TAX_$150,000_$199,999',\n",
            "       'INCOME_BEFORE_TAX_$200,000_above', 'INCOME_BEFORE_TAX_$25,000_$34,999',\n",
            "       'INCOME_BEFORE_TAX_$35,000_$49,999',\n",
            "       'INCOME_BEFORE_TAX_$50,000_$74,999',\n",
            "       'INCOME_BEFORE_TAX_$75,000_$99,999', 'INCOME_BEFORE_TAX_Less_$25,000',\n",
            "       'RACE_Any_other_race_alone_or_mixed_race', 'RACE_Asian,_alone',\n",
            "       'RACE_Black_alone', 'RACE_White_alone', 'FOOD_SCARCITY',\n",
            "       'HOUSING_INSECURITY', 'MALE', 'FEMALE', 'HISPANIC_ORIGIN',\n",
            "       'RECVD_COVID_VACC', 'CHILDCARE_ISSUE', 'Expected recovery index',\n",
            "       'Financial stress index', 'Market challenges index',\n",
            "       'Market(s) challenges index', 'Operational challenges index',\n",
            "       'Overall sentiment index', 'unemployment_rate'],\n",
            "      dtype='object')\n"
          ]
        }
      ]
    }
  ]
}