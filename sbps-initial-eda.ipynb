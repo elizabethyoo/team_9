{
  "nbformat": 4,
  "nbformat_minor": 0,
  "metadata": {
    "colab": {
      "name": "Untitled0.ipynb",
      "provenance": [],
      "mount_file_id": "1YsQLafICSGBODNh8WZUn5Iw7I93DswNC",
      "authorship_tag": "ABX9TyPfEQHTMBq/q2kPsmoVySXh",
      "include_colab_link": true
    },
    "kernelspec": {
      "name": "python3",
      "display_name": "Python 3"
    },
    "language_info": {
      "name": "python"
    }
  },
  "cells": [
    {
      "cell_type": "markdown",
      "metadata": {
        "id": "view-in-github",
        "colab_type": "text"
      },
      "source": [
        "<a href=\"https://colab.research.google.com/github/elizabethyoo/team_9/blob/explore%2F02-eda-sbps/sbps-initial-eda.ipynb\" target=\"_parent\"><img src=\"https://colab.research.google.com/assets/colab-badge.svg\" alt=\"Open In Colab\"/></a>"
      ]
    },
    {
      "cell_type": "code",
      "metadata": {
        "colab": {
          "base_uri": "https://localhost:8080/"
        },
        "id": "J7xCQXTGgKKt",
        "outputId": "a25d5ed6-7cd1-4e14-fcec-a5197e65e7fe"
      },
      "source": [
        "from google.colab import drive\n",
        "\n",
        "drive.mount('/content/gdrive')\n",
        "root_path = '/content/gdrive/MyDrive/DS4A/Group 9 Project Documents'"
      ],
      "execution_count": null,
      "outputs": [
        {
          "output_type": "stream",
          "name": "stdout",
          "text": [
            "Mounted at /content/gdrive\n"
          ]
        }
      ]
    },
    {
      "cell_type": "code",
      "metadata": {
        "id": "SqhIzIQRgn2-"
      },
      "source": [
        "import numpy as np\n",
        "import matplotlib.pyplot as plt\n",
        "import pandas as pd\n",
        "import seaborn as sns\n",
        "%matplotlib inline\n",
        "plt.rcParams['figure.figsize'] = 15,10\n",
        "import warnings\n",
        "warnings.filterwarnings('ignore')"
      ],
      "execution_count": null,
      "outputs": []
    },
    {
      "cell_type": "code",
      "metadata": {
        "id": "1W5Tfiw2hN0u"
      },
      "source": [
        "naics3 = pd.read_excel('/content/gdrive/MyDrive/sbps_20200517_week04/naics3_17May20_23May20.xlsx')"
      ],
      "execution_count": null,
      "outputs": []
    },
    {
      "cell_type": "code",
      "metadata": {
        "colab": {
          "base_uri": "https://localhost:8080/",
          "height": 564
        },
        "id": "Xl_qaB-Ih_Np",
        "outputId": "637098bc-1450-4c91-d7a2-8015fed28ed0"
      },
      "source": [
        "naics3.head()"
      ],
      "execution_count": null,
      "outputs": [
        {
          "output_type": "execute_result",
          "data": {
            "text/html": [
              "<div>\n",
              "<style scoped>\n",
              "    .dataframe tbody tr th:only-of-type {\n",
              "        vertical-align: middle;\n",
              "    }\n",
              "\n",
              "    .dataframe tbody tr th {\n",
              "        vertical-align: top;\n",
              "    }\n",
              "\n",
              "    .dataframe thead th {\n",
              "        text-align: right;\n",
              "    }\n",
              "</style>\n",
              "<table border=\"1\" class=\"dataframe\">\n",
              "  <thead>\n",
              "    <tr style=\"text-align: right;\">\n",
              "      <th></th>\n",
              "      <th>NAICS3_CODE</th>\n",
              "      <th>INSTRUMENT_ID</th>\n",
              "      <th>QUESTION</th>\n",
              "      <th>ANSWER_ID</th>\n",
              "      <th>ANSWER_TEXT</th>\n",
              "      <th>ESTIMATE_PERCENTAGE</th>\n",
              "      <th>SE</th>\n",
              "    </tr>\n",
              "  </thead>\n",
              "  <tbody>\n",
              "    <tr>\n",
              "      <th>0</th>\n",
              "      <td>211</td>\n",
              "      <td>1</td>\n",
              "      <td>Overall, how has this business been affected b...</td>\n",
              "      <td>1</td>\n",
              "      <td>Large negative effect</td>\n",
              "      <td>57.5%</td>\n",
              "      <td>7.10%</td>\n",
              "    </tr>\n",
              "    <tr>\n",
              "      <th>1</th>\n",
              "      <td>211</td>\n",
              "      <td>1</td>\n",
              "      <td>Overall, how has this business been affected b...</td>\n",
              "      <td>2</td>\n",
              "      <td>Moderate negative effect</td>\n",
              "      <td>35.9%</td>\n",
              "      <td>7.87%</td>\n",
              "    </tr>\n",
              "    <tr>\n",
              "      <th>2</th>\n",
              "      <td>211</td>\n",
              "      <td>2</td>\n",
              "      <td>In the last week, did this business experience...</td>\n",
              "      <td>1</td>\n",
              "      <td>Yes, increased</td>\n",
              "      <td>7.6%</td>\n",
              "      <td>5.32%</td>\n",
              "    </tr>\n",
              "    <tr>\n",
              "      <th>3</th>\n",
              "      <td>211</td>\n",
              "      <td>2</td>\n",
              "      <td>In the last week, did this business experience...</td>\n",
              "      <td>2</td>\n",
              "      <td>Yes, decreased</td>\n",
              "      <td>76.1%</td>\n",
              "      <td>6.83%</td>\n",
              "    </tr>\n",
              "    <tr>\n",
              "      <th>4</th>\n",
              "      <td>211</td>\n",
              "      <td>2</td>\n",
              "      <td>In the last week, did this business experience...</td>\n",
              "      <td>3</td>\n",
              "      <td>No</td>\n",
              "      <td>16.2%</td>\n",
              "      <td>4.77%</td>\n",
              "    </tr>\n",
              "  </tbody>\n",
              "</table>\n",
              "</div>"
            ],
            "text/plain": [
              "   NAICS3_CODE  INSTRUMENT_ID  ... ESTIMATE_PERCENTAGE       SE\n",
              "0          211              1  ...               57.5%    7.10%\n",
              "1          211              1  ...               35.9%    7.87%\n",
              "2          211              2  ...                7.6%    5.32%\n",
              "3          211              2  ...               76.1%    6.83%\n",
              "4          211              2  ...               16.2%    4.77%\n",
              "\n",
              "[5 rows x 7 columns]"
            ]
          },
          "metadata": {},
          "execution_count": 8
        }
      ]
    },
    {
      "cell_type": "code",
      "metadata": {
        "id": "DYKnkrjJpzLX"
      },
      "source": [
        "Filter = naics3.INSTRUMENT_ID == 3\n",
        "vis1data=naics3[Filter]"
      ],
      "execution_count": null,
      "outputs": []
    },
    {
      "cell_type": "code",
      "metadata": {
        "colab": {
          "base_uri": "https://localhost:8080/",
          "height": 369
        },
        "id": "3ikPg46HqwQh",
        "outputId": "8a46f865-24a9-46e5-cec5-3b6d8e83dba5"
      },
      "source": [
        "vis1 = sns.displot(vis1data[\"ANSWER_ID\"])"
      ],
      "execution_count": null,
      "outputs": [
        {
          "output_type": "display_data",
          "data": {
            "image/png": "[encoded data removed]",
            "text/plain": [
              "<Figure size 360x360 with 1 Axes>"
            ]
          },
          "metadata": {
            "needs_background": "light"
          }
        }
      ]
    },
    {
      "cell_type": "code",
      "metadata": {
        "colab": {
          "base_uri": "https://localhost:8080/",
          "height": 459
        },
        "id": "dXRhGuCkUlSy",
        "outputId": "4a95bcfa-ce75-41cb-871f-7046bf0b448d"
      },
      "source": [
        "#Answers to pulse data for small businesses across all industries\n",
        "vis2 = sns.boxplot(data=naics3, x='INSTRUMENT_ID', y='ANSWER_ID')"
      ],
      "execution_count": null,
      "outputs": [
        {
          "output_type": "display_data",
          "data": {
            "image/png": "[encoded data removed]",
            "text/plain": [
              "<Figure size 1080x720 with 1 Axes>"
            ]
          },
          "metadata": {
            "needs_background": "light"
          }
        }
      ]
    },
    {
      "cell_type": "code",
      "metadata": {
        "id": "Iqltjl-6V_y9"
      },
      "source": [
        ""
      ],
      "execution_count": null,
      "outputs": []
    }
  ]
}